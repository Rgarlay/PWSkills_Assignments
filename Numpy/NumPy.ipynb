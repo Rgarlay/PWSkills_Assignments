{
  "nbformat": 4,
  "nbformat_minor": 0,
  "metadata": {
    "colab": {
      "provenance": [],
      "authorship_tag": "ABX9TyNl9xUkDzh0L14E1JrE1eln",
      "include_colab_link": true
    },
    "kernelspec": {
      "name": "python3",
      "display_name": "Python 3"
    },
    "language_info": {
      "name": "python"
    }
  },
  "cells": [
    {
      "cell_type": "markdown",
      "metadata": {
        "id": "view-in-github",
        "colab_type": "text"
      },
      "source": [
        "<a href=\"https://colab.research.google.com/github/Rgarlay/PWSkills_Assignments/blob/main/Numpy/NumPy.ipynb\" target=\"_parent\"><img src=\"https://colab.research.google.com/assets/colab-badge.svg\" alt=\"Open In Colab\"/></a>"
      ]
    },
    {
      "cell_type": "markdown",
      "source": [
        "#Theory Questions:"
      ],
      "metadata": {
        "id": "cioT9aV-RUTd"
      }
    },
    {
      "cell_type": "markdown",
      "source": [
        "###1. Explain the purpose and advantages of NumPy in scientific computing and data analysis. How does it enhance Python's capabilities for numerical operations?\n"
      ],
      "metadata": {
        "id": "fIejBGeoRhdW"
      }
    },
    {
      "cell_type": "markdown",
      "source": [
        "Ans:- Following points highlight how NumPy assists in scientific computing and data analysis.\n",
        "1.\tIt parallelizes all calculations that were to be computed sequentially, if done conventionally. This makes computing process much faster.\n",
        "2.\tNumPy itself is built in C language, which is fastest (after C++). Which makes the library itself very fast.\n",
        "3.\tMany of the mathematical functions and processes (linear algebra, matrix manipulation etc.) are coded within library itself, avoiding to define them manually.\n",
        "4.\tNumPy shares compatibility with other libraries like Pandas, tensorflow, Scikit learn and with other data structures like lists, tuples, making it dynamic and convenient to work with.\n"
      ],
      "metadata": {
        "id": "UZH7IuMTSTGi"
      }
    },
    {
      "cell_type": "markdown",
      "source": [
        "###2. Compare and contrast `np.mean()` and `np.average()` functions in NumPy. When would you use one over the other?"
      ],
      "metadata": {
        "id": "MHz1k3a2Sbg9"
      }
    },
    {
      "cell_type": "markdown",
      "source": [
        "Ans:- np.mean() calculates the arithmetic mean of the array given.\n",
        "np.average() calculate the weighted average of the array.\n",
        "np.mean() does not take weights array for the target array.\n",
        "np.average() takes weight as an parameter.\n",
        "Without weights, np.average() is same as np.mean().\n"
      ],
      "metadata": {
        "id": "j4zMIscwSgJU"
      }
    },
    {
      "cell_type": "code",
      "source": [
        "import numpy as np\n",
        "a_1,weights = np.random.randint(1,11,5),np.random.randint(2,5,5)\n",
        "print(a_1)\n",
        "print(weights)\n",
        "print(np.mean(a_1,))\n",
        "print(np.average(a_1,weights=weights))"
      ],
      "metadata": {
        "colab": {
          "base_uri": "https://localhost:8080/"
        },
        "id": "u4SsBo_E348g",
        "outputId": "47f74455-ab7e-44ec-ed4d-29468f470425"
      },
      "execution_count": 2,
      "outputs": [
        {
          "output_type": "stream",
          "name": "stdout",
          "text": [
            "[8 1 9 1 4]\n",
            "[2 2 4 2 2]\n",
            "4.6\n",
            "5.333333333333333\n"
          ]
        }
      ]
    },
    {
      "cell_type": "markdown",
      "source": [
        "###3rd question answered at last."
      ],
      "metadata": {
        "id": "M2r_d1GmS032"
      }
    },
    {
      "cell_type": "markdown",
      "source": [
        "####4.How can you determine the data type of elements in a NumPy array? Discuss the importance of data types in memory management and performance."
      ],
      "metadata": {
        "id": "JkPwFxOMS4uB"
      }
    },
    {
      "cell_type": "markdown",
      "source": [
        "Ans:- NumPy array, unlike lists, take homogeneous datatypes throughout. Detecting datatype of a single element will give you datatype of all the elements.`print(a[0])`\n",
        "NumPy also has inbuilt functionality to detect the data types. For that,we can write:\n",
        "`a.dtype`\n",
        "\n",
        "Importance of data types: - Not all datatypes take up equal space in the memory. For example, int32 takes 4 bytes and float64 takes 8 bytes. While int64 may have greater range than int32, it is heavier in terms of storage and computation. Small data types take up less time in processing.\n"
      ],
      "metadata": {
        "id": "bhfNsWVdS9ic"
      }
    },
    {
      "cell_type": "code",
      "source": [
        "a = np.array([1,2,3])\n",
        "print(type(a[0]))\n",
        "print(a.dtype)"
      ],
      "metadata": {
        "colab": {
          "base_uri": "https://localhost:8080/"
        },
        "id": "GXBcag1Y371c",
        "outputId": "3e4f5b0e-4e72-4420-ac2c-f3683df7696d"
      },
      "execution_count": 3,
      "outputs": [
        {
          "output_type": "stream",
          "name": "stdout",
          "text": [
            "<class 'numpy.int64'>\n",
            "int64\n"
          ]
        }
      ]
    },
    {
      "cell_type": "markdown",
      "source": [
        "####5.Define ndarrays in NumPy and explain their key features. How do they differ from standard Python lists?"
      ],
      "metadata": {
        "id": "sWKM4gb_TTT4"
      }
    },
    {
      "cell_type": "markdown",
      "source": [
        "Ans:- `ndarray` in numpy are N dimensional array that are supported from NumPy library.\n",
        "Numpy array store homogeneous datatypes. They are optimized for scientific calculation and data analytic objects.\n",
        "\n",
        " They support various types of operation such as Dot product multiplication or Linear transformations. They are fast in computation and compatible with a number of libraries and datatypes.\n",
        "\n",
        "Whereas `list` is an inbuilt data structure/object in python. It supports multiple data types as elements. The time order of execution for list having n elements is O(n). And unlike ndarray, they cannot vectorize the operations for optimizations.\n"
      ],
      "metadata": {
        "id": "mVOzmMcsTXuz"
      }
    },
    {
      "cell_type": "markdown",
      "source": [
        "####6. Analyze the performance benefits of NumPy arrays over Python lists for large-scale numerical operations."
      ],
      "metadata": {
        "id": "eIClhECjTv6_"
      }
    },
    {
      "cell_type": "markdown",
      "source": [
        "Ans:- Let’s take a look at example for for list and NumPy handling big data object."
      ],
      "metadata": {
        "id": "ucc28JnMT0Jo"
      }
    },
    {
      "cell_type": "code",
      "source": [
        "import time\n",
        "\n",
        "size = 10**6\n",
        "# Python list\n",
        "python_list = [i for i in range(size)]\n",
        "start = time.time()\n",
        "python_result = [x * 2 for x in python_list]\n",
        "print(\"Python List Time:\", time.time() - start)\n",
        "\n",
        "# NumPy array\n",
        "numpy_array = np.arange(size)\n",
        "start = time.time()\n",
        "numpy_result = numpy_array * 2\n",
        "print(\"NumPy Array Time:\", time.time() - start)\n"
      ],
      "metadata": {
        "colab": {
          "base_uri": "https://localhost:8080/"
        },
        "id": "ssh4EzlJ4kBs",
        "outputId": "9369dbb2-00e3-48ce-e3f0-67adf78324e9"
      },
      "execution_count": 6,
      "outputs": [
        {
          "output_type": "stream",
          "name": "stdout",
          "text": [
            "Python List Time: 0.09050226211547852\n",
            "NumPy Array Time: 0.005393028259277344\n"
          ]
        }
      ]
    },
    {
      "cell_type": "markdown",
      "source": [
        "Note that the execution time for numpy is orders less than the list. As the complexity of algorithm and data size will increase, so will the difference.\n",
        "Numpy array makes **computation faster.**"
      ],
      "metadata": {
        "id": "eJz_tJRNUo0k"
      }
    },
    {
      "cell_type": "code",
      "source": [
        "import sys\n",
        "python_list_size = sum(sys.getsizeof(x) for x in python_list) + sys.getsizeof(python_list)\n",
        "print(\"Python List Size (bytes):\", python_list_size)\n",
        "\n",
        "numpy_array_size = numpy_array.nbytes\n",
        "print(\"NumPy Array Size (bytes):\", numpy_array_size)"
      ],
      "metadata": {
        "colab": {
          "base_uri": "https://localhost:8080/"
        },
        "id": "3ZeaxTRsT6zu",
        "outputId": "3c4a04a6-a676-44e5-80a6-8f1976274685"
      },
      "execution_count": 11,
      "outputs": [
        {
          "output_type": "stream",
          "name": "stdout",
          "text": [
            "Python List Size (bytes): 36448728\n",
            "NumPy Array Size (bytes): 8000000\n"
          ]
        }
      ]
    },
    {
      "cell_type": "markdown",
      "source": [
        "This highlights the size difference in list and numpy. Ndarray object takes much less space in memory than list."
      ],
      "metadata": {
        "id": "L_lSWAcIU02q"
      }
    },
    {
      "cell_type": "markdown",
      "source": [
        "####7. Compare `vstack()` and `hstack()` functions in NumPy. Provide examples demonstrating their usage and output."
      ],
      "metadata": {
        "id": "rBq3XEIpU4ly"
      }
    },
    {
      "cell_type": "markdown",
      "source": [
        "Ans:- vstack() is a method of NumPy library. This concatenates 2 or more arrays along 1 axis. However, we must note that the number of elements of arrays that we are concatenating must be same."
      ],
      "metadata": {
        "id": "QzI2MRfeU_1b"
      }
    },
    {
      "cell_type": "code",
      "source": [
        "a = np.array([1,2])\n",
        "b = np.array([4,3])\n",
        "c = np.array([5,6])\n",
        "e = np.array([7,8])\n",
        "\n",
        "d = np.vstack((a,b,c,e))\n",
        "print(d)\n",
        "print(np.shape(a))\n",
        "print(np.shape(d))\n"
      ],
      "metadata": {
        "colab": {
          "base_uri": "https://localhost:8080/"
        },
        "id": "fZcFsnt_yfBV",
        "outputId": "cc7efbcb-4f04-47d9-a3a4-c959bb9e9739"
      },
      "execution_count": 12,
      "outputs": [
        {
          "output_type": "stream",
          "name": "stdout",
          "text": [
            "[[1 2]\n",
            " [4 3]\n",
            " [5 6]\n",
            " [7 8]]\n",
            "(2,)\n",
            "(4, 2)\n"
          ]
        }
      ]
    },
    {
      "cell_type": "markdown",
      "source": [
        "hstack() is another method in numpy. This concatenates arrays along the x axis. As the arrays are concatined along axis 0, all elements collapse into a single numpy array of dimension (N,)"
      ],
      "metadata": {
        "id": "EE3kkHa_VFw-"
      }
    },
    {
      "cell_type": "code",
      "source": [
        "a_1 = np.array([1,2])\n",
        "b_1 = np.array([4,3])\n",
        "c_1 = np.array([5,6])\n",
        "e_1 = np.array([7,8])\n",
        "\n",
        "d_1 = np.hstack((a_1,b_1,c_1,e_1))\n",
        "print(d_1)\n",
        "print(np.shape(a_1))\n",
        "print(np.shape(d_1))\n"
      ],
      "metadata": {
        "colab": {
          "base_uri": "https://localhost:8080/"
        },
        "id": "cxYfEvrIy8vo",
        "outputId": "b7dd1626-e649-447d-d097-fb99a6ec1421"
      },
      "execution_count": 13,
      "outputs": [
        {
          "output_type": "stream",
          "name": "stdout",
          "text": [
            "[1 2 4 3 5 6 7 8]\n",
            "(2,)\n",
            "(8,)\n"
          ]
        }
      ]
    },
    {
      "cell_type": "markdown",
      "source": [
        "\n",
        "####8. Explain the differences between `fliplr()` and `flipud()` methods in NumPy, including their effects on various array dimensions."
      ],
      "metadata": {
        "id": "cffZW4SMRSlQ"
      }
    },
    {
      "cell_type": "markdown",
      "source": [
        "Ans:- fliplr() is a numpy method. It can flip an array and switch its left column with right columns and reverse the order.\n",
        "For examples:\n"
      ],
      "metadata": {
        "id": "26bfjV7WVWV5"
      }
    },
    {
      "cell_type": "code",
      "source": [
        "b = np.array([[1,2,3],[4,5,6],[7,8,9]])\n",
        "print(np.fliplr(b))\n"
      ],
      "metadata": {
        "colab": {
          "base_uri": "https://localhost:8080/"
        },
        "id": "9z39RAVXzPgc",
        "outputId": "653ba168-20f3-4733-81b6-80204b24ba76"
      },
      "execution_count": 14,
      "outputs": [
        {
          "output_type": "stream",
          "name": "stdout",
          "text": [
            "[[3 2 1]\n",
            " [6 5 4]\n",
            " [9 8 7]]\n"
          ]
        }
      ]
    },
    {
      "cell_type": "markdown",
      "source": [
        "This share allot of similarities with the fliplr(), except that it flips vertically and fliplr() flips horizontally.\n",
        "fliplr() takes a minimum of 2 dimensional array in its input and flips it out.\n",
        "If the number of columns are even, then inside columns are also flipped with their respective counterparts.\n"
      ],
      "metadata": {
        "id": "8jbOuaW-VdVL"
      }
    },
    {
      "cell_type": "code",
      "source": [
        "a = np.array([[1,2,3],[4,5,6],[7,8,9]])\n",
        "print(np.flipud(a))\n"
      ],
      "metadata": {
        "colab": {
          "base_uri": "https://localhost:8080/"
        },
        "id": "R6SfJbiuzV0C",
        "outputId": "d5c926b1-ade7-41f1-94a1-05c110c98025"
      },
      "execution_count": 15,
      "outputs": [
        {
          "output_type": "stream",
          "name": "stdout",
          "text": [
            "[[7 8 9]\n",
            " [4 5 6]\n",
            " [1 2 3]]\n"
          ]
        }
      ]
    },
    {
      "cell_type": "markdown",
      "source": [
        "####9. Discuss the functionality of the array_split() method in NumPy. How does it handle uneven splits?"
      ],
      "metadata": {
        "id": "0CobRCFkVmCJ"
      }
    },
    {
      "cell_type": "markdown",
      "source": [
        "Ans: - narray_split() is a NumPy method that splits the array into the specified number of sub arrays.\n",
        "For example: -\n"
      ],
      "metadata": {
        "id": "Xkl08gzrVwDo"
      }
    },
    {
      "cell_type": "code",
      "source": [
        "arr = np.array([[1, 2], [3, 4], [5, 6], [7, 8], [9, 10], [11, 12]])\n",
        "newarr = np.array_split(arr, 3)\n",
        "print(newarr[0])\n"
      ],
      "metadata": {
        "colab": {
          "base_uri": "https://localhost:8080/"
        },
        "id": "1kiH5Jh6Vf3d",
        "outputId": "6bc23bc5-f856-4ca1-8366-2a00a0a1388d"
      },
      "execution_count": 16,
      "outputs": [
        {
          "output_type": "stream",
          "name": "stdout",
          "text": [
            "[[1 2]\n",
            " [3 4]]\n"
          ]
        }
      ]
    },
    {
      "cell_type": "markdown",
      "source": [
        "If the number of sub-array specified cannot inherit equal amount of arrays, then the last array will receive an extra element."
      ],
      "metadata": {
        "id": "h9bd6yoUV3Ef"
      }
    },
    {
      "cell_type": "markdown",
      "source": [
        "####10. Explain the concepts of vectorization and broadcasting in NumPy. How do they contribute to efficient array operations?"
      ],
      "metadata": {
        "id": "YZ3ZHu6wV-mO"
      }
    },
    {
      "cell_type": "markdown",
      "source": [
        "Ans:- Broadcasting explains how numpy treats array during simple arithmetic operations.\n",
        "When 2 array are operated on with the arithmetic operator, It expands the smaller array to match the dimension of the larger array to ease up the process.\n"
      ],
      "metadata": {
        "id": "991z124hWCQX"
      }
    },
    {
      "cell_type": "code",
      "source": [
        "Arr,b  = np.array([1,2,3]) ,10\n",
        "C= Arr + b\n",
        "print(C)"
      ],
      "metadata": {
        "colab": {
          "base_uri": "https://localhost:8080/"
        },
        "id": "GBLLnK7jV0NF",
        "outputId": "fe043dbc-5048-4474-9bca-47143bac6ab0"
      },
      "execution_count": 18,
      "outputs": [
        {
          "output_type": "stream",
          "name": "stdout",
          "text": [
            "[11 12 13]\n"
          ]
        }
      ]
    },
    {
      "cell_type": "markdown",
      "source": [
        "When 2 array are operated on with the arithmetic operator, It expands the smaller array to match the dimension of the larger array to ease up the process.\n",
        "Consider another examples:\n",
        "\n"
      ],
      "metadata": {
        "id": "kNScDQ1SWM7r"
      }
    },
    {
      "cell_type": "code",
      "source": [
        "a_1 = np.array([[1,2,3],[4,5,6],[7,8,9]])\n",
        "b_1 = np.array([2,5,8])\n",
        "c_1 = a_1*b_1\n",
        "print(c_1)"
      ],
      "metadata": {
        "colab": {
          "base_uri": "https://localhost:8080/"
        },
        "id": "mCylJELIWElo",
        "outputId": "6dadc292-37ee-4eb9-c047-793b1ab6172c"
      },
      "execution_count": 19,
      "outputs": [
        {
          "output_type": "stream",
          "name": "stdout",
          "text": [
            "[[ 2 10 24]\n",
            " [ 8 25 48]\n",
            " [14 40 72]]\n"
          ]
        }
      ]
    },
    {
      "cell_type": "markdown",
      "source": [
        "Notice that, element wise multiplication is performed, despite the arrays being of different dimensions. This is possible, because numpy broadcasts the smaller array to match with the larger array.\n",
        "Note that: The smaller array must have the same number of dimension as larger one.\n",
        "For example:\n"
      ],
      "metadata": {
        "id": "l6_u6eiJWTlu"
      }
    },
    {
      "cell_type": "code",
      "source": [
        "a_2 = np.array([[1,2,3],[4,5,6],[7,8,9]])\n",
        "b_2 = np.array([2,5,8,4])\n",
        "c_2 = a_1*b_1\n",
        "print(c_2)\n"
      ],
      "metadata": {
        "colab": {
          "base_uri": "https://localhost:8080/"
        },
        "id": "zuE4_Tl2WP-n",
        "outputId": "0947444c-2c5f-40fa-b2cb-461e0fc62e36"
      },
      "execution_count": 20,
      "outputs": [
        {
          "output_type": "stream",
          "name": "stdout",
          "text": [
            "[[ 2 10 24]\n",
            " [ 8 25 48]\n",
            " [14 40 72]]\n"
          ]
        }
      ]
    },
    {
      "cell_type": "markdown",
      "source": [
        "This raises an error, as there’s no dimensional consistency on how to expand b_2.\n",
        "\n",
        "**Vectorization** refers to process of performing operation of entire arrays without explicit loops. Instead of iterationg, we can just operate on the entire array at once.\n",
        "This improves the speed of operation, makes our code more concise.\n"
      ],
      "metadata": {
        "id": "uwSv2PkmWaci"
      }
    },
    {
      "cell_type": "code",
      "source": [
        "##Without using vectorization\n",
        "a = np.array([1, 2, 3])\n",
        "b = np.array([4, 5, 6])\n",
        "result = np.add(a, b)\n",
        "print(result)\n",
        "# Vectorized addition\n",
        "result_1 = a + b\n",
        "print(result_1)\n"
      ],
      "metadata": {
        "colab": {
          "base_uri": "https://localhost:8080/"
        },
        "id": "RsJl0zlvWWkH",
        "outputId": "d85b7a04-cba1-434a-9a70-7bd2fe92991e"
      },
      "execution_count": 24,
      "outputs": [
        {
          "output_type": "stream",
          "name": "stdout",
          "text": [
            "[5 7 9]\n",
            "[5 7 9]\n"
          ]
        }
      ]
    },
    {
      "cell_type": "markdown",
      "source": [
        "####3. Describe the methods for reversing a NumPy array along different axes. Provide examples for 1D and 2D arrays."
      ],
      "metadata": {
        "id": "bh1thp32W0Lo"
      }
    },
    {
      "cell_type": "code",
      "source": [
        "#To reverse an array, we can employe indexing.\n",
        "#1D example:\n",
        "A = np.array([1,2,3,4])\n",
        "A_1 = np.array([[1,2,3],[4,5,6]])\n",
        "\n",
        "A_reversed = A[::-1]\n",
        "print(A_reversed)\n",
        "A_1_rows_reversed = A_1[:,::-1]\n",
        "A_1_reversed = A_1_rows_reversed[::-1,:]\n",
        "print(A_1_reversed)\n"
      ],
      "metadata": {
        "colab": {
          "base_uri": "https://localhost:8080/"
        },
        "id": "n-9A4K21Wr7l",
        "outputId": "9beac9bd-eb33-4a0c-c346-6e30a45402bd"
      },
      "execution_count": 25,
      "outputs": [
        {
          "output_type": "stream",
          "name": "stdout",
          "text": [
            "[4 3 2 1]\n",
            "[[6 5 4]\n",
            " [3 2 1]]\n"
          ]
        }
      ]
    },
    {
      "cell_type": "markdown",
      "source": [
        "Hence, we can be reverse array of any dimension (one dimension per iteration) using this method.\n",
        "Also, for any array>1D, we can use flipud() and fliplr() to reverse the matrix. Examples are given above in question 8.\n"
      ],
      "metadata": {
        "id": "5etM4-VDW_J9"
      }
    },
    {
      "cell_type": "markdown",
      "source": [
        "# Practical Questions"
      ],
      "metadata": {
        "id": "y96eJNpxXU1h"
      }
    },
    {
      "cell_type": "markdown",
      "source": [
        "####1. Create a 3x3 NumPy array with random integers between 1 and 100. Then, interchange its rows and columns."
      ],
      "metadata": {
        "id": "NgnBa4-sXXTQ"
      }
    },
    {
      "cell_type": "code",
      "source": [
        "a = np.random.randint(1,100,size=(3,3))\n"
      ],
      "metadata": {
        "id": "pLGyxMrBW6jo"
      },
      "execution_count": 31,
      "outputs": []
    },
    {
      "cell_type": "code",
      "source": [
        "print(a)"
      ],
      "metadata": {
        "colab": {
          "base_uri": "https://localhost:8080/"
        },
        "id": "jbwOvaB_Xkbu",
        "outputId": "52123521-2ab1-4bfc-f9e5-bd919ce2f158"
      },
      "execution_count": 34,
      "outputs": [
        {
          "output_type": "stream",
          "name": "stdout",
          "text": [
            "[[20 45 15]\n",
            " [39 96 91]\n",
            " [53 46 59]]\n"
          ]
        }
      ]
    },
    {
      "cell_type": "code",
      "source": [
        "## To interchange rows with columns\n",
        "a = a.T\n",
        "print(a)"
      ],
      "metadata": {
        "colab": {
          "base_uri": "https://localhost:8080/"
        },
        "id": "J78ahnQ9Ywpu",
        "outputId": "d2093b08-945c-4b13-c8de-ad7079f8fb55"
      },
      "execution_count": 35,
      "outputs": [
        {
          "output_type": "stream",
          "name": "stdout",
          "text": [
            "[[20 39 53]\n",
            " [45 96 46]\n",
            " [15 91 59]]\n"
          ]
        }
      ]
    },
    {
      "cell_type": "markdown",
      "source": [
        "####2. Generate a 1D NumPy array with 10 elements. Reshape it into a 2x5 array, then into a 5x2 array."
      ],
      "metadata": {
        "id": "pwCenVYbZVlL"
      }
    },
    {
      "cell_type": "code",
      "source": [
        "a_1 = np.random.randint(1,100,size = (2,5))\n",
        "print(a_1)"
      ],
      "metadata": {
        "colab": {
          "base_uri": "https://localhost:8080/"
        },
        "id": "gb6GANSGZMsX",
        "outputId": "c3123074-6d65-4fba-f2b2-76141c7f674f"
      },
      "execution_count": 38,
      "outputs": [
        {
          "output_type": "stream",
          "name": "stdout",
          "text": [
            "[[28  9 23 64 20]\n",
            " [27 52 80 60 40]]\n"
          ]
        }
      ]
    },
    {
      "cell_type": "code",
      "source": [
        "##To convert it into 5x2\n",
        "print(a_1.T)"
      ],
      "metadata": {
        "colab": {
          "base_uri": "https://localhost:8080/"
        },
        "id": "6nHQXsytZ3lR",
        "outputId": "77a1a070-ebbd-4408-88e7-817a3c9b7cb9"
      },
      "execution_count": 39,
      "outputs": [
        {
          "output_type": "stream",
          "name": "stdout",
          "text": [
            "[[28 27]\n",
            " [ 9 52]\n",
            " [23 80]\n",
            " [64 60]\n",
            " [20 40]]\n"
          ]
        }
      ]
    },
    {
      "cell_type": "markdown",
      "source": [
        "####3. Create a 4x4 NumPy array with random float values. Add a border of zeros around it, resulting in a 6x6 array."
      ],
      "metadata": {
        "id": "NYmQUd8vaPjm"
      }
    },
    {
      "cell_type": "code",
      "source": [
        "b = np.random.rand(4,4)\n"
      ],
      "metadata": {
        "id": "bq34KuzLZ7AN"
      },
      "execution_count": 49,
      "outputs": []
    },
    {
      "cell_type": "code",
      "source": [
        "print(b)"
      ],
      "metadata": {
        "colab": {
          "base_uri": "https://localhost:8080/"
        },
        "id": "FJi-cEYBaW8x",
        "outputId": "7551ae82-741c-4b21-d6b6-96190c5cd25b"
      },
      "execution_count": 50,
      "outputs": [
        {
          "output_type": "stream",
          "name": "stdout",
          "text": [
            "[[0.96713025 0.50182912 0.71965642 0.37977443]\n",
            " [0.78390615 0.15196521 0.72191851 0.71459166]\n",
            " [0.7694637  0.81644091 0.25901964 0.95703174]\n",
            " [0.52800996 0.64248925 0.12247542 0.57498424]]\n"
          ]
        }
      ]
    },
    {
      "cell_type": "code",
      "source": [
        "zers = np.zeros((6,6))\n",
        "zers[:4,:4] = b"
      ],
      "metadata": {
        "id": "0Qhwc72Qaz9Q"
      },
      "execution_count": 54,
      "outputs": []
    },
    {
      "cell_type": "code",
      "source": [
        "print(zers)"
      ],
      "metadata": {
        "colab": {
          "base_uri": "https://localhost:8080/"
        },
        "id": "wPx0yb8wbmnk",
        "outputId": "c40f4690-0399-44f4-cbad-f48530e3002e"
      },
      "execution_count": 58,
      "outputs": [
        {
          "output_type": "stream",
          "name": "stdout",
          "text": [
            "[[0.96713025 0.50182912 0.71965642 0.37977443 0.         0.        ]\n",
            " [0.78390615 0.15196521 0.72191851 0.71459166 0.         0.        ]\n",
            " [0.7694637  0.81644091 0.25901964 0.95703174 0.         0.        ]\n",
            " [0.52800996 0.64248925 0.12247542 0.57498424 0.         0.        ]\n",
            " [0.         0.         0.         0.         0.         0.        ]\n",
            " [0.         0.         0.         0.         0.         0.        ]]\n"
          ]
        }
      ]
    },
    {
      "cell_type": "markdown",
      "source": [
        "####4. Using NumPy, create an array of integers from 10 to 60 with a step of 5."
      ],
      "metadata": {
        "id": "Si0Uc5XXdv77"
      }
    },
    {
      "cell_type": "code",
      "source": [
        "int_arr = np.arange(10,61,5)\n",
        "int_arr"
      ],
      "metadata": {
        "colab": {
          "base_uri": "https://localhost:8080/"
        },
        "id": "CKTCayAYdj6U",
        "outputId": "ac3f54e1-8633-4800-d112-e4e976bb7cc9"
      },
      "execution_count": 61,
      "outputs": [
        {
          "output_type": "execute_result",
          "data": {
            "text/plain": [
              "array([10, 15, 20, 25, 30, 35, 40, 45, 50, 55, 60])"
            ]
          },
          "metadata": {},
          "execution_count": 61
        }
      ]
    },
    {
      "cell_type": "markdown",
      "source": [
        "####5. Create a NumPy array of strings ['python', 'numpy', 'pandas']. Apply different case transformations (uppercase, lowercase, title case, etc.) to each element."
      ],
      "metadata": {
        "id": "QOvkCZabeGbo"
      }
    },
    {
      "cell_type": "code",
      "source": [
        "strings_1 = np.array(['python', 'numpy', 'pandas'])\n",
        "\n",
        "strings_1[0] = np.char.upper(strings_1[0])\n",
        "\n",
        "strings_1[1] = np.char.lower(strings_1[1])\n",
        "\n",
        "strings_1[2] = np.char.title(strings_1[2])\n",
        "\n",
        "strings_1"
      ],
      "metadata": {
        "colab": {
          "base_uri": "https://localhost:8080/"
        },
        "id": "hsi1SGQef0VM",
        "outputId": "05e1a58b-ed0e-4414-e917-f75e7914ac53"
      },
      "execution_count": 85,
      "outputs": [
        {
          "output_type": "execute_result",
          "data": {
            "text/plain": [
              "array(['PYTHON', 'numpy', 'Pandas'], dtype='<U6')"
            ]
          },
          "metadata": {},
          "execution_count": 85
        }
      ]
    },
    {
      "cell_type": "markdown",
      "source": [
        "####6.. Generate a NumPy array of words. Insert a space between each character of every word in the array."
      ],
      "metadata": {
        "id": "sh7KfMXrI9UP"
      }
    },
    {
      "cell_type": "code",
      "source": [
        "words = np.array(['apple', 'banana', 'cherry', 'date', 'elderberry'])\n",
        "\n",
        "words = np.char.join(' ',words)\n",
        "\n",
        "words\n",
        ""
      ],
      "metadata": {
        "colab": {
          "base_uri": "https://localhost:8080/"
        },
        "id": "YHPNcn-Nf9fl",
        "outputId": "2d61d262-a969-44c0-cb72-8f6a4b110c89"
      },
      "execution_count": 33,
      "outputs": [
        {
          "output_type": "execute_result",
          "data": {
            "text/plain": [
              "array(['a p p l e', 'b a n a n a', 'c h e r r y', 'd a t e',\n",
              "       'e l d e r b e r r y'], dtype='<U19')"
            ]
          },
          "metadata": {},
          "execution_count": 33
        }
      ]
    },
    {
      "cell_type": "markdown",
      "source": [
        "####7.Create two 2D NumPy arrays and perform element-wise addition, subtraction, multiplication, and division."
      ],
      "metadata": {
        "id": "1dW3MLbEMZJ0"
      }
    },
    {
      "cell_type": "code",
      "source": [
        "a = np.random.randn(2,2)\n",
        "b = np.random.randn(2,2)"
      ],
      "metadata": {
        "id": "tT9MuqbqhGUW"
      },
      "execution_count": 35,
      "outputs": []
    },
    {
      "cell_type": "code",
      "source": [
        "a+b"
      ],
      "metadata": {
        "colab": {
          "base_uri": "https://localhost:8080/"
        },
        "id": "_lTC5-J-KmTq",
        "outputId": "68be3399-eb3d-4c16-e84d-788957989173"
      },
      "execution_count": 41,
      "outputs": [
        {
          "output_type": "execute_result",
          "data": {
            "text/plain": [
              "array([[ 2.10914294,  2.59935848],\n",
              "       [ 0.18567435, -1.63658727]])"
            ]
          },
          "metadata": {},
          "execution_count": 41
        }
      ]
    },
    {
      "cell_type": "code",
      "source": [
        "a*b"
      ],
      "metadata": {
        "colab": {
          "base_uri": "https://localhost:8080/"
        },
        "id": "1_jrP2uQMo7s",
        "outputId": "ac9f788d-a909-4900-f5a5-3279f1c46130"
      },
      "execution_count": 42,
      "outputs": [
        {
          "output_type": "execute_result",
          "data": {
            "text/plain": [
              "array([[ 0.54828134,  1.54034128],\n",
              "       [-0.01912311,  0.2417158 ]])"
            ]
          },
          "metadata": {},
          "execution_count": 42
        }
      ]
    },
    {
      "cell_type": "code",
      "source": [
        "a - b"
      ],
      "metadata": {
        "colab": {
          "base_uri": "https://localhost:8080/"
        },
        "id": "O0h9uUd2NCcB",
        "outputId": "b754d5fc-c7d8-4903-ce45-b96fa685df4c"
      },
      "execution_count": 43,
      "outputs": [
        {
          "output_type": "execute_result",
          "data": {
            "text/plain": [
              "array([[ 1.50178514, -0.77155649],\n",
              "       [ 0.3331177 , -1.308264  ]])"
            ]
          },
          "metadata": {},
          "execution_count": 43
        }
      ]
    },
    {
      "cell_type": "code",
      "source": [
        "a/b"
      ],
      "metadata": {
        "colab": {
          "base_uri": "https://localhost:8080/"
        },
        "id": "Tp4vVbLJNDqf",
        "outputId": "f3990e85-1682-45e6-8767-446740dababd"
      },
      "execution_count": 44,
      "outputs": [
        {
          "output_type": "execute_result",
          "data": {
            "text/plain": [
              "array([[ 5.94530609,  0.54222726],\n",
              "       [-3.51858576,  8.96936507]])"
            ]
          },
          "metadata": {},
          "execution_count": 44
        }
      ]
    },
    {
      "cell_type": "markdown",
      "source": [
        "####7. Use NumPy to create a 5x5 identity matrix, then extract its diagonal elements."
      ],
      "metadata": {
        "id": "_Bf7cgbGNKbv"
      }
    },
    {
      "cell_type": "code",
      "source": [
        "a_5 = np.random.rand(5,5)"
      ],
      "metadata": {
        "id": "beMooAcXNEtj"
      },
      "execution_count": 45,
      "outputs": []
    },
    {
      "cell_type": "code",
      "source": [
        "a_5"
      ],
      "metadata": {
        "colab": {
          "base_uri": "https://localhost:8080/"
        },
        "id": "sLfxL-nFNShb",
        "outputId": "3171ab4f-943c-401c-db2a-5029f878835f"
      },
      "execution_count": 46,
      "outputs": [
        {
          "output_type": "execute_result",
          "data": {
            "text/plain": [
              "array([[0.79220905, 0.24030679, 0.24737235, 0.89232028, 0.46107907],\n",
              "       [0.08862999, 0.87672025, 0.23117563, 0.23769025, 0.01007504],\n",
              "       [0.30670732, 0.65309025, 0.37855075, 0.69263053, 0.99686986],\n",
              "       [0.33721489, 0.69920026, 0.2071311 , 0.9043602 , 0.82850526],\n",
              "       [0.44193331, 0.33247465, 0.37079489, 0.39453588, 0.87794969]])"
            ]
          },
          "metadata": {},
          "execution_count": 46
        }
      ]
    },
    {
      "cell_type": "code",
      "source": [
        "diagonal_elements = np.diag(a_5)\n",
        "diagonal_elements"
      ],
      "metadata": {
        "colab": {
          "base_uri": "https://localhost:8080/"
        },
        "id": "7aTAI2-3NYMR",
        "outputId": "beb04952-b6c4-4a2a-b4da-3b1ae27df0db"
      },
      "execution_count": 56,
      "outputs": [
        {
          "output_type": "execute_result",
          "data": {
            "text/plain": [
              "array([0.79220905, 0.87672025, 0.37855075, 0.9043602 , 0.87794969])"
            ]
          },
          "metadata": {},
          "execution_count": 56
        }
      ]
    },
    {
      "cell_type": "markdown",
      "source": [
        "####9. Generate a NumPy array of 100 random integers between 0 and 1000. Find and display all prime numbers in this array."
      ],
      "metadata": {
        "id": "XcxqJvylOkfS"
      }
    },
    {
      "cell_type": "code",
      "source": [
        "one_thousand = np.random.randint(1,1000,100)"
      ],
      "metadata": {
        "id": "lZRJeF8rNlgE"
      },
      "execution_count": 59,
      "outputs": []
    },
    {
      "cell_type": "code",
      "source": [
        "np.size(one_thousand)"
      ],
      "metadata": {
        "colab": {
          "base_uri": "https://localhost:8080/"
        },
        "id": "1-s_7mBdOxiI",
        "outputId": "88bdbb32-6e5e-48b2-90f5-474b6e6e506c"
      },
      "execution_count": 60,
      "outputs": [
        {
          "output_type": "execute_result",
          "data": {
            "text/plain": [
              "100"
            ]
          },
          "metadata": {},
          "execution_count": 60
        }
      ]
    },
    {
      "cell_type": "code",
      "source": [
        "def is_prime(n):\n",
        "    if n <= 1:\n",
        "        return False\n",
        "    for i in range(2, int(n**0.5) + 1):\n",
        "        if n % i == 0:\n",
        "            return False\n",
        "    return True\n",
        "\n",
        "random_array = np.random.randint(0, 1001, 100)"
      ],
      "metadata": {
        "id": "J4trPlqfO0i-"
      },
      "execution_count": 75,
      "outputs": []
    },
    {
      "cell_type": "code",
      "source": [
        "prime_numbers = [num for num in random_array if is_prime(num)]\n",
        "prime_numbers"
      ],
      "metadata": {
        "colab": {
          "base_uri": "https://localhost:8080/"
        },
        "id": "0Fc46X8APdjQ",
        "outputId": "2b6af0b4-241b-4905-bc5b-7b5eaa37dd82"
      },
      "execution_count": 76,
      "outputs": [
        {
          "output_type": "execute_result",
          "data": {
            "text/plain": [
              "[811, 367, 853, 193, 229, 971, 751, 379, 683, 587, 769, 769, 179, 991, 907]"
            ]
          },
          "metadata": {},
          "execution_count": 76
        }
      ]
    },
    {
      "cell_type": "markdown",
      "source": [
        "####10. Create a NumPy array representing daily temperatures for a month. Calculate and display the weekly averages."
      ],
      "metadata": {
        "id": "elyYdSxoStJi"
      }
    },
    {
      "cell_type": "code",
      "source": [
        "daily_temperatures = np.random.uniform(15, 35, 30)\n",
        "\n",
        "weeks = daily_temperatures[:28].reshape(4, 7)\n",
        "\n",
        "weekly_averages = weeks.mean(axis=1)\n",
        "\n",
        "daily_temperatures, weekly_averages"
      ],
      "metadata": {
        "colab": {
          "base_uri": "https://localhost:8080/"
        },
        "id": "CzTnkO3gPiW3",
        "outputId": "bdd850df-51a5-4952-fc70-eceb1c14fa6d"
      },
      "execution_count": 84,
      "outputs": [
        {
          "output_type": "execute_result",
          "data": {
            "text/plain": [
              "(array([19.58412422, 17.8729473 , 33.2576349 , 28.37906155, 23.75972043,\n",
              "        26.46519141, 29.9122781 , 30.46063797, 33.39788362, 23.53685578,\n",
              "        20.8682182 , 27.79328534, 23.31455799, 26.89196908, 23.39971597,\n",
              "        18.05991573, 24.38853503, 28.81835644, 30.98567615, 24.86652554,\n",
              "        18.3047578 , 23.29375419, 30.72587858, 23.25718541, 28.93061587,\n",
              "        25.14427363, 19.8244625 , 30.92301016, 16.68426908, 25.49780566]),\n",
              " array([25.60442256, 26.60905828, 24.11764038, 26.01416862]))"
            ]
          },
          "metadata": {},
          "execution_count": 84
        }
      ]
    },
    {
      "cell_type": "code",
      "source": [],
      "metadata": {
        "id": "H4syhnkGR6M6"
      },
      "execution_count": null,
      "outputs": []
    }
  ]
}