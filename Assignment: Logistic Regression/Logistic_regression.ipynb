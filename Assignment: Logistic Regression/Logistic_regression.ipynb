{
  "nbformat": 4,
  "nbformat_minor": 0,
  "metadata": {
    "colab": {
      "provenance": [],
      "authorship_tag": "ABX9TyPHC6R8ak7UU/tSlsScM7Gr",
      "include_colab_link": true
    },
    "kernelspec": {
      "name": "python3",
      "display_name": "Python 3"
    },
    "language_info": {
      "name": "python"
    }
  },
  "cells": [
    {
      "cell_type": "markdown",
      "metadata": {
        "id": "view-in-github",
        "colab_type": "text"
      },
      "source": [
        "<a href=\"https://colab.research.google.com/github/Rgarlay/PWSkills_Assignments/blob/main/Assignment%3A%20Logistic%20Regression/Logistic_regression.ipynb\" target=\"_parent\"><img src=\"https://colab.research.google.com/assets/colab-badge.svg\" alt=\"Open In Colab\"/></a>"
      ]
    },
    {
      "cell_type": "markdown",
      "source": [
        "###1.What is Logistic Regression, and how does it differ from Linear Regression.\n"
      ],
      "metadata": {
        "id": "Fg3y2Jubfxvt"
      }
    },
    {
      "cell_type": "markdown",
      "source": [
        "Logistic Regression is a classification ML algorithm.\n",
        "It is used for building decision boundaries, seperating different classes.\n",
        "\n",
        "Conceptually, It differes from Linear Regression in terms of its application.\n",
        "It is used to predict the class/probability of data point belonging to certain class whereas Linear Regression is used to predict new data points in the pre-learnt data patterns."
      ],
      "metadata": {
        "id": "07vhusSDf1AK"
      }
    },
    {
      "cell_type": "code",
      "execution_count": null,
      "metadata": {
        "id": "wvkGEaxZfuav"
      },
      "outputs": [],
      "source": []
    },
    {
      "cell_type": "markdown",
      "source": [
        "###2.What is the mathematical equation of Logistic Regression."
      ],
      "metadata": {
        "id": "QCdyrlffgxRw"
      }
    },
    {
      "cell_type": "markdown",
      "source": [
        "Sigmoid function is mathematical fun. for Logistic Regression.\n",
        "\n",
        "```\n",
        "sigma(z) = 1/(1+exp(-z))\n",
        "```\n",
        "where\n",
        "\n",
        "`z = mx + c`\n"
      ],
      "metadata": {
        "id": "gz0civQzgzWx"
      }
    },
    {
      "cell_type": "code",
      "source": [],
      "metadata": {
        "id": "d39pCsiFgy6U"
      },
      "execution_count": null,
      "outputs": []
    },
    {
      "cell_type": "markdown",
      "source": [
        "###3. Why do we use the Sigmoid function in Logistic Regression."
      ],
      "metadata": {
        "id": "ICygWvjyhOf_"
      }
    },
    {
      "cell_type": "markdown",
      "source": [
        "Sigmoid function is used for Logistic Regression because:\n",
        "\n",
        "1. Its range of variation is from 0 to 1.\n",
        "2. It is differentiable and optimizable (using gradient descent).\n",
        "3. It saturation for extreme values, making it suitable for probailities outputs.\n"
      ],
      "metadata": {
        "id": "MqooDuDChP4C"
      }
    },
    {
      "cell_type": "code",
      "source": [],
      "metadata": {
        "id": "S6fqh2szhPU5"
      },
      "execution_count": null,
      "outputs": []
    },
    {
      "cell_type": "markdown",
      "source": [
        "###4. What is the cost function of Logistic Regression."
      ],
      "metadata": {
        "id": "tlnXPuQCjAGC"
      }
    },
    {
      "cell_type": "markdown",
      "source": [
        "For Logistic Regression, we use cross_entropy loss/cost function:\n",
        "\n",
        "```\n",
        "J(theta) = y_i*log(f(x_i)) + (1 - y_i)*log(1-f(x_i))\n",
        "```\n",
        "\n"
      ],
      "metadata": {
        "id": "pGcF1vpejCQg"
      }
    },
    {
      "cell_type": "code",
      "source": [],
      "metadata": {
        "id": "qjcqguuDjByp"
      },
      "execution_count": null,
      "outputs": []
    },
    {
      "cell_type": "markdown",
      "source": [
        "###5. What is Regularization in Logistic Regression? Why is it needed."
      ],
      "metadata": {
        "id": "BAl_gJfFjet4"
      }
    },
    {
      "cell_type": "markdown",
      "source": [
        "Regularization is penalising the model, to avoid overfitting on the training data and generalising it for test data.\n",
        "\n",
        "For situation with complicated seperation in different classes, we do not prefer the model to remember the  the training data points distribution (rather the meaningful pattern), it will cause poor performance on test data and fail to generalise.\n",
        "For this purpose, regularization is needed.\n"
      ],
      "metadata": {
        "id": "1XTAjNjAjiSQ"
      }
    },
    {
      "cell_type": "code",
      "source": [],
      "metadata": {
        "id": "yCsUPnukjA64"
      },
      "execution_count": null,
      "outputs": []
    },
    {
      "cell_type": "markdown",
      "source": [
        "###7. Explain the difference between Lasso, Ridge, and Elastic Net regression."
      ],
      "metadata": {
        "id": "mWWG3b_MlAOE"
      }
    },
    {
      "cell_type": "markdown",
      "source": [
        "1.1 Ridge(L2) Regression reduces overfitting by penalizeing the model.\n",
        "\n",
        "1.2 Lasso(L1) Regression primarily focuses on reducing weightage of poorly correlated features from model.\n",
        "\n",
        "1.3 Elastic-Net is linear combination of both of them.\n",
        "\n",
        "\n",
        "2.1 Ridge Regression decreases weight of poorly correlated variable but never makes them zero and is useful to counter overfitting.\n",
        "\n",
        "2.2 Lasso Regression shrinks them exactly zero and is useful to remove irrelevant features.\n",
        "\n",
        "2.3 Elastic-Net is usefil when there are highly correlated variables."
      ],
      "metadata": {
        "id": "Wq3gX6X4lCk1"
      }
    },
    {
      "cell_type": "code",
      "source": [],
      "metadata": {
        "id": "D7a67zw6lBvO"
      },
      "execution_count": null,
      "outputs": []
    },
    {
      "cell_type": "markdown",
      "source": [
        "###7. When should we use Elastic Net instead of Lasso or Ridge."
      ],
      "metadata": {
        "id": "aLhTbZOFmX-n"
      }
    },
    {
      "cell_type": "markdown",
      "source": [
        "When we have highly correlated multiple feautres.\n",
        "Lasso may struggle with shrinking weightage feature selection between useful and irrelevant features."
      ],
      "metadata": {
        "id": "INstIpbtmccd"
      }
    },
    {
      "cell_type": "code",
      "source": [],
      "metadata": {
        "id": "ls22Zx3omaKj"
      },
      "execution_count": null,
      "outputs": []
    },
    {
      "cell_type": "markdown",
      "source": [
        "###8. What is the impact of the regularization parameter (λ) in Logistic Regression."
      ],
      "metadata": {
        "id": "OaL1GV-kn17s"
      }
    },
    {
      "cell_type": "markdown",
      "source": [
        "Lambda is the scaling parameter in L1,L2 and elastic-net regulatization.\n",
        "\n",
        "Greater the value of lambda, more will be regularization on the model.\n",
        "\n",
        "\n",
        "Lambda moves inversly to the weight parameter. More the value of lambda, more the weights will shrink."
      ],
      "metadata": {
        "id": "Pl6esljsn6FN"
      }
    },
    {
      "cell_type": "code",
      "source": [],
      "metadata": {
        "id": "QE8l26lfn3Wq"
      },
      "execution_count": null,
      "outputs": []
    },
    {
      "cell_type": "markdown",
      "source": [
        "###9. What are the key assumptions of Logistic Regression."
      ],
      "metadata": {
        "id": "pAnCKKBVoll6"
      }
    },
    {
      "cell_type": "markdown",
      "source": [
        "1. All the classes are equally balanced in dataset.\n",
        "\n",
        "2. Data is linear seperable.\n",
        "\n",
        "3. Log of the target variable have linear relationship with input variable.\n",
        "\n",
        "4. No multicollinearity.\n",
        "\n",
        "5. Independence of observations."
      ],
      "metadata": {
        "id": "Q6t1zqrsonvY"
      }
    },
    {
      "cell_type": "code",
      "source": [],
      "metadata": {
        "id": "3CEzkQvFonMI"
      },
      "execution_count": null,
      "outputs": []
    },
    {
      "cell_type": "markdown",
      "source": [
        "###10. What are some alternatives to Logistic Regression for classification tasks."
      ],
      "metadata": {
        "id": "R4me4KLBqXZW"
      }
    },
    {
      "cell_type": "markdown",
      "source": [
        "> Support Vector Machine\n",
        "\n",
        "> Decision Trees\n",
        "\n",
        "> Naive Bayse\n",
        "\n",
        "> Random Forest\n",
        "\n",
        "> Gradient Boost classification\n",
        "\n",
        ">XGB classification"
      ],
      "metadata": {
        "id": "rDOLhtmxqZNi"
      }
    },
    {
      "cell_type": "code",
      "source": [],
      "metadata": {
        "id": "uxCBVc47qYla"
      },
      "execution_count": null,
      "outputs": []
    },
    {
      "cell_type": "markdown",
      "source": [
        "###11. What are Classification Evaluation Metrics."
      ],
      "metadata": {
        "id": "AiKT6LtJquPk"
      }
    },
    {
      "cell_type": "markdown",
      "source": [
        "Accuracy_score,\n",
        "Precision_score,\n",
        "Classification_matric,\n",
        "ROC-AUC curve,\n",
        "Recall_score"
      ],
      "metadata": {
        "id": "jrRTpabTqwOi"
      }
    },
    {
      "cell_type": "code",
      "source": [],
      "metadata": {
        "id": "8-AzRvSyqvPc"
      },
      "execution_count": null,
      "outputs": []
    },
    {
      "cell_type": "markdown",
      "source": [
        "###12. How does class imbalance affect Logistic Regression."
      ],
      "metadata": {
        "id": "Jaicblykq_NC"
      }
    },
    {
      "cell_type": "markdown",
      "source": [
        "If left unattended, the model can miss the key patterns in the imbalanced class.\n",
        "\n",
        "Model can overlearn the parameter of one class and overfit.\n",
        "\n",
        "The decision boundary, ultimately, will be skewed toward the majority and will be less sensitive to the minority class."
      ],
      "metadata": {
        "id": "DGrvcKS6rA0J"
      }
    },
    {
      "cell_type": "code",
      "source": [],
      "metadata": {
        "id": "Z-IOSoTVrASV"
      },
      "execution_count": null,
      "outputs": []
    },
    {
      "cell_type": "markdown",
      "source": [
        "###13. What is Hyperparameter Tuning in Logistic Regression."
      ],
      "metadata": {
        "id": "vs3jQWtTr7jx"
      }
    },
    {
      "cell_type": "markdown",
      "source": [
        "The process of finding the hyperparameters of the model such that model performs best on the training and test model is called hyperparameter tuning.\n",
        "\n",
        "For logistic Regression, we have `penalty`, `C` , `class_weight`, `solver`, `max_iters` as some of hyperparameters.\n",
        "\n",
        "Tuning these parameters will avoid over/underfitting and custom the model to fit on given dataset."
      ],
      "metadata": {
        "id": "aC2r96hxr9k2"
      }
    },
    {
      "cell_type": "code",
      "source": [],
      "metadata": {
        "id": "Y8qXN9Vhr9GW"
      },
      "execution_count": null,
      "outputs": []
    },
    {
      "cell_type": "markdown",
      "source": [
        "###14. What are different solvers in Logistic Regression? Which one should be used."
      ],
      "metadata": {
        "id": "FogC9ozrs6-u"
      }
    },
    {
      "cell_type": "markdown",
      "source": [
        "In Logistic Regression, there are 4 major solvers:\n",
        "`lbfgs`, `liblinear`, `newton-cg`, `newton-cholesky`.\n",
        "\n",
        "Out of these, `liblinear` is for small datasets and `lbfgs` is good choice for binary classification.\n",
        "``newton-cholesky`` is used when n_samples>>n_features * n_classes.\n",
        "\n"
      ],
      "metadata": {
        "id": "6auc6v43s8sX"
      }
    },
    {
      "cell_type": "code",
      "source": [],
      "metadata": {
        "id": "n0venzh7s8HL"
      },
      "execution_count": null,
      "outputs": []
    },
    {
      "cell_type": "markdown",
      "source": [
        "###15. How is Logistic Regression extended for multiclass classification."
      ],
      "metadata": {
        "id": "npWZVIzVupPb"
      }
    },
    {
      "cell_type": "markdown",
      "source": [
        "We can change the function for Logistic Regression from Sigmoid to softmax.\n",
        "\n",
        "It will calculate proabability of data point belonging to each class and then return the class with highest probability/score."
      ],
      "metadata": {
        "id": "VCa2vuH6uq4d"
      }
    },
    {
      "cell_type": "code",
      "source": [],
      "metadata": {
        "id": "N4uvd-XluqXR"
      },
      "execution_count": null,
      "outputs": []
    },
    {
      "cell_type": "markdown",
      "source": [
        "###16. What are the advantages and disadvantages of Logistic Regression."
      ],
      "metadata": {
        "id": "KrEQc-ltvYzI"
      }
    },
    {
      "cell_type": "markdown",
      "source": [
        "Advantages:\n",
        "1. Computationally cheap.\n",
        "\n",
        "2. Function is differentiable and optimizable.\n",
        "\n",
        "3. Outputs interpretable probailities.\n",
        "\n",
        "Disadvantages:\n",
        "\n",
        "1. Fails for more complex decision boundaries.\n",
        "\n",
        "2. Difficult to scale in higher feautre planes.\n",
        "\n",
        "3. Assumes linearity.\n",
        "\n",
        "4. Prone to overfitting is n_features>>n_data_points.\n",
        "\n",
        "5. Low sensitive to outliers."
      ],
      "metadata": {
        "id": "PCDaJObAvcjb"
      }
    },
    {
      "cell_type": "code",
      "source": [],
      "metadata": {
        "id": "69JjIZWjvcCS"
      },
      "execution_count": null,
      "outputs": []
    },
    {
      "cell_type": "markdown",
      "source": [
        "###17. What are some use cases of Logistic Regression."
      ],
      "metadata": {
        "id": "gCGiJWofwofS"
      }
    },
    {
      "cell_type": "markdown",
      "source": [
        "To classify spam/ham.\n",
        "\n",
        "To classify fraud/not fraud from transaction dataset.\n",
        "\n",
        "To classify spam/not spam email.\n",
        "\n",
        "To classify real/fake news (post tokenization of text).\n",
        "\n"
      ],
      "metadata": {
        "id": "zem5gvozwqZr"
      }
    },
    {
      "cell_type": "code",
      "source": [],
      "metadata": {
        "id": "QvstpgUavaWY"
      },
      "execution_count": null,
      "outputs": []
    },
    {
      "cell_type": "markdown",
      "source": [
        "###18. What is the difference between Softmax Regression and Logistic Regression."
      ],
      "metadata": {
        "id": "K6Wu33ufxExO"
      }
    },
    {
      "cell_type": "markdown",
      "source": [
        "Logistic Regression uses sigmoid as function.\n",
        "Softmax Regression modifies it to softmax function for decision boundary.\n",
        "\n",
        "Logistic regression in inherintly binary classification algorithm.\n",
        "Softmax is multiclass classification algorithm.\n",
        "\n",
        "For softmax, `f(x)=x ; x>0` and `f(x) = 0 ; x<=0` .\n",
        "\n",
        "for logistic:\n",
        "\n",
        "`sigma(z) = 1/(1+exp(-z))`\n",
        "\n",
        "everywhere."
      ],
      "metadata": {
        "id": "0SC77g4vxG4W"
      }
    },
    {
      "cell_type": "code",
      "source": [],
      "metadata": {
        "id": "0-XeGmXGxGYx"
      },
      "execution_count": null,
      "outputs": []
    },
    {
      "cell_type": "markdown",
      "source": [
        "\n",
        "\n",
        "```\n",
        "`# This is formatted as code`\n",
        "```\n",
        "\n",
        "###19. How do we choose between One-vs-Rest (OvR) and Softmax for multiclass classification."
      ],
      "metadata": {
        "id": "FyjSj1EYx-55"
      }
    },
    {
      "cell_type": "markdown",
      "source": [
        "OvR: -\n",
        "\n",
        "\n",
        "*   When datasset has imbalanced calsses, since its easier to tune each class independently.\n",
        "*   When we want more control over class specific thresolds.\n",
        "*   When we are using non- probabilistic models like Logistic Regression or Decision Trees.\n",
        "\n",
        "Softmax: -\n",
        "\n",
        "\n",
        "*   Its mostly used when we are working with neural networks.\n",
        "*   When we want end-to-end training with gradients.\n",
        "*   Classes are mutually exclusive.\n",
        "*  When number of classes training are small.\n",
        "\n",
        "\n"
      ],
      "metadata": {
        "id": "8kUZJfvK2cMI"
      }
    },
    {
      "cell_type": "code",
      "source": [],
      "metadata": {
        "id": "bL-p8409yAgP"
      },
      "execution_count": null,
      "outputs": []
    },
    {
      "cell_type": "markdown",
      "source": [
        "###20. How do we interpret coefficients in Logistic Regression?"
      ],
      "metadata": {
        "id": "O25Q1p_M3tOh"
      }
    },
    {
      "cell_type": "markdown",
      "source": [
        "In Logistic regression, we deal with log-odds coefficents $\\beta$ rather than simple weight coefficents $\\alpha$.\n",
        "\n",
        "$\\beta$ = log(p/(1-p))\n",
        "\n",
        "$\\beta_{i}$>0 --> increasing that feature $x_{i}$ will increase the log-odds and hence the probability of positive class.\n",
        "\n",
        "Similaraly, $\\beta_{i}$<0 --> implies that increasing $x_{i}$ will decrease the log-odds i.e. probability of positive class."
      ],
      "metadata": {
        "id": "99DhCK1u3zen"
      }
    },
    {
      "cell_type": "code",
      "source": [],
      "metadata": {
        "id": "NTtDV6t_3y4W"
      },
      "execution_count": null,
      "outputs": []
    },
    {
      "cell_type": "markdown",
      "source": [
        "#Practical Questions"
      ],
      "metadata": {
        "id": "QYxMaTiA5DBZ"
      }
    },
    {
      "cell_type": "markdown",
      "source": [
        "###1. Write a Python program that loads a dataset, splits it into training and testing sets, applies Logistic Regression, and prints the model accuracy."
      ],
      "metadata": {
        "id": "g8bj8N0F5gkz"
      }
    },
    {
      "cell_type": "code",
      "source": [
        "from sklearn.datasets import load_iris\n",
        "from sklearn.model_selection import train_test_split\n",
        "from sklearn.linear_model import LogisticRegression\n",
        "from sklearn.metrics import accuracy_score\n",
        "\n",
        "#Loading data\n",
        "data = load_iris()\n",
        "X = data.data       # Features\n",
        "y = data.target     # Target\n",
        "\n",
        "#train-test split\n",
        "X_train, X_test, y_train, y_test = train_test_split(X, y, test_size=0.2, random_state=42)\n",
        "\n",
        "#model training\n",
        "model = LogisticRegression()\n",
        "model.fit(X_train, y_train)\n",
        "\n",
        "#calculating and printing accuracy metrics\n",
        "y_pred = model.predict(X_test)\n",
        "accuracy = accuracy_score(y_test, y_pred)\n",
        "print(f\"Logistic Regression Accuracy: {accuracy:.2f}\")"
      ],
      "metadata": {
        "colab": {
          "base_uri": "https://localhost:8080/"
        },
        "id": "JeuzsBew5E_t",
        "outputId": "a539c4c1-4f83-4a60-decd-754ffcc4fe5f"
      },
      "execution_count": 2,
      "outputs": [
        {
          "output_type": "stream",
          "name": "stdout",
          "text": [
            "Logistic Regression Accuracy: 1.00\n"
          ]
        }
      ]
    },
    {
      "cell_type": "markdown",
      "source": [
        "###2. Write a Python program to apply L1 regularization (Lasso) on a dataset using LogisticRegression(penalty='l1') and print the model accuracy."
      ],
      "metadata": {
        "id": "EaZPpvgM58D1"
      }
    },
    {
      "cell_type": "code",
      "source": [
        "model = LogisticRegression(penalty='l1', solver='liblinear')\n",
        "model.fit(X_train, y_train)\n",
        "\n",
        "# Step 5: Evaluate the model\n",
        "y_pred = model.predict(X_test)\n",
        "accuracy = accuracy_score(y_test, y_pred)\n",
        "\n",
        "# Step 6: Print accuracy\n",
        "print(f\"Model Accuracy with L1 Regularization: {accuracy:.2f}\")"
      ],
      "metadata": {
        "colab": {
          "base_uri": "https://localhost:8080/"
        },
        "id": "u7iws7n354GH",
        "outputId": "2f3f9bcc-51a7-43fd-99b9-d015600e9cb4"
      },
      "execution_count": 3,
      "outputs": [
        {
          "output_type": "stream",
          "name": "stdout",
          "text": [
            "Model Accuracy with L1 Regularization: 1.00\n"
          ]
        }
      ]
    },
    {
      "cell_type": "markdown",
      "source": [
        "###3.Write a Python program to train Logistic Regression with L2 regularization (Ridge) using LogisticRegression(penalty='l2'). Print model accuracy and coefficients."
      ],
      "metadata": {
        "id": "F4m_jVZRBfvF"
      }
    },
    {
      "cell_type": "code",
      "source": [
        "model = LogisticRegression(penalty='l2')\n",
        "model.fit(X_train, y_train)\n",
        "\n",
        "#Evaluating the model\n",
        "y_pred = model.predict(X_test)\n",
        "accuracy = accuracy_score(y_test, y_pred)\n",
        "\n",
        "# accuracy and coefficients\n",
        "print(f\"Model Accuracy: {accuracy:.2f}\")\n",
        "print(\"Model Coefficients:\")\n",
        "for i, class_coef in enumerate(model.coef_):\n",
        "    print(f\"Class {i}: {class_coef}\")"
      ],
      "metadata": {
        "colab": {
          "base_uri": "https://localhost:8080/"
        },
        "id": "h55o1Pb_6KxR",
        "outputId": "7df7f83b-c647-4dd1-f8c6-251832cc225d"
      },
      "execution_count": 4,
      "outputs": [
        {
          "output_type": "stream",
          "name": "stdout",
          "text": [
            "Model Accuracy: 1.00\n",
            "Model Coefficients:\n",
            "Class 0: [-0.39345607  0.96251768 -2.37512436 -0.99874594]\n",
            "Class 1: [ 0.50843279 -0.25482714 -0.21301129 -0.77574766]\n",
            "Class 2: [-0.11497673 -0.70769055  2.58813565  1.7744936 ]\n"
          ]
        }
      ]
    },
    {
      "cell_type": "markdown",
      "source": [
        "###4. Write a Python program to train Logistic Regression with Elastic Net Regularization (penalty='elasticnet')."
      ],
      "metadata": {
        "id": "jzYiaV5ACXX-"
      }
    },
    {
      "cell_type": "code",
      "source": [
        "model = LogisticRegression(\n",
        "    penalty='elasticnet',\n",
        "    solver='saga',\n",
        "    l1_ratio=0.5\n",
        ")\n",
        "model.fit(X_train, y_train)\n",
        "\n",
        "# Evaluating the model\n",
        "y_pred = model.predict(X_test)\n",
        "accuracy = accuracy_score(y_test, y_pred)\n",
        "\n",
        "# Printing accuracy\n",
        "print(f\"Model Accuracy with Elastic Net: {accuracy:.2f}\")"
      ],
      "metadata": {
        "colab": {
          "base_uri": "https://localhost:8080/"
        },
        "id": "6sOhuR53Bxkr",
        "outputId": "e6f3eb4a-ac05-42b1-ec6d-51bebed31de1"
      },
      "execution_count": 5,
      "outputs": [
        {
          "output_type": "stream",
          "name": "stdout",
          "text": [
            "Model Accuracy with Elastic Net: 1.00\n"
          ]
        },
        {
          "output_type": "stream",
          "name": "stderr",
          "text": [
            "/usr/local/lib/python3.11/dist-packages/sklearn/linear_model/_sag.py:348: ConvergenceWarning: The max_iter was reached which means the coef_ did not converge\n",
            "  warnings.warn(\n"
          ]
        }
      ]
    },
    {
      "cell_type": "markdown",
      "source": [
        "###5. Write a Python program to train a Logistic Regression model for multiclass classification using multi_class='ovr'."
      ],
      "metadata": {
        "id": "WtkoOMGxC5FA"
      }
    },
    {
      "cell_type": "code",
      "source": [
        "from sklearn.datasets import load_wine\n",
        "\n",
        "wine = load_wine()\n",
        "X = wine.data\n",
        "y = wine.target\n",
        "\n",
        "X_train, X_test, y_train, y_test = train_test_split(X, y, test_size=0.2, random_state=42)\n",
        "\n",
        "\n",
        "model = LogisticRegression(multi_class='ovr', solver='liblinear')\n",
        "model.fit(X_train, y_train)\n",
        "\n",
        "# Predict and evaluate\n",
        "y_pred = model.predict(X_test)\n",
        "accuracy = accuracy_score(y_test, y_pred)\n",
        "\n",
        "# Output results\n",
        "print(f\"Multiclass Logistic Regression (OvR) Accuracy: {accuracy:.2f}\")"
      ],
      "metadata": {
        "colab": {
          "base_uri": "https://localhost:8080/"
        },
        "id": "0quDugPDCkQP",
        "outputId": "6ba112a5-172f-4fdd-8c28-81e0897f454a"
      },
      "execution_count": 6,
      "outputs": [
        {
          "output_type": "stream",
          "name": "stdout",
          "text": [
            "Multiclass Logistic Regression (OvR) Accuracy: 0.97\n"
          ]
        },
        {
          "output_type": "stream",
          "name": "stderr",
          "text": [
            "/usr/local/lib/python3.11/dist-packages/sklearn/linear_model/_logistic.py:1256: FutureWarning: 'multi_class' was deprecated in version 1.5 and will be removed in 1.7. Use OneVsRestClassifier(LogisticRegression(..)) instead. Leave it to its default value to avoid this warning.\n",
            "  warnings.warn(\n"
          ]
        }
      ]
    },
    {
      "cell_type": "markdown",
      "source": [
        "####6. Write a Python program to apply GridSearchCV to tune the hyperparameters (C and penalty) of Logistic Regression. Print the best parameters and accuracy."
      ],
      "metadata": {
        "id": "IRPJfKDEEpkn"
      }
    },
    {
      "cell_type": "code",
      "source": [
        "from sklearn.model_selection import GridSearchCV\n",
        "\n",
        "import warnings\n",
        "warnings.filterwarnings('ignore')\n",
        "\n",
        "model = LogisticRegression()\n",
        "\n",
        "param_grid = {\n",
        "    'C': [0.01, 0.1, 1, 10],\n",
        "    'penalty': ['l1', 'l2']\n",
        "}\n",
        "\n",
        "# Grid search\n",
        "grid_search = GridSearchCV(model, param_grid, cv=5, scoring='accuracy', n_jobs=-1)\n",
        "grid_search.fit(X_train, y_train)\n",
        "\n",
        "# Evaluating on test set\n",
        "best_model = grid_search.best_estimator_\n",
        "y_pred = best_model.predict(X_test)\n",
        "test_accuracy = accuracy_score(y_test, y_pred)\n",
        "\n",
        "# Output\n",
        "print(\"Best Parameters:\", grid_search.best_params_)\n",
        "print(f\"Test Accuracy with Best Model: {test_accuracy:.2f}\")"
      ],
      "metadata": {
        "colab": {
          "base_uri": "https://localhost:8080/"
        },
        "id": "1CApEUpaDmHD",
        "outputId": "40641bc1-06ed-4fc1-a801-a6e145950caf"
      },
      "execution_count": 7,
      "outputs": [
        {
          "output_type": "stream",
          "name": "stdout",
          "text": [
            "Best Parameters: {'C': 1, 'penalty': 'l2'}\n",
            "Test Accuracy with Best Model: 0.97\n"
          ]
        }
      ]
    },
    {
      "cell_type": "markdown",
      "source": [
        "####7. Write a Python program to evaluate Logistic Regression using Stratified K-Fold Cross-Validation. Print the average accuracy."
      ],
      "metadata": {
        "id": "rWqRQQPMFaGQ"
      }
    },
    {
      "cell_type": "code",
      "source": [
        "from sklearn.model_selection import StratifiedKFold, cross_val_score\n",
        "import numpy as np\n",
        "\n",
        "\n",
        "# Define model\n",
        "model = LogisticRegression(solver='liblinear', multi_class='ovr', max_iter=1000)\n",
        "\n",
        "# Setting up Stratified K-Fold Cross-Validation\n",
        "skf = StratifiedKFold(n_splits=5, shuffle=True, random_state=42)\n",
        "\n",
        "# Evaluate model using cross_val_score\n",
        "scores = cross_val_score(model, X, y, cv=skf, scoring='accuracy')\n",
        "\n",
        "# Print results\n",
        "print(\"Accuracy for each fold:\", scores)\n",
        "print(f\"Average Accuracy: {np.mean(scores):.4f}\")"
      ],
      "metadata": {
        "colab": {
          "base_uri": "https://localhost:8080/"
        },
        "id": "doYiu94SFEok",
        "outputId": "a6b23afa-97e8-48d0-97ee-2bf691e3b701"
      },
      "execution_count": 8,
      "outputs": [
        {
          "output_type": "stream",
          "name": "stdout",
          "text": [
            "Accuracy for each fold: [0.94444444 0.97222222 0.94444444 0.97142857 1.        ]\n",
            "Average Accuracy: 0.9665\n"
          ]
        }
      ]
    },
    {
      "cell_type": "markdown",
      "source": [
        "####8. Write a Python program to load a dataset from a CSV file, apply Logistic Regression, and evaluate its accuracy."
      ],
      "metadata": {
        "id": "82U0hNvZFy0K"
      }
    },
    {
      "cell_type": "code",
      "source": [],
      "metadata": {
        "id": "LL4BU8OjhoCq"
      },
      "execution_count": null,
      "outputs": []
    },
    {
      "cell_type": "code",
      "source": [
        "import pandas as pd\n",
        "from sklearn.datasets import load_breast_cancer\n",
        "# Load dataset\n",
        "data = load_breast_cancer()\n",
        "\n",
        "# Convert to DataFrame\n",
        "df = pd.DataFrame(data.data, columns=data.feature_names)\n",
        "df['target'] = data.target\n",
        "\n",
        "# View first few rows\n",
        "print(df.head())\n",
        "\n",
        "df.to_csv(\"breast_cancer_data.csv\", index=False)\n",
        "\n",
        "df = pd.read_csv('/content/sample_data/breast_cancer_data.csv')\n",
        "\n",
        "X = df.drop(columns = ['target'])\n",
        "y = df[['target']]\n",
        "\n",
        "X_train, X_test, y_train, y_test = train_test_split(X, y, test_size=0.2, random_state=42)\n",
        "\n",
        "\n",
        "model = LogisticRegression()\n",
        "model.fit(X_train, y_train)\n",
        "\n",
        "# Predict and evaluate\n",
        "y_pred = model.predict(X_test)\n",
        "accuracy = accuracy_score(y_test, y_pred)\n",
        "\n",
        "# Output results\n",
        "print(f\"Multiclass Logistic Regression (OvR) Accuracy: {accuracy:.2f}\")"
      ],
      "metadata": {
        "colab": {
          "base_uri": "https://localhost:8080/"
        },
        "id": "i0IBWb8UIFZo",
        "outputId": "2d3eb42c-154c-4c2b-c705-aaa9aca85b9b"
      },
      "execution_count": 14,
      "outputs": [
        {
          "output_type": "stream",
          "name": "stdout",
          "text": [
            "   mean radius  mean texture  mean perimeter  mean area  mean smoothness  \\\n",
            "0        17.99         10.38          122.80     1001.0          0.11840   \n",
            "1        20.57         17.77          132.90     1326.0          0.08474   \n",
            "2        19.69         21.25          130.00     1203.0          0.10960   \n",
            "3        11.42         20.38           77.58      386.1          0.14250   \n",
            "4        20.29         14.34          135.10     1297.0          0.10030   \n",
            "\n",
            "   mean compactness  mean concavity  mean concave points  mean symmetry  \\\n",
            "0           0.27760          0.3001              0.14710         0.2419   \n",
            "1           0.07864          0.0869              0.07017         0.1812   \n",
            "2           0.15990          0.1974              0.12790         0.2069   \n",
            "3           0.28390          0.2414              0.10520         0.2597   \n",
            "4           0.13280          0.1980              0.10430         0.1809   \n",
            "\n",
            "   mean fractal dimension  ...  worst texture  worst perimeter  worst area  \\\n",
            "0                 0.07871  ...          17.33           184.60      2019.0   \n",
            "1                 0.05667  ...          23.41           158.80      1956.0   \n",
            "2                 0.05999  ...          25.53           152.50      1709.0   \n",
            "3                 0.09744  ...          26.50            98.87       567.7   \n",
            "4                 0.05883  ...          16.67           152.20      1575.0   \n",
            "\n",
            "   worst smoothness  worst compactness  worst concavity  worst concave points  \\\n",
            "0            0.1622             0.6656           0.7119                0.2654   \n",
            "1            0.1238             0.1866           0.2416                0.1860   \n",
            "2            0.1444             0.4245           0.4504                0.2430   \n",
            "3            0.2098             0.8663           0.6869                0.2575   \n",
            "4            0.1374             0.2050           0.4000                0.1625   \n",
            "\n",
            "   worst symmetry  worst fractal dimension  target  \n",
            "0          0.4601                  0.11890       0  \n",
            "1          0.2750                  0.08902       0  \n",
            "2          0.3613                  0.08758       0  \n",
            "3          0.6638                  0.17300       0  \n",
            "4          0.2364                  0.07678       0  \n",
            "\n",
            "[5 rows x 31 columns]\n",
            "Multiclass Logistic Regression (OvR) Accuracy: 0.96\n"
          ]
        }
      ]
    },
    {
      "cell_type": "markdown",
      "source": [
        "####9. Write a Python program to apply RandomizedSearchCV for tuning hyperparameters (C, penalty, solver) in Logistic Regression. Print the best parameters and accuracy."
      ],
      "metadata": {
        "id": "sMIsF2LSJpBY"
      }
    },
    {
      "cell_type": "code",
      "source": [
        "from sklearn.model_selection import RandomizedSearchCV\n",
        "model = LogisticRegression()\n",
        "\n",
        "param_dist = {\n",
        "    'C': [0.001, 100],  # Search over a wide range of C values\n",
        "    'penalty': ['l1', 'l2'],\n",
        "    'solver': ['liblinear', 'saga']\n",
        "}\n",
        "\n",
        "# RandomizedSearchCV setup\n",
        "random_search = RandomizedSearchCV(\n",
        "    model,\n",
        "    param_distributions=param_dist,\n",
        "    n_iter=20,             # Number of random combinations to try\n",
        "    cv=5,                  # 5-fold cross-validation\n",
        "    scoring='accuracy',\n",
        "    random_state=42,\n",
        "    n_jobs=-1\n",
        ")\n",
        "\n",
        "# Fit search\n",
        "random_search.fit(X_train, y_train)\n",
        "\n",
        "# Best model and test accuracy\n",
        "best_model = random_search.best_estimator_\n",
        "y_pred = best_model.predict(X_test)\n",
        "test_accuracy = accuracy_score(y_test, y_pred)\n",
        "\n",
        "# Output\n",
        "print(\"Best Parameters:\", random_search.best_params_)\n",
        "print(f\"Test Accuracy: {test_accuracy:.4f}\")"
      ],
      "metadata": {
        "colab": {
          "base_uri": "https://localhost:8080/"
        },
        "id": "n2yrLYThJLlz",
        "outputId": "dd64acdc-5fd8-4595-b1ea-3f26dfcad7b4"
      },
      "execution_count": 15,
      "outputs": [
        {
          "output_type": "stream",
          "name": "stdout",
          "text": [
            "Best Parameters: {'solver': 'liblinear', 'penalty': 'l1', 'C': 100}\n",
            "Test Accuracy: 0.9825\n"
          ]
        }
      ]
    },
    {
      "cell_type": "markdown",
      "source": [
        "####10. Write a Python program to implement One-vs-One (OvO) Multiclass Logistic Regression and print accuracy."
      ],
      "metadata": {
        "id": "5n_kTGh8KMim"
      }
    },
    {
      "cell_type": "code",
      "source": [
        "from sklearn.multiclass import OneVsOneClassifier\n",
        "\n",
        "logreg = LogisticRegression(solver='liblinear', max_iter=1000)\n",
        "\n",
        "# Using with OneVsOneClassifier\n",
        "ovo_model = OneVsOneClassifier(logreg)\n",
        "\n",
        "# Train the model\n",
        "ovo_model.fit(X_train, y_train)\n",
        "\n",
        "# Predict and evaluate\n",
        "y_pred = ovo_model.predict(X_test)\n",
        "accuracy = accuracy_score(y_test, y_pred)\n",
        "\n",
        "# Output results\n",
        "print(f\"One-vs-One Logistic Regression Accuracy: {accuracy:.4f}\")"
      ],
      "metadata": {
        "colab": {
          "base_uri": "https://localhost:8080/"
        },
        "id": "0RHV-Na5KAwd",
        "outputId": "52f9624b-2a8f-493e-f43f-09aa904510c4"
      },
      "execution_count": 16,
      "outputs": [
        {
          "output_type": "stream",
          "name": "stdout",
          "text": [
            "One-vs-One Logistic Regression Accuracy: 0.9561\n"
          ]
        }
      ]
    },
    {
      "cell_type": "markdown",
      "source": [
        "####11. Write a Python program to train a Logistic Regression model and visualize the confusion matrix for binary classification."
      ],
      "metadata": {
        "id": "js_Ido85LC0y"
      }
    },
    {
      "cell_type": "code",
      "source": [
        "from sklearn.datasets import load_breast_cancer\n",
        "\n",
        "data = load_breast_cancer()\n",
        "X = data.data\n",
        "y = data.target\n",
        "\n",
        "X_train, X_test, y_train, y_test = train_test_split(X, y, test_size=0.2, random_state=42)\n",
        "\n",
        "\n",
        "model = LogisticRegression()\n",
        "model.fit(X_train, y_train)\n",
        "\n",
        "# Predict and evaluate\n",
        "y_pred = model.predict(X_test)\n",
        "accuracy = accuracy_score(y_test, y_pred)\n",
        "\n",
        "# Output results\n",
        "print(f\"Multiclass Logistic Regression (OvR) Accuracy: {accuracy:.2f}\")\n",
        "\n",
        "import seaborn as sns\n",
        "import matplotlib.pyplot as plt\n",
        "from sklearn.metrics import confusion_matrix\n",
        "\n",
        "cm = confusion_matrix(y_test, y_pred)\n",
        "plt.figure(figsize=(6, 6))\n",
        "sns.heatmap(cm, annot=True, fmt='d', cmap='Blues')\n",
        "plt.xlabel('Predicted Label')\n",
        "plt.ylabel('True Label')\n",
        "plt.title('Confusion Matrix - One-vs-One Logistic Regression')\n",
        "plt.tight_layout()\n",
        "plt.show()\n"
      ],
      "metadata": {
        "colab": {
          "base_uri": "https://localhost:8080/",
          "height": 625
        },
        "id": "xyhp-iEPKjhP",
        "outputId": "db346f66-2817-4c29-8b08-e878c588035c"
      },
      "execution_count": 17,
      "outputs": [
        {
          "output_type": "stream",
          "name": "stdout",
          "text": [
            "Multiclass Logistic Regression (OvR) Accuracy: 0.96\n"
          ]
        },
        {
          "output_type": "display_data",
          "data": {
            "text/plain": [
              "<Figure size 600x600 with 2 Axes>"
            ],
            "image/png": "[encoded data removed]"
          },
          "metadata": {}
        }
      ]
    },
    {
      "cell_type": "markdown",
      "source": [
        "####12. Write a Python program to train a Logistic Regression model and evaluate its performance using Precision, Recall, and F1-Score."
      ],
      "metadata": {
        "id": "af218aqpMcmd"
      }
    },
    {
      "cell_type": "code",
      "source": [
        "from sklearn.metrics import recall_score, precision_score,f1_score\n",
        "data = load_breast_cancer()\n",
        "X = data.data\n",
        "y = data.target\n",
        "\n",
        "X_train, X_test, y_train, y_test = train_test_split(X, y, test_size=0.2, random_state=42)\n",
        "\n",
        "\n",
        "model = LogisticRegression()\n",
        "model.fit(X_train, y_train)\n",
        "\n",
        "# Predict and evaluate\n",
        "y_pred = model.predict(X_test)\n",
        "\n",
        "recall = recall_score(y_test, y_pred)\n",
        "precision = precision_score(y_test, y_pred)\n",
        "f1_score = f1_score(y_test, y_pred)\n",
        "\n",
        "# Output results\n",
        "print(f\"Multiclass Logistic Regression Percision: {precision:.2f}\")\n",
        "print(f\"Multiclass Logistic Regression recall: {recall:.2f}\")\n",
        "print(f\"Multiclass Logistic Regression f1_score: {f1_score:.2f}\")\n"
      ],
      "metadata": {
        "colab": {
          "base_uri": "https://localhost:8080/"
        },
        "id": "oEk4QuDmL6TC",
        "outputId": "53a4791e-f7af-4cd4-f24b-14b3bc1bc7b2"
      },
      "execution_count": 18,
      "outputs": [
        {
          "output_type": "stream",
          "name": "stdout",
          "text": [
            "Multiclass Logistic Regression Percision: 0.95\n",
            "Multiclass Logistic Regression recall: 0.99\n",
            "Multiclass Logistic Regression f1_score: 0.97\n"
          ]
        }
      ]
    },
    {
      "cell_type": "markdown",
      "source": [
        "####13. Write a Python program to train a Logistic Regression model on imbalanced data and apply class weights to improve model performance."
      ],
      "metadata": {
        "id": "yqvP8fDoNYUq"
      }
    },
    {
      "cell_type": "code",
      "source": [
        "from sklearn.datasets import make_classification\n",
        "from sklearn.metrics import classification_report\n",
        "X,y = make_classification(n_samples = 1000,n_features = 5,n_informative=2,n_redundant=3,n_classes=2,weights = [0.80,0.20],random_state = 42)\n",
        "\n",
        "feature_names = [f'feature_{i}' for i in range(X.shape[1])]\n",
        "df = pd.DataFrame(X, columns=feature_names)\n",
        "df['target'] = y\n",
        "\n",
        "X_train, X_test, y_train, y_test = train_test_split(\n",
        "    df.drop('target', axis=1), df['target'], test_size=0.2, stratify=df['target'], random_state=42)\n",
        "\n",
        "# Training Logistic Regression without class weights\n",
        "model_plain = LogisticRegression(solver='liblinear')\n",
        "model_plain.fit(X_train, y_train)\n",
        "y_pred_plain = model_plain.predict(X_test)\n",
        "\n",
        "# Training Logistic Regression with class weights\n",
        "model_weighted = LogisticRegression(solver='liblinear', class_weight='balanced')\n",
        "model_weighted.fit(X_train, y_train)\n",
        "y_pred_weighted = model_weighted.predict(X_test)\n",
        "\n",
        "# Evaluating both models\n",
        "print(\"\\n--- Without Class Weights ---\")\n",
        "print(confusion_matrix(y_test, y_pred_plain))\n",
        "print(classification_report(y_test, y_pred_plain))\n",
        "\n",
        "print(\"\\n--- With Class Weights ---\")\n",
        "print(confusion_matrix(y_test, y_pred_weighted))\n",
        "print(classification_report(y_test, y_pred_weighted))"
      ],
      "metadata": {
        "colab": {
          "base_uri": "https://localhost:8080/"
        },
        "id": "GIc2EeAfmIjD",
        "outputId": "acb0e881-e5b2-4537-dd61-bac793ccfb43"
      },
      "execution_count": 19,
      "outputs": [
        {
          "output_type": "stream",
          "name": "stdout",
          "text": [
            "\n",
            "--- Without Class Weights ---\n",
            "[[152   7]\n",
            " [ 11  30]]\n",
            "              precision    recall  f1-score   support\n",
            "\n",
            "           0       0.93      0.96      0.94       159\n",
            "           1       0.81      0.73      0.77        41\n",
            "\n",
            "    accuracy                           0.91       200\n",
            "   macro avg       0.87      0.84      0.86       200\n",
            "weighted avg       0.91      0.91      0.91       200\n",
            "\n",
            "\n",
            "--- With Class Weights ---\n",
            "[[137  22]\n",
            " [  4  37]]\n",
            "              precision    recall  f1-score   support\n",
            "\n",
            "           0       0.97      0.86      0.91       159\n",
            "           1       0.63      0.90      0.74        41\n",
            "\n",
            "    accuracy                           0.87       200\n",
            "   macro avg       0.80      0.88      0.83       200\n",
            "weighted avg       0.90      0.87      0.88       200\n",
            "\n"
          ]
        }
      ]
    },
    {
      "cell_type": "markdown",
      "source": [
        "####14. Write a Python program to train Logistic Regression on the Titanic dataset, handle missing values, and evaluate performance."
      ],
      "metadata": {
        "id": "hmrQpo9PnWYS"
      }
    },
    {
      "cell_type": "code",
      "source": [
        "from sklearn.preprocessing import LabelEncoder\n",
        "\n",
        "# 1. Load Titanic dataset\n",
        "df = sns.load_dataset('titanic')\n",
        "\n",
        "# Selecting relevant columns\n",
        "df = df[['survived', 'pclass', 'sex', 'age', 'sibsp', 'parch', 'fare', 'embarked']]\n",
        "\n",
        "# Handling missing values\n",
        "df['age'].fillna(df['age'].median(), inplace=True)\n",
        "df['embarked'].fillna(df['embarked'].mode()[0], inplace=True)\n",
        "\n",
        "# Encoding categorical features\n",
        "le_sex = LabelEncoder()\n",
        "le_embarked = LabelEncoder()\n",
        "df['sex'] = le_sex.fit_transform(df['sex'])\n",
        "df['embarked'] = le_embarked.fit_transform(df['embarked'])\n",
        "\n",
        "# 5. Split into features and target and into train-test pairs\n",
        "X = df.drop('survived', axis=1)\n",
        "y = df['survived']\n",
        "\n",
        "X_train, X_test, y_train, y_test = train_test_split(X, y, test_size=0.2, random_state=42)\n",
        "\n",
        "# Training Logistic Regression model\n",
        "model = LogisticRegression(max_iter=1000)\n",
        "model.fit(X_train, y_train)\n",
        "\n",
        "# Predicting the test set and evaluating\n",
        "y_pred = model.predict(X_test)\n",
        "\n",
        "print(\"Accuracy:\", accuracy_score(y_test, y_pred))\n",
        "print(\"\\nClassification Report:\\n\", classification_report(y_test, y_pred))"
      ],
      "metadata": {
        "colab": {
          "base_uri": "https://localhost:8080/"
        },
        "id": "nQqonQFPn2o5",
        "outputId": "e702edc8-0913-4dd4-a49a-05da4d2a0185"
      },
      "execution_count": 24,
      "outputs": [
        {
          "output_type": "stream",
          "name": "stdout",
          "text": [
            "Accuracy: 0.8100558659217877\n",
            "\n",
            "Classification Report:\n",
            "               precision    recall  f1-score   support\n",
            "\n",
            "           0       0.83      0.86      0.84       105\n",
            "           1       0.79      0.74      0.76        74\n",
            "\n",
            "    accuracy                           0.81       179\n",
            "   macro avg       0.81      0.80      0.80       179\n",
            "weighted avg       0.81      0.81      0.81       179\n",
            "\n"
          ]
        }
      ]
    },
    {
      "cell_type": "markdown",
      "source": [
        "#We will work with Titanic dataset in following questions, unless otherwise stated.#"
      ],
      "metadata": {
        "id": "v8KLgDXOmzSd"
      }
    },
    {
      "cell_type": "markdown",
      "source": [
        "####15. Write a Python program to apply feature scaling (Standardization) before training a Logistic Regression model. Evaluate its accuracy and compare results with and without scaling."
      ],
      "metadata": {
        "id": "FqcWlyl5ihle"
      }
    },
    {
      "cell_type": "code",
      "source": [
        "from sklearn.preprocessing import LabelEncoder, StandardScaler\n",
        "\n",
        "# Encode categorical features\n",
        "le_sex = LabelEncoder()\n",
        "le_embarked = LabelEncoder()\n",
        "df['sex'] = le_sex.fit_transform(df['sex'])\n",
        "df['embarked'] = le_embarked.fit_transform(df['embarked'])\n",
        "\n",
        "# Define features and target and train-test split pair\n",
        "X = df.drop('survived', axis=1)\n",
        "y = df['survived']\n",
        "X_train, X_test, y_train, y_test = train_test_split(X, y, test_size=0.2, random_state=42)\n",
        "\n",
        "# Model WITHOUT scaling\n",
        "model_plain = LogisticRegression(max_iter=1000)\n",
        "model_plain.fit(X_train, y_train)\n",
        "y_pred_plain = model_plain.predict(X_test)\n",
        "\n",
        "print(\"Without Scaling\")\n",
        "print(\"Accuracy:\", accuracy_score(y_test, y_pred_plain))\n",
        "print(classification_report(y_test, y_pred_plain))\n",
        "\n",
        "# Model WITH StandardScaler (Z-score scaling)\n",
        "scaler = StandardScaler()\n",
        "X_train_scaled = scaler.fit_transform(X_train)\n",
        "X_test_scaled = scaler.transform(X_test)\n",
        "\n",
        "model_scaled = LogisticRegression(max_iter=1000)\n",
        "model_scaled.fit(X_train_scaled, y_train)\n",
        "y_pred_scaled = model_scaled.predict(X_test_scaled)\n",
        "\n",
        "print(\"With StandardScaler\")\n",
        "print(\"Accuracy:\", accuracy_score(y_test, y_pred_scaled))\n",
        "print(classification_report(y_test, y_pred_scaled))"
      ],
      "metadata": {
        "colab": {
          "base_uri": "https://localhost:8080/"
        },
        "id": "CEIhpTBqn6oY",
        "outputId": "380f3461-084a-42ae-9dec-3f1e10a269b6"
      },
      "execution_count": 27,
      "outputs": [
        {
          "output_type": "stream",
          "name": "stdout",
          "text": [
            "Without Scaling\n",
            "Accuracy: 0.8100558659217877\n",
            "              precision    recall  f1-score   support\n",
            "\n",
            "           0       0.83      0.86      0.84       105\n",
            "           1       0.79      0.74      0.76        74\n",
            "\n",
            "    accuracy                           0.81       179\n",
            "   macro avg       0.81      0.80      0.80       179\n",
            "weighted avg       0.81      0.81      0.81       179\n",
            "\n",
            "With StandardScaler\n",
            "Accuracy: 0.8044692737430168\n",
            "              precision    recall  f1-score   support\n",
            "\n",
            "           0       0.82      0.86      0.84       105\n",
            "           1       0.78      0.73      0.76        74\n",
            "\n",
            "    accuracy                           0.80       179\n",
            "   macro avg       0.80      0.79      0.80       179\n",
            "weighted avg       0.80      0.80      0.80       179\n",
            "\n"
          ]
        }
      ]
    },
    {
      "cell_type": "markdown",
      "source": [
        "####16. Write a Python program to train Logistic Regression and evaluate its performance using ROC-AUC score."
      ],
      "metadata": {
        "id": "RGx0L66Vjg3S"
      }
    },
    {
      "cell_type": "code",
      "source": [
        "from sklearn.metrics import roc_auc_score\n",
        "\n",
        "model = LogisticRegression(max_iter=1000)\n",
        "model.fit(X_train, y_train)\n",
        "\n",
        "# Predicting probabilities for ROC curve\n",
        "y_probs = model.predict_proba(X_test)[:, 1]\n",
        "\n",
        "# Compute ROC-AUC score\n",
        "roc_auc = roc_auc_score(y_test, y_probs)\n",
        "print(\"ROC-AUC Score:\", roc_auc)"
      ],
      "metadata": {
        "colab": {
          "base_uri": "https://localhost:8080/"
        },
        "id": "ZtLWTF0-i9uD",
        "outputId": "8ac2147b-c878-4dee-d9ed-ec58dadfe85c"
      },
      "execution_count": 30,
      "outputs": [
        {
          "output_type": "stream",
          "name": "stdout",
          "text": [
            "ROC-AUC Score: 0.8823680823680824\n"
          ]
        }
      ]
    },
    {
      "cell_type": "markdown",
      "source": [
        "####17. Write a Python program to train Logistic Regression using a custom learning rate (C=0.5) and evaluate accuracy."
      ],
      "metadata": {
        "id": "Dg9ZGxLZj9kX"
      }
    },
    {
      "cell_type": "code",
      "source": [
        "X_train, X_test, y_train, y_test = train_test_split(X, y, test_size=0.2, random_state=42)\n",
        "\n",
        "# Training Logistic Regression model\n",
        "model = LogisticRegression(C=0.5)\n",
        "model.fit(X_train, y_train)\n",
        "\n",
        "# Predicting the test set and evaluating\n",
        "y_pred = model.predict(X_test)\n",
        "\n",
        "print(\"Accuracy:\", accuracy_score(y_test, y_pred))"
      ],
      "metadata": {
        "colab": {
          "base_uri": "https://localhost:8080/"
        },
        "id": "4tnT-JBKjt1X",
        "outputId": "21ca635b-f6fb-429a-d5f0-b842c237e94c"
      },
      "execution_count": 31,
      "outputs": [
        {
          "output_type": "stream",
          "name": "stdout",
          "text": [
            "Accuracy: 0.8100558659217877\n"
          ]
        }
      ]
    },
    {
      "cell_type": "markdown",
      "source": [
        "####18. Write a Python program to train Logistic Regression and identify important features based on model coefficients."
      ],
      "metadata": {
        "id": "h-OCEU8WkdEF"
      }
    },
    {
      "cell_type": "code",
      "source": [
        "model = LogisticRegression(C=0.5, max_iter=1000)\n",
        "model.fit(X_train, y_train)\n",
        "\n",
        "y_pred = model.predict(X_test)\n",
        "print(\"Accuracy:\", accuracy_score(y_test, y_pred))\n",
        "\n",
        "\n",
        "coefficients = model.coef_[0]\n",
        "feature_names = X.columns\n",
        "feature_importance = pd.DataFrame({\n",
        "    'Feature': feature_names,\n",
        "    'Coefficient': coefficients,\n",
        "    'Abs_Coefficient': np.abs(coefficients)\n",
        "}).sort_values(by='Abs_Coefficient', ascending=False)\n",
        "\n",
        "print(\"\\nImportant Features (based on absolute coefficient values):\")\n",
        "print(feature_importance[['Feature', 'Coefficient']])"
      ],
      "metadata": {
        "colab": {
          "base_uri": "https://localhost:8080/"
        },
        "id": "9JcYYRI_kZ1v",
        "outputId": "b97d80cc-f0bd-4c0f-c8d9-f2c7c17f157c"
      },
      "execution_count": 32,
      "outputs": [
        {
          "output_type": "stream",
          "name": "stdout",
          "text": [
            "Accuracy: 0.8100558659217877\n",
            "\n",
            "Important Features (based on absolute coefficient values):\n",
            "    Feature  Coefficient\n",
            "1       sex    -2.482772\n",
            "0    pclass    -0.898465\n",
            "3     sibsp    -0.285053\n",
            "6  embarked    -0.215236\n",
            "4     parch    -0.097896\n",
            "2       age    -0.029755\n",
            "5      fare     0.002690\n"
          ]
        }
      ]
    },
    {
      "cell_type": "markdown",
      "source": [
        "####19. Write a Python program to train Logistic Regression and evaluate its performance using Cohen’s Kappa Score."
      ],
      "metadata": {
        "id": "9rWXveOflCab"
      }
    },
    {
      "cell_type": "code",
      "source": [
        "from sklearn.metrics import cohen_kappa_score\n",
        "\n",
        "model = LogisticRegression(max_iter=1000)\n",
        "model.fit(X_train, y_train)\n",
        "y_pred = model.predict(X_test)\n",
        "\n",
        "kappa = cohen_kappa_score(y_test, y_pred)\n",
        "print(\"Cohen's Kappa Score:\", kappa)"
      ],
      "metadata": {
        "colab": {
          "base_uri": "https://localhost:8080/"
        },
        "id": "lQgLzjxYk2BX",
        "outputId": "181029ef-35aa-43f3-aad6-e62caa144451"
      },
      "execution_count": 33,
      "outputs": [
        {
          "output_type": "stream",
          "name": "stdout",
          "text": [
            "Accuracy: 0.8100558659217877\n",
            "Cohen's Kappa Score: 0.605215360664245\n"
          ]
        }
      ]
    },
    {
      "cell_type": "markdown",
      "source": [
        "####20. Write a Python program to train Logistic Regression and visualize the Precision-Recall Curve for binary classification."
      ],
      "metadata": {
        "id": "pJ_Ggcy5lZSK"
      }
    },
    {
      "cell_type": "code",
      "source": [
        "from sklearn.metrics import precision_recall_curve, average_precision_score\n",
        "import matplotlib.pyplot as plt\n",
        "\n",
        "model = LogisticRegression(max_iter=1000)\n",
        "model.fit(X_train, y_train)\n",
        "\n",
        "\n",
        "y_scores = model.predict_proba(X_test)[:, 1]\n",
        "\n",
        "\n",
        "precision, recall, thresholds = precision_recall_curve(y_test, y_scores)\n",
        "\n",
        "avg_precision = average_precision_score(y_test, y_scores)\n",
        "\n",
        "# Plotting\n",
        "plt.figure(figsize=(8, 6))\n",
        "plt.plot(recall, precision, label=f'AP = {avg_precision:.2f}')\n",
        "plt.xlabel('Recall')\n",
        "plt.ylabel('Precision')\n",
        "plt.title('Precision-Recall Curve')\n",
        "plt.legend()\n",
        "plt.grid(True)\n",
        "plt.show()"
      ],
      "metadata": {
        "colab": {
          "base_uri": "https://localhost:8080/",
          "height": 564
        },
        "id": "XK1eHsUIlN_G",
        "outputId": "bb74a36c-ce68-48c2-fd26-a7e6e00ecbb7"
      },
      "execution_count": 34,
      "outputs": [
        {
          "output_type": "display_data",
          "data": {
            "text/plain": [
              "<Figure size 800x600 with 1 Axes>"
            ],
            "image/png": "[encoded data removed]"
          },
          "metadata": {}
        }
      ]
    },
    {
      "cell_type": "markdown",
      "source": [
        "####21. Write a Python program to train Logistic Regression with different solvers (liblinear, saga, lbfgs) and compare their accuracy."
      ],
      "metadata": {
        "id": "WFxsbW8Wlu7Z"
      }
    },
    {
      "cell_type": "code",
      "source": [
        "solvers = ['liblinear', 'saga', 'lbfgs']\n",
        "\n",
        "results = {}\n",
        "for solver in solvers:\n",
        "    model = LogisticRegression(solver=solver, max_iter=1000)\n",
        "    model.fit(X_train, y_train)\n",
        "    y_pred = model.predict(X_test)\n",
        "    acc = accuracy_score(y_test, y_pred)\n",
        "    results[solver] = acc\n",
        "\n",
        "# Print results\n",
        "print(\"Accuracy by solver:\")\n",
        "for solver, acc in results.items():\n",
        "    print(f\"{solver}: {acc:.4f}\")"
      ],
      "metadata": {
        "colab": {
          "base_uri": "https://localhost:8080/"
        },
        "id": "XaSM1PpalrNS",
        "outputId": "d87d799e-166b-44f1-ca55-8b0556442131"
      },
      "execution_count": 35,
      "outputs": [
        {
          "output_type": "stream",
          "name": "stdout",
          "text": [
            "Accuracy by solver:\n",
            "liblinear: 0.7821\n",
            "saga: 0.7095\n",
            "lbfgs: 0.8101\n"
          ]
        }
      ]
    },
    {
      "cell_type": "markdown",
      "source": [
        "####22. Write a Python program to train Logistic Regression and evaluate its performance using Matthews Correlation Coefficient (MCC)."
      ],
      "metadata": {
        "id": "ln-BYD_umBY2"
      }
    },
    {
      "cell_type": "code",
      "source": [
        "from sklearn.metrics import matthews_corrcoef\n",
        "\n",
        "model = LogisticRegression(max_iter=1000)\n",
        "model.fit(X_train, y_train)\n",
        "\n",
        "# Predict\n",
        "y_pred = model.predict(X_test)\n",
        "\n",
        "# Evaluate\n",
        "mcc = matthews_corrcoef(y_test, y_pred)\n",
        "\n",
        "print(\"Matthews Correlation Coefficient (MCC):\", mcc)"
      ],
      "metadata": {
        "colab": {
          "base_uri": "https://localhost:8080/"
        },
        "id": "Z76c5vS6l9Iv",
        "outputId": "846ffb38-efa3-4476-a6fc-335a55dff9bc"
      },
      "execution_count": 36,
      "outputs": [
        {
          "output_type": "stream",
          "name": "stdout",
          "text": [
            "Matthews Correlation Coefficient (MCC): 0.6058691922784846\n"
          ]
        }
      ]
    },
    {
      "cell_type": "markdown",
      "source": [
        "####23. Write a Python program to train Logistic Regression on both raw and standardized data. Compare their accuracy to see the impact of feature scaling."
      ],
      "metadata": {
        "id": "lrygXt_YmTh3"
      }
    },
    {
      "cell_type": "code",
      "source": [
        "df = sns.load_dataset('titanic')\n",
        "df = df[['survived', 'pclass', 'sex', 'age', 'sibsp', 'parch', 'fare', 'embarked']]\n",
        "df['age'].fillna(df['age'].median(), inplace=True)\n",
        "df['embarked'].fillna(df['embarked'].mode()[0], inplace=True)\n",
        "df['sex'] = LabelEncoder().fit_transform(df['sex'])\n",
        "df['embarked'] = LabelEncoder().fit_transform(df['embarked'])\n",
        "\n",
        "X = df.drop('survived', axis=1)\n",
        "y = df['survived']\n",
        "X_train, X_test, y_train, y_test = train_test_split(X, y, test_size=0.2, random_state=42)\n",
        "\n",
        "model_raw = LogisticRegression(max_iter=1000)\n",
        "model_raw.fit(X_train, y_train)\n",
        "y_pred_raw = model_raw.predict(X_test)\n",
        "accuracy_raw = accuracy_score(y_test, y_pred_raw)\n",
        "\n",
        "scaler = StandardScaler()\n",
        "X_train_scaled = scaler.fit_transform(X_train)\n",
        "X_test_scaled = scaler.transform(X_test)\n",
        "\n",
        "model_scaled = LogisticRegression(max_iter=1000)\n",
        "model_scaled.fit(X_train_scaled, y_train)\n",
        "y_pred_scaled = model_scaled.predict(X_test_scaled)\n",
        "accuracy_scaled = accuracy_score(y_test, y_pred_scaled)\n",
        "\n",
        "print(\"Accuracy on raw data: {:.4f}\".format(accuracy_raw))\n",
        "print(\"Accuracy on standardized data: {:.4f}\".format(accuracy_scaled))"
      ],
      "metadata": {
        "colab": {
          "base_uri": "https://localhost:8080/"
        },
        "id": "foE_ti6YmOZS",
        "outputId": "e0b92b38-ff65-4a53-9aa5-daeaf90327a2"
      },
      "execution_count": 37,
      "outputs": [
        {
          "output_type": "stream",
          "name": "stdout",
          "text": [
            "Accuracy on raw data: 0.8101\n",
            "Accuracy on standardized data: 0.8045\n"
          ]
        }
      ]
    },
    {
      "cell_type": "markdown",
      "source": [
        "####24. Write a Python program to train Logistic Regression and find the optimal C (regularization strength) using cross-validation."
      ],
      "metadata": {
        "id": "EcqORKbHnBBt"
      }
    },
    {
      "cell_type": "code",
      "source": [
        "logreg = LogisticRegression(max_iter=1000)\n",
        "\n",
        "param_grid = {'C': [0.01, 0.1, 1, 10, 100]}\n",
        "\n",
        "grid_search = GridSearchCV(logreg, param_grid, cv=5, scoring='accuracy')\n",
        "grid_search.fit(X_train_scaled, y_train)\n",
        "\n",
        "\n",
        "best_model = grid_search.best_estimator_\n",
        "best_C = grid_search.best_params_['C']\n",
        "\n",
        "y_pred = best_model.predict(X_test_scaled)\n",
        "accuracy = accuracy_score(y_test, y_pred)\n",
        "\n",
        "print(f\"Best C: {best_C}\")\n",
        "print(f\"Test set accuracy with best C: {accuracy:.4f}\")"
      ],
      "metadata": {
        "colab": {
          "base_uri": "https://localhost:8080/"
        },
        "id": "HBsqUlQemnBH",
        "outputId": "498ce8e7-67d2-4738-f054-fe4c689a8a96"
      },
      "execution_count": 38,
      "outputs": [
        {
          "output_type": "stream",
          "name": "stdout",
          "text": [
            "Best C: 0.01\n",
            "Test set accuracy with best C: 0.7877\n"
          ]
        }
      ]
    },
    {
      "cell_type": "markdown",
      "source": [
        "####25. Write a Python program to train Logistic Regression, save the trained model using joblib, and load it again to make predictions."
      ],
      "metadata": {
        "id": "q3b9tyJKnRyI"
      }
    },
    {
      "cell_type": "code",
      "source": [
        "import joblib\n",
        "\n",
        "model = LogisticRegression(max_iter=1000)\n",
        "model.fit(X_train_scaled, y_train)\n",
        "\n",
        "joblib.dump(model, 'logistic_model.joblib')\n",
        "joblib.dump(scaler, 'scaler.joblib')\n",
        "\n",
        "loaded_model = joblib.load('logistic_model.joblib')\n",
        "loaded_scaler = joblib.load('scaler.joblib')\n",
        "\n",
        "X_test_scaled_loaded = loaded_scaler.transform(X_test)\n",
        "y_pred = loaded_model.predict(X_test_scaled_loaded)\n",
        "\n",
        "print(\"Accuracy of loaded model:\", accuracy_score(y_test, y_pred))"
      ],
      "metadata": {
        "colab": {
          "base_uri": "https://localhost:8080/"
        },
        "id": "KcCtj4oAnN54",
        "outputId": "7d2480b4-f8f1-4a9b-c4a6-fbb6b68c2fd9"
      },
      "execution_count": 39,
      "outputs": [
        {
          "output_type": "stream",
          "name": "stdout",
          "text": [
            "Accuracy of loaded model: 0.8044692737430168\n"
          ]
        }
      ]
    },
    {
      "cell_type": "code",
      "source": [],
      "metadata": {
        "id": "Vm-tNFrQnhlC"
      },
      "execution_count": null,
      "outputs": []
    }
  ]
}