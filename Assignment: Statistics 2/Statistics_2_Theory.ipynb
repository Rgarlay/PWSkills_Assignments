{
  "nbformat": 4,
  "nbformat_minor": 0,
  "metadata": {
    "colab": {
      "provenance": [],
      "authorship_tag": "ABX9TyOHVCnYYyf3Gj/ZTNjw6HKs",
      "include_colab_link": true
    },
    "kernelspec": {
      "name": "python3",
      "display_name": "Python 3"
    },
    "language_info": {
      "name": "python"
    }
  },
  "cells": [
    {
      "cell_type": "markdown",
      "metadata": {
        "id": "view-in-github",
        "colab_type": "text"
      },
      "source": [
        "<a href=\"https://colab.research.google.com/github/Rgarlay/PWSkills_Assignments/blob/main/Assignment%3A%20Statistics%202/Statistics_2_Theory.ipynb\" target=\"_parent\"><img src=\"https://colab.research.google.com/assets/colab-badge.svg\" alt=\"Open In Colab\"/></a>"
      ]
    },
    {
      "cell_type": "markdown",
      "source": [
        "###1. What is hypothesis testing in statistics?\n",
        "\n",
        "Hypothesis testing is a statistics analysis process, in which we put our test statistic about population to test.\n",
        "\n",
        "It happens in three steps:\n",
        "1. Formulating a null hypothesis about the distribution of sample.\n",
        "2. Using statistical analysis to calculate test statistic.\n",
        "3. Comparing our baseline hypothesis and test statistic and inferring from result.\n"
      ],
      "metadata": {
        "id": "lS5oT07akLBA"
      }
    },
    {
      "cell_type": "code",
      "execution_count": null,
      "metadata": {
        "id": "zIa6Ax6xjjgw"
      },
      "outputs": [],
      "source": []
    },
    {
      "cell_type": "markdown",
      "source": [
        "###2. What is the null hypothesis, and how does it differ from the alternative hypothesis?\n",
        "\n",
        "Null Hypothesis:- It is the baseline statement/statistic that we formulate about our sample.\n",
        "For example, To calculate mean salary of 5 employees working in IT firm, we can formulate a baseline value of $ 5000.\n",
        "\n",
        "Our null hypothesis will be that mean of their salary is equal to $ 5000.\n",
        "\n",
        "Alternative Hypothesis will be that our average salary is not equal to $ 5000. It states that test statistic is different or extreme enough, to infer that variation is not random or by chance and is statistically significant.\n"
      ],
      "metadata": {
        "id": "7pAfKc9Uke6D"
      }
    },
    {
      "cell_type": "code",
      "source": [],
      "metadata": {
        "id": "h_-9eN0-kuyu"
      },
      "execution_count": null,
      "outputs": []
    },
    {
      "cell_type": "markdown",
      "source": [
        "###3. What is the significance level in hypothesis testing, and why is it important?\n",
        "\n",
        "Significance level in hypothesis testing sets a threshold value for p-value, below which our test statistic will be enough statically significant. This will be enough evidence to reject our null hypothesis.\n",
        "\n",
        "For most cases, it is taken 0.05 or 5% meaning p-value blow 0.05 will be enough evidence that our null hypothesis is false and we can reject it.\n"
      ],
      "metadata": {
        "id": "EXz9wVv4kxkl"
      }
    },
    {
      "cell_type": "code",
      "source": [],
      "metadata": {
        "id": "ATHvyoVokz63"
      },
      "execution_count": null,
      "outputs": []
    },
    {
      "cell_type": "markdown",
      "source": [
        "###4. What does a P-value represent in hypothesis testing?\n",
        "\n",
        "P-value or probability value describes the probability that the test statistic falls under null hypothesis and any variation is due to randomness.\n"
      ],
      "metadata": {
        "id": "pZwHhSBBk2LS"
      }
    },
    {
      "cell_type": "code",
      "source": [],
      "metadata": {
        "id": "qYCpMNWZk3ic"
      },
      "execution_count": null,
      "outputs": []
    },
    {
      "cell_type": "markdown",
      "source": [
        "###5. How do you interpret the P-value in hypothesis testing?\n",
        "\n",
        "A high p-value is strong evidence to favor null hypothesis and not reject it, as our test statistic is same as our initial baseline value.\n",
        "\n",
        "A low p-value is strong evidence against null hypothesis and allows us to reject it with confidence. This signals that difference in our baseline statistic and test statistic is statistically significant and is not random.\n"
      ],
      "metadata": {
        "id": "shXL443Ak6A3"
      }
    },
    {
      "cell_type": "code",
      "source": [],
      "metadata": {
        "id": "BWYmr0Bek7fs"
      },
      "execution_count": null,
      "outputs": []
    },
    {
      "cell_type": "markdown",
      "source": [
        "###6. What are Type 1 and Type 2 errors in hypothesis testing?\n",
        "\n",
        "Type 1 error is when we reject the null hypothesis when it is false.\n",
        "It is also called False Positive, as we falsly adapt to alternate hypothesis.\n",
        "For example, convicting an innocent person will be type 1 error.\n",
        "\n",
        "Type 2 error is when we fail to reject the null hypothesis when it is actually false.\n",
        "It is also called False negative, as we falsly latch onto null hypothesis when it is wrong.\n",
        "For example, pardoning a guilty person is type 2 error.\n"
      ],
      "metadata": {
        "id": "DcqZuD8bk91H"
      }
    },
    {
      "cell_type": "code",
      "source": [],
      "metadata": {
        "id": "yuukx9X0k-om"
      },
      "execution_count": null,
      "outputs": []
    },
    {
      "cell_type": "markdown",
      "source": [
        "###7. What is the difference between a one-tailed and a two-tailed test in hypothesis testing?\n",
        "\n",
        "One tail test in hypothesis testing is used when alternate hypothesis has directional preference and is confident of evidence against other side.\n",
        "For example, a pharmaceutical company, making a drug, that they’re certain will help shrink tumor is lesser time will be one-tail test.\n",
        "\n",
        "Two tail test, when there’s no directional preference to alternate hypothesis and we inspect on both side of mean to find the variation.\n",
        "For example, same company making a drug and tests whether it eases or delays the recovery process from disease will be a two tail test.\n"
      ],
      "metadata": {
        "id": "e2V9k5lZlBDJ"
      }
    },
    {
      "cell_type": "code",
      "source": [],
      "metadata": {
        "id": "AbRq3KaLlCcR"
      },
      "execution_count": null,
      "outputs": []
    },
    {
      "cell_type": "markdown",
      "source": [
        "###8. What is the Z-test, and when is it used in hypothesis testing?\n",
        "\n",
        "Z-test is a method for hypothesis testing. It is used to compare the mean of sample distribution with the population mean.\n",
        "It is used data is normally distributed, number of samples are sufficient (>=30) and standard deviation of population is given and data is continuously distributed.\n"
      ],
      "metadata": {
        "id": "k-If_OkSlEjX"
      }
    },
    {
      "cell_type": "code",
      "source": [],
      "metadata": {
        "id": "h1KqHvMulFbj"
      },
      "execution_count": null,
      "outputs": []
    },
    {
      "cell_type": "markdown",
      "source": [
        "###9. How do you calculate the Z-score, and what does it represent in hypothesis testing?\n",
        "\n",
        "To calculate Z-score, we can apply following transformation:\n",
        "\n",
        "\tZ-score = (x- µ)/б\n",
        "\n",
        "Z-score calculates the variation of a data point ‘x’ from the mean value ‘µ’.\n"
      ],
      "metadata": {
        "id": "Wb_Ui8JblHOC"
      }
    },
    {
      "cell_type": "code",
      "source": [],
      "metadata": {
        "id": "oEP_fsLYlIjf"
      },
      "execution_count": null,
      "outputs": []
    },
    {
      "cell_type": "markdown",
      "source": [
        "###10. What is the T-distribution, and when should it be used instead of the normal distribution?\n",
        "\n",
        "Ans: - T-distribution is a probability distribution that is similar to normal distribution. It has thicker tails and is used instead of normal distribution when the number of datapoints are <= 30 and population variance is not known.\n"
      ],
      "metadata": {
        "id": "Yxw0aUuWlLBk"
      }
    },
    {
      "cell_type": "code",
      "source": [],
      "metadata": {
        "id": "9Cs7Tta9lL6d"
      },
      "execution_count": null,
      "outputs": []
    },
    {
      "cell_type": "markdown",
      "source": [
        "###11. What is the difference between a Z-test and a T-test?\n",
        "\n",
        "Z-test is used when we number of observation is more than 30. In alternative case T-test is used.\n",
        "Z-test is commonly used when we compare sample mean with the mean of the population. However in order to compare means of 2 different sample distributions, we use T-test.\n",
        "\n",
        "Z-test requires us to know population standard deviation in advance.\n",
        "However, in T-test, we usually do not know this. Hence, we use sample standard deviation, which we calculate from the sample itself.\n"
      ],
      "metadata": {
        "id": "71Yu5F7WlOfA"
      }
    },
    {
      "cell_type": "code",
      "source": [],
      "metadata": {
        "id": "mzhpVR-AlPyq"
      },
      "execution_count": null,
      "outputs": []
    },
    {
      "cell_type": "markdown",
      "source": [
        "###12. What is the T-test, and how is it used in hypothesis testing?\n",
        "\n",
        "T-test is a hypothesis testing process, which is used to compare the sample distribution mean of 2 different samples.\n",
        "For example, Let’s take a population of employees in a firm and we are interested in their mean salary.\n",
        "We take 2 independent samples of employees and compute their salary mean. To compare the means, we use T-test.\n",
        "If the p-value of the t-score is less than significance level, then we infer that their t-test is passed and their salary mean actually differs.\n"
      ],
      "metadata": {
        "id": "T5IidBkclSYJ"
      }
    },
    {
      "cell_type": "code",
      "source": [],
      "metadata": {
        "id": "6BTnbdsllTS5"
      },
      "execution_count": null,
      "outputs": []
    },
    {
      "cell_type": "markdown",
      "source": [
        "###13. What is the relationship between Z-test and T-test in hypothesis testing?\n",
        "\n",
        "Z-test and T-test both tests are for comparing the means of the distibutions.\n",
        "The both assume the normality of the distributions.\n",
        "\n",
        "T-distribution is same as Z-distribution, except for heavier tails.\n",
        "Both rely on standardizing the data.\n"
      ],
      "metadata": {
        "id": "c9QA3XUwlWvU"
      }
    },
    {
      "cell_type": "code",
      "source": [],
      "metadata": {
        "id": "fkLCVpjWlYV7"
      },
      "execution_count": null,
      "outputs": []
    },
    {
      "cell_type": "markdown",
      "source": [
        "###14. What is a confidence interval, and how is it used to interpret statistical results?\n",
        "\n",
        "Confidence interval is range of values, derived from the sample data, in which contain the true population parameter within certain confidence.\n",
        "Our estimated value in located exactly in the middle of it.\n",
        "`C.I. =  Estimate ± margin of error`\n",
        "\n",
        "Where margin of error is amount of random sample error and is calculated from test statistic.\n"
      ],
      "metadata": {
        "id": "1CZe-GInlbOs"
      }
    },
    {
      "cell_type": "code",
      "source": [],
      "metadata": {
        "id": "78s3N8Fwlbmz"
      },
      "execution_count": null,
      "outputs": []
    },
    {
      "cell_type": "markdown",
      "source": [
        "###15. What is the margin of error, and how does it affect the confidence interval?\n",
        "\n",
        "It is the maximum expected difference between the calculated parameter and the true population parameter.\n",
        "Margin of error quantifies random sample error that occurs when data is used to characterize a parameter.\n",
        "Poor sampling techniques can increase this random sample error and decrease quality of data.\n",
        "For example, if a drug works 95% ± 3% MOE, it means that true value lies somewhere between 92 to 98.\n",
        "\n",
        "\n"
      ],
      "metadata": {
        "id": "wC45uBuQlgVC"
      }
    },
    {
      "cell_type": "code",
      "source": [],
      "metadata": {
        "id": "DarnEaXIllkI"
      },
      "execution_count": null,
      "outputs": []
    },
    {
      "cell_type": "markdown",
      "source": [
        "###16. How is Bayes' Theorem used in statistics, and what is its significance?\n",
        "\n",
        "Bayes theorem is a fundamental theorem in probability and statistics.\n",
        "\n",
        "`P(A│B)=  (P(A)⋅P(├ B┤|A))/P(B)`\n",
        "\n",
        "Bayesian inference is a statistical method where probabilities are updated as more evidence is collected.\n",
        "Example: In medical testing, if a person tests positive for a disease, Bayes’ theorem helps determine the actual probability that they have the disease.\n"
      ],
      "metadata": {
        "id": "Y93QY5IvlmIh"
      }
    },
    {
      "cell_type": "code",
      "source": [],
      "metadata": {
        "id": "HemWrV-ClmdM"
      },
      "execution_count": null,
      "outputs": []
    },
    {
      "cell_type": "markdown",
      "source": [
        "###17. What is the Chi-square distribution, and when is it used?\n",
        "\n",
        "Chi square distribution is pdf distribution that is used in hypothesis testing for categorical variables.\n",
        "Chi squared distribution is the distribution function of sum of square of standard normally distributed variables.\n",
        "It is parameterized by degree of freedom and approximates normal distribution for high dof.\n",
        "It is used for calculating the goodness of fit and the independence of 2 variable.\n",
        "\n",
        "`Dof = (row number - 1)* (column number -1)`\n",
        "\n",
        "Goodness of fit:\n",
        "\n",
        "`χ^2= ∑\\frac{(O - E)^2 }{E}`\n",
        "\n",
        "Independence Test:-\n",
        "\n",
        "`χ^2= ∑\\frac{(O_{ij} - E_{ij}  )^2 }{E_{ij}}`\n"
      ],
      "metadata": {
        "id": "kgtX-v7wlqjl"
      }
    },
    {
      "cell_type": "code",
      "source": [],
      "metadata": {
        "id": "jM1IsUD_lxaa"
      },
      "execution_count": null,
      "outputs": []
    },
    {
      "cell_type": "markdown",
      "source": [
        "###18. What is the Chi-square goodness of fit test, and how is it applied?\n",
        "\n",
        "Chi squared goodness of fit test how well our test statistic fit the actual data.\n",
        "To calculate goodness of fit, we use chi square test:\n",
        "\n",
        "`χ^2= ∑_i[O_i^2-E_i^2 ]/E^2`\n",
        "\n",
        "O = observed values\n",
        "\n",
        "E = Expected values\n",
        "\n",
        "After getting chi squared value, we can compare the corresponding p-value from chi-square table using degree of freedom and significance level. If it is less than significance level, we will call our result, statistically significant and that it does not follow baseline/previous distribution.\n"
      ],
      "metadata": {
        "id": "ZiUxTzo6l0vM"
      }
    },
    {
      "cell_type": "code",
      "source": [],
      "metadata": {
        "id": "NVDQkUfol3oN"
      },
      "execution_count": null,
      "outputs": []
    },
    {
      "cell_type": "markdown",
      "source": [
        "###19. What is the F-distribution, and when is it used in hypothesis testing?\n",
        "\n",
        "F-distribution is a continuous probability distribution function that is used in hypothesis testing. It is used in ANOVA or analysis of variance.\n",
        "When we compare 2 or more independent sample distribution to inspect if any one give test stastic variance is different from rest.\n",
        "\n",
        "\t\tF = variance between samples/ variance within samples\n",
        "\n",
        "For example, assume a pharmaceutical company drops a new drug that reduces the size of cancer cell from different caners.\n",
        "We test it across, breast, bone, lung and brain cancer.\n",
        "If it does not have any affect, then almost all of them will have same mean size change in given timeframe.\n",
        "On contrary, if it has significant affect, then variance of that cancer size will have different distribution across time, indicating that null hypothesis is false.\n"
      ],
      "metadata": {
        "id": "F23n9mftl8x4"
      }
    },
    {
      "cell_type": "code",
      "source": [],
      "metadata": {
        "id": "VYsLpkbDl9s9"
      },
      "execution_count": null,
      "outputs": []
    },
    {
      "cell_type": "markdown",
      "source": [
        "###20. What is an ANOVA test, and what are its assumptions?\n",
        "\n",
        "ANOVA is analysis of variance. It is used in quantifying whether variance across different samples changes under null hypothesis.\n",
        "\n",
        "Assumptions:-\n",
        "\n",
        "Test samples are independent.\n",
        "\n",
        "Errors are normally distributed.\n",
        "\n",
        "Outliers absence.\n",
        "\n",
        "Homoscedasticity.\n"
      ],
      "metadata": {
        "id": "S16ikRv5l_8Z"
      }
    },
    {
      "cell_type": "code",
      "source": [],
      "metadata": {
        "id": "IkzFu9xpmARX"
      },
      "execution_count": null,
      "outputs": []
    },
    {
      "cell_type": "markdown",
      "source": [
        "###21. What are the different types of ANOVA tests?\n",
        "\n",
        "3 types of ANOVA: -\n",
        "One way ANOVA: - We have at least 1factor with 2 independent levels.\n",
        "For example, for ‘medicine effect’(factor) testing ,we will have 2 different concentrations 10mg and 100mg.\n",
        "\n",
        "Repeated measure ANOVA:- We have at least 1 factor, with at least 2 dependent variables.\n",
        "\n",
        "For example, ‘activity in gym’(factor) during week from day 1 to day 7(level). Since, as week goes on, the enthusiasm can fall and gym activity can also dip.\n"
      ],
      "metadata": {
        "id": "2GKqFghgmFDV"
      }
    },
    {
      "cell_type": "code",
      "source": [],
      "metadata": {
        "id": "12FfT4h1mFld"
      },
      "execution_count": null,
      "outputs": []
    },
    {
      "cell_type": "markdown",
      "source": [
        "###22. What is the F-test, and how does it relate to hypothesis testing?\n",
        "\n",
        "F-test is ratio of explained variance to unexplained variance.\n",
        "If the variance of one of the independent variables differs from other, F-test value increases.\n",
        "This change is variance is used to compare variances, determine model significance (if independent variable significantly explain the dependent variable) and analyze group difference.\n",
        "\n",
        "F = Regression mean square/ residual mean square (in regression)\n",
        "\n",
        "F = explained variance / unexplained variance (for ANOVA and reg.)\n",
        "\n",
        "F = Variance between group / variance within groups (F-test general def.)\n"
      ],
      "metadata": {
        "id": "bP0zIC_ZmI8C"
      }
    },
    {
      "cell_type": "code",
      "source": [],
      "metadata": {
        "id": "0etl4OPNmKE-"
      },
      "execution_count": null,
      "outputs": []
    }
  ]
}