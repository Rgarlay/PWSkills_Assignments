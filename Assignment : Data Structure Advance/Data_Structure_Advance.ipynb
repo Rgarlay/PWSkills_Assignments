{
  "cells": [
    {
      "cell_type": "markdown",
      "metadata": {
        "id": "view-in-github",
        "colab_type": "text"
      },
      "source": [
        "<a href=\"https://colab.research.google.com/github/Rgarlay/PWSkills_Assignments/blob/main/Assignment%20%3A%20Data%20Structure%20Advance/Data_Structure_Advance.ipynb\" target=\"_parent\"><img src=\"https://colab.research.google.com/assets/colab-badge.svg\" alt=\"Open In Colab\"/></a>"
      ]
    },
    {
      "cell_type": "markdown",
      "metadata": {
        "id": "pTNDCtZiZqPX"
      },
      "source": [
        "#Assignment : Data Structure Advance#"
      ]
    },
    {
      "cell_type": "markdown",
      "source": [
        "###1. Write a code to reverse a string.###"
      ],
      "metadata": {
        "id": "RHd1m7BleglV"
      }
    },
    {
      "cell_type": "code",
      "execution_count": null,
      "metadata": {
        "colab": {
          "base_uri": "https://localhost:8080/"
        },
        "id": "hcacyvEkZfoj",
        "outputId": "cc253877-cdd6-472a-c0e2-98927bcf6399"
      },
      "outputs": [
        {
          "output_type": "stream",
          "name": "stdout",
          "text": [
            "ivar"
          ]
        }
      ],
      "source": [
        "a = 'ravi'\n",
        "for i in range(len(a)-1,-1,-1):\n",
        "  b = a[i]\n",
        "  print(a[i],end=\"\")"
      ]
    },
    {
      "cell_type": "markdown",
      "source": [
        "###2.Write a code to count the number of vowels in a string.###"
      ],
      "metadata": {
        "id": "ZD42g28HfyAv"
      }
    },
    {
      "cell_type": "code",
      "execution_count": null,
      "metadata": {
        "colab": {
          "base_uri": "https://localhost:8080/"
        },
        "id": "7khaEvUVZhPO",
        "outputId": "7e7ec85f-cfb3-4847-d7dd-43b2974aca53"
      },
      "outputs": [
        {
          "output_type": "stream",
          "name": "stdout",
          "text": [
            "17\n"
          ]
        }
      ],
      "source": [
        "a1 = 'Write a code to count the number of vowels in a string'\n",
        "def no_of_vowels(text):\n",
        "  vowels = ('a','e','i','o','u')\n",
        "  b = 0\n",
        "  for i in range(0,len(a1)-1):\n",
        "    if text[i] in vowels:\n",
        "      b = b+1\n",
        "    else:\n",
        "      continue\n",
        "  return print(b)\n",
        "\n",
        "a = no_of_vowels(a1)\n"
      ]
    },
    {
      "cell_type": "markdown",
      "source": [
        "###3. Write a code to check if a given string is a palindrome or not.###"
      ],
      "metadata": {
        "id": "pmwrK7yFtZLP"
      }
    },
    {
      "cell_type": "code",
      "source": [
        "def is_palidrome(text):\n",
        "    text_reversed = text[::-1]\n",
        "    for i, j in zip(range(0, len(text)), range(0, len(text_reversed))):\n",
        "        if text[i]!=text_reversed[j]:\n",
        "           print('It is not palindrome')\n",
        "           break\n",
        "    else:\n",
        "        print('It is palindrome')\n",
        "\n",
        "is_palidrome('hannah')"
      ],
      "metadata": {
        "colab": {
          "base_uri": "https://localhost:8080/"
        },
        "id": "VXC6VlrTifIA",
        "outputId": "18ae7247-1891-4293-a580-2390e90ee7b4"
      },
      "execution_count": null,
      "outputs": [
        {
          "output_type": "stream",
          "name": "stdout",
          "text": [
            "It is palindrome\n"
          ]
        }
      ]
    },
    {
      "cell_type": "markdown",
      "source": [
        "###4.Write a code to check if two given strings are anagrams of each other. ###"
      ],
      "metadata": {
        "id": "-wlIViapt8cn"
      }
    },
    {
      "cell_type": "code",
      "source": [
        "def is_anagram(text1,text2):\n",
        "  if sorted(text1) == sorted(text1):\n",
        "    print('They are anagrams')\n",
        "  else:\n",
        "    print('They are not anagrams')\n",
        "\n",
        "is_anagram('rare','aarare')"
      ],
      "metadata": {
        "colab": {
          "base_uri": "https://localhost:8080/"
        },
        "id": "P9Kc6cFBt8G8",
        "outputId": "d44c43f9-c000-4874-921c-7b209853f1ef"
      },
      "execution_count": null,
      "outputs": [
        {
          "output_type": "stream",
          "name": "stdout",
          "text": [
            "They are anagrams\n"
          ]
        }
      ]
    },
    {
      "cell_type": "markdown",
      "source": [
        "###5. Write a code to find all occurrences of a given substring within another string.###\n",
        "\n",
        "\n"
      ],
      "metadata": {
        "id": "jEuN-95ZtcEb"
      }
    },
    {
      "cell_type": "code",
      "execution_count": null,
      "metadata": {
        "id": "sMN7LccFbqDE",
        "colab": {
          "base_uri": "https://localhost:8080/"
        },
        "outputId": "66532d91-6544-440b-e084-656d47ca1c60"
      },
      "outputs": [
        {
          "output_type": "stream",
          "name": "stdout",
          "text": [
            "True\n"
          ]
        }
      ],
      "source": [
        "def is_substring(main_string,substring):\n",
        "  result = True if all(substring[i] in main_string for i in range(0,len(substring)-1)) else False\n",
        "  return result\n",
        "\n",
        "res = is_substring('rare','aarare')\n",
        "print(res)"
      ]
    },
    {
      "cell_type": "markdown",
      "source": [
        "###6. Write a code to perform basic string compression using the counts of repeated characters.###"
      ],
      "metadata": {
        "id": "5tVYrqujwbqb"
      }
    },
    {
      "cell_type": "code",
      "source": [
        "#STEP 1: Define a random string with repeated words\n",
        "a1 = 'aabccfccbbgbccddd'\n",
        "\n",
        "#STEP2:- seperate and sort all the characters from string\n",
        "a2 = []\n",
        "for i in range(len(a1)):\n",
        "  a2.append(a1[i])\n",
        "a2.sort()\n",
        "print(a2)\n",
        "\n",
        "#Count number of times they duplicate and save them in a dictionary\n",
        "#with keys being characters and values being number of repetitions.\n",
        "b=1\n",
        "c = {}\n",
        "\n",
        "for j in range(1,len(a2)):\n",
        "  if a2[j]== a2[j-1]:\n",
        "    b=b+1\n",
        "  else:\n",
        "    c[a2[j-1]] = b\n",
        "    print(f'{a2[j-1]} appears {b} times')\n",
        "    b=1\n",
        "##To include values that appear only once\n",
        "c[a2[-1]] = b\n",
        "print(f'{a2[-1]} appears {b} times')\n",
        "c\n",
        "##Joining them in {char}{count} format.\n",
        "compressed_string = ''.join(f'{char}{count}' for char, count in c.items())\n",
        "compressed_string"
      ],
      "metadata": {
        "colab": {
          "base_uri": "https://localhost:8080/",
          "height": 183
        },
        "collapsed": true,
        "id": "qfbL14HnxoAz",
        "outputId": "c6c645ac-a47b-4e3b-9c6a-3262403c5bef"
      },
      "execution_count": null,
      "outputs": [
        {
          "output_type": "stream",
          "name": "stdout",
          "text": [
            "['a', 'a', 'b', 'b', 'b', 'b', 'c', 'c', 'c', 'c', 'c', 'c', 'd', 'd', 'd', 'f', 'g']\n",
            "a appears 2 times\n",
            "b appears 4 times\n",
            "c appears 6 times\n",
            "d appears 3 times\n",
            "f appears 1 times\n",
            "g appears 1 times\n"
          ]
        },
        {
          "output_type": "execute_result",
          "data": {
            "text/plain": [
              "'a2b4c6d3f1g1'"
            ],
            "application/vnd.google.colaboratory.intrinsic+json": {
              "type": "string"
            }
          },
          "metadata": {},
          "execution_count": 208
        }
      ]
    },
    {
      "cell_type": "markdown",
      "source": [
        "###7. Write a code to determine if a string has all unique characters.###"
      ],
      "metadata": {
        "id": "cmSrF8k684NX"
      }
    },
    {
      "cell_type": "code",
      "source": [
        "a = 'Rythem'\n",
        "list_1 = []\n",
        "for i in range(len(a)):\n",
        "  list_1.append(a[i])\n",
        "list_1.sort()\n",
        "print(list_1)\n",
        "\n",
        "is_unique = True\n",
        "for j in range(len(list_1)):\n",
        "  if list_1[j] == list_1[j-1]:\n",
        "    is_unique = False\n",
        "    break\n",
        "\n",
        "if is_unique:\n",
        "  print('All characters are unique')\n",
        "else:\n",
        "  print('Not all characters are unique')\n",
        "\n",
        "\n",
        "\n",
        "\n",
        "\n"
      ],
      "metadata": {
        "id": "1k8m1JQ5kGCT",
        "colab": {
          "base_uri": "https://localhost:8080/"
        },
        "outputId": "ffd57172-bd5e-4af0-f6ac-feb7efec0ad1"
      },
      "execution_count": null,
      "outputs": [
        {
          "output_type": "stream",
          "name": "stdout",
          "text": [
            "['R', 'e', 'h', 'm', 't', 'y']\n",
            "All characters are unique\n"
          ]
        }
      ]
    },
    {
      "cell_type": "markdown",
      "source": [
        "###8. Write a code to convert a given string to uppercase or lowercase.###"
      ],
      "metadata": {
        "id": "sTwn4jFPdRx9"
      }
    },
    {
      "cell_type": "code",
      "source": [
        "class upper_or_lower:\n",
        "  def __init__(self,text):\n",
        "    self.text = text\n",
        "  def upper(self):\n",
        "    upper_text = self.text.upper()\n",
        "    return upper_text\n",
        "  def lower(self):\n",
        "    lower_text = self.text.lower()\n",
        "    return lower_text\n",
        "\n",
        "a = 'Write a code to convert a given string to uppercase or lowercase.'\n",
        "b = upper_or_lower(a)\n",
        "print(b.upper())\n",
        "print(b.lower())\n"
      ],
      "metadata": {
        "colab": {
          "base_uri": "https://localhost:8080/"
        },
        "id": "xWjjznS1dRYQ",
        "outputId": "2fd307b8-074f-4550-c064-861140428156"
      },
      "execution_count": null,
      "outputs": [
        {
          "output_type": "stream",
          "name": "stdout",
          "text": [
            "WRITE A CODE TO CONVERT A GIVEN STRING TO UPPERCASE OR LOWERCASE.\n",
            "write a code to convert a given string to uppercase or lowercase.\n"
          ]
        }
      ]
    },
    {
      "cell_type": "markdown",
      "source": [
        "###9. Write a code to count the number of words in a string.###"
      ],
      "metadata": {
        "id": "Kabv6E_yetCO"
      }
    },
    {
      "cell_type": "code",
      "source": [
        "a = 'Write a code to count the number of words in a string.'\n",
        "words_1 = list(a.split())\n",
        "len(words_1)"
      ],
      "metadata": {
        "colab": {
          "base_uri": "https://localhost:8080/"
        },
        "id": "0LWDU9xBgKNd",
        "outputId": "fb090568-b618-44f0-f9c9-426485929494"
      },
      "execution_count": null,
      "outputs": [
        {
          "output_type": "execute_result",
          "data": {
            "text/plain": [
              "12"
            ]
          },
          "metadata": {},
          "execution_count": 62
        }
      ]
    },
    {
      "cell_type": "markdown",
      "source": [
        "###10.Write a code to concatenate two strings without using the + operator.###"
      ],
      "metadata": {
        "id": "G7oNuyRGkoVy"
      }
    },
    {
      "cell_type": "code",
      "source": [
        "a = 'Ravi '\n",
        "b = 'Garlay'\n",
        "c= ''.join([a,b])\n",
        "c"
      ],
      "metadata": {
        "colab": {
          "base_uri": "https://localhost:8080/",
          "height": 36
        },
        "id": "UQycDK1ofEWV",
        "outputId": "a2165fcb-b048-46b9-ba93-796af1353b3b"
      },
      "execution_count": null,
      "outputs": [
        {
          "output_type": "execute_result",
          "data": {
            "text/plain": [
              "'Ravi Garlay'"
            ],
            "application/vnd.google.colaboratory.intrinsic+json": {
              "type": "string"
            }
          },
          "metadata": {},
          "execution_count": 74
        }
      ]
    },
    {
      "cell_type": "markdown",
      "source": [
        "###11. Write a code to remove all occurrences of a specific element from a list.###\n",
        "\n",
        "\n"
      ],
      "metadata": {
        "id": "1QCJudd-maud"
      }
    },
    {
      "cell_type": "code",
      "source": [
        "a1 = ['a', 'b', ',', 'd', ',']\n",
        "\n",
        "def list_without_element(a,remove_word):\n",
        "  b=[]\n",
        "  for i in range(len(a)):\n",
        "    if remove_word != a[i]:\n",
        "      b.append(a[i])\n",
        "  return b\n",
        "\n",
        "a_2 = list_without_element(a = a1,remove_word = ',')\n",
        "a_2\n"
      ],
      "metadata": {
        "colab": {
          "base_uri": "https://localhost:8080/"
        },
        "id": "PEXf9J7rfFEM",
        "outputId": "aed905c9-ae57-4fee-e444-a10a8cf6c488"
      },
      "execution_count": null,
      "outputs": [
        {
          "output_type": "execute_result",
          "data": {
            "text/plain": [
              "['a', 'b', 'd']"
            ]
          },
          "metadata": {},
          "execution_count": 88
        }
      ]
    },
    {
      "cell_type": "markdown",
      "source": [
        "###12.Implement a code to find the second largest number in a given list of integers.###"
      ],
      "metadata": {
        "id": "YUzUbxzZpG0O"
      }
    },
    {
      "cell_type": "code",
      "source": [
        "a = [1,5,8,65,25,100]\n",
        "a1 = [a[i] for i in range(len(a)) if a[i] != max(a)]\n",
        "max(a1)"
      ],
      "metadata": {
        "colab": {
          "base_uri": "https://localhost:8080/"
        },
        "id": "QXpSI8W8pGhN",
        "outputId": "6a8078b4-3c61-4617-9fac-7937b6a6aedc"
      },
      "execution_count": null,
      "outputs": [
        {
          "output_type": "execute_result",
          "data": {
            "text/plain": [
              "65"
            ]
          },
          "metadata": {},
          "execution_count": 110
        }
      ]
    },
    {
      "cell_type": "markdown",
      "source": [
        "##13. Create a code to count the occurrences of each element in a list and return a dictionary with elements as keys and their counts as values.##"
      ],
      "metadata": {
        "id": "QcqRej2zrEGb"
      }
    },
    {
      "cell_type": "code",
      "source": [
        "def count_occurrences(lst):\n",
        "    counts = {}\n",
        "    for element in lst:\n",
        "        if element in counts:\n",
        "            counts[element] += 1\n",
        "        else:\n",
        "            counts[element] = 1\n",
        "    return counts\n",
        "a = ['apple', 'banana', 'apple', 'orange', 'banana', 'apple']\n",
        "print(count_occurrences(a))"
      ],
      "metadata": {
        "colab": {
          "base_uri": "https://localhost:8080/"
        },
        "id": "CKSknG-HnVNr",
        "outputId": "94a4e7a6-2788-4025-867d-2be6bee28f6c"
      },
      "execution_count": null,
      "outputs": [
        {
          "output_type": "stream",
          "name": "stdout",
          "text": [
            "{'apple': 3, 'banana': 2, 'orange': 1}\n"
          ]
        }
      ]
    },
    {
      "cell_type": "markdown",
      "source": [
        "###14.Write a code to reverse a list in-place without using any built-in reverse functions.###"
      ],
      "metadata": {
        "id": "UYh-a9JzwsnD"
      }
    },
    {
      "cell_type": "code",
      "source": [
        "a = [1,5,8,65,25,100]\n",
        "b = []\n",
        "for i in range(len(a)-1,-1,-1):\n",
        "  b.append(a[i])\n",
        "print(b)\n"
      ],
      "metadata": {
        "colab": {
          "base_uri": "https://localhost:8080/"
        },
        "id": "8ahJ1dbusOeR",
        "outputId": "b32255fe-ed69-4a96-e8d3-afd4f06e4e97"
      },
      "execution_count": null,
      "outputs": [
        {
          "output_type": "stream",
          "name": "stdout",
          "text": [
            "[100, 25, 65, 8, 5, 1]\n"
          ]
        }
      ]
    },
    {
      "cell_type": "markdown",
      "source": [
        "###15. Implement a code to find and remove duplicates from a list while preserving the original order of elements.###"
      ],
      "metadata": {
        "id": "Sh7ilH37yxcd"
      }
    },
    {
      "cell_type": "code",
      "source": [
        "a = [4, 3, 5, 6, 4, 3, 8, 9, 10, 5, 7, 8, 11]\n",
        "\n",
        "seen = set()\n",
        "result = []\n",
        "\n",
        "for i in a:\n",
        "    if i not in seen:\n",
        "        result.append(i)\n",
        "        seen.add(i)\n",
        "\n",
        "print(result)"
      ],
      "metadata": {
        "colab": {
          "base_uri": "https://localhost:8080/"
        },
        "id": "1df4Q2ouxBN8",
        "outputId": "fcec5bc1-e7ce-4be2-fb5f-da5409367fbe"
      },
      "execution_count": 143,
      "outputs": [
        {
          "output_type": "stream",
          "name": "stdout",
          "text": [
            "[4, 3, 5, 6, 8, 9, 10, 7, 11]\n"
          ]
        }
      ]
    },
    {
      "cell_type": "markdown",
      "source": [
        "###16.Create a code to check if a given list is sorted (either in ascending or descending order) or not.###"
      ],
      "metadata": {
        "id": "X0uYHCItzvBN"
      }
    },
    {
      "cell_type": "code",
      "source": [
        "a_1 = [1,5,8,65,100]\n",
        "a_2 = [4, 3, 5, 6, 4, 3, 8, 9, 10, 5, 7, 8, 11]\n",
        "\n",
        "class ListSorter:\n",
        "    def __init__(self, list_here):\n",
        "        self.list_here = list_here\n",
        "\n",
        "\n",
        "    def check_ascending(self):\n",
        "        is_sorted = True\n",
        "        for i in range(1, len(self.list_here)):  # start from index 1 to avoid index error\n",
        "            if self.list_here[i] <= self.list_here[i-1]:\n",
        "                is_sorted = False\n",
        "                break\n",
        "\n",
        "        if is_sorted:\n",
        "            print('list is in ascending order')\n",
        "        else:\n",
        "            print('list is not sorted')\n",
        "\n",
        "    def check_descending(self):\n",
        "        is_descending = True\n",
        "        for j in range(1, len(self.list_here)):  # start from index 1 to avoid index error\n",
        "            if self.list_here[j] >= self.list_here[j-1]:\n",
        "                is_descending = False\n",
        "                break\n",
        "\n",
        "        if is_descending:\n",
        "            print('list is in descending order')\n",
        "        else:\n",
        "            print('list is not sorted')\n",
        "\n",
        "\n",
        "abc = ListSorter(a_1)\n",
        "print(abc.check_ascending())"
      ],
      "metadata": {
        "id": "Bw1zB_UtxBHu",
        "colab": {
          "base_uri": "https://localhost:8080/"
        },
        "outputId": "79759691-b056-412e-a27f-0540d255b6f0"
      },
      "execution_count": 156,
      "outputs": [
        {
          "output_type": "stream",
          "name": "stdout",
          "text": [
            "list is in ascending order\n",
            "None\n"
          ]
        }
      ]
    },
    {
      "cell_type": "markdown",
      "source": [
        "###17.  Write a code to merge two sorted lists into a single sorted list.###"
      ],
      "metadata": {
        "id": "6pNy0ANU2LTz"
      }
    },
    {
      "cell_type": "code",
      "source": [
        "a_1 = [1, 5, 8, 65, 100]\n",
        "a_2 = [3, 3, 4, 4, 5, 5, 6, 7, 8, 8, 9, 10, 11]\n",
        "\n",
        "merged_list = a_1 + a_2\n",
        "\n",
        "merged_list.sort()\n",
        "\n",
        "print(merged_list)"
      ],
      "metadata": {
        "colab": {
          "base_uri": "https://localhost:8080/"
        },
        "id": "fNnTpjZd0b9S",
        "outputId": "b32399db-cc00-436f-d7a8-95e48d5bc0d9"
      },
      "execution_count": 180,
      "outputs": [
        {
          "output_type": "stream",
          "name": "stdout",
          "text": [
            "[1, 3, 3, 4, 4, 5, 5, 5, 6, 7, 8, 8, 8, 9, 10, 11, 65, 100]\n"
          ]
        }
      ]
    },
    {
      "cell_type": "markdown",
      "source": [
        "###18. Implement a code to find the intersection of two given lists.###"
      ],
      "metadata": {
        "id": "o0RZ51Ia4TR6"
      }
    },
    {
      "cell_type": "code",
      "source": [
        "a = [1, 2, 3, 4, 5]\n",
        "b = [4, 5, 6, 7, 8]\n",
        "intersection = list(set(a) & set(b))\n",
        "print(intersection)"
      ],
      "metadata": {
        "colab": {
          "base_uri": "https://localhost:8080/"
        },
        "id": "PLJ_kPk43EKl",
        "outputId": "96a4ab5e-d482-4095-a915-59f9d9309e24"
      },
      "execution_count": 182,
      "outputs": [
        {
          "output_type": "stream",
          "name": "stdout",
          "text": [
            "[4, 5]\n"
          ]
        }
      ]
    },
    {
      "cell_type": "markdown",
      "source": [
        "###19. Create a code to find the union of two lists without duplicates.###"
      ],
      "metadata": {
        "id": "T_PnU7GR5JF-"
      }
    },
    {
      "cell_type": "code",
      "source": [
        "a = [1, 2,2 ,5 , 3, 4, 5]\n",
        "b = [4, 5, 6,6 ,9 , 7, 8]\n",
        "\n",
        "union = list(set(a) | set(b))\n",
        "\n",
        "print(union)\n"
      ],
      "metadata": {
        "colab": {
          "base_uri": "https://localhost:8080/"
        },
        "id": "Xa80MklX4ut-",
        "outputId": "e391e4e2-fc07-42a2-c396-af9b1fa5bf13"
      },
      "execution_count": 185,
      "outputs": [
        {
          "output_type": "stream",
          "name": "stdout",
          "text": [
            "[1, 2, 3, 4, 5, 6, 7, 8, 9]\n"
          ]
        }
      ]
    },
    {
      "cell_type": "markdown",
      "source": [
        "###20. Write a code to shuffle a given list randomly without using any built-in shuffle functions."
      ],
      "metadata": {
        "id": "vJEo7z3l5zIk"
      }
    },
    {
      "cell_type": "markdown",
      "source": [
        "### 21. Write a code that takes two tuples as input and returns a new tuple containing elements that are common to both input tuples."
      ],
      "metadata": {
        "id": "s4mO2pUm6y_1"
      }
    },
    {
      "cell_type": "code",
      "source": [
        "tuple1 = (1, 2, 3, 4, 5)\n",
        "tuple2 = (4, 5, 6, 7, 8)\n",
        "\n",
        "tuple3 = tuple(set(tuple1) & set(tuple2))\n",
        "\n",
        "print(tuple3)"
      ],
      "metadata": {
        "colab": {
          "base_uri": "https://localhost:8080/"
        },
        "id": "fsKwZSwQ3rt9",
        "outputId": "d4a3ceed-935f-45d2-a0d6-36297282bf86"
      },
      "execution_count": 191,
      "outputs": [
        {
          "output_type": "stream",
          "name": "stdout",
          "text": [
            "(4, 5)\n"
          ]
        }
      ]
    },
    {
      "cell_type": "markdown",
      "source": [
        "###22. Create a code that prompts the user to enter two sets of integers separated by commas. Then, print the intersection of these two sets."
      ],
      "metadata": {
        "id": "dCMeFlyb9ECo"
      }
    },
    {
      "cell_type": "code",
      "source": [
        "set1 = set(input(\"Enter the first set of integers (comma-separated): \").split(','))\n",
        "set2 = set(input(\"Enter the second set of integers (comma-separated): \").split(','))\n",
        "\n",
        "set1 = {int(i) for i in set1}\n",
        "set2 = {int(i) for i in set2}\n",
        "intersection = set1 & set2\n",
        "\n",
        "print(\"The intersection of the two sets is:\", intersection)"
      ],
      "metadata": {
        "colab": {
          "base_uri": "https://localhost:8080/"
        },
        "id": "GdLs8vP56aid",
        "outputId": "6168a16d-bf1d-4e4e-e89d-7f49adcd61a3"
      },
      "execution_count": 194,
      "outputs": [
        {
          "output_type": "stream",
          "name": "stdout",
          "text": [
            "Enter the first set of integers (comma-separated): 1,2,4,5,6\n",
            "Enter the second set of integers (comma-separated): 1,4,6\n",
            "The intersection of the two sets is: {1, 4, 6}\n"
          ]
        }
      ]
    },
    {
      "cell_type": "markdown",
      "source": [
        "###23. Write a code to concatenate two tuples. The function should take two tuples as input and return a new tuple containing elements from both input tuples."
      ],
      "metadata": {
        "id": "tZcxkfIb9wT7"
      }
    },
    {
      "cell_type": "code",
      "source": [
        "tuple1 = (1, 2, 3, 4, 5)\n",
        "tuple2 = (4, 5, 6, 7, 8)\n",
        "\n",
        "tuple3 = tuple(list(tuple1) + list(tuple2))\n",
        "tuple3"
      ],
      "metadata": {
        "colab": {
          "base_uri": "https://localhost:8080/"
        },
        "id": "Z6yv79Qz9UKV",
        "outputId": "277eefe9-28dc-4e90-ac12-a3e4782c01f9"
      },
      "execution_count": 196,
      "outputs": [
        {
          "output_type": "execute_result",
          "data": {
            "text/plain": [
              "(1, 2, 3, 4, 5, 4, 5, 6, 7, 8)"
            ]
          },
          "metadata": {},
          "execution_count": 196
        }
      ]
    },
    {
      "cell_type": "markdown",
      "source": [
        "### 24. Develop a code that prompts the user to input two sets of strings. Then, print the elements that are present in the first set but not in the second set."
      ],
      "metadata": {
        "id": "idszXgzX-JFa"
      }
    },
    {
      "cell_type": "code",
      "source": [
        "string1 = str(input('Enter first string:'))\n",
        "string2 = str(input('Enter second string:'))\n",
        "\n",
        "print(string1)"
      ],
      "metadata": {
        "colab": {
          "base_uri": "https://localhost:8080/"
        },
        "id": "SVKLKh85-FRv",
        "outputId": "1f08bd58-ff47-4e52-9db2-799c17912e52"
      },
      "execution_count": 197,
      "outputs": [
        {
          "output_type": "stream",
          "name": "stdout",
          "text": [
            "Enter first string:I am Ravi\n",
            "Enter second string:I am Masters passout\n",
            "I am Ravi\n"
          ]
        }
      ]
    },
    {
      "cell_type": "markdown",
      "source": [
        "### 25. Create a code that takes a tuple and two integers as input. The function should return a new tuple containing elements from the original tuple within the specified range of indices."
      ],
      "metadata": {
        "id": "AS6C4t2Y-qiO"
      }
    },
    {
      "cell_type": "code",
      "source": [
        "tuple_input = tuple(input(\"Enter the tuple elements (comma-separated): \").split(','))\n",
        "start_index = int(input(\"Enter the starting index: \"))\n",
        "end_index = int(input(\"Enter the ending index: \"))\n",
        "\n",
        "\n",
        "new_tuple = tuple_input[start_index:end_index+1]\n",
        "\n",
        "print(\"The new tuple is:\", new_tuple)\n",
        "\n"
      ],
      "metadata": {
        "colab": {
          "base_uri": "https://localhost:8080/"
        },
        "id": "zPCYjIj4-kPX",
        "outputId": "043963f2-3740-4885-b504-1214b71e2d69"
      },
      "execution_count": 198,
      "outputs": [
        {
          "output_type": "stream",
          "name": "stdout",
          "text": [
            "Enter the tuple elements (comma-separated): 1,2,4,5,6,7,8,9\n",
            "Enter the starting index: 1\n",
            "Enter the ending index: 5\n",
            "The new tuple is: ('2', '4', '5', '6', '7')\n"
          ]
        }
      ]
    },
    {
      "cell_type": "markdown",
      "source": [
        "###26. Write a code that prompts the user to input two sets of characters. Then, print the union of these two sets."
      ],
      "metadata": {
        "id": "iZI_V9gkCXQv"
      }
    },
    {
      "cell_type": "code",
      "source": [
        "set1 = set(input(\"Enter the first set of characters: \"))\n",
        "set2 = set(input(\"Enter the second set of characters: \"))\n",
        "\n",
        "union = set1 | set2\n",
        "print(\"The union of the two sets is:\", union)"
      ],
      "metadata": {
        "colab": {
          "base_uri": "https://localhost:8080/"
        },
        "id": "lkypt3utCMdl",
        "outputId": "2a581180-c69f-4fb5-8566-f80af1afd9ce"
      },
      "execution_count": 199,
      "outputs": [
        {
          "output_type": "stream",
          "name": "stdout",
          "text": [
            "Enter the first set of characters: abc\n",
            "Enter the second set of characters: bdf\n",
            "The union of the two sets is: {'f', 'c', 'a', 'b', 'd'}\n"
          ]
        }
      ]
    },
    {
      "cell_type": "markdown",
      "source": [
        "### 27. & Develop a code that takes a tuple of integers as input. The function should return the maximum and minimum values from the tuple using tuple unpacking."
      ],
      "metadata": {
        "id": "ye9f1h0DCsXJ"
      }
    },
    {
      "cell_type": "code",
      "source": [
        "tuple_input = tuple(map(int, input(\"Enter a tuple of integers (comma-separated): \").split(',')))\n",
        "\n",
        "max_val, min_val = max(tuple_input), min(tuple_input)\n",
        "\n",
        "print(\"The maximum value is:\", max_val)\n",
        "print(\"The minimum value is:\", min_val)"
      ],
      "metadata": {
        "colab": {
          "base_uri": "https://localhost:8080/"
        },
        "id": "Rd88aMEPClig",
        "outputId": "ab8c9875-30c4-4ede-f470-22ac06db8cb7"
      },
      "execution_count": 200,
      "outputs": [
        {
          "output_type": "stream",
          "name": "stdout",
          "text": [
            "Enter a tuple of integers (comma-separated): 1,2,4,5,7\n",
            "The maximum value is: 7\n",
            "The minimum value is: 1\n"
          ]
        }
      ]
    },
    {
      "cell_type": "markdown",
      "source": [
        "###28. Create a code that defines two sets of integers. Then, print the union, intersection, and difference of these two sets."
      ],
      "metadata": {
        "id": "E7UtU1DrC6FH"
      }
    },
    {
      "cell_type": "code",
      "source": [
        "a = {1, 2, 3, 4, 5}\n",
        "b = {4, 5, 6, 7, 8}\n",
        "\n",
        "union = a | b\n",
        "\n",
        "intersection = a & b\n",
        "\n",
        "difference = a - b\n",
        "\n",
        "print(\"Union of the two sets:\", union)\n",
        "print(\"Intersection of the two sets:\", intersection)\n",
        "print(\"Difference of the two sets (set1 - set2):\", difference)"
      ],
      "metadata": {
        "colab": {
          "base_uri": "https://localhost:8080/"
        },
        "id": "0upXjGtwC0tu",
        "outputId": "705acadf-7a08-4cbd-afd7-3b84cabebc5c"
      },
      "execution_count": 201,
      "outputs": [
        {
          "output_type": "stream",
          "name": "stdout",
          "text": [
            "Union of the two sets: {1, 2, 3, 4, 5, 6, 7, 8}\n",
            "Intersection of the two sets: {4, 5}\n",
            "Difference of the two sets (set1 - set2): {1, 2, 3}\n"
          ]
        }
      ]
    },
    {
      "cell_type": "markdown",
      "source": [
        "###29. Write a code that takes a tuple and an element as input. The function should return the count of occurrences of the given element in the tuple."
      ],
      "metadata": {
        "id": "rH8-tJhiDSud"
      }
    },
    {
      "cell_type": "code",
      "source": [
        "\n",
        "tuple_input = tuple(input(\"Enter a tuple of elements (comma-separated): \").split(','))\n",
        "element = input(\"Enter the element to count occurrences of: \")\n",
        "\n",
        "count = tuple_input.count(element)\n",
        "\n",
        "print(f\"The element '{element}' appears {count} time(s) in the tuple.\")\n"
      ],
      "metadata": {
        "colab": {
          "base_uri": "https://localhost:8080/"
        },
        "id": "zmzhjIR7DQjL",
        "outputId": "d54ae147-3188-4284-c37c-848c722ce5f8"
      },
      "execution_count": 202,
      "outputs": [
        {
          "output_type": "stream",
          "name": "stdout",
          "text": [
            "Enter a tuple of elements (comma-separated): 1,2,3,4,5,6,2\n",
            "Enter the element to count occurrences of: 2\n",
            "The element '2' appears 2 time(s) in the tuple.\n"
          ]
        }
      ]
    },
    {
      "cell_type": "markdown",
      "source": [
        "###30. & Develop a code that prompts the user to input two sets of strings. Then, print the symmetric difference of these two sets."
      ],
      "metadata": {
        "id": "HKuGvxXlDj8X"
      }
    },
    {
      "cell_type": "code",
      "source": [
        "set1 = set(input(\"Enter the first set of strings (comma-separated): \").split(','))\n",
        "set2 = set(input(\"Enter the second set of strings (comma-separated): \").split(','))\n",
        "\n",
        "symmetric_difference = set1 ^ set2\n",
        "\n",
        "print(\"The symmetric difference of the two sets is:\", symmetric_difference)\n"
      ],
      "metadata": {
        "colab": {
          "base_uri": "https://localhost:8080/"
        },
        "id": "Y1Tqz0cyDdNv",
        "outputId": "2396b161-6968-439d-abab-865d62926bdf"
      },
      "execution_count": 203,
      "outputs": [
        {
          "output_type": "stream",
          "name": "stdout",
          "text": [
            "Enter the first set of strings (comma-separated): 1,2,3,5\n",
            "Enter the second set of strings (comma-separated): 3,4,5,6\n",
            "The symmetric difference of the two sets is: {'2', '6', '1', '4'}\n"
          ]
        }
      ]
    },
    {
      "cell_type": "markdown",
      "source": [
        "###31.Write a code that takes a list of words as input and returns a dictionary where the keys are unique words and the values are the frequencies of those words in the input list."
      ],
      "metadata": {
        "id": "35R0JEyGD1KE"
      }
    },
    {
      "cell_type": "code",
      "source": [
        "words = input(\"Enter a list of words (separated by spaces): \").split()\n",
        "\n",
        "word_count = {}\n",
        "\n",
        "for word in words:\n",
        "    word_count[word] = word_count.get(word, 0) + 1\n",
        "\n",
        "print(\"Word frequencies:\", word_count)"
      ],
      "metadata": {
        "colab": {
          "base_uri": "https://localhost:8080/"
        },
        "id": "TfKFNkE_Dt3q",
        "outputId": "f0bc1828-1d39-48e1-8d51-1b298d37a233"
      },
      "execution_count": 206,
      "outputs": [
        {
          "output_type": "stream",
          "name": "stdout",
          "text": [
            "Enter a list of words (separated by spaces): 1 2 3 2 1 3 4 \n",
            "Word frequencies: {'1': 2, '2': 2, '3': 2, '4': 1}\n"
          ]
        }
      ]
    },
    {
      "cell_type": "markdown",
      "source": [
        "###32. Write a code that takes two dictionaries as input and merges them into a single dictionary. If there are common keys, the values should be added together."
      ],
      "metadata": {
        "id": "PJhU99xLEaH0"
      }
    },
    {
      "cell_type": "code",
      "source": [
        "list_1 = list(input('Enter the keys(seperated by comma):').split(','))\n",
        "list_2 = list(input('Enter the values(seperated by comma):').split(','))\n",
        "\n",
        "list_1.sort()\n",
        "list_2.sort()\n",
        "\n",
        "dict_1 = {}\n",
        "for i in range(len(list_1)):\n",
        "  if list_1[i] in dict_1:\n",
        "    dict_1[list_1[i]] += ','+list_2[i]\n",
        "  else:\n",
        "    dict_1[list_1[i]] = list_2[i]\n",
        "print(dict_1)\n",
        "\n"
      ],
      "metadata": {
        "colab": {
          "base_uri": "https://localhost:8080/"
        },
        "id": "qM1siM8kEMO0",
        "outputId": "11996391-55e9-4c16-8c14-4f87d83fc24c"
      },
      "execution_count": 219,
      "outputs": [
        {
          "output_type": "stream",
          "name": "stdout",
          "text": [
            "Enter the keys(seperated by comma):apple,banana,cherry,banana\n",
            "Enter the values(seperated by comma):1,2,3,2,1\n",
            "{'apple': '1', 'banana': '1,2', 'cherry': '2'}\n"
          ]
        }
      ]
    },
    {
      "cell_type": "markdown",
      "source": [
        "###33. Write a code to access a value in a nested dictionary. The function should take the dictionary and a list of keys as input, and return the corresponding value. If any of the keys do not exist in the dictionary, the function should return None."
      ],
      "metadata": {
        "id": "dy8ZklbMmd9I"
      }
    },
    {
      "cell_type": "markdown",
      "source": [
        "###34. Write a code that takes a dictionary as input and returns a sorted version of it based on the values. You can choose whether to sort in ascending or descending order"
      ],
      "metadata": {
        "id": "ygtoQen5qoQm"
      }
    },
    {
      "cell_type": "code",
      "source": [
        "list_1 = list(input('Enter the keys(seperated by comma):').split(','))\n",
        "list_2 = list(input('Enter the values(seperated by comma):').split(','))\n",
        "\n",
        "\n",
        "dict_1 = {list_1[i]:list_2[j] for i,j in zip(range(len(list_1)), range(len(list_2)))}\n",
        "\n",
        "items = list(dict_1.items())\n",
        "\n",
        "for i in range(len(items)):\n",
        "    for j in range(len(items) - i - 1):\n",
        "        if items[j][1] > items[j + 1][1]:\n",
        "            items[j], items[j + 1] = items[j + 1], items[j]\n",
        "\n",
        "sorted_dict = {}\n",
        "for key, value in items:\n",
        "    sorted_dict[key] = value\n",
        "\n",
        "print(sorted_dict)\n"
      ],
      "metadata": {
        "colab": {
          "base_uri": "https://localhost:8080/"
        },
        "id": "OLRLLlHCEyOs",
        "outputId": "e2bb673f-3542-4733-8dd3-8b98ac6a2a7d"
      },
      "execution_count": 264,
      "outputs": [
        {
          "output_type": "stream",
          "name": "stdout",
          "text": [
            "Enter the keys(seperated by comma):ap,ba,ch\n",
            "Enter the values(seperated by comma):2,3,1\n",
            "{'ch': '1', 'ap': '2', 'ba': '3'}\n"
          ]
        }
      ]
    },
    {
      "cell_type": "markdown",
      "source": [
        "###35.Write a code that inverts a dictionary, swapping keys and values. Ensure that the inverted dictionary correctly handles cases where multiple keys have the same value by storing the keys as a list in the inverted dictionary."
      ],
      "metadata": {
        "id": "osTQODQYtFzf"
      }
    },
    {
      "cell_type": "code",
      "source": [
        "dict_2 = {'a': 1, 'b': 2, 'c': 1, 'd': 3}\n",
        "\n",
        "inverted_dict = {}\n",
        "\n",
        "for key, value in dict_2.items():\n",
        "    if value not in inverted_dict:\n",
        "        inverted_dict[value] = [key]\n",
        "    else:\n",
        "        inverted_dict[value].append(key)\n",
        "\n",
        "print(inverted_dict)"
      ],
      "metadata": {
        "colab": {
          "base_uri": "https://localhost:8080/"
        },
        "id": "h4Wyi96KnlJM",
        "outputId": "25820f6e-44a6-450e-e854-31b617699451"
      },
      "execution_count": 267,
      "outputs": [
        {
          "output_type": "stream",
          "name": "stdout",
          "text": [
            "{1: ['a', 'c'], 2: ['b'], 3: ['d']}\n"
          ]
        }
      ]
    }
  ],
  "metadata": {
    "colab": {
      "provenance": [],
      "authorship_tag": "ABX9TyP1U5NuApakpDgHgbXlvjoN",
      "include_colab_link": true
    },
    "kernelspec": {
      "display_name": "Python 3",
      "name": "python3"
    },
    "language_info": {
      "name": "python"
    }
  },
  "nbformat": 4,
  "nbformat_minor": 0
}