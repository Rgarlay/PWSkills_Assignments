{
  "nbformat": 4,
  "nbformat_minor": 0,
  "metadata": {
    "colab": {
      "provenance": [],
      "authorship_tag": "ABX9TyOT1O5VlppXh4kdQMCNyR+x",
      "include_colab_link": true
    },
    "kernelspec": {
      "name": "python3",
      "display_name": "Python 3"
    },
    "language_info": {
      "name": "python"
    }
  },
  "cells": [
    {
      "cell_type": "markdown",
      "metadata": {
        "id": "view-in-github",
        "colab_type": "text"
      },
      "source": [
        "<a href=\"https://colab.research.google.com/github/Rgarlay/PWSkills_Assignments/blob/main/Assignment%3A%20Functions/Functions.ipynb\" target=\"_parent\"><img src=\"https://colab.research.google.com/assets/colab-badge.svg\" alt=\"Open In Colab\"/></a>"
      ]
    },
    {
      "cell_type": "markdown",
      "source": [
        "#Assignment : Functions Assignment\n",
        "\n",
        "##Theory Questions:\n",
        "\n",
        "\n"
      ],
      "metadata": {
        "id": "9sAb9G2K32T4"
      }
    },
    {
      "cell_type": "markdown",
      "source": [
        "###1.What is the difference between a function and a method in Python?\n",
        "Ans:- function in python is a specific code of block which can be used perform a specific task. They make code clean, compact, readable. Once defined, they can be used anywhere in that environment. They can be defined explicitly or implicitly (inside another function).\n",
        "For example, let's define a function 'add_then multiply' which adds 2 given number and then multiplies the sum with the first number."
      ],
      "metadata": {
        "id": "tW_i9uhu4Ele"
      }
    },
    {
      "cell_type": "code",
      "execution_count": 1,
      "metadata": {
        "colab": {
          "base_uri": "https://localhost:8080/"
        },
        "id": "7tlkMmR93twT",
        "outputId": "ce6b3db3-660d-4b13-e1bb-2b32fe061f0c"
      },
      "outputs": [
        {
          "output_type": "stream",
          "name": "stdout",
          "text": [
            "14\n"
          ]
        }
      ],
      "source": [
        "def add_then_multiply(a,b):\n",
        "  c = a+b\n",
        "  d = c*(a)\n",
        "  return d\n",
        "\n",
        "print(add_then_multiply(2,5))"
      ]
    },
    {
      "cell_type": "markdown",
      "source": [
        "On contrast, methods are defined within a class. They attend to specific task, on data/sequence that class takes. They always exist inside a class and cannot be called upon, without calling its parent class first.\n",
        "Let's define a math class and define 2 methods (sum and product) inside it."
      ],
      "metadata": {
        "id": "XyuGFhoEhGUC"
      }
    },
    {
      "cell_type": "code",
      "source": [
        "class maths_all_tools:\n",
        "  def __init__(self,first_num,sec_num):\n",
        "    self.first_num = first_num\n",
        "    self.sec_num = sec_num\n",
        "  def sum(self):\n",
        "    sum_of_2 = self.first_num + self.sec_num\n",
        "    return sum_of_2\n",
        "  def product(self):\n",
        "    product_of_2 = self.first_num*self.sec_num\n",
        "    return product_of_2\n",
        "\n",
        "\n",
        "abc = maths_all_tools(2,44)\n",
        "print(f'Sum of 2 and 44 is{abc.sum()}')\n",
        "\n",
        "gef = maths_all_tools(2,42)\n",
        "print(f'Product of 2 and 42 is {gef.product()}')"
      ],
      "metadata": {
        "colab": {
          "base_uri": "https://localhost:8080/"
        },
        "id": "qSX8U1ZVhHBT",
        "outputId": "e94e62e3-e901-4366-f98b-d33ff92c7af1"
      },
      "execution_count": 8,
      "outputs": [
        {
          "output_type": "stream",
          "name": "stdout",
          "text": [
            "Sum of 2 and 44 is46\n",
            "Product of 2 and 42 is 84\n"
          ]
        }
      ]
    },
    {
      "cell_type": "markdown",
      "source": [
        "###2Q:- Explain the concept of function arguments and parameters in Python.\n",
        "Ans:- **Parameters** are the variables that are used inside a function. They are decalred while defining the function and such are local variables. For example, suppose we define a  sum function of 2 numbers 'a' and 'b'. These 2 would be called parameters of the functions, and are necessary to provide when executing the function."
      ],
      "metadata": {
        "id": "SiihvI36jsis"
      }
    },
    {
      "cell_type": "code",
      "source": [
        "## a and b are parameters here\n",
        "def sum_of_2(a,b):\n",
        "  c = a+b\n",
        "  return c\n",
        "##5 and 2 are arguments here\n",
        "print(sum_of_2(5,2))"
      ],
      "metadata": {
        "colab": {
          "base_uri": "https://localhost:8080/"
        },
        "id": "iRu0BIVDit3V",
        "outputId": "14d23e2e-5a30-43a1-bec8-a06156febd3f"
      },
      "execution_count": 9,
      "outputs": [
        {
          "output_type": "stream",
          "name": "stdout",
          "text": [
            "7\n"
          ]
        }
      ]
    },
    {
      "cell_type": "markdown",
      "source": [
        "**Arguments** are variables which are provided in place of parameters, when we call a function.\n",
        "For example, above sum function, when it is applied for 5 and 2,then these 2 are called arguments.\n",
        "They are not local variables and are assigned to the function when it is called.\n",
        "\n",
        "\n"
      ],
      "metadata": {
        "id": "ra6w16ZkqUwv"
      }
    },
    {
      "cell_type": "markdown",
      "source": [
        "###3Q:- What are the different ways to define and call a function in Python?\n",
        "Ans:- function in python is a specific code of block which can be used perform a specific task. Following are few ways to call upon a function.\n",
        "1.\t**Directly defining and calling:-** This involves defining a function explicitly and then calling them as required.\n",
        "2.\t**Using Lambda function:-** Lambda function allow us to define and execute temporary small functions with minimal effort.\n",
        "3.\t**Using map function:-** Map function takes it one step further and allows us define and execute small function within one line itself.\n",
        "4.\t**Reduce function:-** For some specific cases, if we want to cumulatively apply a function on entire sequence, then we can use reduce."
      ],
      "metadata": {
        "id": "Wwz1eRssq5He"
      }
    },
    {
      "cell_type": "code",
      "source": [
        "## Directly defining and calling\n",
        "def square(x):\n",
        "\treturn x**2\n",
        "a = square(2)\n",
        "print('result of directly defining and calling is',a)\n",
        "\n",
        "## Using Lambda function\n",
        "Result_1 = lambda x:x**2\n",
        "print('Output using lambda function',Result_1(3))\n",
        "\n",
        "## Using map function\n",
        "a_1 = [2,3,4,5]\n",
        "Result = map(lambda x_1:x_1**2, a_1)\n",
        "print('result using map function',list(Result))\n",
        "\n",
        "from functools import reduce\n",
        "\n",
        "##Using reduce function\n",
        "A = [1,2,3,4,5,6]\n",
        "Result_2 = reduce(lambda x,y:x*y, A)\n",
        "print('Result using reduce function',Result_2)\n"
      ],
      "metadata": {
        "colab": {
          "base_uri": "https://localhost:8080/"
        },
        "id": "tHjksK64qTnF",
        "outputId": "72926818-e1a7-4c3a-cd5b-66b5fd6fb062"
      },
      "execution_count": 25,
      "outputs": [
        {
          "output_type": "stream",
          "name": "stdout",
          "text": [
            "result of directly defining and calling is 4\n",
            "Output using lambda function 9\n",
            "result using map function [4, 9, 16, 25]\n",
            "Result using reduce function 720\n"
          ]
        }
      ]
    },
    {
      "cell_type": "markdown",
      "source": [
        "###4Q:- What is the purpose of the `return` statement in a Python function?\n",
        "Ans:- We use return statement at the end of a function definition.\n",
        "Return value tells the function, what value should be given as output after the function is applied onto the input.\n",
        "It also indicates the termination of a function. It can return different data types/ values or None.\n"
      ],
      "metadata": {
        "id": "nI6i19octMvJ"
      }
    },
    {
      "cell_type": "code",
      "source": [
        "def maths_of_2(a,b):\n",
        "  c = a+b\n",
        "  return c,d\n",
        "d = a*b"
      ],
      "metadata": {
        "colab": {
          "base_uri": "https://localhost:8080/",
          "height": 182
        },
        "id": "lkr70ddOrDsH",
        "outputId": "6d92499d-4f39-4e4a-bcd4-3a55f16a9e31"
      },
      "execution_count": 27,
      "outputs": [
        {
          "output_type": "error",
          "ename": "NameError",
          "evalue": "name 'b' is not defined",
          "traceback": [
            "\u001b[0;31m---------------------------------------------------------------------------\u001b[0m",
            "\u001b[0;31mNameError\u001b[0m                                 Traceback (most recent call last)",
            "\u001b[0;32m<ipython-input-27-7302301592ad>\u001b[0m in \u001b[0;36m<cell line: 0>\u001b[0;34m()\u001b[0m\n\u001b[1;32m      2\u001b[0m   \u001b[0mc\u001b[0m \u001b[0;34m=\u001b[0m \u001b[0ma\u001b[0m\u001b[0;34m+\u001b[0m\u001b[0mb\u001b[0m\u001b[0;34m\u001b[0m\u001b[0;34m\u001b[0m\u001b[0m\n\u001b[1;32m      3\u001b[0m   \u001b[0;32mreturn\u001b[0m \u001b[0mc\u001b[0m\u001b[0;34m,\u001b[0m\u001b[0md\u001b[0m\u001b[0;34m\u001b[0m\u001b[0;34m\u001b[0m\u001b[0m\n\u001b[0;32m----> 4\u001b[0;31m \u001b[0md\u001b[0m \u001b[0;34m=\u001b[0m \u001b[0ma\u001b[0m\u001b[0;34m*\u001b[0m\u001b[0mb\u001b[0m\u001b[0;34m\u001b[0m\u001b[0;34m\u001b[0m\u001b[0m\n\u001b[0m",
            "\u001b[0;31mNameError\u001b[0m: name 'b' is not defined"
          ]
        }
      ]
    },
    {
      "cell_type": "markdown",
      "source": [
        "Notice that function ended after returning ‘c’ and raises and error at ‘d’."
      ],
      "metadata": {
        "id": "wqyxMrNgtqX_"
      }
    },
    {
      "cell_type": "markdown",
      "source": [
        "###5Q:- What are `iterators` in Python and how do they differ from `iterables`?\n",
        "Ans:- Iterators in python objects that contain a collection of elements. Sequence/elements that are used as iterable entities are contained within these objects.\n",
        "A is a list object that contains a collection of elements.\n",
        "After subjecting it to ‘iter’ function, the resultant my_iter become as iterator.\n",
        "Iterables are objects that are capable of returning one its member; one at a time. Lists, tuples, dictionaries are example of iterables. A list (by itself) above is an example of iterable. It becomes an iterator after iter is acted upon it.\n",
        "now:\n",
        "next(my_iter)\n",
        "will iter through the elements of iterator.\n"
      ],
      "metadata": {
        "id": "tZge0UILttTc"
      }
    },
    {
      "cell_type": "code",
      "source": [
        "A = [1,2,3,4]\n",
        "my_iter = iter(A)\n",
        "next(my_iter)\n",
        "next(my_iter)"
      ],
      "metadata": {
        "colab": {
          "base_uri": "https://localhost:8080/"
        },
        "id": "Q3UTkvKZtYi7",
        "outputId": "17627e2f-e40a-4eb5-e9f8-fd75791fb89a"
      },
      "execution_count": 32,
      "outputs": [
        {
          "output_type": "execute_result",
          "data": {
            "text/plain": [
              "2"
            ]
          },
          "metadata": {},
          "execution_count": 32
        }
      ]
    },
    {
      "cell_type": "markdown",
      "source": [
        "###6Q:- Explain the concept of generators in Python and how they are defined.\n",
        "Ans:- Generators in python are iterable functions that return iterators. We use generator function to get a generator object. When a iterable object is subjected to Generator, it stores the method for iterations. They do not calculate and store the values before displaying. On contrast, they calculate and display single value on demand. This provides a memory friendly alternative to return statement. In below example, we define a generator function, by replacing yield with return."
      ],
      "metadata": {
        "id": "9w-F1lpxuN8I"
      }
    },
    {
      "cell_type": "code",
      "source": [
        "def number_generator(n):\n",
        "    for i in range(n):\n",
        "        yield i\n",
        "gen = number_generator(5)\n",
        "print(next(gen))\n"
      ],
      "metadata": {
        "colab": {
          "base_uri": "https://localhost:8080/"
        },
        "id": "IPmbBOGBuAES",
        "outputId": "1e0d7141-c51f-4958-deb1-982711283776"
      },
      "execution_count": 36,
      "outputs": [
        {
          "output_type": "stream",
          "name": "stdout",
          "text": [
            "0\n"
          ]
        }
      ]
    },
    {
      "cell_type": "code",
      "source": [
        "print(next(gen))\n"
      ],
      "metadata": {
        "colab": {
          "base_uri": "https://localhost:8080/"
        },
        "id": "dbwRSAtNuc9t",
        "outputId": "b77fa584-f541-4b68-dd0e-efa331adec17"
      },
      "execution_count": 37,
      "outputs": [
        {
          "output_type": "stream",
          "name": "stdout",
          "text": [
            "1\n"
          ]
        }
      ]
    },
    {
      "cell_type": "markdown",
      "source": [
        "###7Q: - What are the advantages of using generators over regular functions?\n",
        "Ans:- 1. It generates iterations on demand, so it only saves one output one at a time, making it occupy less memory.\n",
        "2. Since it iterates one at a time, it is faster.\n"
      ],
      "metadata": {
        "id": "pkACpijcuv2S"
      }
    },
    {
      "cell_type": "code",
      "source": [
        "def number_generator(n):\n",
        "    for i in range(5,10):\n",
        "        yield i\n",
        "gen = number_generator(5)\n",
        "print(next(gen))\n"
      ],
      "metadata": {
        "colab": {
          "base_uri": "https://localhost:8080/"
        },
        "id": "E--dhm_0ulZR",
        "outputId": "6040ed30-5169-457f-c00a-64f895fa0530"
      },
      "execution_count": 41,
      "outputs": [
        {
          "output_type": "stream",
          "name": "stdout",
          "text": [
            "5\n"
          ]
        }
      ]
    },
    {
      "cell_type": "markdown",
      "source": [
        "###8Q: - What is a lambda function in Python and when is it typically used?\n",
        "Ans:- Lambda function in python is a small, anonymous function, which is used for defining small temporary functions within the code without formally defining them."
      ],
      "metadata": {
        "id": "wzmn0E7evBw9"
      }
    },
    {
      "cell_type": "code",
      "source": [
        "def fibon(n):\n",
        "    if n <= 1:\n",
        "        return n\n",
        "    else:\n",
        "        return fibon(n-1) + fibon(n-2)\n",
        "\n",
        "result = fibon(10)\n",
        "print(result)\n"
      ],
      "metadata": {
        "colab": {
          "base_uri": "https://localhost:8080/"
        },
        "id": "h0b9tGmCu4jy",
        "outputId": "3ff1d298-c0ac-41ac-d232-56e8ad457d36"
      },
      "execution_count": 55,
      "outputs": [
        {
          "output_type": "stream",
          "name": "stdout",
          "text": [
            "55\n"
          ]
        }
      ]
    },
    {
      "cell_type": "markdown",
      "source": [
        "We can avoid writing so many lines of code and do it in just a single line of code using lambda functions:"
      ],
      "metadata": {
        "id": "dJQZgR2MwPLT"
      }
    },
    {
      "cell_type": "code",
      "source": [
        "fib = lambda n : n if n<=1 else fib(n-1) + fib(n-2)\n",
        "print(fib(10))"
      ],
      "metadata": {
        "colab": {
          "base_uri": "https://localhost:8080/"
        },
        "id": "iqkYf9IkvSGf",
        "outputId": "5cd8f61e-c6f1-432d-b160-24c0f63afd05"
      },
      "execution_count": 57,
      "outputs": [
        {
          "output_type": "stream",
          "name": "stdout",
          "text": [
            "55\n"
          ]
        }
      ]
    },
    {
      "cell_type": "markdown",
      "source": [
        "###9Q:- . Explain the purpose and usage of the `map()` function in Python.\n",
        "Ans:- map function in python is used to apply a given function (inbuilt or user defined) in short form.\n",
        "For example: instead of\n"
      ],
      "metadata": {
        "id": "3-pk9k-Rw2TQ"
      }
    },
    {
      "cell_type": "code",
      "source": [
        "##Instead of definig complex function for simple task.\n",
        "A = [5,6,8,5,3]\n",
        "def squaree(list_name):\n",
        "  a_squared = []\n",
        "  for i in range(len(list_name)):\n",
        "    a_1 = list_name[i]**2\n",
        "    a_squared.append(a_1)\n",
        "  return a_squared\n",
        "\n",
        "a_sqaured = squaree(A)\n",
        "print(a_sqaured)\n",
        "\n",
        "##we can directly do it in one step.\n",
        "\n",
        "A = [5,6,8,5,3]\n",
        "y = map(lambda n: n**2 ,A)\n",
        "print(list(y))"
      ],
      "metadata": {
        "colab": {
          "base_uri": "https://localhost:8080/"
        },
        "id": "qkDbQBGIxBvH",
        "outputId": "85e9ff27-9448-4278-e2b9-17c210e7c200"
      },
      "execution_count": 71,
      "outputs": [
        {
          "output_type": "stream",
          "name": "stdout",
          "text": [
            "[25, 36, 64, 25, 9]\n",
            "[25, 36, 64, 25, 9]\n"
          ]
        }
      ]
    },
    {
      "cell_type": "markdown",
      "source": [
        "###10Q: - What is the difference between `map()`, `reduce()`, and `filter()` functions in Python?\n",
        "Ans:-\n",
        "`map()`; function is used to apply a function directly onto a data structure/variable.\n",
        "\n",
        "`reduce()`; applies given function cumulatively onto the given iterable object.\n",
        "\n",
        "`filter()`; as it sounds; is used to filter a given object, on the given condition.\n",
        "For example:\n"
      ],
      "metadata": {
        "id": "UbabTXFjxMpg"
      }
    },
    {
      "cell_type": "code",
      "source": [
        "##example function for filter().\n",
        "\n",
        "def is_odd(number):\n",
        "    return number % 2 == 1\n",
        "num_list = [1, 2, 3, 4, 5, 6, 7, 8, 9]\n",
        "\n",
        "odd_numbers = filter(is_odd, num_list)\n",
        "\n",
        "print(list(odd_numbers))"
      ],
      "metadata": {
        "colab": {
          "base_uri": "https://localhost:8080/"
        },
        "id": "UoYSlX93xNRv",
        "outputId": "26a798ea-7b10-4dc3-b10b-5a655b298407"
      },
      "execution_count": 86,
      "outputs": [
        {
          "output_type": "stream",
          "name": "stdout",
          "text": [
            "[1, 3, 5, 7, 9]\n"
          ]
        }
      ]
    },
    {
      "cell_type": "markdown",
      "source": [
        "###11Q:-  Using pen & Paper write the internal mechanism for sum operation using  reduce function on this given\n",
        "`[47,11,42,13]`"
      ],
      "metadata": {
        "id": "xFbFjFZC02Bx"
      }
    },
    {
      "cell_type": "code",
      "source": [
        "##Code From GPT\n",
        "# Import necessary libraries\n",
        "from google.colab import files\n",
        "from PIL import Image\n",
        "import matplotlib.pyplot as plt\n",
        "\n",
        "# Upload the image\n",
        "uploaded = files.upload()\n",
        "\n",
        "# Process the uploaded image\n",
        "for filename in uploaded.keys():\n",
        "    # Open the image using PIL\n",
        "    img = Image.open(filename)\n",
        "\n",
        "    # Display the image\n",
        "    plt.imshow(img)\n",
        "    plt.axis('off')  # Turn off axis for better display\n",
        "    plt.show()"
      ],
      "metadata": {
        "colab": {
          "base_uri": "https://localhost:8080/",
          "height": 463
        },
        "id": "z46o3U2vxNOM",
        "outputId": "a294218f-2b4d-457f-c973-d7ee690cab3c"
      },
      "execution_count": 87,
      "outputs": [
        {
          "output_type": "display_data",
          "data": {
            "text/plain": [
              "<IPython.core.display.HTML object>"
            ],
            "text/html": [
              "\n",
              "     <input type=\"file\" id=\"files-94fbd79c-03e7-4826-834d-d2bc9d9cd567\" name=\"files[]\" multiple disabled\n",
              "        style=\"border:none\" />\n",
              "     <output id=\"result-94fbd79c-03e7-4826-834d-d2bc9d9cd567\">\n",
              "      Upload widget is only available when the cell has been executed in the\n",
              "      current browser session. Please rerun this cell to enable.\n",
              "      </output>\n",
              "      <script>// Copyright 2017 Google LLC\n",
              "//\n",
              "// Licensed under the Apache License, Version 2.0 (the \"License\");\n",
              "// you may not use this file except in compliance with the License.\n",
              "// You may obtain a copy of the License at\n",
              "//\n",
              "//      http://www.apache.org/licenses/LICENSE-2.0\n",
              "//\n",
              "// Unless required by applicable law or agreed to in writing, software\n",
              "// distributed under the License is distributed on an \"AS IS\" BASIS,\n",
              "// WITHOUT WARRANTIES OR CONDITIONS OF ANY KIND, either express or implied.\n",
              "// See the License for the specific language governing permissions and\n",
              "// limitations under the License.\n",
              "\n",
              "/**\n",
              " * @fileoverview Helpers for google.colab Python module.\n",
              " */\n",
              "(function(scope) {\n",
              "function span(text, styleAttributes = {}) {\n",
              "  const element = document.createElement('span');\n",
              "  element.textContent = text;\n",
              "  for (const key of Object.keys(styleAttributes)) {\n",
              "    element.style[key] = styleAttributes[key];\n",
              "  }\n",
              "  return element;\n",
              "}\n",
              "\n",
              "// Max number of bytes which will be uploaded at a time.\n",
              "const MAX_PAYLOAD_SIZE = 100 * 1024;\n",
              "\n",
              "function _uploadFiles(inputId, outputId) {\n",
              "  const steps = uploadFilesStep(inputId, outputId);\n",
              "  const outputElement = document.getElementById(outputId);\n",
              "  // Cache steps on the outputElement to make it available for the next call\n",
              "  // to uploadFilesContinue from Python.\n",
              "  outputElement.steps = steps;\n",
              "\n",
              "  return _uploadFilesContinue(outputId);\n",
              "}\n",
              "\n",
              "// This is roughly an async generator (not supported in the browser yet),\n",
              "// where there are multiple asynchronous steps and the Python side is going\n",
              "// to poll for completion of each step.\n",
              "// This uses a Promise to block the python side on completion of each step,\n",
              "// then passes the result of the previous step as the input to the next step.\n",
              "function _uploadFilesContinue(outputId) {\n",
              "  const outputElement = document.getElementById(outputId);\n",
              "  const steps = outputElement.steps;\n",
              "\n",
              "  const next = steps.next(outputElement.lastPromiseValue);\n",
              "  return Promise.resolve(next.value.promise).then((value) => {\n",
              "    // Cache the last promise value to make it available to the next\n",
              "    // step of the generator.\n",
              "    outputElement.lastPromiseValue = value;\n",
              "    return next.value.response;\n",
              "  });\n",
              "}\n",
              "\n",
              "/**\n",
              " * Generator function which is called between each async step of the upload\n",
              " * process.\n",
              " * @param {string} inputId Element ID of the input file picker element.\n",
              " * @param {string} outputId Element ID of the output display.\n",
              " * @return {!Iterable<!Object>} Iterable of next steps.\n",
              " */\n",
              "function* uploadFilesStep(inputId, outputId) {\n",
              "  const inputElement = document.getElementById(inputId);\n",
              "  inputElement.disabled = false;\n",
              "\n",
              "  const outputElement = document.getElementById(outputId);\n",
              "  outputElement.innerHTML = '';\n",
              "\n",
              "  const pickedPromise = new Promise((resolve) => {\n",
              "    inputElement.addEventListener('change', (e) => {\n",
              "      resolve(e.target.files);\n",
              "    });\n",
              "  });\n",
              "\n",
              "  const cancel = document.createElement('button');\n",
              "  inputElement.parentElement.appendChild(cancel);\n",
              "  cancel.textContent = 'Cancel upload';\n",
              "  const cancelPromise = new Promise((resolve) => {\n",
              "    cancel.onclick = () => {\n",
              "      resolve(null);\n",
              "    };\n",
              "  });\n",
              "\n",
              "  // Wait for the user to pick the files.\n",
              "  const files = yield {\n",
              "    promise: Promise.race([pickedPromise, cancelPromise]),\n",
              "    response: {\n",
              "      action: 'starting',\n",
              "    }\n",
              "  };\n",
              "\n",
              "  cancel.remove();\n",
              "\n",
              "  // Disable the input element since further picks are not allowed.\n",
              "  inputElement.disabled = true;\n",
              "\n",
              "  if (!files) {\n",
              "    return {\n",
              "      response: {\n",
              "        action: 'complete',\n",
              "      }\n",
              "    };\n",
              "  }\n",
              "\n",
              "  for (const file of files) {\n",
              "    const li = document.createElement('li');\n",
              "    li.append(span(file.name, {fontWeight: 'bold'}));\n",
              "    li.append(span(\n",
              "        `(${file.type || 'n/a'}) - ${file.size} bytes, ` +\n",
              "        `last modified: ${\n",
              "            file.lastModifiedDate ? file.lastModifiedDate.toLocaleDateString() :\n",
              "                                    'n/a'} - `));\n",
              "    const percent = span('0% done');\n",
              "    li.appendChild(percent);\n",
              "\n",
              "    outputElement.appendChild(li);\n",
              "\n",
              "    const fileDataPromise = new Promise((resolve) => {\n",
              "      const reader = new FileReader();\n",
              "      reader.onload = (e) => {\n",
              "        resolve(e.target.result);\n",
              "      };\n",
              "      reader.readAsArrayBuffer(file);\n",
              "    });\n",
              "    // Wait for the data to be ready.\n",
              "    let fileData = yield {\n",
              "      promise: fileDataPromise,\n",
              "      response: {\n",
              "        action: 'continue',\n",
              "      }\n",
              "    };\n",
              "\n",
              "    // Use a chunked sending to avoid message size limits. See b/62115660.\n",
              "    let position = 0;\n",
              "    do {\n",
              "      const length = Math.min(fileData.byteLength - position, MAX_PAYLOAD_SIZE);\n",
              "      const chunk = new Uint8Array(fileData, position, length);\n",
              "      position += length;\n",
              "\n",
              "      const base64 = btoa(String.fromCharCode.apply(null, chunk));\n",
              "      yield {\n",
              "        response: {\n",
              "          action: 'append',\n",
              "          file: file.name,\n",
              "          data: base64,\n",
              "        },\n",
              "      };\n",
              "\n",
              "      let percentDone = fileData.byteLength === 0 ?\n",
              "          100 :\n",
              "          Math.round((position / fileData.byteLength) * 100);\n",
              "      percent.textContent = `${percentDone}% done`;\n",
              "\n",
              "    } while (position < fileData.byteLength);\n",
              "  }\n",
              "\n",
              "  // All done.\n",
              "  yield {\n",
              "    response: {\n",
              "      action: 'complete',\n",
              "    }\n",
              "  };\n",
              "}\n",
              "\n",
              "scope.google = scope.google || {};\n",
              "scope.google.colab = scope.google.colab || {};\n",
              "scope.google.colab._files = {\n",
              "  _uploadFiles,\n",
              "  _uploadFilesContinue,\n",
              "};\n",
              "})(self);\n",
              "</script> "
            ]
          },
          "metadata": {}
        },
        {
          "output_type": "stream",
          "name": "stdout",
          "text": [
            "Saving IMG_20250122_110427.jpg to IMG_20250122_110427.jpg\n"
          ]
        },
        {
          "output_type": "display_data",
          "data": {
            "text/plain": [
              "<Figure size 640x480 with 1 Axes>"
            ],
            "image/png": "[encoded data removed]"
          },
          "metadata": {}
        }
      ]
    },
    {
      "cell_type": "markdown",
      "source": [
        "#Practical Questions"
      ],
      "metadata": {
        "id": "lOe46evU09J8"
      }
    },
    {
      "cell_type": "markdown",
      "source": [
        "###1. Write a Python function that takes a list of numbers as input and returns the sum of all even numbers in the list."
      ],
      "metadata": {
        "id": "LdzLEH6g1BGn"
      }
    },
    {
      "cell_type": "code",
      "source": [
        "A = [1,2,3,4,5,6,7,8,9]\n",
        "\n",
        "def sum_of_even(list_name):\n",
        "  b=0\n",
        "  for i in range(len(list_name)):\n",
        "    if A[i]%2==0:\n",
        "      b = b+list_name[i]\n",
        "  return b\n",
        "\n",
        "sum_1 = sum_of_even(A)\n",
        "print(f'sum of even numbers is {sum_1}')"
      ],
      "metadata": {
        "colab": {
          "base_uri": "https://localhost:8080/"
        },
        "id": "AigIH9ZPw022",
        "outputId": "c3b159d3-1a22-4268-a3d5-9f98a8753af6"
      },
      "execution_count": 92,
      "outputs": [
        {
          "output_type": "stream",
          "name": "stdout",
          "text": [
            "20\n"
          ]
        }
      ]
    },
    {
      "cell_type": "markdown",
      "source": [
        "###2.  Create a Python function that accepts a string and returns the reverse of that string."
      ],
      "metadata": {
        "id": "YnRkFQvh1WFY"
      }
    },
    {
      "cell_type": "code",
      "source": [
        "a = 'ravi'\n",
        "def reverse_str(string_name):\n",
        "  b = ''\n",
        "  for i in range(len(string_name)-1,-1,-1):\n",
        "    b = b+string_name[i]\n",
        "  return b\n",
        "\n",
        "reverse_string_1 = reverse_str(a)\n",
        "print(reverse_string_1)\n"
      ],
      "metadata": {
        "colab": {
          "base_uri": "https://localhost:8080/"
        },
        "id": "qfX6HbB3wXpL",
        "outputId": "c49ecdab-09b0-4244-acbf-e33f76113f89"
      },
      "execution_count": 111,
      "outputs": [
        {
          "output_type": "stream",
          "name": "stdout",
          "text": [
            "ivar\n"
          ]
        }
      ]
    },
    {
      "cell_type": "markdown",
      "source": [
        "###3. . Implement a Python function that takes a list of integers and returns a new list containing the squares of each number."
      ],
      "metadata": {
        "id": "LZZ-Jvgb3u5b"
      }
    },
    {
      "cell_type": "code",
      "source": [
        "A = [5,6,8,5,3]\n",
        "def squaree(list_name):\n",
        "  a_squared = []\n",
        "  for i in range(len(list_name)):\n",
        "    a_1 = list_name[i]**2\n",
        "    a_squared.append(a_1)\n",
        "  return a_squared\n",
        "\n",
        "A_1 = squaree(A)\n",
        "print(A_1)"
      ],
      "metadata": {
        "colab": {
          "base_uri": "https://localhost:8080/"
        },
        "id": "eGehWa9r2ojS",
        "outputId": "17bf5f85-b402-4a26-adff-9c82da83b4e9"
      },
      "execution_count": 116,
      "outputs": [
        {
          "output_type": "stream",
          "name": "stdout",
          "text": [
            "[25, 36, 64, 25, 9]\n"
          ]
        }
      ]
    },
    {
      "cell_type": "markdown",
      "source": [
        "###4. Write a Python function that checks if a given number is prime or not from 1 to 200."
      ],
      "metadata": {
        "id": "GwLtqmhg4ea0"
      }
    },
    {
      "cell_type": "code",
      "source": [
        "\n",
        "def check_condition(number_here):\n",
        "    if number_here < 1 or number_here > 200:\n",
        "        print('The number is outside the range 1 and 200.')\n",
        "        if number_here > 1:\n",
        "            for i in range(2, (number_here // 2) + 1):\n",
        "                if number_here % i == 0:\n",
        "                    print(number_here, 'is not a prime number.')\n",
        "                    return\n",
        "            print(number_here, 'is a prime number.')\n",
        "        else:\n",
        "            print('Prime numbers are greater than 1.')\n",
        "    else:\n",
        "        print('The number is within the range 1 and 200. No primality check performed.')\n",
        "\n",
        "a = check_condition(179)\n",
        "b = check_condition(211)\n",
        "\n",
        "print(a)\n",
        "print(b)"
      ],
      "metadata": {
        "colab": {
          "base_uri": "https://localhost:8080/"
        },
        "id": "NGphETvl4eLC",
        "outputId": "aafe1b69-068f-4857-981c-1584c52bff48"
      },
      "execution_count": 141,
      "outputs": [
        {
          "output_type": "stream",
          "name": "stdout",
          "text": [
            "The number is within the range 1 and 200. No primality check performed.\n",
            "The number is outside the range 1 and 200.\n",
            "211 is a prime number.\n",
            "None\n",
            "None\n"
          ]
        }
      ]
    },
    {
      "cell_type": "markdown",
      "source": [
        "###5. Create an iterator class in Python that generates the Fibonacci sequence up to a specified number of terms."
      ],
      "metadata": {
        "id": "-zyb1dtt-ElH"
      }
    },
    {
      "cell_type": "code",
      "source": [
        "def fibon(n):\n",
        "    if n <= 1:\n",
        "        return n\n",
        "    else:\n",
        "        return fibon(n-1) + fibon(n-2)\n",
        "\n",
        "result = fibon(10)\n",
        "print(result)\n"
      ],
      "metadata": {
        "colab": {
          "base_uri": "https://localhost:8080/"
        },
        "id": "dul7ir7l4AN5",
        "outputId": "7d139cf1-e219-4c74-acdd-b023a40a6e56"
      },
      "execution_count": 142,
      "outputs": [
        {
          "output_type": "stream",
          "name": "stdout",
          "text": [
            "55\n"
          ]
        }
      ]
    },
    {
      "cell_type": "markdown",
      "source": [
        "###6.Write a generator function in Python that yields the powers of 2 up to a given exponent."
      ],
      "metadata": {
        "id": "Urkw8V1t-N3S"
      }
    },
    {
      "cell_type": "code",
      "source": [
        "def power_of_2(n):\n",
        "  i=1\n",
        "  while i<=n:\n",
        "    b = print(i**2)\n",
        "    i =i+1\n",
        "  return b\n",
        "\n",
        "power_of_2(5)"
      ],
      "metadata": {
        "colab": {
          "base_uri": "https://localhost:8080/"
        },
        "id": "bpPyRlqc-MCO",
        "outputId": "bd8221cc-99db-4f16-e258-b13ac045a0f7"
      },
      "execution_count": 151,
      "outputs": [
        {
          "output_type": "stream",
          "name": "stdout",
          "text": [
            "1\n",
            "4\n",
            "9\n",
            "16\n",
            "25\n"
          ]
        }
      ]
    },
    {
      "cell_type": "markdown",
      "source": [
        "###7.Implement a generator function that reads a file line by line and yields each line as a string."
      ],
      "metadata": {
        "id": "fqYokptt_LWK"
      }
    },
    {
      "cell_type": "code",
      "source": [
        "def read_file_line_by_line(file_name):\n",
        "    with open(file_name, 'r') as file:\n",
        "        for line in file:\n",
        "            yield line.strip()  # Strip any leading/trailing whitespace\n",
        "\n"
      ],
      "metadata": {
        "id": "YEjPw95I-ow5"
      },
      "execution_count": 295,
      "outputs": []
    },
    {
      "cell_type": "code",
      "source": [
        "def line_by(file_name):\n",
        "  with open(file_name,'r') as file:\n",
        "    for line in file:\n",
        "      yield line.strip()\n",
        "\n",
        "abc = line_by('file_1.txt')\n",
        "\n",
        "print(next(abc))"
      ],
      "metadata": {
        "colab": {
          "base_uri": "https://localhost:8080/"
        },
        "collapsed": true,
        "id": "6ksT6WY8R6Ts",
        "outputId": "02a0a77f-8ff4-4b1e-88c9-f4d3e29ec80b"
      },
      "execution_count": 321,
      "outputs": [
        {
          "output_type": "stream",
          "name": "stdout",
          "text": [
            "The sun set over the horizon.\n"
          ]
        }
      ]
    },
    {
      "cell_type": "code",
      "source": [
        "print(next(abc))"
      ],
      "metadata": {
        "colab": {
          "base_uri": "https://localhost:8080/"
        },
        "id": "EumNx4-TW0Ey",
        "outputId": "6fd17cde-997a-4055-ac5e-0195a3e6924d"
      },
      "execution_count": 322,
      "outputs": [
        {
          "output_type": "stream",
          "name": "stdout",
          "text": [
            "It painted the sky in orange and pink.\n"
          ]
        }
      ]
    },
    {
      "cell_type": "markdown",
      "source": [
        "###8. Use a lambda function in Python to sort a list of tuples based on the second element of each tuple."
      ],
      "metadata": {
        "id": "JofoJL7ZEWCk"
      }
    },
    {
      "cell_type": "code",
      "source": [
        "list_of_tuples = [(1, 3), (4, 1), (2, 5), (3, 2)]\n",
        "\n",
        "a = sorted(list_of_tuples,key = lambda x: x[1])\n",
        "print(a)"
      ],
      "metadata": {
        "colab": {
          "base_uri": "https://localhost:8080/"
        },
        "id": "uEs000XvUGgg",
        "outputId": "5c93d9fa-cc57-4c53-89af-18a42916c946"
      },
      "execution_count": 333,
      "outputs": [
        {
          "output_type": "stream",
          "name": "stdout",
          "text": [
            "[(4, 1), (3, 2), (1, 3), (2, 5)]\n"
          ]
        }
      ]
    },
    {
      "cell_type": "markdown",
      "source": [
        "###9. Write a Python program that uses `map()` to convert a list of temperatures from Celsius to Fahrenheit"
      ],
      "metadata": {
        "id": "r2nBzAkxfpti"
      }
    },
    {
      "cell_type": "code",
      "source": [
        "#fahrenheit = (9/5) * celsius + 32\n",
        "\n",
        "fahrenheit = lambda x: ((9/5) * x )+ 32\n",
        "\n",
        "print(fahrenheit(25))"
      ],
      "metadata": {
        "colab": {
          "base_uri": "https://localhost:8080/"
        },
        "id": "zw-0kRbbU5FH",
        "outputId": "1f6421b5-160c-474a-926d-361894b471fb"
      },
      "execution_count": 336,
      "outputs": [
        {
          "output_type": "stream",
          "name": "stdout",
          "text": [
            "77.0\n"
          ]
        }
      ]
    },
    {
      "cell_type": "markdown",
      "source": [
        "###10.Create a Python program that uses `filter()` to remove all the vowels from a given string."
      ],
      "metadata": {
        "id": "ku0oRTBogLlY"
      }
    },
    {
      "cell_type": "code",
      "source": [
        "def remove_vowels(string_name):\n",
        "    vowels = 'aeiouAEIOU'\n",
        "    without_vowels = []\n",
        "\n",
        "    for word in string_name:\n",
        "        word_without_vowels = ''.join([char for char in word if char not in vowels])\n",
        "        without_vowels.append(word_without_vowels)\n",
        "\n",
        "    return ' '.join(without_vowels)\n",
        "\n",
        "input_string = \"The sun is setting over the horizon and it is looking beautiful.\"\n",
        "without_vowels = filter(remove_vowels, input_string)\n",
        "\n",
        "print(list(without_vowels))"
      ],
      "metadata": {
        "colab": {
          "base_uri": "https://localhost:8080/"
        },
        "id": "QhQztoPTWbfa",
        "outputId": "9025f48d-61e2-4012-d666-881ccaceacdf"
      },
      "execution_count": 363,
      "outputs": [
        {
          "output_type": "stream",
          "name": "stdout",
          "text": [
            "['T', 'h', ' ', 's', 'n', ' ', 's', ' ', 's', 't', 't', 'n', 'g', ' ', 'v', 'r', ' ', 't', 'h', ' ', 'h', 'r', 'z', 'n', ' ', 'n', 'd', ' ', 't', ' ', 's', ' ', 'l', 'k', 'n', 'g', ' ', 'b', 't', 'f', 'l', '.']\n"
          ]
        }
      ]
    },
    {
      "cell_type": "code",
      "source": [],
      "metadata": {
        "id": "cyLY7rk4jZiW"
      },
      "execution_count": null,
      "outputs": []
    }
  ]
}