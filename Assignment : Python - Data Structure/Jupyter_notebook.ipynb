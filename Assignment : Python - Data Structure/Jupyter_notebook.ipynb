{
  "nbformat": 4,
  "nbformat_minor": 0,
  "metadata": {
    "colab": {
      "provenance": [],
      "authorship_tag": "ABX9TyNJzIUebp29fZyTyeh3cimU",
      "include_colab_link": true
    },
    "kernelspec": {
      "name": "python3",
      "display_name": "Python 3"
    },
    "language_info": {
      "name": "python"
    }
  },
  "cells": [
    {
      "cell_type": "markdown",
      "metadata": {
        "id": "view-in-github",
        "colab_type": "text"
      },
      "source": [
        "<a href=\"https://colab.research.google.com/github/Rgarlay/PWSkills_Assignments/blob/main/Assignment%20%3A%20Python%20-%20Data%20Structure/Jupyter_notebook.ipynb\" target=\"_parent\"><img src=\"https://colab.research.google.com/assets/colab-badge.svg\" alt=\"Open In Colab\"/></a>"
      ]
    },
    {
      "cell_type": "markdown",
      "source": [
        "\n",
        "\n",
        "---\n",
        "##Assignment : Python - Data Structure##\n",
        "\n"
      ],
      "metadata": {
        "id": "IiOWhRuY1e93"
      }
    },
    {
      "cell_type": "markdown",
      "source": [
        "###1.Write a code to create a string with your name and print it. ###"
      ],
      "metadata": {
        "id": "ZR0hyrPI1ysW"
      }
    },
    {
      "cell_type": "code",
      "source": [
        "a = 'Ravi Garlay'\n",
        "print(a)"
      ],
      "metadata": {
        "colab": {
          "base_uri": "https://localhost:8080/"
        },
        "id": "LTCAd3Ba1yZn",
        "outputId": "a225ea9d-bd0d-4f48-f267-8ad9a23f6f72"
      },
      "execution_count": 1,
      "outputs": [
        {
          "output_type": "stream",
          "name": "stdout",
          "text": [
            "Ravi Garlay\n"
          ]
        }
      ]
    },
    {
      "cell_type": "markdown",
      "source": [
        "###2.Write a code to find the length of the string \"Hello World\"###"
      ],
      "metadata": {
        "id": "eks6sdPA2EbO"
      }
    },
    {
      "cell_type": "code",
      "execution_count": 2,
      "metadata": {
        "colab": {
          "base_uri": "https://localhost:8080/"
        },
        "id": "BeS2YYTL1dH6",
        "outputId": "c82c0d05-d42c-4f72-d850-918922401a9d"
      },
      "outputs": [
        {
          "output_type": "execute_result",
          "data": {
            "text/plain": [
              "11"
            ]
          },
          "metadata": {},
          "execution_count": 2
        }
      ],
      "source": [
        "len('Hello World')"
      ]
    },
    {
      "cell_type": "markdown",
      "source": [
        "###3. Write a code to slice the first 3 characters from the string \"Python Programming\"###"
      ],
      "metadata": {
        "id": "70rbjW4n2OMS"
      }
    },
    {
      "cell_type": "code",
      "source": [
        "a = 'Python Programming'\n",
        "a[0:3]"
      ],
      "metadata": {
        "colab": {
          "base_uri": "https://localhost:8080/",
          "height": 36
        },
        "id": "X-MtaxbX2LXO",
        "outputId": "b10ae811-0438-4942-9578-f166f4da40ff"
      },
      "execution_count": 9,
      "outputs": [
        {
          "output_type": "execute_result",
          "data": {
            "text/plain": [
              "'Pyt'"
            ],
            "application/vnd.google.colaboratory.intrinsic+json": {
              "type": "string"
            }
          },
          "metadata": {},
          "execution_count": 9
        }
      ]
    },
    {
      "cell_type": "markdown",
      "source": [
        "###4.Write a code to convert the string \"hello\" to uppercase.###"
      ],
      "metadata": {
        "id": "6c5-Qz9t3Ft2"
      }
    },
    {
      "cell_type": "code",
      "source": [
        "a = 'hello'\n",
        "a.upper()"
      ],
      "metadata": {
        "colab": {
          "base_uri": "https://localhost:8080/",
          "height": 36
        },
        "id": "x-Vronv_2Xfl",
        "outputId": "1752b169-ff97-4e03-8603-77c6e9178277"
      },
      "execution_count": 18,
      "outputs": [
        {
          "output_type": "execute_result",
          "data": {
            "text/plain": [
              "'HELLO'"
            ],
            "application/vnd.google.colaboratory.intrinsic+json": {
              "type": "string"
            }
          },
          "metadata": {},
          "execution_count": 18
        }
      ]
    },
    {
      "cell_type": "markdown",
      "source": [
        "###5.Write a code to replace the word \"apple\" with \"orange\" in the string \"I like apple\" ###"
      ],
      "metadata": {
        "id": "4QqqvROL8agF"
      }
    },
    {
      "cell_type": "code",
      "source": [
        "a = 'i like apple'\n",
        "a = a.replace('apple', 'orange')\n",
        "a"
      ],
      "metadata": {
        "colab": {
          "base_uri": "https://localhost:8080/",
          "height": 36
        },
        "id": "yx5d73b43M4r",
        "outputId": "4aaf39d4-5e8f-40ce-fb06-26f0cb352bbb"
      },
      "execution_count": 22,
      "outputs": [
        {
          "output_type": "execute_result",
          "data": {
            "text/plain": [
              "'i like orange'"
            ],
            "application/vnd.google.colaboratory.intrinsic+json": {
              "type": "string"
            }
          },
          "metadata": {},
          "execution_count": 22
        }
      ]
    },
    {
      "cell_type": "markdown",
      "source": [
        "###6.Write a code to create a list with numbers 1 to 5 and print it###"
      ],
      "metadata": {
        "id": "9DB-g0o18fwz"
      }
    },
    {
      "cell_type": "code",
      "source": [
        "a = [i for i in range(1,6)]\n",
        "a"
      ],
      "metadata": {
        "colab": {
          "base_uri": "https://localhost:8080/"
        },
        "id": "UjpVeoyS3q6V",
        "outputId": "bd11e05e-a3ad-4cad-ef31-c1e6f46fa667"
      },
      "execution_count": 24,
      "outputs": [
        {
          "output_type": "execute_result",
          "data": {
            "text/plain": [
              "[1, 2, 3, 4, 5]"
            ]
          },
          "metadata": {},
          "execution_count": 24
        }
      ]
    },
    {
      "cell_type": "markdown",
      "source": [
        "###7.Write a code to append the number 10 to the list [1, 2, 3, 4]###"
      ],
      "metadata": {
        "id": "AdKgv2Cg8keH"
      }
    },
    {
      "cell_type": "code",
      "source": [
        "a = [i for i in range(1,5)]\n",
        "a.append(10)\n",
        "a"
      ],
      "metadata": {
        "colab": {
          "base_uri": "https://localhost:8080/"
        },
        "id": "O8re4Kv05Gt_",
        "outputId": "fce24c9b-d1c4-4f6a-87e7-3536bf0368d6"
      },
      "execution_count": 25,
      "outputs": [
        {
          "output_type": "execute_result",
          "data": {
            "text/plain": [
              "[1, 2, 3, 4, 10]"
            ]
          },
          "metadata": {},
          "execution_count": 25
        }
      ]
    },
    {
      "cell_type": "markdown",
      "source": [
        "###8.Write a code to remove the number 3 from the list [1, 2, 3, 4, 5].###"
      ],
      "metadata": {
        "id": "XUJ7LrtM8qE1"
      }
    },
    {
      "cell_type": "code",
      "source": [
        "a = [i for i in range(1,6)]\n",
        "a.remove(3)\n",
        "a"
      ],
      "metadata": {
        "colab": {
          "base_uri": "https://localhost:8080/"
        },
        "id": "14LlKS6h5SZ6",
        "outputId": "a1969014-9b11-4469-858c-da59581ce8cf"
      },
      "execution_count": 27,
      "outputs": [
        {
          "output_type": "execute_result",
          "data": {
            "text/plain": [
              "[1, 2, 4, 5]"
            ]
          },
          "metadata": {},
          "execution_count": 27
        }
      ]
    },
    {
      "cell_type": "markdown",
      "source": [
        "###9.Write a code to access the second element in the list ['a', 'b', 'c', 'd'].###"
      ],
      "metadata": {
        "id": "sEArOHO88wnu"
      }
    },
    {
      "cell_type": "code",
      "source": [
        "a = ['a','b','c','d']\n",
        "a[1]"
      ],
      "metadata": {
        "colab": {
          "base_uri": "https://localhost:8080/",
          "height": 36
        },
        "id": "wX2kCINh5ZYe",
        "outputId": "81a2486d-9ab2-49eb-a8c2-75ca3fdc0092"
      },
      "execution_count": 28,
      "outputs": [
        {
          "output_type": "execute_result",
          "data": {
            "text/plain": [
              "'b'"
            ],
            "application/vnd.google.colaboratory.intrinsic+json": {
              "type": "string"
            }
          },
          "metadata": {},
          "execution_count": 28
        }
      ]
    },
    {
      "cell_type": "markdown",
      "source": [
        "###10.Write a code to reverse the list [10, 20, 30, 40, 50].###"
      ],
      "metadata": {
        "id": "GlhEUu0x81AJ"
      }
    },
    {
      "cell_type": "code",
      "source": [
        "a = [i for i in range(10,60,10)]\n",
        "b = []\n",
        "for i in a[::-1]:\n",
        "  b.append(i)\n",
        "print(b)"
      ],
      "metadata": {
        "colab": {
          "base_uri": "https://localhost:8080/"
        },
        "id": "UE9KUuPB5gF3",
        "outputId": "a2d518ed-58fc-4835-a90f-1b8c96933798"
      },
      "execution_count": 40,
      "outputs": [
        {
          "output_type": "stream",
          "name": "stdout",
          "text": [
            "[50, 40, 30, 20, 10]\n"
          ]
        }
      ]
    },
    {
      "cell_type": "markdown",
      "source": [
        "###11. Write a code to create a tuple with the elements 10, 20, 30 and print it.###"
      ],
      "metadata": {
        "id": "mZDefISQ85DJ"
      }
    },
    {
      "cell_type": "code",
      "source": [
        "a = (10,20,30)\n",
        "print(a)"
      ],
      "metadata": {
        "colab": {
          "base_uri": "https://localhost:8080/"
        },
        "id": "qEkQYM3m5orj",
        "outputId": "7c573451-2173-4b63-d83c-c1d957881eeb"
      },
      "execution_count": 46,
      "outputs": [
        {
          "output_type": "stream",
          "name": "stdout",
          "text": [
            "(10, 20, 30)\n"
          ]
        }
      ]
    },
    {
      "cell_type": "markdown",
      "source": [
        "###12. Write a code to access the first element of the tuple ('apple', 'banana', 'cherry').###"
      ],
      "metadata": {
        "id": "pgThjmsd88vc"
      }
    },
    {
      "cell_type": "code",
      "source": [
        "a = ('apple','banana','cherry')\n",
        "a[0]"
      ],
      "metadata": {
        "colab": {
          "base_uri": "https://localhost:8080/",
          "height": 36
        },
        "id": "ksJ5rWPf6gJW",
        "outputId": "5f142c10-9a99-4613-ad1a-5903926e22b8"
      },
      "execution_count": 47,
      "outputs": [
        {
          "output_type": "execute_result",
          "data": {
            "text/plain": [
              "'apple'"
            ],
            "application/vnd.google.colaboratory.intrinsic+json": {
              "type": "string"
            }
          },
          "metadata": {},
          "execution_count": 47
        }
      ]
    },
    {
      "cell_type": "markdown",
      "source": [
        "###13.Write a code to count how many times the number 2 appears in the tuple (1, 2, 3, 2, 4, 2)###"
      ],
      "metadata": {
        "id": "SZ3qUZIs9AFq"
      }
    },
    {
      "cell_type": "code",
      "source": [
        "a = (1,2,3,2,4,2)\n",
        "a.count(2)"
      ],
      "metadata": {
        "colab": {
          "base_uri": "https://localhost:8080/"
        },
        "id": "BfzYmOSi6yYx",
        "outputId": "c0f463dd-28da-4f3e-856b-3d08cd1f1c4e"
      },
      "execution_count": 58,
      "outputs": [
        {
          "output_type": "execute_result",
          "data": {
            "text/plain": [
              "3"
            ]
          },
          "metadata": {},
          "execution_count": 58
        }
      ]
    },
    {
      "cell_type": "markdown",
      "source": [
        "###15. Write a code to find the index of the element \"cat\" in the tuple ('dog', 'cat', 'rabbit').###"
      ],
      "metadata": {
        "id": "CdIn1HLD9INE"
      }
    },
    {
      "cell_type": "code",
      "source": [
        "a = ('cat','dog','rabbit')\n",
        "a.index('cat')"
      ],
      "metadata": {
        "colab": {
          "base_uri": "https://localhost:8080/"
        },
        "id": "1Lrfg35Q7RpW",
        "outputId": "cf05b483-1887-49bd-ce66-9b1e7eda8960"
      },
      "execution_count": 61,
      "outputs": [
        {
          "output_type": "execute_result",
          "data": {
            "text/plain": [
              "0"
            ]
          },
          "metadata": {},
          "execution_count": 61
        }
      ]
    },
    {
      "cell_type": "markdown",
      "source": [
        "###15.Write a code to check if the element \"banana\" is in the tuple ('apple', 'orange', 'banana').###"
      ],
      "metadata": {
        "id": "O3JPlU4f9s3Y"
      }
    },
    {
      "cell_type": "code",
      "source": [
        "a = ('apple','orange','banana')\n",
        "'banana' in a"
      ],
      "metadata": {
        "colab": {
          "base_uri": "https://localhost:8080/"
        },
        "id": "6Ph1SgJM-Ed2",
        "outputId": "9cf02cb9-54f0-46b0-c147-dd3ab2cf1a76"
      },
      "execution_count": 67,
      "outputs": [
        {
          "output_type": "execute_result",
          "data": {
            "text/plain": [
              "True"
            ]
          },
          "metadata": {},
          "execution_count": 67
        }
      ]
    },
    {
      "cell_type": "markdown",
      "source": [
        "###16.Write a code to create a set with the elements 1, 2, 3, 4, 5 and print it.###"
      ],
      "metadata": {
        "id": "qSq_MiTL-P92"
      }
    },
    {
      "cell_type": "code",
      "source": [
        "a = (1,2,3,4,5)\n",
        "print(a)"
      ],
      "metadata": {
        "colab": {
          "base_uri": "https://localhost:8080/"
        },
        "id": "rKrPBo7T-Gjc",
        "outputId": "2d692171-caf5-45df-f1dc-d742181f1d92"
      },
      "execution_count": 68,
      "outputs": [
        {
          "output_type": "stream",
          "name": "stdout",
          "text": [
            "<generator object <genexpr> at 0x7f9e9ba0c380>\n"
          ]
        }
      ]
    }
  ]
}