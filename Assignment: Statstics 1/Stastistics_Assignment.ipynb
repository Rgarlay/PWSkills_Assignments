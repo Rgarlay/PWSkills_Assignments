{
  "nbformat": 4,
  "nbformat_minor": 0,
  "metadata": {
    "colab": {
      "provenance": [],
      "authorship_tag": "ABX9TyNaw9qSDpdpp87gVynDhVTo",
      "include_colab_link": true
    },
    "kernelspec": {
      "name": "python3",
      "display_name": "Python 3"
    },
    "language_info": {
      "name": "python"
    }
  },
  "cells": [
    {
      "cell_type": "markdown",
      "metadata": {
        "id": "view-in-github",
        "colab_type": "text"
      },
      "source": [
        "<a href=\"https://colab.research.google.com/github/Rgarlay/PWSkills_Assignments/blob/main/Assignment%3A%20Statstics%201/Stastistics_Assignment.ipynb\" target=\"_parent\"><img src=\"https://colab.research.google.com/assets/colab-badge.svg\" alt=\"Open In Colab\"/></a>"
      ]
    },
    {
      "cell_type": "markdown",
      "source": [
        "###1.Explain the different types of data (qualitative and quantitative) and provide examples of each. Discuss nominal, ordinal, interval, and ratio scales."
      ],
      "metadata": {
        "id": "5AYrizjgJ8MR"
      }
    },
    {
      "cell_type": "markdown",
      "source": [
        "1.Explain the different types of data (qualitative and quantitative) and provide examples of each. Discuss nominal, ordinal, interval, and ratio scales."
      ],
      "metadata": {
        "id": "PcjgniSaK9ld"
      }
    },
    {
      "cell_type": "markdown",
      "source": [
        "There are 2 types of data:-\n",
        "\n",
        "\n",
        "**1.Quantative Data**: - It is present in terms of numbers. For example, IQ distribution in population, literacy rate in a given region etc. We can perform operations like mean, variance, standard deviation etc.\n",
        "\n",
        "**Qualitative Data**: - Qualitative data is data that is present in form of text, categories or maybe graphic format. Names, gender, Address are examples of qualitative data.\n",
        "\n",
        "Type of data:-\n",
        "\n",
        " **Nominal Data**:- This data is classified in distinct, no intrinsic order. Classes are mutual exclusive. For example, department in a company or gender.\n",
        "\n",
        "**Ordinal Data**:- This data is classified into distinct but in intrinsic orderly manner. Gap between 2 classes may not be equal. However ordinal data can ranked due to its order. For example: Academic Qualifiction:- High School, Senior School, Under Graduate; do not share equal gap.\n",
        "\n",
        "**Interval Data**:- This data is sorted into classes having same difference interval. Each class have its finite width. For example IQ, Temprature, pH measure are sorted in interval data.\n",
        "\n",
        "**Ratio Data**:- It measure variable on a scale which refers to some standard value. For example, length, area, mass, age. It has true zero and can be both equal or unequally spaced.\n"
      ],
      "metadata": {
        "id": "h3WCEAeZLEPy"
      }
    },
    {
      "cell_type": "code",
      "execution_count": null,
      "metadata": {
        "id": "7zv8ltqzJ2d5"
      },
      "outputs": [],
      "source": []
    },
    {
      "cell_type": "markdown",
      "source": [
        "###2. What are the measures of central tendency, and when should you use each? Discuss the mean, median, and mode with examples and situations where each is appropriate."
      ],
      "metadata": {
        "id": "PUn9GwfqLoG5"
      }
    },
    {
      "cell_type": "markdown",
      "source": [
        "Ans: - Measures of central tendency are used to describe the data with single value that represent the middle or centre of data. There are 4 measures of central tendency. It is vulnerable to outliers.\n",
        "\n",
        "**Mean**:- It sums up all the numbers in distribution and divide by their number. This method is useful for tackling data that belongs to ratio or interval type.\n",
        "\n",
        "**Median**:- It gives us the literal middle value from the distribution. This is appropriate for each data type except nominal data type.\n",
        "\n",
        "\n",
        "\n",
        "**Mode**:- Mode gives us the value with highest frequency. This is appropriate for all 4 type of data types.\n",
        "\n",
        "\n"
      ],
      "metadata": {
        "id": "-76GgxkOLuXt"
      }
    },
    {
      "cell_type": "code",
      "source": [
        "import numpy as np\n",
        "from scipy import stats\n",
        "\n",
        "##Median\n",
        "A_1=  np.array([35, 40, 42, 38, 90])\n",
        "print('median',np.median(A_1))\n",
        "\n",
        "##Average\n",
        "A= np.arange(20,35,30)  ##Temprature range for a month (Interval Data)\n",
        "print('mean',np.mean(A))  ##Gives value to describe temperature that month.\n",
        "\n",
        "\n",
        "#Mode:\n",
        "Sizes = np.array([1, 1, 2, 2, 2, 3, 4, 5])\n",
        "stats.mode(Sizes)"
      ],
      "metadata": {
        "colab": {
          "base_uri": "https://localhost:8080/"
        },
        "id": "u9DPZmq6LpGP",
        "outputId": "1c7d8d7c-0712-47f3-a6c5-2fde8e46d9de"
      },
      "execution_count": 9,
      "outputs": [
        {
          "output_type": "stream",
          "name": "stdout",
          "text": [
            "median 40.0\n",
            "mean 20.0\n"
          ]
        },
        {
          "output_type": "execute_result",
          "data": {
            "text/plain": [
              "ModeResult(mode=2, count=3)"
            ]
          },
          "metadata": {},
          "execution_count": 9
        }
      ]
    },
    {
      "cell_type": "markdown",
      "source": [
        "###3. Explain the concept of dispersion. How do variance and standard deviation measure the spread of data?"
      ],
      "metadata": {
        "id": "GQhB7NTYNWuX"
      }
    },
    {
      "cell_type": "markdown",
      "source": [
        "Ans: - Dispersion measure describe how spread out the data is from the mean value. Variance, standard deviation are two measures of dispersion.\n",
        "\n",
        "It quantifies how much the data points deviate from the mean. A higher variance means the data points are more spread out, while a lower variance means they are closer to the mean.\n",
        "\n",
        "Standard deviation is root of the variance. While its values also increases and decreases in proportion to how spread out the data distribution is. It also has other interpetation in context of SND.\n",
        "\n",
        "For standard Normal Distribution, mean is 0 and standard deviation is 1.\n",
        " Modern IQ test have mean of 100 and standard deviation of 15.\n",
        " It goes out to say that for 100±15, about 68% of the population falls.\n",
        " And for 100±30, 99% of population is distributed.\n"
      ],
      "metadata": {
        "id": "9PMVFZJbNaDy"
      }
    },
    {
      "cell_type": "code",
      "source": [],
      "metadata": {
        "id": "JICibJfhMPn6"
      },
      "execution_count": null,
      "outputs": []
    },
    {
      "cell_type": "markdown",
      "source": [
        "###4. What is a box plot, and what can it tell you about the distribution of data?"
      ],
      "metadata": {
        "id": "V7Iq_a8KOXGQ"
      }
    },
    {
      "cell_type": "markdown",
      "source": [
        "Ans: - Box plot is used to describe the numerical data. It has 5 crucial parts.\n",
        "1.Minimum:- It gives the minimum value in distribution. It gives 25% of minimum values in data.\n",
        "\n",
        "2.IQR:- It is called Inter Quartile range and is divided into describes 3 things.\n",
        "\n",
        "q1:- 1st  quartile range describes the top 25-50% range of values in the data.\n",
        "\n",
        "Median:- This describes the middle value of distribution.\n",
        "\n",
        "q3: - 3rd quartile range describes the 50-75% range of values in data.\n",
        "\n",
        "Max:- This describes the top 75-100% range of values.\n",
        "Outside this, we have outliers in plot.\n"
      ],
      "metadata": {
        "id": "XY6QPyEjOa43"
      }
    },
    {
      "cell_type": "code",
      "source": [],
      "metadata": {
        "id": "06A_o3HMOYFP"
      },
      "execution_count": null,
      "outputs": []
    },
    {
      "cell_type": "markdown",
      "source": [
        "###5. Discuss the role of random sampling in making inferences about populations."
      ],
      "metadata": {
        "id": "Pe2oqppYOnIK"
      }
    },
    {
      "cell_type": "markdown",
      "source": [
        "Ans: - For most practical cases, taking all data about a population is a near impossible task. Therefore, we employ methods to draw inference about the population.\n",
        "\n",
        "To ensure that the sample that is under observation is without bias and is true representative of population, some measures are taken.\n",
        "\n",
        "The premise of random sampling is; taking test subjects randomly from the population and without constraint. Every member has equal probability of being chosen. So that we do not have biases and can approximate to the population.\n"
      ],
      "metadata": {
        "id": "dbkIrJRiOp3I"
      }
    },
    {
      "cell_type": "code",
      "source": [],
      "metadata": {
        "id": "eymaPBYiOn8V"
      },
      "execution_count": null,
      "outputs": []
    },
    {
      "cell_type": "markdown",
      "source": [
        "###6. Explain the concept of skewness and its types. How does skewness affect the interpretation of data?"
      ],
      "metadata": {
        "id": "zAVXkVQ4Otg9"
      }
    },
    {
      "cell_type": "markdown",
      "source": [
        "Ans:- A normal distributed data has data equally divided left and right. But not every data is normally distributed, sometimes the data has greater density towards left or right.\n",
        "\n",
        "For example, if we were to draw data from social media following from population. Most people will have few following, except some celebrities and influencers, most people would be concentrated towards the origin end of distribution.\n",
        "\n",
        "Generally for right skewed data, mean>median.\n",
        "For left skewed data, median>mean.\n",
        "\n",
        " Also, it will affect spread interpretation. Since standard deviation toward one side will be more than other, a single number will not be true representative of data distribution.\n"
      ],
      "metadata": {
        "id": "TIaX6jdFOwuL"
      }
    },
    {
      "cell_type": "code",
      "source": [],
      "metadata": {
        "id": "lSJXg0arOuVx"
      },
      "execution_count": null,
      "outputs": []
    },
    {
      "cell_type": "markdown",
      "source": [
        "###7. What is the interquartile range (IQR), and how is it used to detect outliers?"
      ],
      "metadata": {
        "id": "Ado7HvcXO8W-"
      }
    },
    {
      "cell_type": "markdown",
      "source": [
        "Ans:- IQR is called interquartile range.\n",
        "\n",
        "`IQR = Q3 – Q1.`\n",
        "\n",
        "Q3 = third quartile, Q1 = first quartile.\n",
        "\n",
        "Generally, since IQR middle value is median. We define bounds for the data distribution.\n",
        "\n",
        "`Lower bound = Q1 – 1.5*IQR`\n",
        "\n",
        "`Upper Bound = Q3 + 1.5*IQR`\n",
        "\n",
        "Values that lie beyond these bounds are labelled as outliers. Using box plot, we can visualize. Further, we can slice off our datasets to remove them from the data to make our data consistent."
      ],
      "metadata": {
        "id": "N9abg3RXO-3r"
      }
    },
    {
      "cell_type": "code",
      "source": [],
      "metadata": {
        "id": "S0DpLz3UO9Cc"
      },
      "execution_count": null,
      "outputs": []
    },
    {
      "cell_type": "markdown",
      "source": [
        "###8. Discuss the conditions under which the binomial distribution is used."
      ],
      "metadata": {
        "id": "PoalKKsJPJZr"
      }
    },
    {
      "cell_type": "markdown",
      "source": [
        "Ans: - Binomial distribution is used when:\n",
        "1. We have multiple trials experiments.\n",
        "2. Random variable is discrete.\n",
        "3. The outcome is binary for each trail.\n",
        "4. Trial are independent.\n",
        "\n"
      ],
      "metadata": {
        "id": "qjmpWxOjPMfu"
      }
    },
    {
      "cell_type": "code",
      "source": [],
      "metadata": {
        "id": "HXPjKAG9PKag"
      },
      "execution_count": null,
      "outputs": []
    },
    {
      "cell_type": "markdown",
      "source": [
        "###9. Explain the properties of the normal distribution and the empirical rule (68-95-99.7 rule)."
      ],
      "metadata": {
        "id": "ZCIhiqSHPcP3"
      }
    },
    {
      "cell_type": "markdown",
      "source": [
        "Ans:- For a normal distribution, we have 68-95-99.7 rule\n",
        "According to this rule:\n",
        "68% of all observations lie under one standard deviation on both side from the mean.\n",
        "95% of all observation lie under 2 standard deviation, and 99% lie under 3 standard deviation of either side.\n"
      ],
      "metadata": {
        "id": "jZI11kY5Pf2t"
      }
    },
    {
      "cell_type": "code",
      "source": [],
      "metadata": {
        "id": "SnVrZ3bXPdAZ"
      },
      "execution_count": null,
      "outputs": []
    },
    {
      "cell_type": "markdown",
      "source": [
        "###10. Provide a real-life example of a Poisson process and calculate the probability for a specific event."
      ],
      "metadata": {
        "id": "nox1UmCiPlOJ"
      }
    },
    {
      "cell_type": "markdown",
      "source": [
        "Take an example, if 3 accidents happen per day on a particular highway. We are to calculate the probability of 5 accidents happening on a given day."
      ],
      "metadata": {
        "id": "MKZ_frLiQA8E"
      }
    },
    {
      "cell_type": "code",
      "source": [
        "import math\n",
        "def PoissonProbability(lambda_1,k):\n",
        "  probability = (math.exp(-lambda_1)* (lambda_1**k))/math.factorial(k)\n",
        "  return probability\n",
        "\n",
        "\n",
        "P = PoissonProbability(lambda_1 = 3,k = 5)\n",
        "print('Probability of 5 accidents is:-',P)"
      ],
      "metadata": {
        "colab": {
          "base_uri": "https://localhost:8080/"
        },
        "id": "BCII0rNjPlqL",
        "outputId": "c0464c6a-bdfd-46dc-92e8-006531f45c6f"
      },
      "execution_count": 18,
      "outputs": [
        {
          "output_type": "stream",
          "name": "stdout",
          "text": [
            "Probability of 5 accidents is:- 0.10081881344492448\n"
          ]
        }
      ]
    },
    {
      "cell_type": "markdown",
      "source": [
        "###11. Explain what a random variable is and differentiate between discrete and continuous random variables."
      ],
      "metadata": {
        "id": "VYfUgWlQPmEy"
      }
    },
    {
      "cell_type": "markdown",
      "source": [
        "Ans:- Random variable is a function whose values are derived from the outcome of a experiment.\n",
        "\n",
        "For example, if we are to toss a coin, then random variable function associated would take value heads or tails, depending on the outcome.\n",
        "\n",
        "Random variable is of 2 types.\n",
        "Discrete random variable derives its outcome from experiments that can have discrete values. Tossing a coin or rolling a dice are such events.\n",
        "\n",
        "Continuous random variable is function whose value is continuous. For example, function i.e. random variable associated with age , distance or concentration will take its values from a continuous range.\n"
      ],
      "metadata": {
        "id": "29sVXcncPtZm"
      }
    },
    {
      "cell_type": "code",
      "source": [],
      "metadata": {
        "id": "CU1etsoyPokz"
      },
      "execution_count": null,
      "outputs": []
    },
    {
      "cell_type": "markdown",
      "source": [
        "###12. Provide an example dataset, calculate both covariance and correlation, and interpret the results."
      ],
      "metadata": {
        "id": "ttLI31bzTU5c"
      }
    },
    {
      "cell_type": "code",
      "source": [
        "import seaborn as sns\n",
        "df = sns.load_dataset('iris')"
      ],
      "metadata": {
        "id": "OSlynDvhTV3I"
      },
      "execution_count": 19,
      "outputs": []
    },
    {
      "cell_type": "code",
      "source": [
        "df['petal_length'].cov(df['petal_width'])"
      ],
      "metadata": {
        "colab": {
          "base_uri": "https://localhost:8080/"
        },
        "id": "xmplyEFHToHo",
        "outputId": "07750627-2276-41ec-ea3c-7e82b307d69c"
      },
      "execution_count": 67,
      "outputs": [
        {
          "output_type": "execute_result",
          "data": {
            "text/plain": [
              "1.2956093959731547"
            ]
          },
          "metadata": {},
          "execution_count": 67
        }
      ]
    },
    {
      "cell_type": "code",
      "source": [
        "df['petal_length'].corr(df['petal_width'])"
      ],
      "metadata": {
        "colab": {
          "base_uri": "https://localhost:8080/"
        },
        "id": "Jpz4jybpT5IA",
        "outputId": "609489a5-0a00-4df1-959b-239ce5142dc8"
      },
      "execution_count": 68,
      "outputs": [
        {
          "output_type": "execute_result",
          "data": {
            "text/plain": [
              "0.9628654314027961"
            ]
          },
          "metadata": {},
          "execution_count": 68
        }
      ]
    }
  ]
}