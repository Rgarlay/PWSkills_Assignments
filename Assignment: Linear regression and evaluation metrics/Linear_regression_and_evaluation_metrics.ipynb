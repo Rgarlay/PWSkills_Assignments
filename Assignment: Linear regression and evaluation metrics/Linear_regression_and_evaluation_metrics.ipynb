{
  "nbformat": 4,
  "nbformat_minor": 0,
  "metadata": {
    "colab": {
      "provenance": [],
      "authorship_tag": "ABX9TyO51O3VoW33dUzJA0jjx9Lk",
      "include_colab_link": true
    },
    "kernelspec": {
      "name": "python3",
      "display_name": "Python 3"
    },
    "language_info": {
      "name": "python"
    }
  },
  "cells": [
    {
      "cell_type": "markdown",
      "metadata": {
        "id": "view-in-github",
        "colab_type": "text"
      },
      "source": [
        "<a href=\"https://colab.research.google.com/github/Rgarlay/PWSkills_Assignments/blob/main/Assignment%3A%20Linear%20regression%20and%20evaluation%20metrics/Linear_regression_and_evaluation_metrics.ipynb\" target=\"_parent\"><img src=\"https://colab.research.google.com/assets/colab-badge.svg\" alt=\"Open In Colab\"/></a>"
      ]
    },
    {
      "cell_type": "markdown",
      "source": [
        "#Theoratical Questions\n",
        "\n",
        "\n"
      ],
      "metadata": {
        "id": "kPUzew5NTKK4"
      }
    },
    {
      "cell_type": "markdown",
      "source": [
        "###1. What does R-squared represent in a regression model.\n",
        "\n",
        "It represents how well the variance of target variable is explained by feature variable.\n",
        "High R_squred value infers strong most of the variance of dependent feature is explained from independent feature and vice verca.\n"
      ],
      "metadata": {
        "id": "k79XmhTnTP92"
      }
    },
    {
      "cell_type": "code",
      "source": [],
      "metadata": {
        "id": "UAGc1AEeTPYF"
      },
      "execution_count": null,
      "outputs": []
    },
    {
      "cell_type": "markdown",
      "source": [
        "###2. What are the assumptions of linear regression?"
      ],
      "metadata": {
        "id": "FhvqKR7SUDak"
      }
    },
    {
      "cell_type": "markdown",
      "source": [
        "1. Homoscedasticity\n",
        "\n",
        "2. Independence of features\n",
        "\n",
        "3. Absense of Multicolinearity.\n",
        "\n",
        "4. Linearity trend with target and feature variable.\n"
      ],
      "metadata": {
        "id": "pE7vzp6eUFSD"
      }
    },
    {
      "cell_type": "code",
      "execution_count": null,
      "metadata": {
        "id": "PBL3kq2uTD2O"
      },
      "outputs": [],
      "source": []
    },
    {
      "cell_type": "markdown",
      "source": [
        "###3. What is the difference between R-squared and Adjusted R-squared?"
      ],
      "metadata": {
        "id": "SC6dhtq_UeeC"
      }
    },
    {
      "cell_type": "markdown",
      "source": [
        "R-squared only displays the ratio of explained variance to total variance.\n",
        "Adjusted R-square also incorporates if adding more features improve the model's predictability.\n",
        "\n",
        "R-squared only increases and saturates.\n",
        "Adj. R-squared can increase and then decrease.\n",
        "\n",
        "R-squared value ranges from 0 to 1.\n",
        "Adj. R-squared can be negative when number of features superceede number of data points.\n",
        "\n",
        "\n",
        "\n",
        "\n"
      ],
      "metadata": {
        "id": "tFmzeCsFUgSO"
      }
    },
    {
      "cell_type": "code",
      "source": [],
      "metadata": {
        "id": "tQEdww9lUf56"
      },
      "execution_count": null,
      "outputs": []
    },
    {
      "cell_type": "markdown",
      "source": [
        "###4. Why do we use Mean Squared Error (MSE)?"
      ],
      "metadata": {
        "id": "9c_VA0DMWdiM"
      }
    },
    {
      "cell_type": "markdown",
      "source": [
        "To evalue the quality of our model in predicting the target variable.\n",
        "\n",
        ">MSE is robust to direction of error.\n",
        "\n",
        ">MSE function is continuous and differentiable.\n",
        "\n",
        ">It has a global minina, making it possible to minimise error.\n"
      ],
      "metadata": {
        "id": "anugSWmSWf_M"
      }
    },
    {
      "cell_type": "code",
      "source": [],
      "metadata": {
        "id": "F5etnThWWfSW"
      },
      "execution_count": null,
      "outputs": []
    },
    {
      "cell_type": "markdown",
      "source": [
        "###5. What does an Adjusted R-squared value of 0.85 indicate?"
      ],
      "metadata": {
        "id": "H5beBuSLXNan"
      }
    },
    {
      "cell_type": "markdown",
      "source": [
        "Adj. R-Squared is given as\n",
        "\n",
        "```\n",
        "Adj. R-squared = 1 - \\frac{(1-R^2)(n-1)}{n-k-1}\n",
        "```\n",
        "\n",
        "Adj. R-squared value predicts that most of the variance of target variable is predicted by the independent feature.\n"
      ],
      "metadata": {
        "id": "oR_N5z4-XPnV"
      }
    },
    {
      "cell_type": "code",
      "source": [],
      "metadata": {
        "id": "fr4Gt7VwXO8p"
      },
      "execution_count": null,
      "outputs": []
    },
    {
      "cell_type": "markdown",
      "source": [
        "###6. How do we check for normality of residuals in linear regression?"
      ],
      "metadata": {
        "id": "QQubwJrZYcNS"
      }
    },
    {
      "cell_type": "markdown",
      "source": [
        "Normality of residuals confirm an important assumption of the linear regression.\n",
        "`homoscedastcity`\n",
        "If this is violated, linear regression model is not effective in modeling."
      ],
      "metadata": {
        "id": "PHhAC1PMYfeI"
      }
    },
    {
      "cell_type": "code",
      "source": [],
      "metadata": {
        "id": "ewS3yv9CYdlw"
      },
      "execution_count": null,
      "outputs": []
    },
    {
      "cell_type": "markdown",
      "source": [
        "###7. What is multicollinearity, and how does it impact regression?"
      ],
      "metadata": {
        "id": "_PubyBPwYzK5"
      }
    },
    {
      "cell_type": "markdown",
      "source": [
        "Multicollinearity is high collinearity among the predicting features.\n",
        "\n",
        "Multicollinearity in model can lead to:\n",
        "\n",
        ">Reducing interpretability.\n",
        "\n",
        ">Increase complexity in model relations and increase in computational power.\n",
        "\n",
        ">Overfitting"
      ],
      "metadata": {
        "id": "71DuhQViY07Q"
      }
    },
    {
      "cell_type": "code",
      "source": [],
      "metadata": {
        "id": "M5I3J23ZY0OB"
      },
      "execution_count": null,
      "outputs": []
    },
    {
      "cell_type": "markdown",
      "source": [
        "###8. What is Mean Absolute Error (MAE)?"
      ],
      "metadata": {
        "id": "l63VhI_BaD-S"
      }
    },
    {
      "cell_type": "markdown",
      "source": [
        "Mean absolute error is a metric to test the regression model.\n",
        "\n",
        "```\n",
        "MAE = (1/n)(sum(|y_real - y_pred|))\n",
        "```\n",
        "\n",
        ">It is interpretable.\n",
        "\n",
        ">It has same units as target_variable.\n",
        "\n",
        ">It is immune to direction of error.\n",
        "\n",
        ">It is less sensitive to outliers."
      ],
      "metadata": {
        "id": "6zx_552WaF8X"
      }
    },
    {
      "cell_type": "code",
      "source": [],
      "metadata": {
        "id": "qOl_f3rtaFaj"
      },
      "execution_count": null,
      "outputs": []
    },
    {
      "cell_type": "markdown",
      "source": [
        "###9.  What are the benefits of using an ML pipeline?"
      ],
      "metadata": {
        "id": "S3_jjL1aa0ys"
      }
    },
    {
      "cell_type": "markdown",
      "source": [
        "It is upto industry standards.\n",
        "\n",
        "Pipelines makes intergrability and modifications easy.\n",
        "\n",
        "It is efficent in scaling and saves time by avoiding repetetion."
      ],
      "metadata": {
        "id": "-m9gfFeRbJrE"
      }
    },
    {
      "cell_type": "code",
      "source": [],
      "metadata": {
        "id": "IH6YEsApa3I0"
      },
      "execution_count": null,
      "outputs": []
    },
    {
      "cell_type": "markdown",
      "source": [
        "###10. Why is RMSE considered more interpretable than MSE?"
      ],
      "metadata": {
        "id": "tcQB256ycyvz"
      }
    },
    {
      "cell_type": "markdown",
      "source": [
        "RMSE has same units as the target variable.\n",
        "\n",
        "The result has same magnitude order of target variable.\n"
      ],
      "metadata": {
        "id": "7DSEtCvoc1Se"
      }
    },
    {
      "cell_type": "code",
      "source": [],
      "metadata": {
        "id": "V7z6ns1zc0RS"
      },
      "execution_count": null,
      "outputs": []
    },
    {
      "cell_type": "markdown",
      "source": [
        "###11. What is pickling in Python, and how is it useful in ML?"
      ],
      "metadata": {
        "id": "Qu7asSldd7YH"
      }
    },
    {
      "cell_type": "markdown",
      "source": [
        "Pickling is the process of converting python object into byte stream, so that it can be saved or transferred.\n",
        "\n",
        "It can be later deconscruted and retrive into its raw state.\n",
        "\n",
        "This allows us to save and transfer ml models over a network , or work with pre trained models."
      ],
      "metadata": {
        "id": "rpRC4WuOd_N5"
      }
    },
    {
      "cell_type": "code",
      "source": [],
      "metadata": {
        "id": "T0VFcw1bd-og"
      },
      "execution_count": null,
      "outputs": []
    },
    {
      "cell_type": "markdown",
      "source": [
        "###12. What does a high R-squared value mean?"
      ],
      "metadata": {
        "id": "Zxb2uzwafFBE"
      }
    },
    {
      "cell_type": "markdown",
      "source": [
        "It means that a big part of the variance of target data label is explained by the model."
      ],
      "metadata": {
        "id": "6Tf1lbNFgHol"
      }
    },
    {
      "cell_type": "code",
      "source": [],
      "metadata": {
        "id": "V_mujRwFgF3G"
      },
      "execution_count": null,
      "outputs": []
    },
    {
      "cell_type": "markdown",
      "source": [
        "###13. What happens if linear regression assumptions are violated?"
      ],
      "metadata": {
        "id": "JzxoIadpgvRW"
      }
    },
    {
      "cell_type": "markdown",
      "source": [
        "Then the model will perform poorly and will not be able to capture the pattern in model and will underfit."
      ],
      "metadata": {
        "id": "NomsDIfEgxNz"
      }
    },
    {
      "cell_type": "code",
      "source": [],
      "metadata": {
        "id": "nF_ot8DifGec"
      },
      "execution_count": null,
      "outputs": []
    },
    {
      "cell_type": "markdown",
      "source": [
        "###14. How can we address multicollinearity in regression?"
      ],
      "metadata": {
        "id": "HU9Wqe0WhF4y"
      }
    },
    {
      "cell_type": "markdown",
      "source": [
        "What we can do:- We can delete the feature one by one till model's features have low correlation.\n",
        "\n",
        "Methods:- VIF:- Variance Inflation.\n",
        "\n",
        "RFE:- Recirsive feature elemination.\n",
        "\n",
        "PCA:- Principle component analysis."
      ],
      "metadata": {
        "id": "yCuvO6MHhIcw"
      }
    },
    {
      "cell_type": "code",
      "source": [],
      "metadata": {
        "id": "tynepi5EhH9C"
      },
      "execution_count": null,
      "outputs": []
    },
    {
      "cell_type": "markdown",
      "source": [
        "###15.  How can feature selection improve model performance in regression analysis?"
      ],
      "metadata": {
        "id": "RxIviL5Bh5Kz"
      }
    },
    {
      "cell_type": "markdown",
      "source": [
        "It makes the model simpler.\n",
        "\n",
        "It reduces computation required power.\n",
        "\n",
        "It reduces overfitting.\n",
        "\n",
        "It makes model more interpretable.\n",
        "\n",
        "It reduces multicollinearity."
      ],
      "metadata": {
        "id": "4dgSkSrTh7mH"
      }
    },
    {
      "cell_type": "code",
      "source": [],
      "metadata": {
        "id": "ob2MJhOih7Bj"
      },
      "execution_count": null,
      "outputs": []
    },
    {
      "cell_type": "markdown",
      "source": [
        "###16. How is Adjusted R-squared calculated?"
      ],
      "metadata": {
        "id": "epJ7yjpxiS9B"
      }
    },
    {
      "cell_type": "markdown",
      "source": [
        "```\n",
        "Adj. R-squared = 1 - \\frac{(1-R^2)(n-1)}{n-k-1}\n",
        "```\n",
        "n = no. of data points\n",
        "\n",
        "k = no. of features.\n",
        "\n",
        "R^2 = R_squared value\n"
      ],
      "metadata": {
        "id": "FrQjzDsUic7K"
      }
    },
    {
      "cell_type": "code",
      "source": [],
      "metadata": {
        "id": "LYCIzQagiVRv"
      },
      "execution_count": null,
      "outputs": []
    },
    {
      "cell_type": "markdown",
      "source": [
        "###17. Why is MSE sensitive to outliers?"
      ],
      "metadata": {
        "id": "xXS8-1C3ipTo"
      }
    },
    {
      "cell_type": "markdown",
      "source": [
        "It squares the difference between predicted and actual data point, if a data point is far away from predicted line, it will have high square value. Consequently, the model will pay more attention to minimizing it, making model worse overall."
      ],
      "metadata": {
        "id": "rvRO-pPeisvH"
      }
    },
    {
      "cell_type": "code",
      "source": [],
      "metadata": {
        "id": "31fvxloZisMv"
      },
      "execution_count": null,
      "outputs": []
    },
    {
      "cell_type": "markdown",
      "source": [
        "###18. What is the role of homoscedasticity in linear regression?"
      ],
      "metadata": {
        "id": "grbnUDEyjIxT"
      }
    },
    {
      "cell_type": "markdown",
      "source": [
        "Homoscedasticity is the constant variance of the residuals.\n",
        "\n",
        "This is an important assupmption of the linear regression.\n",
        "\n",
        "If this is violated, then it means that there is some pattern underneath within the features that is not captued by model."
      ],
      "metadata": {
        "id": "rBjHJ52Ajd80"
      }
    },
    {
      "cell_type": "code",
      "source": [],
      "metadata": {
        "id": "eAvxSqv-jde8"
      },
      "execution_count": null,
      "outputs": []
    },
    {
      "cell_type": "markdown",
      "source": [
        "###19. What is Root Mean Squared Error (RMSE)?"
      ],
      "metadata": {
        "id": "FRFO1dydkWt9"
      }
    },
    {
      "cell_type": "markdown",
      "source": [
        "Its the root of MSE.\n",
        "Its an important evaluation metric in regression.\n",
        "It is:\n",
        "\n",
        "Interpretable.\n",
        "\n",
        "in same order of magnitude and unit as target variable.\n",
        "\n",
        "It has continuous and differnetiable functinoal form."
      ],
      "metadata": {
        "id": "QJTuI9bkkZ8A"
      }
    },
    {
      "cell_type": "code",
      "source": [],
      "metadata": {
        "id": "codjCbPBjKMi"
      },
      "execution_count": null,
      "outputs": []
    },
    {
      "cell_type": "markdown",
      "source": [
        "###20. Why is pickling considered risky?"
      ],
      "metadata": {
        "id": "W4a0LWask5oL"
      }
    },
    {
      "cell_type": "markdown",
      "source": [
        "Vulnerable to corrpution.\n",
        "\n",
        "May not be compatible accros differnet python versions.\n",
        "\n"
      ],
      "metadata": {
        "id": "rznP0CnIlLEh"
      }
    },
    {
      "cell_type": "code",
      "source": [],
      "metadata": {
        "id": "vySYQFZGk7SH"
      },
      "execution_count": null,
      "outputs": []
    },
    {
      "cell_type": "markdown",
      "source": [
        "###21. What alternatives exist to pickling for saving ML models?"
      ],
      "metadata": {
        "id": "srZPflN7lk57"
      }
    },
    {
      "cell_type": "markdown",
      "source": [
        "Saving objects in ptehr formats like joblib or HDF5.\n",
        "\n",
        "Its safer for ML pickling.\n",
        "\n"
      ],
      "metadata": {
        "id": "l3NXxjcilvpP"
      }
    },
    {
      "cell_type": "code",
      "source": [],
      "metadata": {
        "id": "WEAkiW5llnLg"
      },
      "execution_count": null,
      "outputs": []
    },
    {
      "cell_type": "markdown",
      "source": [
        "###22. What is heteroscedasticity, and why is it a problem?"
      ],
      "metadata": {
        "id": "W9w3MULSnXyL"
      }
    },
    {
      "cell_type": "markdown",
      "source": [
        "Heteroscedasicity means that the variance of the residuals are not constant.\n",
        "\n",
        "This is problematic in linear regression, beacuase this could be an indication that the data is not entirely or sufficently independent.\n",
        "\n",
        "This could lead to features influencing each other and affecting each other's weight coefficent, ultimately leading to a model with bad fit on training data."
      ],
      "metadata": {
        "id": "8SVmWU1Jnaza"
      }
    },
    {
      "cell_type": "code",
      "source": [],
      "metadata": {
        "id": "gaIlNIZdnZbx"
      },
      "execution_count": null,
      "outputs": []
    },
    {
      "cell_type": "markdown",
      "source": [
        "###23.  How can interaction terms enhance a regression model's predictive power?"
      ],
      "metadata": {
        "id": "pLDgPiiUoIqK"
      }
    },
    {
      "cell_type": "markdown",
      "source": [
        "Interaction terms can increase multicollinearity, thus decreasing th model's power.\n"
      ],
      "metadata": {
        "id": "SH-KTmNloLkw"
      }
    },
    {
      "cell_type": "code",
      "source": [],
      "metadata": {
        "id": "ZMth0kfHoKyQ"
      },
      "execution_count": null,
      "outputs": []
    },
    {
      "cell_type": "markdown",
      "source": [
        "#Practical Questions"
      ],
      "metadata": {
        "id": "r9_yFGxqpd9r"
      }
    },
    {
      "cell_type": "markdown",
      "source": [
        "###1. 1. Write a Python script to visualize the distribution of errors (residuals) for a multiple linear regression model using Seaborn's \"diamonds\" dataset."
      ],
      "metadata": {
        "id": "wJjEF7hupgqW"
      }
    },
    {
      "cell_type": "code",
      "source": [
        "import pandas as pd\n",
        "import numpy as np\n",
        "import seaborn as sns\n",
        "import matplotlib.pyplot as plt\n",
        "import plotly.express as px\n",
        "from sklearn.linear_model import LinearRegression\n",
        "from sklearn.model_selection import train_test_split\n",
        "from sklearn.model_selection import KFold, cross_val_score\n",
        "from sklearn.linear_model import Ridge\n",
        "from sklearn.metrics import mean_squared_error\n",
        "from sklearn.pipeline import make_pipeline\n",
        "from sklearn.preprocessing import StandardScaler\n",
        "from statsmodels.stats.outliers_influence import variance_inflation_factor\n",
        "from sklearn.preprocessing import PolynomialFeatures\n",
        "from sklearn.metrics import r2_score\n",
        "from sklearn.linear_model import LinearRegression, Ridge, Lasso\n",
        "from sklearn.pipeline import Pipeline"
      ],
      "metadata": {
        "id": "w5DXYH-Vpf0P"
      },
      "execution_count": 7,
      "outputs": []
    },
    {
      "cell_type": "code",
      "source": [
        "diamonds = sns.load_dataset('diamonds')\n",
        "df = diamonds[['depth', 'table', 'price', 'x', 'y',\n",
        "       'z']]"
      ],
      "metadata": {
        "id": "LIc-gBGtpqXL"
      },
      "execution_count": 35,
      "outputs": []
    },
    {
      "cell_type": "code",
      "source": [
        "\n",
        "\n",
        "\n",
        "lr = LinearRegression()\n",
        "x = df.iloc[:,:-1]\n",
        "y = df.iloc[:,-1]\n",
        "x_train,x_test,y_train,y_test = train_test_split(x,y,test_size = 0.25,random_state=42)\n",
        "lr.fit(x_train,y_train)\n",
        "\n",
        "y_train_pred = lr.predict(x_train)"
      ],
      "metadata": {
        "id": "sjtcmMoDp7IM"
      },
      "execution_count": 5,
      "outputs": []
    },
    {
      "cell_type": "code",
      "source": [
        "error = y_train - y_train_pred"
      ],
      "metadata": {
        "id": "51QnC7UVw8NU"
      },
      "execution_count": 11,
      "outputs": []
    },
    {
      "cell_type": "code",
      "source": [
        "sns.scatterplot(error)\n",
        "plt.title('Residual Scatter plot')\n",
        "plt.show()"
      ],
      "metadata": {
        "colab": {
          "base_uri": "https://localhost:8080/",
          "height": 452
        },
        "id": "i8gPzD4psPdX",
        "outputId": "fbacf361-1e77-4613-8406-2e4998a0992b"
      },
      "execution_count": 14,
      "outputs": [
        {
          "output_type": "display_data",
          "data": {
            "text/plain": [
              "<Figure size 640x480 with 1 Axes>"
            ],
            "image/png": "[encoded data removed]"
          },
          "metadata": {}
        }
      ]
    },
    {
      "cell_type": "code",
      "source": [],
      "metadata": {
        "id": "DyY71wpjsa_a"
      },
      "execution_count": 6,
      "outputs": []
    },
    {
      "cell_type": "markdown",
      "source": [
        "###2.  Write a Python script to calculate and print Mean Squared Error (MSE), Mean Absolute Error (MAE), and Root Mean Squared Error (RMSE) for a linear regression model."
      ],
      "metadata": {
        "id": "koEYD4uKtlU4"
      }
    },
    {
      "cell_type": "code",
      "source": [
        "def metrics(y_test,y_pred):\n",
        "  from sklearn.metrics import root_mean_squared_error,mean_absolute_error,mean_squared_error\n",
        "  import pandas as pd\n",
        "  y1 = mean_squared_error(y_test,y_pred)\n",
        "  y2 = root_mean_squared_error(y_test,y_pred)\n",
        "  y3 = mean_absolute_error(y_test,y_pred)\n",
        "\n",
        "  df = pd.DataFrame({'MSE':[y1],\"RMSE\":[y2],\"MAE\":[y3]})\n",
        "  return df\n",
        "\n",
        "df_1 = metrics(y_train,y_train_pred)\n",
        "df_1"
      ],
      "metadata": {
        "colab": {
          "base_uri": "https://localhost:8080/",
          "height": 89
        },
        "id": "yk91k_ymt1NK",
        "outputId": "9442c030-a74a-46fd-c8cd-7c6806a771c7"
      },
      "execution_count": 33,
      "outputs": [
        {
          "output_type": "execute_result",
          "data": {
            "text/plain": [
              "        MSE      RMSE       MAE\n",
              "0  0.027766  0.166631  0.017358"
            ],
            "text/html": [
              "\n",
              "  <div id=\"df-90290a83-28b7-43b8-b502-4ab53e150ccd\" class=\"colab-df-container\">\n",
              "    <div>\n",
              "<style scoped>\n",
              "    .dataframe tbody tr th:only-of-type {\n",
              "        vertical-align: middle;\n",
              "    }\n",
              "\n",
              "    .dataframe tbody tr th {\n",
              "        vertical-align: top;\n",
              "    }\n",
              "\n",
              "    .dataframe thead th {\n",
              "        text-align: right;\n",
              "    }\n",
              "</style>\n",
              "<table border=\"1\" class=\"dataframe\">\n",
              "  <thead>\n",
              "    <tr style=\"text-align: right;\">\n",
              "      <th></th>\n",
              "      <th>MSE</th>\n",
              "      <th>RMSE</th>\n",
              "      <th>MAE</th>\n",
              "    </tr>\n",
              "  </thead>\n",
              "  <tbody>\n",
              "    <tr>\n",
              "      <th>0</th>\n",
              "      <td>0.027766</td>\n",
              "      <td>0.166631</td>\n",
              "      <td>0.017358</td>\n",
              "    </tr>\n",
              "  </tbody>\n",
              "</table>\n",
              "</div>\n",
              "    <div class=\"colab-df-buttons\">\n",
              "\n",
              "  <div class=\"colab-df-container\">\n",
              "    <button class=\"colab-df-convert\" onclick=\"convertToInteractive('df-90290a83-28b7-43b8-b502-4ab53e150ccd')\"\n",
              "            title=\"Convert this dataframe to an interactive table.\"\n",
              "            style=\"display:none;\">\n",
              "\n",
              "  <svg xmlns=\"http://www.w3.org/2000/svg\" height=\"24px\" viewBox=\"0 -960 960 960\">\n",
              "    <path d=\"M120-120v-720h720v720H120Zm60-500h600v-160H180v160Zm220 220h160v-160H400v160Zm0 220h160v-160H400v160ZM180-400h160v-160H180v160Zm440 0h160v-160H620v160ZM180-180h160v-160H180v160Zm440 0h160v-160H620v160Z\"/>\n",
              "  </svg>\n",
              "    </button>\n",
              "\n",
              "  <style>\n",
              "    .colab-df-container {\n",
              "      display:flex;\n",
              "      gap: 12px;\n",
              "    }\n",
              "\n",
              "    .colab-df-convert {\n",
              "      background-color: #E8F0FE;\n",
              "      border: none;\n",
              "      border-radius: 50%;\n",
              "      cursor: pointer;\n",
              "      display: none;\n",
              "      fill: #1967D2;\n",
              "      height: 32px;\n",
              "      padding: 0 0 0 0;\n",
              "      width: 32px;\n",
              "    }\n",
              "\n",
              "    .colab-df-convert:hover {\n",
              "      background-color: #E2EBFA;\n",
              "      box-shadow: 0px 1px 2px rgba(60, 64, 67, 0.3), 0px 1px 3px 1px rgba(60, 64, 67, 0.15);\n",
              "      fill: #174EA6;\n",
              "    }\n",
              "\n",
              "    .colab-df-buttons div {\n",
              "      margin-bottom: 4px;\n",
              "    }\n",
              "\n",
              "    [theme=dark] .colab-df-convert {\n",
              "      background-color: #3B4455;\n",
              "      fill: #D2E3FC;\n",
              "    }\n",
              "\n",
              "    [theme=dark] .colab-df-convert:hover {\n",
              "      background-color: #434B5C;\n",
              "      box-shadow: 0px 1px 3px 1px rgba(0, 0, 0, 0.15);\n",
              "      filter: drop-shadow(0px 1px 2px rgba(0, 0, 0, 0.3));\n",
              "      fill: #FFFFFF;\n",
              "    }\n",
              "  </style>\n",
              "\n",
              "    <script>\n",
              "      const buttonEl =\n",
              "        document.querySelector('#df-90290a83-28b7-43b8-b502-4ab53e150ccd button.colab-df-convert');\n",
              "      buttonEl.style.display =\n",
              "        google.colab.kernel.accessAllowed ? 'block' : 'none';\n",
              "\n",
              "      async function convertToInteractive(key) {\n",
              "        const element = document.querySelector('#df-90290a83-28b7-43b8-b502-4ab53e150ccd');\n",
              "        const dataTable =\n",
              "          await google.colab.kernel.invokeFunction('convertToInteractive',\n",
              "                                                    [key], {});\n",
              "        if (!dataTable) return;\n",
              "\n",
              "        const docLinkHtml = 'Like what you see? Visit the ' +\n",
              "          '<a target=\"_blank\" href=https://colab.research.google.com/notebooks/data_table.ipynb>data table notebook</a>'\n",
              "          + ' to learn more about interactive tables.';\n",
              "        element.innerHTML = '';\n",
              "        dataTable['output_type'] = 'display_data';\n",
              "        await google.colab.output.renderOutput(dataTable, element);\n",
              "        const docLink = document.createElement('div');\n",
              "        docLink.innerHTML = docLinkHtml;\n",
              "        element.appendChild(docLink);\n",
              "      }\n",
              "    </script>\n",
              "  </div>\n",
              "\n",
              "\n",
              "  <div id=\"id_c68570f1-e3e5-452e-9b4e-6a24d35cf51c\">\n",
              "    <style>\n",
              "      .colab-df-generate {\n",
              "        background-color: #E8F0FE;\n",
              "        border: none;\n",
              "        border-radius: 50%;\n",
              "        cursor: pointer;\n",
              "        display: none;\n",
              "        fill: #1967D2;\n",
              "        height: 32px;\n",
              "        padding: 0 0 0 0;\n",
              "        width: 32px;\n",
              "      }\n",
              "\n",
              "      .colab-df-generate:hover {\n",
              "        background-color: #E2EBFA;\n",
              "        box-shadow: 0px 1px 2px rgba(60, 64, 67, 0.3), 0px 1px 3px 1px rgba(60, 64, 67, 0.15);\n",
              "        fill: #174EA6;\n",
              "      }\n",
              "\n",
              "      [theme=dark] .colab-df-generate {\n",
              "        background-color: #3B4455;\n",
              "        fill: #D2E3FC;\n",
              "      }\n",
              "\n",
              "      [theme=dark] .colab-df-generate:hover {\n",
              "        background-color: #434B5C;\n",
              "        box-shadow: 0px 1px 3px 1px rgba(0, 0, 0, 0.15);\n",
              "        filter: drop-shadow(0px 1px 2px rgba(0, 0, 0, 0.3));\n",
              "        fill: #FFFFFF;\n",
              "      }\n",
              "    </style>\n",
              "    <button class=\"colab-df-generate\" onclick=\"generateWithVariable('df_1')\"\n",
              "            title=\"Generate code using this dataframe.\"\n",
              "            style=\"display:none;\">\n",
              "\n",
              "  <svg xmlns=\"http://www.w3.org/2000/svg\" height=\"24px\"viewBox=\"0 0 24 24\"\n",
              "       width=\"24px\">\n",
              "    <path d=\"M7,19H8.4L18.45,9,17,7.55,7,17.6ZM5,21V16.75L18.45,3.32a2,2,0,0,1,2.83,0l1.4,1.43a1.91,1.91,0,0,1,.58,1.4,1.91,1.91,0,0,1-.58,1.4L9.25,21ZM18.45,9,17,7.55Zm-12,3A5.31,5.31,0,0,0,4.9,8.1,5.31,5.31,0,0,0,1,6.5,5.31,5.31,0,0,0,4.9,4.9,5.31,5.31,0,0,0,6.5,1,5.31,5.31,0,0,0,8.1,4.9,5.31,5.31,0,0,0,12,6.5,5.46,5.46,0,0,0,6.5,12Z\"/>\n",
              "  </svg>\n",
              "    </button>\n",
              "    <script>\n",
              "      (() => {\n",
              "      const buttonEl =\n",
              "        document.querySelector('#id_c68570f1-e3e5-452e-9b4e-6a24d35cf51c button.colab-df-generate');\n",
              "      buttonEl.style.display =\n",
              "        google.colab.kernel.accessAllowed ? 'block' : 'none';\n",
              "\n",
              "      buttonEl.onclick = () => {\n",
              "        google.colab.notebook.generateWithVariable('df_1');\n",
              "      }\n",
              "      })();\n",
              "    </script>\n",
              "  </div>\n",
              "\n",
              "    </div>\n",
              "  </div>\n"
            ],
            "application/vnd.google.colaboratory.intrinsic+json": {
              "type": "dataframe",
              "variable_name": "df_1",
              "summary": "{\n  \"name\": \"df_1\",\n  \"rows\": 1,\n  \"fields\": [\n    {\n      \"column\": \"MSE\",\n      \"properties\": {\n        \"dtype\": \"number\",\n        \"std\": null,\n        \"min\": 0.027766008813440494,\n        \"max\": 0.027766008813440494,\n        \"num_unique_values\": 1,\n        \"samples\": [\n          0.027766008813440494\n        ],\n        \"semantic_type\": \"\",\n        \"description\": \"\"\n      }\n    },\n    {\n      \"column\": \"RMSE\",\n      \"properties\": {\n        \"dtype\": \"number\",\n        \"std\": null,\n        \"min\": 0.16663135603313228,\n        \"max\": 0.16663135603313228,\n        \"num_unique_values\": 1,\n        \"samples\": [\n          0.16663135603313228\n        ],\n        \"semantic_type\": \"\",\n        \"description\": \"\"\n      }\n    },\n    {\n      \"column\": \"MAE\",\n      \"properties\": {\n        \"dtype\": \"number\",\n        \"std\": null,\n        \"min\": 0.01735848075775946,\n        \"max\": 0.01735848075775946,\n        \"num_unique_values\": 1,\n        \"samples\": [\n          0.01735848075775946\n        ],\n        \"semantic_type\": \"\",\n        \"description\": \"\"\n      }\n    }\n  ]\n}"
            }
          },
          "metadata": {},
          "execution_count": 33
        }
      ]
    },
    {
      "cell_type": "markdown",
      "source": [
        "###3.  Write a Python script to check if the assumptions of linear regression are met. Use a scatter plot to check linearity, residuals plot for homoscedasticity, and correlation matrix for multicollinearity."
      ],
      "metadata": {
        "id": "dievCA6RUL-k"
      }
    },
    {
      "cell_type": "code",
      "source": [
        "def assumption_test_plots(df,y_test,y_pred):\n",
        "  import seaborn as sns\n",
        "  ##To see multicollinearity\n",
        "\n",
        "  fig,axes = plt.subplots(nrows=3, figsize = (6,15))\n",
        "\n",
        "  correlation = df.corr()\n",
        "  sns.heatmap(correlation,vmax = 1,vmin = -1,cmap='coolwarm',annot=True,ax = axes[0])\n",
        "\n",
        "  ##To see homoscedasticity\n",
        "  error = y_test - y_pred\n",
        "  sns.scatterplot(error,ax = axes[1])\n",
        "  ##To see linearity\n",
        "\n",
        "  sns.scatterplot(x=y_test, y=y_pred, ax=axes[2])\n",
        "\n",
        "  axes[0].set_title(\"Feature Correlation Heatmap (Multicollinearity Check)\")\n",
        "  axes[1].set_title(\"Residual Plot (Homoscedasticity Check)\")\n",
        "  axes[2].set_title(\"Actual vs Predicted (Linearity Check)\")\n",
        "\n",
        "  plt.show()\n",
        "\n",
        "y_pred = lr.predict(x_test)\n",
        "\n",
        "assumption_test_plots(df,y_test,y_pred)\n"
      ],
      "metadata": {
        "id": "VIXH8Au7ua2A",
        "colab": {
          "base_uri": "https://localhost:8080/",
          "height": 1000
        },
        "outputId": "3988b231-dd27-4efc-bbec-d05460b8859f"
      },
      "execution_count": 60,
      "outputs": [
        {
          "output_type": "display_data",
          "data": {
            "text/plain": [
              "<Figure size 600x1500 with 4 Axes>"
            ],
            "image/png": "[encoded data removed]"
          },
          "metadata": {}
        }
      ]
    },
    {
      "cell_type": "code",
      "source": [],
      "metadata": {
        "id": "J9aR_ttGugKy"
      },
      "execution_count": 60,
      "outputs": []
    },
    {
      "cell_type": "markdown",
      "source": [
        "###4. Write a Python script that creates a machine learning pipeline with feature scaling and evaluates the performance of different regression models."
      ],
      "metadata": {
        "id": "9PJz0qpd7Xta"
      }
    },
    {
      "cell_type": "code",
      "source": [
        "def ml_models_evaluator(x_train, x_test, y_train, y_test, models):\n",
        "  from sklearn.preprocessing import StandardScaler\n",
        "  from sklearn.metrics import root_mean_squared_error,mean_absolute_error,mean_squared_error\n",
        "\n",
        "  metrics = {}\n",
        "  std = StandardScaler()\n",
        "  x_train_scaled = std.fit_transform(x_train)\n",
        "  x_test_scaled = std.transform(x_test)\n",
        "\n",
        "  for name,model in models.items():\n",
        "\n",
        "    model.fit(x_train_scaled,y_train)\n",
        "    y_pred = model.predict(x_test_scaled)\n",
        "\n",
        "    mse = mean_squared_error(y_test,y_pred)\n",
        "    rmse = root_mean_squared_error(y_test,y_pred)\n",
        "    mae = mean_absolute_error(y_test,y_pred)\n",
        "\n",
        "    metrics[f'mae for {name}'] = mse\n",
        "    metrics[f'rmse for {name}'] = rmse\n",
        "    metrics[f'mae for {name}'] = mae\n",
        "\n",
        "  return metrics\n",
        "\n",
        "models = {\n",
        "    'Linear Regression (default)': LinearRegression(),\n",
        "    'Linear Regression (no intercept)': LinearRegression(fit_intercept=False),\n",
        "    'Ridge Regression (alpha=1.0, solver=\"auto\")': Ridge(alpha=1.0, solver=\"auto\"),\n",
        "    'Ridge Regression (alpha=5.0, solver=\"saga\")': Ridge(alpha=5.0, solver=\"saga\"),\n",
        "    'Lasso Regression (alpha=0.1, max_iter=5000)': Lasso(alpha=0.1, max_iter=5000),\n",
        "    'Lasso Regression (alpha=1.0, tol=0.001)': Lasso(alpha=1.0, tol=0.001),\n",
        "}\n",
        "\n",
        "abc = ml_models_evaluator(x_train,x_test,y_train,y_test,models)\n",
        "abc\n",
        ""
      ],
      "metadata": {
        "colab": {
          "base_uri": "https://localhost:8080/"
        },
        "id": "OJxVdQGk7Z4s",
        "outputId": "80bff865-26ab-4dfb-d06c-ab7e8e7f179c"
      },
      "execution_count": 89,
      "outputs": [
        {
          "output_type": "execute_result",
          "data": {
            "text/plain": [
              "{'mae for Linear Regression (default)': 0.015335708726415155,\n",
              " 'rmse for Linear Regression (default)': 0.03691254071414503,\n",
              " 'mae for Linear Regression (no intercept)': 3.539838344247741,\n",
              " 'rmse for Linear Regression (no intercept)': 3.5400307929516552,\n",
              " 'mae for Ridge Regression (alpha=1.0, solver=\"auto\")': 0.015332356882937935,\n",
              " 'rmse for Ridge Regression (alpha=1.0, solver=\"auto\")': 0.03691032597511609,\n",
              " 'mae for Ridge Regression (alpha=5.0, solver=\"saga\")': 0.015315654937063496,\n",
              " 'rmse for Ridge Regression (alpha=5.0, solver=\"saga\")': 0.03690061992357052,\n",
              " 'mae for Lasso Regression (alpha=0.1, max_iter=5000)': 0.10976565342723307,\n",
              " 'rmse for Lasso Regression (alpha=0.1, max_iter=5000)': 0.137538544349236,\n",
              " 'mae for Lasso Regression (alpha=1.0, tol=0.001)': 0.5912978708129399,\n",
              " 'rmse for Lasso Regression (alpha=1.0, tol=0.001)': 0.6927144411892484}"
            ]
          },
          "metadata": {},
          "execution_count": 89
        }
      ]
    },
    {
      "cell_type": "code",
      "source": [],
      "metadata": {
        "id": "tioDj-Op8bDR"
      },
      "execution_count": 89,
      "outputs": []
    },
    {
      "cell_type": "markdown",
      "source": [
        "###5.  Implement a simple linear regression model on a dataset and print the model's coefficients, intercept, and R-squared score."
      ],
      "metadata": {
        "id": "hZHrB3RVBzxi"
      }
    },
    {
      "cell_type": "code",
      "source": [
        "iris = sns.load_dataset(\"iris\")\n",
        "y = iris['petal_width']\n",
        "x = iris.drop(columns=['species','petal_width'])\n"
      ],
      "metadata": {
        "id": "gBsBSlc5BcGR"
      },
      "execution_count": 96,
      "outputs": []
    },
    {
      "cell_type": "code",
      "source": [
        "lr = LinearRegression()\n",
        "\n",
        "x_train,x_test,y_train,y_test = train_test_split(x,y,test_size = 0.25, random_state = 42)\n",
        "\n",
        "lr.fit(x_train,y_train)\n",
        "y_pred = lr.predict(x_test)\n",
        "\n",
        "coefficent = lr.coef_\n",
        "intercept = lr.intercept_\n",
        "r_2_score = r2_score(y_test,y_pred)\n",
        "\n",
        "\n",
        "print(f'coefficents are {coefficent} , intercept is {intercept} and r2_score is {r_2_score}')"
      ],
      "metadata": {
        "colab": {
          "base_uri": "https://localhost:8080/"
        },
        "id": "BK9y0C8GCZFx",
        "outputId": "11ee8665-2715-4e01-e194-ee3a84e753d5"
      },
      "execution_count": 100,
      "outputs": [
        {
          "output_type": "stream",
          "name": "stdout",
          "text": [
            "coefficents are [-0.24488106  0.24482729  0.53764071] , intercept is -0.14916391036571586 and r2_score is 0.9368671270670573\n"
          ]
        }
      ]
    },
    {
      "cell_type": "code",
      "source": [],
      "metadata": {
        "id": "Ud66GsDfD7XZ"
      },
      "execution_count": null,
      "outputs": []
    },
    {
      "cell_type": "markdown",
      "source": [
        "###6.  Write a Python script that analyzes the relationship between total bill and tip in the 'tips' dataset using simple linear regression and visualizes the results."
      ],
      "metadata": {
        "id": "GMGH5QcbELSg"
      }
    },
    {
      "cell_type": "code",
      "source": [
        "tips = sns.load_dataset('tips')"
      ],
      "metadata": {
        "id": "TMbI_IQiENjn"
      },
      "execution_count": 138,
      "outputs": []
    },
    {
      "cell_type": "code",
      "source": [
        "tips.sample()"
      ],
      "metadata": {
        "colab": {
          "base_uri": "https://localhost:8080/",
          "height": 81
        },
        "id": "ImvNS-ErEVc3",
        "outputId": "b2d28437-7550-4a11-c1e4-eae0be005886"
      },
      "execution_count": 139,
      "outputs": [
        {
          "output_type": "execute_result",
          "data": {
            "text/plain": [
              "    total_bill  tip   sex smoker  day    time  size\n",
              "27       12.69  2.0  Male     No  Sat  Dinner     2"
            ],
            "text/html": [
              "\n",
              "  <div id=\"df-dc81f5b0-29bf-4b70-8780-c00e7e76a86d\" class=\"colab-df-container\">\n",
              "    <div>\n",
              "<style scoped>\n",
              "    .dataframe tbody tr th:only-of-type {\n",
              "        vertical-align: middle;\n",
              "    }\n",
              "\n",
              "    .dataframe tbody tr th {\n",
              "        vertical-align: top;\n",
              "    }\n",
              "\n",
              "    .dataframe thead th {\n",
              "        text-align: right;\n",
              "    }\n",
              "</style>\n",
              "<table border=\"1\" class=\"dataframe\">\n",
              "  <thead>\n",
              "    <tr style=\"text-align: right;\">\n",
              "      <th></th>\n",
              "      <th>total_bill</th>\n",
              "      <th>tip</th>\n",
              "      <th>sex</th>\n",
              "      <th>smoker</th>\n",
              "      <th>day</th>\n",
              "      <th>time</th>\n",
              "      <th>size</th>\n",
              "    </tr>\n",
              "  </thead>\n",
              "  <tbody>\n",
              "    <tr>\n",
              "      <th>27</th>\n",
              "      <td>12.69</td>\n",
              "      <td>2.0</td>\n",
              "      <td>Male</td>\n",
              "      <td>No</td>\n",
              "      <td>Sat</td>\n",
              "      <td>Dinner</td>\n",
              "      <td>2</td>\n",
              "    </tr>\n",
              "  </tbody>\n",
              "</table>\n",
              "</div>\n",
              "    <div class=\"colab-df-buttons\">\n",
              "\n",
              "  <div class=\"colab-df-container\">\n",
              "    <button class=\"colab-df-convert\" onclick=\"convertToInteractive('df-dc81f5b0-29bf-4b70-8780-c00e7e76a86d')\"\n",
              "            title=\"Convert this dataframe to an interactive table.\"\n",
              "            style=\"display:none;\">\n",
              "\n",
              "  <svg xmlns=\"http://www.w3.org/2000/svg\" height=\"24px\" viewBox=\"0 -960 960 960\">\n",
              "    <path d=\"M120-120v-720h720v720H120Zm60-500h600v-160H180v160Zm220 220h160v-160H400v160Zm0 220h160v-160H400v160ZM180-400h160v-160H180v160Zm440 0h160v-160H620v160ZM180-180h160v-160H180v160Zm440 0h160v-160H620v160Z\"/>\n",
              "  </svg>\n",
              "    </button>\n",
              "\n",
              "  <style>\n",
              "    .colab-df-container {\n",
              "      display:flex;\n",
              "      gap: 12px;\n",
              "    }\n",
              "\n",
              "    .colab-df-convert {\n",
              "      background-color: #E8F0FE;\n",
              "      border: none;\n",
              "      border-radius: 50%;\n",
              "      cursor: pointer;\n",
              "      display: none;\n",
              "      fill: #1967D2;\n",
              "      height: 32px;\n",
              "      padding: 0 0 0 0;\n",
              "      width: 32px;\n",
              "    }\n",
              "\n",
              "    .colab-df-convert:hover {\n",
              "      background-color: #E2EBFA;\n",
              "      box-shadow: 0px 1px 2px rgba(60, 64, 67, 0.3), 0px 1px 3px 1px rgba(60, 64, 67, 0.15);\n",
              "      fill: #174EA6;\n",
              "    }\n",
              "\n",
              "    .colab-df-buttons div {\n",
              "      margin-bottom: 4px;\n",
              "    }\n",
              "\n",
              "    [theme=dark] .colab-df-convert {\n",
              "      background-color: #3B4455;\n",
              "      fill: #D2E3FC;\n",
              "    }\n",
              "\n",
              "    [theme=dark] .colab-df-convert:hover {\n",
              "      background-color: #434B5C;\n",
              "      box-shadow: 0px 1px 3px 1px rgba(0, 0, 0, 0.15);\n",
              "      filter: drop-shadow(0px 1px 2px rgba(0, 0, 0, 0.3));\n",
              "      fill: #FFFFFF;\n",
              "    }\n",
              "  </style>\n",
              "\n",
              "    <script>\n",
              "      const buttonEl =\n",
              "        document.querySelector('#df-dc81f5b0-29bf-4b70-8780-c00e7e76a86d button.colab-df-convert');\n",
              "      buttonEl.style.display =\n",
              "        google.colab.kernel.accessAllowed ? 'block' : 'none';\n",
              "\n",
              "      async function convertToInteractive(key) {\n",
              "        const element = document.querySelector('#df-dc81f5b0-29bf-4b70-8780-c00e7e76a86d');\n",
              "        const dataTable =\n",
              "          await google.colab.kernel.invokeFunction('convertToInteractive',\n",
              "                                                    [key], {});\n",
              "        if (!dataTable) return;\n",
              "\n",
              "        const docLinkHtml = 'Like what you see? Visit the ' +\n",
              "          '<a target=\"_blank\" href=https://colab.research.google.com/notebooks/data_table.ipynb>data table notebook</a>'\n",
              "          + ' to learn more about interactive tables.';\n",
              "        element.innerHTML = '';\n",
              "        dataTable['output_type'] = 'display_data';\n",
              "        await google.colab.output.renderOutput(dataTable, element);\n",
              "        const docLink = document.createElement('div');\n",
              "        docLink.innerHTML = docLinkHtml;\n",
              "        element.appendChild(docLink);\n",
              "      }\n",
              "    </script>\n",
              "  </div>\n",
              "\n",
              "\n",
              "    </div>\n",
              "  </div>\n"
            ],
            "application/vnd.google.colaboratory.intrinsic+json": {
              "type": "dataframe",
              "summary": "{\n  \"name\": \"tips\",\n  \"rows\": 1,\n  \"fields\": [\n    {\n      \"column\": \"total_bill\",\n      \"properties\": {\n        \"dtype\": \"number\",\n        \"std\": null,\n        \"min\": 12.69,\n        \"max\": 12.69,\n        \"num_unique_values\": 1,\n        \"samples\": [\n          12.69\n        ],\n        \"semantic_type\": \"\",\n        \"description\": \"\"\n      }\n    },\n    {\n      \"column\": \"tip\",\n      \"properties\": {\n        \"dtype\": \"number\",\n        \"std\": null,\n        \"min\": 2.0,\n        \"max\": 2.0,\n        \"num_unique_values\": 1,\n        \"samples\": [\n          2.0\n        ],\n        \"semantic_type\": \"\",\n        \"description\": \"\"\n      }\n    },\n    {\n      \"column\": \"sex\",\n      \"properties\": {\n        \"dtype\": \"category\",\n        \"num_unique_values\": 1,\n        \"samples\": [\n          \"Male\"\n        ],\n        \"semantic_type\": \"\",\n        \"description\": \"\"\n      }\n    },\n    {\n      \"column\": \"smoker\",\n      \"properties\": {\n        \"dtype\": \"category\",\n        \"num_unique_values\": 1,\n        \"samples\": [\n          \"No\"\n        ],\n        \"semantic_type\": \"\",\n        \"description\": \"\"\n      }\n    },\n    {\n      \"column\": \"day\",\n      \"properties\": {\n        \"dtype\": \"category\",\n        \"num_unique_values\": 1,\n        \"samples\": [\n          \"Sat\"\n        ],\n        \"semantic_type\": \"\",\n        \"description\": \"\"\n      }\n    },\n    {\n      \"column\": \"time\",\n      \"properties\": {\n        \"dtype\": \"category\",\n        \"num_unique_values\": 1,\n        \"samples\": [\n          \"Dinner\"\n        ],\n        \"semantic_type\": \"\",\n        \"description\": \"\"\n      }\n    },\n    {\n      \"column\": \"size\",\n      \"properties\": {\n        \"dtype\": \"number\",\n        \"std\": null,\n        \"min\": 2,\n        \"max\": 2,\n        \"num_unique_values\": 1,\n        \"samples\": [\n          2\n        ],\n        \"semantic_type\": \"\",\n        \"description\": \"\"\n      }\n    }\n  ]\n}"
            }
          },
          "metadata": {},
          "execution_count": 139
        }
      ]
    },
    {
      "cell_type": "code",
      "source": [
        "X = tips[['total_bill']]\n",
        "y = tips['tip']\n",
        "X_train, X_test, y_train, y_test = train_test_split(X, y, test_size=0.2, random_state=42)\n",
        "model = LinearRegression()\n",
        "model.fit(X_train, y_train)\n",
        "y_pred = model.predict(X_test)"
      ],
      "metadata": {
        "id": "1cmECl-BEoi0"
      },
      "execution_count": 140,
      "outputs": []
    },
    {
      "cell_type": "code",
      "source": [
        "sns.scatterplot(x=X_test['total_bill'], y=y_test, color='blue', label=\"Actual Tips\")\n",
        "sns.lineplot(x=X_test['total_bill'], y=y_pred, color='red', label=\"Regression Line\")\n",
        "plt.xlabel(\"Total Bill ($)\")\n",
        "plt.ylabel(\"Tip ($)\")\n",
        "plt.title(\"Total Bill vs Tip - Linear Regression\")\n",
        "plt.legend()\n",
        "plt.show()"
      ],
      "metadata": {
        "colab": {
          "base_uri": "https://localhost:8080/",
          "height": 472
        },
        "id": "wR_7jlVUEZeJ",
        "outputId": "87b77a87-c102-45a4-88c5-5bca4c419090"
      },
      "execution_count": 143,
      "outputs": [
        {
          "output_type": "display_data",
          "data": {
            "text/plain": [
              "<Figure size 640x480 with 1 Axes>"
            ],
            "image/png": "[encoded data removed]"
          },
          "metadata": {}
        }
      ]
    },
    {
      "cell_type": "code",
      "source": [],
      "metadata": {
        "id": "2TWEH5xYEiDu"
      },
      "execution_count": null,
      "outputs": []
    },
    {
      "cell_type": "markdown",
      "source": [
        "###7.  Write a Python script that fits a linear regression model to a synthetic dataset with one feature. Use the model to predict new values and plot the data points along with the regression line."
      ],
      "metadata": {
        "id": "KD9J48DIIPAn"
      }
    },
    {
      "cell_type": "code",
      "source": [
        "np.random.seed(22)\n",
        "a = np.random.randint(1, 10, 50)\n",
        "b = np.random.randint(1, 20, 50)\n",
        "\n",
        "data = pd.DataFrame({'a': a})\n",
        "data['b'] = b\n",
        "\n",
        "a = data[['a']]\n",
        "b = data['b']\n",
        "\n",
        "X_train, X_test, y_train, y_test = train_test_split(a, b, test_size=0.25, random_state=42)\n",
        "\n",
        "model_1 = LinearRegression()\n",
        "model_1.fit(X_train, y_train)\n",
        "\n",
        "y_pred = model_1.predict(X_test)\n",
        "\n",
        "X_test_values = X_test['a'].values\n",
        "\n",
        "sns.scatterplot(x=X_test_values, y=y_test)\n",
        "sns.lineplot(x=X_test_values, y=y_pred, color='red')\n",
        "plt.xlabel(\"X_test (feature 'a')\")\n",
        "plt.ylabel(\"y (target 'b')\")\n",
        "plt.title(\"Linear Regression Results\")\n",
        "plt.show()\n"
      ],
      "metadata": {
        "colab": {
          "base_uri": "https://localhost:8080/",
          "height": 472
        },
        "id": "tFFlba0kIQ3-",
        "outputId": "b79b4d1b-2105-4829-d8c3-cf7b757a1202"
      },
      "execution_count": 191,
      "outputs": [
        {
          "output_type": "display_data",
          "data": {
            "text/plain": [
              "<Figure size 640x480 with 1 Axes>"
            ],
            "image/png": "[encoded data removed]"
          },
          "metadata": {}
        }
      ]
    },
    {
      "cell_type": "code",
      "source": [],
      "metadata": {
        "id": "OAlF9Q8VI7Jv"
      },
      "execution_count": 191,
      "outputs": []
    },
    {
      "cell_type": "markdown",
      "source": [
        "###8.  Write a Python script that pickles a trained linear regression model and saves it to a file."
      ],
      "metadata": {
        "id": "oe7oHm_jcEe6"
      }
    },
    {
      "cell_type": "code",
      "source": [
        "import pickle\n",
        "with open('lr_model.pkl','wb') as file:\n",
        "  pickle.dump(model_1,file)"
      ],
      "metadata": {
        "id": "oY8JV8eUZl83"
      },
      "execution_count": 192,
      "outputs": []
    },
    {
      "cell_type": "code",
      "source": [],
      "metadata": {
        "id": "SmmyBjKjbGE2"
      },
      "execution_count": 199,
      "outputs": []
    },
    {
      "cell_type": "markdown",
      "source": [
        "###9. Write a Python script that fits a polynomial regression model (degree 2) to a dataset and plots the regression curve."
      ],
      "metadata": {
        "id": "8Ndni669dHsG"
      }
    },
    {
      "cell_type": "code",
      "source": [
        "np.random.seed(42)\n",
        "x = np.linspace(1, 10, 10).reshape(-1,1)\n",
        "y = 2 * x**2 + 3 * x + 5 + np.random.normal(0, 5, size=x.shape)\n",
        "poly = PolynomialFeatures(2)\n",
        "x_poly = poly.fit_transform(x)\n",
        "\n",
        "lin = LinearRegression()\n",
        "lin.fit(x_poly,y)\n",
        "y_pred = lin.predict(x_poly)\n",
        "\n",
        "plt.scatter(x=x,y=y, color='blue', label='Data points')\n",
        "plt.plot(x, y_pred, color='red', label='Polynomial fit (degree 2)')\n",
        "plt.title(\"Polynomial Regression\")\n",
        "plt.xlabel(\"x\")\n",
        "plt.ylabel(\"y\")\n",
        "plt.legend()\n",
        "plt.show()"
      ],
      "metadata": {
        "colab": {
          "base_uri": "https://localhost:8080/",
          "height": 472
        },
        "id": "stPLZCsph2r7",
        "outputId": "35d8ef71-9d4b-4350-b0b0-63108d9ceeff"
      },
      "execution_count": 265,
      "outputs": [
        {
          "output_type": "display_data",
          "data": {
            "text/plain": [
              "<Figure size 640x480 with 1 Axes>"
            ],
            "image/png": "[encoded data removed]"
          },
          "metadata": {}
        }
      ]
    },
    {
      "cell_type": "code",
      "source": [],
      "metadata": {
        "id": "E9vKOy0qiTBx"
      },
      "execution_count": 263,
      "outputs": []
    },
    {
      "cell_type": "markdown",
      "source": [
        "###10.  Generate synthetic data for simple linear regression (use random values for X and y) and fit a linear regression model to the data. Print the model's coefficient and intercept"
      ],
      "metadata": {
        "id": "lASFfpudldK7"
      }
    },
    {
      "cell_type": "code",
      "source": [
        "np.random.seed(34)\n",
        "x= np.random.randint(1,10,50).reshape(-1,1)\n",
        "y= np.random.randint(1,10,50)\n",
        "\n",
        "lr = LinearRegression()\n",
        "lr.fit(x,y)\n",
        "print(f'The coefficent is {lr.coef_} ,and the intercept is {lr.intercept_}')"
      ],
      "metadata": {
        "colab": {
          "base_uri": "https://localhost:8080/"
        },
        "id": "j_xa2Twdle0M",
        "outputId": "f461e5d2-3498-4821-e11f-3839c93eef3a"
      },
      "execution_count": 286,
      "outputs": [
        {
          "output_type": "stream",
          "name": "stdout",
          "text": [
            "The coefficent is [0.07856001] ,and the intercept is 4.278492724367061\n"
          ]
        }
      ]
    },
    {
      "cell_type": "code",
      "source": [],
      "metadata": {
        "id": "YXu-1ihdnQma"
      },
      "execution_count": null,
      "outputs": []
    },
    {
      "cell_type": "markdown",
      "source": [
        "###11.  Write a Python script that fits polynomial regression models of different degrees to a synthetic dataset and compares their performance."
      ],
      "metadata": {
        "id": "991CvUdHnT5i"
      }
    },
    {
      "cell_type": "code",
      "source": [
        "def poly_reg(x,degree,target):\n",
        "\n",
        "  from sklearn.preprocessing import PolynomialFeatures\n",
        "  from sklearn.linear_model import LinearRegression\n",
        "  from sklearn.metrics import mean_absolute_error,mean_squared_error\n",
        "\n",
        "  x_train, x_test, y_train, y_test = train_test_split(x, target, test_size=0.2, random_state=42)\n",
        "\n",
        "  metrics = {}\n",
        "  for i in range(1, degree + 1):\n",
        "    poly = PolynomialFeatures(i)\n",
        "    x_scaled = poly.fit_transform(x_train)\n",
        "    x_test_scaled = poly.transform(x_test)\n",
        "\n",
        "    lr = LinearRegression()\n",
        "    lr.fit(x_scaled,y_train)\n",
        "\n",
        "    y_pred = lr.predict(x_test_scaled)\n",
        "\n",
        "    mse = mean_squared_error(y_test, y_pred)\n",
        "    rmse = np.sqrt(mse)\n",
        "    mae = mean_absolute_error(y_test, y_pred)\n",
        "\n",
        "    metrics[f'mae for {i} polynomial'] = mse\n",
        "    metrics[f'rmse for {i} polynomial'] = rmse\n",
        "    metrics[f'mae for {i} polynomial'] = mae\n",
        "\n",
        "  return metrics"
      ],
      "metadata": {
        "id": "tKSD8smWnTlI"
      },
      "execution_count": 318,
      "outputs": []
    },
    {
      "cell_type": "code",
      "source": [
        "x = np.random.randint(1, 10, 50).reshape(-1, 1)  # Example feature data\n",
        "target = 2 * x**2 + 3 * x + 5 + np.random.normal(0, 5, size=x.shape)  # Example target\n",
        "\n",
        "degree = 4\n",
        "metrics = poly_reg(x, degree, target)\n",
        "\n",
        "print(metrics)"
      ],
      "metadata": {
        "colab": {
          "base_uri": "https://localhost:8080/"
        },
        "id": "B7M5n-J7pgKc",
        "outputId": "0873d22e-c44f-4596-8c5f-3de686472260"
      },
      "execution_count": 319,
      "outputs": [
        {
          "output_type": "stream",
          "name": "stdout",
          "text": [
            "{'mae for 1 polynomial': 9.308506199311633, 'rmse for 1 polynomial': 10.792578882698525, 'mae for 2 polynomial': 3.5362763552849055, 'rmse for 2 polynomial': 5.103816821903644, 'mae for 3 polynomial': 3.3645083809705327, 'rmse for 3 polynomial': 5.0177966956509055, 'mae for 4 polynomial': 3.2861553837571393, 'rmse for 4 polynomial': 4.966114788558263}\n"
          ]
        }
      ]
    },
    {
      "cell_type": "code",
      "source": [],
      "metadata": {
        "id": "I9vgs3b2sBbr"
      },
      "execution_count": null,
      "outputs": []
    },
    {
      "cell_type": "markdown",
      "source": [
        "###12.  Write a Python script that fits a simple linear regression model with two features and prints the model's coefficients, intercept, and R-squared score."
      ],
      "metadata": {
        "id": "x_BbbcxrtZBp"
      }
    },
    {
      "cell_type": "code",
      "source": [
        "def two_feature_reg(df, target):\n",
        "  import pandas as pd\n",
        "  from sklearn.preprocessing import StandardScaler\n",
        "  from sklearn.metrics import r2_score\n",
        "\n",
        "  X = df.drop(columns = [target])\n",
        "  y = df[target]\n",
        "\n",
        "  x_train, x_test, y_train, y_test = train_test_split(X, y, test_size=0.2, random_state=42)\n",
        "\n",
        "  std = StandardScaler()\n",
        "  x_train_scaled = std.fit_transform(x_train)\n",
        "  x_test_scaled = std.transform(x_test)\n",
        "  lr = LinearRegression()\n",
        "  lr.fit(x_train_scaled,y_train)\n",
        "  y_pred = lr.predict(x_test_scaled)\n",
        "\n",
        "  r2_value = r2_score(y_test,y_pred)\n",
        "  coefficent = lr.coef_\n",
        "  intercept = lr.intercept_\n",
        "  return r2_value,coefficent,intercept\n",
        "\n"
      ],
      "metadata": {
        "id": "paCR3DZ2tai2"
      },
      "execution_count": 324,
      "outputs": []
    },
    {
      "cell_type": "code",
      "source": [
        "df = iris[['sepal_length','sepal_width','petal_length']]\n",
        "r2,coeff,intercept = two_feature_reg(df,target = 'petal_length')\n",
        "r2,coeff,intercept"
      ],
      "metadata": {
        "colab": {
          "base_uri": "https://localhost:8080/"
        },
        "id": "SjCRfJ7ivLiJ",
        "outputId": "677f1f32-d46c-499f-ba63-ba52725d085f"
      },
      "execution_count": 327,
      "outputs": [
        {
          "output_type": "execute_result",
          "data": {
            "text/plain": [
              "(0.8924486678535347, array([ 1.44036427, -0.59999388]), 3.7266666666666657)"
            ]
          },
          "metadata": {},
          "execution_count": 327
        }
      ]
    },
    {
      "cell_type": "code",
      "source": [],
      "metadata": {
        "id": "nbAWykDbvLJ6"
      },
      "execution_count": 327,
      "outputs": []
    },
    {
      "cell_type": "markdown",
      "source": [
        "###13. Write a Python script that generates synthetic data, fits a linear regression model, and visualizes the regression line along with the data points."
      ],
      "metadata": {
        "id": "YBAAz1nFwCQx"
      }
    },
    {
      "cell_type": "code",
      "source": [
        "np.random.seed(0)\n",
        "x = np.random.rand(50, 1) * 10\n",
        "y = 2.5 * x + 5 + np.random.randn(50, 1) * 3\n",
        "\n",
        "model = LinearRegression()\n",
        "model.fit(x, y)\n",
        "y_pred = model.predict(x)\n",
        "\n",
        "plt.scatter(x, y, color='blue', label='Data points')\n",
        "plt.plot(x, y_pred, color='red', label='Regression line')\n",
        "plt.title('Linear Regression Fit')\n",
        "plt.legend()\n",
        "plt.show()\n"
      ],
      "metadata": {
        "colab": {
          "base_uri": "https://localhost:8080/",
          "height": 452
        },
        "id": "YtU5BirDvLIg",
        "outputId": "a726ef98-1f53-4eba-ba21-6ba3cc2b7632"
      },
      "execution_count": 332,
      "outputs": [
        {
          "output_type": "display_data",
          "data": {
            "text/plain": [
              "<Figure size 640x480 with 1 Axes>"
            ],
            "image/png": "[encoded data removed]"
          },
          "metadata": {}
        }
      ]
    },
    {
      "cell_type": "code",
      "source": [],
      "metadata": {
        "id": "x_XwftjjvLG2"
      },
      "execution_count": null,
      "outputs": []
    },
    {
      "cell_type": "markdown",
      "source": [
        "###14.  Write a Python script that uses the Variance Inflation Factor (VIF) to check for multicollinearity in a dataset with multiple features."
      ],
      "metadata": {
        "id": "fhQJA8nZzn9J"
      }
    },
    {
      "cell_type": "code",
      "source": [],
      "metadata": {
        "id": "L_D0IhWuvLE1"
      },
      "execution_count": 334,
      "outputs": []
    },
    {
      "cell_type": "code",
      "source": [
        "iris = iris.drop(columns = ['species'])\n",
        "#a = variance_inflation_factor(iris['petal_length'])"
      ],
      "metadata": {
        "id": "0SenXqmCzqS7"
      },
      "execution_count": 338,
      "outputs": []
    },
    {
      "cell_type": "code",
      "source": [
        "vif_df = pd.DataFrame()\n",
        "vif_df['features'] = iris.columns\n",
        "vif_df['VIF_value'] = [variance_inflation_factor(iris.values,i) for i in range(len(iris.columns))]\n",
        "vif_df"
      ],
      "metadata": {
        "colab": {
          "base_uri": "https://localhost:8080/",
          "height": 175
        },
        "id": "rZNJ4pvJ0W9t",
        "outputId": "b017111d-d78d-45c4-daea-db5e517cd9f6"
      },
      "execution_count": 344,
      "outputs": [
        {
          "output_type": "execute_result",
          "data": {
            "text/plain": [
              "       features   VIF_value\n",
              "0  sepal_length  262.969348\n",
              "1   sepal_width   96.353292\n",
              "2  petal_length  172.960962\n",
              "3   petal_width   55.502060"
            ],
            "text/html": [
              "\n",
              "  <div id=\"df-f337da6b-2d66-4e50-be8d-e1c45d45fd05\" class=\"colab-df-container\">\n",
              "    <div>\n",
              "<style scoped>\n",
              "    .dataframe tbody tr th:only-of-type {\n",
              "        vertical-align: middle;\n",
              "    }\n",
              "\n",
              "    .dataframe tbody tr th {\n",
              "        vertical-align: top;\n",
              "    }\n",
              "\n",
              "    .dataframe thead th {\n",
              "        text-align: right;\n",
              "    }\n",
              "</style>\n",
              "<table border=\"1\" class=\"dataframe\">\n",
              "  <thead>\n",
              "    <tr style=\"text-align: right;\">\n",
              "      <th></th>\n",
              "      <th>features</th>\n",
              "      <th>VIF_value</th>\n",
              "    </tr>\n",
              "  </thead>\n",
              "  <tbody>\n",
              "    <tr>\n",
              "      <th>0</th>\n",
              "      <td>sepal_length</td>\n",
              "      <td>262.969348</td>\n",
              "    </tr>\n",
              "    <tr>\n",
              "      <th>1</th>\n",
              "      <td>sepal_width</td>\n",
              "      <td>96.353292</td>\n",
              "    </tr>\n",
              "    <tr>\n",
              "      <th>2</th>\n",
              "      <td>petal_length</td>\n",
              "      <td>172.960962</td>\n",
              "    </tr>\n",
              "    <tr>\n",
              "      <th>3</th>\n",
              "      <td>petal_width</td>\n",
              "      <td>55.502060</td>\n",
              "    </tr>\n",
              "  </tbody>\n",
              "</table>\n",
              "</div>\n",
              "    <div class=\"colab-df-buttons\">\n",
              "\n",
              "  <div class=\"colab-df-container\">\n",
              "    <button class=\"colab-df-convert\" onclick=\"convertToInteractive('df-f337da6b-2d66-4e50-be8d-e1c45d45fd05')\"\n",
              "            title=\"Convert this dataframe to an interactive table.\"\n",
              "            style=\"display:none;\">\n",
              "\n",
              "  <svg xmlns=\"http://www.w3.org/2000/svg\" height=\"24px\" viewBox=\"0 -960 960 960\">\n",
              "    <path d=\"M120-120v-720h720v720H120Zm60-500h600v-160H180v160Zm220 220h160v-160H400v160Zm0 220h160v-160H400v160ZM180-400h160v-160H180v160Zm440 0h160v-160H620v160ZM180-180h160v-160H180v160Zm440 0h160v-160H620v160Z\"/>\n",
              "  </svg>\n",
              "    </button>\n",
              "\n",
              "  <style>\n",
              "    .colab-df-container {\n",
              "      display:flex;\n",
              "      gap: 12px;\n",
              "    }\n",
              "\n",
              "    .colab-df-convert {\n",
              "      background-color: #E8F0FE;\n",
              "      border: none;\n",
              "      border-radius: 50%;\n",
              "      cursor: pointer;\n",
              "      display: none;\n",
              "      fill: #1967D2;\n",
              "      height: 32px;\n",
              "      padding: 0 0 0 0;\n",
              "      width: 32px;\n",
              "    }\n",
              "\n",
              "    .colab-df-convert:hover {\n",
              "      background-color: #E2EBFA;\n",
              "      box-shadow: 0px 1px 2px rgba(60, 64, 67, 0.3), 0px 1px 3px 1px rgba(60, 64, 67, 0.15);\n",
              "      fill: #174EA6;\n",
              "    }\n",
              "\n",
              "    .colab-df-buttons div {\n",
              "      margin-bottom: 4px;\n",
              "    }\n",
              "\n",
              "    [theme=dark] .colab-df-convert {\n",
              "      background-color: #3B4455;\n",
              "      fill: #D2E3FC;\n",
              "    }\n",
              "\n",
              "    [theme=dark] .colab-df-convert:hover {\n",
              "      background-color: #434B5C;\n",
              "      box-shadow: 0px 1px 3px 1px rgba(0, 0, 0, 0.15);\n",
              "      filter: drop-shadow(0px 1px 2px rgba(0, 0, 0, 0.3));\n",
              "      fill: #FFFFFF;\n",
              "    }\n",
              "  </style>\n",
              "\n",
              "    <script>\n",
              "      const buttonEl =\n",
              "        document.querySelector('#df-f337da6b-2d66-4e50-be8d-e1c45d45fd05 button.colab-df-convert');\n",
              "      buttonEl.style.display =\n",
              "        google.colab.kernel.accessAllowed ? 'block' : 'none';\n",
              "\n",
              "      async function convertToInteractive(key) {\n",
              "        const element = document.querySelector('#df-f337da6b-2d66-4e50-be8d-e1c45d45fd05');\n",
              "        const dataTable =\n",
              "          await google.colab.kernel.invokeFunction('convertToInteractive',\n",
              "                                                    [key], {});\n",
              "        if (!dataTable) return;\n",
              "\n",
              "        const docLinkHtml = 'Like what you see? Visit the ' +\n",
              "          '<a target=\"_blank\" href=https://colab.research.google.com/notebooks/data_table.ipynb>data table notebook</a>'\n",
              "          + ' to learn more about interactive tables.';\n",
              "        element.innerHTML = '';\n",
              "        dataTable['output_type'] = 'display_data';\n",
              "        await google.colab.output.renderOutput(dataTable, element);\n",
              "        const docLink = document.createElement('div');\n",
              "        docLink.innerHTML = docLinkHtml;\n",
              "        element.appendChild(docLink);\n",
              "      }\n",
              "    </script>\n",
              "  </div>\n",
              "\n",
              "\n",
              "<div id=\"df-25aef057-8f6e-462d-a8a6-8f65e9e6f963\">\n",
              "  <button class=\"colab-df-quickchart\" onclick=\"quickchart('df-25aef057-8f6e-462d-a8a6-8f65e9e6f963')\"\n",
              "            title=\"Suggest charts\"\n",
              "            style=\"display:none;\">\n",
              "\n",
              "<svg xmlns=\"http://www.w3.org/2000/svg\" height=\"24px\"viewBox=\"0 0 24 24\"\n",
              "     width=\"24px\">\n",
              "    <g>\n",
              "        <path d=\"M19 3H5c-1.1 0-2 .9-2 2v14c0 1.1.9 2 2 2h14c1.1 0 2-.9 2-2V5c0-1.1-.9-2-2-2zM9 17H7v-7h2v7zm4 0h-2V7h2v10zm4 0h-2v-4h2v4z\"/>\n",
              "    </g>\n",
              "</svg>\n",
              "  </button>\n",
              "\n",
              "<style>\n",
              "  .colab-df-quickchart {\n",
              "      --bg-color: #E8F0FE;\n",
              "      --fill-color: #1967D2;\n",
              "      --hover-bg-color: #E2EBFA;\n",
              "      --hover-fill-color: #174EA6;\n",
              "      --disabled-fill-color: #AAA;\n",
              "      --disabled-bg-color: #DDD;\n",
              "  }\n",
              "\n",
              "  [theme=dark] .colab-df-quickchart {\n",
              "      --bg-color: #3B4455;\n",
              "      --fill-color: #D2E3FC;\n",
              "      --hover-bg-color: #434B5C;\n",
              "      --hover-fill-color: #FFFFFF;\n",
              "      --disabled-bg-color: #3B4455;\n",
              "      --disabled-fill-color: #666;\n",
              "  }\n",
              "\n",
              "  .colab-df-quickchart {\n",
              "    background-color: var(--bg-color);\n",
              "    border: none;\n",
              "    border-radius: 50%;\n",
              "    cursor: pointer;\n",
              "    display: none;\n",
              "    fill: var(--fill-color);\n",
              "    height: 32px;\n",
              "    padding: 0;\n",
              "    width: 32px;\n",
              "  }\n",
              "\n",
              "  .colab-df-quickchart:hover {\n",
              "    background-color: var(--hover-bg-color);\n",
              "    box-shadow: 0 1px 2px rgba(60, 64, 67, 0.3), 0 1px 3px 1px rgba(60, 64, 67, 0.15);\n",
              "    fill: var(--button-hover-fill-color);\n",
              "  }\n",
              "\n",
              "  .colab-df-quickchart-complete:disabled,\n",
              "  .colab-df-quickchart-complete:disabled:hover {\n",
              "    background-color: var(--disabled-bg-color);\n",
              "    fill: var(--disabled-fill-color);\n",
              "    box-shadow: none;\n",
              "  }\n",
              "\n",
              "  .colab-df-spinner {\n",
              "    border: 2px solid var(--fill-color);\n",
              "    border-color: transparent;\n",
              "    border-bottom-color: var(--fill-color);\n",
              "    animation:\n",
              "      spin 1s steps(1) infinite;\n",
              "  }\n",
              "\n",
              "  @keyframes spin {\n",
              "    0% {\n",
              "      border-color: transparent;\n",
              "      border-bottom-color: var(--fill-color);\n",
              "      border-left-color: var(--fill-color);\n",
              "    }\n",
              "    20% {\n",
              "      border-color: transparent;\n",
              "      border-left-color: var(--fill-color);\n",
              "      border-top-color: var(--fill-color);\n",
              "    }\n",
              "    30% {\n",
              "      border-color: transparent;\n",
              "      border-left-color: var(--fill-color);\n",
              "      border-top-color: var(--fill-color);\n",
              "      border-right-color: var(--fill-color);\n",
              "    }\n",
              "    40% {\n",
              "      border-color: transparent;\n",
              "      border-right-color: var(--fill-color);\n",
              "      border-top-color: var(--fill-color);\n",
              "    }\n",
              "    60% {\n",
              "      border-color: transparent;\n",
              "      border-right-color: var(--fill-color);\n",
              "    }\n",
              "    80% {\n",
              "      border-color: transparent;\n",
              "      border-right-color: var(--fill-color);\n",
              "      border-bottom-color: var(--fill-color);\n",
              "    }\n",
              "    90% {\n",
              "      border-color: transparent;\n",
              "      border-bottom-color: var(--fill-color);\n",
              "    }\n",
              "  }\n",
              "</style>\n",
              "\n",
              "  <script>\n",
              "    async function quickchart(key) {\n",
              "      const quickchartButtonEl =\n",
              "        document.querySelector('#' + key + ' button');\n",
              "      quickchartButtonEl.disabled = true;  // To prevent multiple clicks.\n",
              "      quickchartButtonEl.classList.add('colab-df-spinner');\n",
              "      try {\n",
              "        const charts = await google.colab.kernel.invokeFunction(\n",
              "            'suggestCharts', [key], {});\n",
              "      } catch (error) {\n",
              "        console.error('Error during call to suggestCharts:', error);\n",
              "      }\n",
              "      quickchartButtonEl.classList.remove('colab-df-spinner');\n",
              "      quickchartButtonEl.classList.add('colab-df-quickchart-complete');\n",
              "    }\n",
              "    (() => {\n",
              "      let quickchartButtonEl =\n",
              "        document.querySelector('#df-25aef057-8f6e-462d-a8a6-8f65e9e6f963 button');\n",
              "      quickchartButtonEl.style.display =\n",
              "        google.colab.kernel.accessAllowed ? 'block' : 'none';\n",
              "    })();\n",
              "  </script>\n",
              "</div>\n",
              "\n",
              "  <div id=\"id_d78d98ab-07ec-4ab4-a08b-90d6bd24d3a5\">\n",
              "    <style>\n",
              "      .colab-df-generate {\n",
              "        background-color: #E8F0FE;\n",
              "        border: none;\n",
              "        border-radius: 50%;\n",
              "        cursor: pointer;\n",
              "        display: none;\n",
              "        fill: #1967D2;\n",
              "        height: 32px;\n",
              "        padding: 0 0 0 0;\n",
              "        width: 32px;\n",
              "      }\n",
              "\n",
              "      .colab-df-generate:hover {\n",
              "        background-color: #E2EBFA;\n",
              "        box-shadow: 0px 1px 2px rgba(60, 64, 67, 0.3), 0px 1px 3px 1px rgba(60, 64, 67, 0.15);\n",
              "        fill: #174EA6;\n",
              "      }\n",
              "\n",
              "      [theme=dark] .colab-df-generate {\n",
              "        background-color: #3B4455;\n",
              "        fill: #D2E3FC;\n",
              "      }\n",
              "\n",
              "      [theme=dark] .colab-df-generate:hover {\n",
              "        background-color: #434B5C;\n",
              "        box-shadow: 0px 1px 3px 1px rgba(0, 0, 0, 0.15);\n",
              "        filter: drop-shadow(0px 1px 2px rgba(0, 0, 0, 0.3));\n",
              "        fill: #FFFFFF;\n",
              "      }\n",
              "    </style>\n",
              "    <button class=\"colab-df-generate\" onclick=\"generateWithVariable('vif_df')\"\n",
              "            title=\"Generate code using this dataframe.\"\n",
              "            style=\"display:none;\">\n",
              "\n",
              "  <svg xmlns=\"http://www.w3.org/2000/svg\" height=\"24px\"viewBox=\"0 0 24 24\"\n",
              "       width=\"24px\">\n",
              "    <path d=\"M7,19H8.4L18.45,9,17,7.55,7,17.6ZM5,21V16.75L18.45,3.32a2,2,0,0,1,2.83,0l1.4,1.43a1.91,1.91,0,0,1,.58,1.4,1.91,1.91,0,0,1-.58,1.4L9.25,21ZM18.45,9,17,7.55Zm-12,3A5.31,5.31,0,0,0,4.9,8.1,5.31,5.31,0,0,0,1,6.5,5.31,5.31,0,0,0,4.9,4.9,5.31,5.31,0,0,0,6.5,1,5.31,5.31,0,0,0,8.1,4.9,5.31,5.31,0,0,0,12,6.5,5.46,5.46,0,0,0,6.5,12Z\"/>\n",
              "  </svg>\n",
              "    </button>\n",
              "    <script>\n",
              "      (() => {\n",
              "      const buttonEl =\n",
              "        document.querySelector('#id_d78d98ab-07ec-4ab4-a08b-90d6bd24d3a5 button.colab-df-generate');\n",
              "      buttonEl.style.display =\n",
              "        google.colab.kernel.accessAllowed ? 'block' : 'none';\n",
              "\n",
              "      buttonEl.onclick = () => {\n",
              "        google.colab.notebook.generateWithVariable('vif_df');\n",
              "      }\n",
              "      })();\n",
              "    </script>\n",
              "  </div>\n",
              "\n",
              "    </div>\n",
              "  </div>\n"
            ],
            "application/vnd.google.colaboratory.intrinsic+json": {
              "type": "dataframe",
              "variable_name": "vif_df",
              "summary": "{\n  \"name\": \"vif_df\",\n  \"rows\": 4,\n  \"fields\": [\n    {\n      \"column\": \"features\",\n      \"properties\": {\n        \"dtype\": \"string\",\n        \"num_unique_values\": 4,\n        \"samples\": [\n          \"sepal_width\",\n          \"petal_width\",\n          \"sepal_length\"\n        ],\n        \"semantic_type\": \"\",\n        \"description\": \"\"\n      }\n    },\n    {\n      \"column\": \"VIF_value\",\n      \"properties\": {\n        \"dtype\": \"number\",\n        \"std\": 91.39622875587767,\n        \"min\": 55.50205979323787,\n        \"max\": 262.9693482414677,\n        \"num_unique_values\": 4,\n        \"samples\": [\n          96.35329172369063,\n          55.50205979323787,\n          262.9693482414677\n        ],\n        \"semantic_type\": \"\",\n        \"description\": \"\"\n      }\n    }\n  ]\n}"
            }
          },
          "metadata": {},
          "execution_count": 344
        }
      ]
    },
    {
      "cell_type": "code",
      "source": [],
      "metadata": {
        "id": "9roEQooC1F6y"
      },
      "execution_count": 344,
      "outputs": []
    },
    {
      "cell_type": "markdown",
      "source": [
        "###15. Write a Python script that generates synthetic data for a polynomial relationship (degree 4), fits a polynomial regression model, and plots the regression curve."
      ],
      "metadata": {
        "id": "DE0yPztk1oC3"
      }
    },
    {
      "cell_type": "code",
      "source": [
        "np.random.seed(0)\n",
        "x = np.random.rand(50, 1) * 10\n",
        "y = 0.5 * x**4 - 3 * x**3 + 2 * x**2 + 5 * x + 10 + np.random.randn(50, 1) * 20\n",
        "\n",
        "poly = PolynomialFeatures(degree=4)\n",
        "x_poly = poly.fit_transform(x)\n",
        "\n",
        "model = LinearRegression()\n",
        "model.fit(x_poly, y)\n",
        "y_pred = model.predict(x_poly)\n",
        "\n",
        "x_range = np.linspace(x.min(), x.max(), 100).reshape(-1, 1)\n",
        "y_range = model.predict(poly.transform(x_range))\n",
        "\n",
        "plt.scatter(x, y, color='blue', label='Data points')\n",
        "plt.plot(x_range, y_range, color='red', label='Polynomial fit')\n",
        "plt.title('Polynomial Regression (Degree 4)')\n",
        "plt.legend()\n",
        "plt.show()\n"
      ],
      "metadata": {
        "colab": {
          "base_uri": "https://localhost:8080/",
          "height": 452
        },
        "id": "zs6d5TuC1Rg_",
        "outputId": "4802510a-2e07-4c9f-e29c-e4c401ecd651"
      },
      "execution_count": 345,
      "outputs": [
        {
          "output_type": "display_data",
          "data": {
            "text/plain": [
              "<Figure size 640x480 with 1 Axes>"
            ],
            "image/png": "[encoded data removed]"
          },
          "metadata": {}
        }
      ]
    },
    {
      "cell_type": "code",
      "source": [],
      "metadata": {
        "id": "VZIl7V5E1ri0"
      },
      "execution_count": null,
      "outputs": []
    },
    {
      "cell_type": "markdown",
      "source": [
        "###16.  Write a Python script that creates a machine learning pipeline with data standardization and a multiple linear regression model, and prints the R-squared score."
      ],
      "metadata": {
        "id": "Wa1SGYrW17rv"
      }
    },
    {
      "cell_type": "code",
      "source": [
        "np.random.seed(0)\n",
        "x = np.random.rand(100, 3) * 10\n",
        "y = 3 * x[:, 0] + 2 * x[:, 1] - 4 * x[:, 2] + 5 + np.random.randn(100) * 3\n",
        "\n",
        "x_train, x_test, y_train, y_test = train_test_split(x, y, test_size=0.2, random_state=42)\n",
        "\n",
        "pipeline = make_pipeline(StandardScaler(), LinearRegression())\n",
        "pipeline.fit(x_train, y_train)\n",
        "y_pred = pipeline.predict(x_test)\n",
        "\n",
        "print(\"R-squared score:\", r2_score(y_test, y_pred))"
      ],
      "metadata": {
        "colab": {
          "base_uri": "https://localhost:8080/"
        },
        "id": "PLk9k_zA1-lp",
        "outputId": "e911068e-4407-4b71-caa6-eef73bc6710b"
      },
      "execution_count": 348,
      "outputs": [
        {
          "output_type": "stream",
          "name": "stdout",
          "text": [
            "R-squared score: 0.9517944223779254\n"
          ]
        }
      ]
    },
    {
      "cell_type": "code",
      "source": [],
      "metadata": {
        "id": "ZI5FYTq19h_V"
      },
      "execution_count": null,
      "outputs": []
    },
    {
      "cell_type": "markdown",
      "source": [
        "###17.  Write a Python script that performs polynomial regression (degree 3) on a synthetic dataset and plots the regression curve."
      ],
      "metadata": {
        "id": "35pOGyjb9ijl"
      }
    },
    {
      "cell_type": "code",
      "source": [
        "np.random.seed(43)\n",
        "x = np.random.randn(100,1) *10\n",
        "y = 3 * x[:, 0] + 2 * x[:, 0] - 4 * x[:, 0] + 10*np.random.randn(100)\n",
        "\n",
        "poly_3 = PolynomialFeatures(3)\n",
        "x_train, x_test, y_train, y_test = train_test_split(x, y, test_size=0.2, random_state=2)\n",
        "\n",
        "x_train_scaled = poly_3.fit_transform(x_train)\n",
        "x_test_scaled = poly_3.transform(x_test)\n",
        "\n",
        "lr = LinearRegression()\n",
        "lr.fit(x_train_scaled,y_train)\n",
        "y_pred = lr.predict(x_test_scaled)\n",
        "\n",
        "\n",
        "x_range = np.linspace(x.min(), x.max(), 100).reshape(-1, 1)\n",
        "\n",
        "sns.scatterplot(x = x_test.flatten(),y = y_test, color ='blue', label = 'Actual')\n",
        "sns.lineplot(x = x_test.flatten(),y = y_pred, color = 'red', label = 'Predicted')\n",
        "plt.legend()\n",
        "plt.show()\n",
        "\n"
      ],
      "metadata": {
        "colab": {
          "base_uri": "https://localhost:8080/",
          "height": 430
        },
        "id": "UsKaaHqy2Auq",
        "outputId": "c86f7396-3438-43a3-c6a5-b67a40990f34"
      },
      "execution_count": 383,
      "outputs": [
        {
          "output_type": "display_data",
          "data": {
            "text/plain": [
              "<Figure size 640x480 with 1 Axes>"
            ],
            "image/png": "[encoded data removed]"
          },
          "metadata": {}
        }
      ]
    },
    {
      "cell_type": "code",
      "source": [],
      "metadata": {
        "id": "8_fRw3u7CFNL"
      },
      "execution_count": null,
      "outputs": []
    },
    {
      "cell_type": "markdown",
      "source": [
        "###18.  Write a Python script that performs multiple linear regression on a synthetic dataset with 5 features. Print the R-squared score and model coefficients."
      ],
      "metadata": {
        "id": "BtVi1OQYDDjS"
      }
    },
    {
      "cell_type": "code",
      "source": [
        "np.random.seed(42)\n",
        "x = np.random.rand(100, 5) * 10\n",
        "y = 3 * x[:, 0] + 2 * x[:, 1] + 1.5 * x[:, 2] + 4 * x[:, 3] + 0.5 * x[:, 4] + np.random.randn(100) * 5  # Linear relation with some noise\n",
        "\n",
        "x_train, x_test, y_train, y_test = train_test_split(x, y, test_size=0.2, random_state=42)\n",
        "\n",
        "model = LinearRegression()\n",
        "model.fit(x_train, y_train)\n",
        "y_pred = model.predict(x_test)\n",
        "\n",
        "print(\"R-squared score:\", r2_score(y_test, y_pred))\n",
        "print(\"Model coefficients:\", model.coef_)\n",
        "print(\"Intercept:\", model.intercept_)"
      ],
      "metadata": {
        "colab": {
          "base_uri": "https://localhost:8080/"
        },
        "id": "E3S04n6zDGF8",
        "outputId": "bed607b9-d394-4c1f-d20c-b9da8e1bd2e0"
      },
      "execution_count": 384,
      "outputs": [
        {
          "output_type": "stream",
          "name": "stdout",
          "text": [
            "R-squared score: 0.8821536746547551\n",
            "Model coefficients: [2.82647934 1.88303834 1.82395165 4.0727923  0.27717992]\n",
            "Intercept: 0.7299237199349662\n"
          ]
        }
      ]
    },
    {
      "cell_type": "code",
      "source": [],
      "metadata": {
        "id": "XupgYPDsDk6B"
      },
      "execution_count": null,
      "outputs": []
    },
    {
      "cell_type": "markdown",
      "source": [
        "###19.  Write a Python script that generates synthetic data for linear regression, fits a model, and visualizes the data points along with the regression line."
      ],
      "metadata": {
        "id": "hbfEne_ZDvDu"
      }
    },
    {
      "cell_type": "code",
      "source": [
        "np.random.seed(42)\n",
        "x = np.random.rand(100, 1) * 10\n",
        "y = 3 * x + 7 + np.random.randn(100, 1) * 2\n",
        "\n",
        "model = LinearRegression()\n",
        "model.fit(x, y)\n",
        "y_pred = model.predict(x)\n",
        "\n",
        "plt.scatter(x, y, color='blue', label='Data points')\n",
        "plt.plot(x, y_pred, color='red', label='Regression line')\n",
        "plt.legend()\n",
        "plt.title('Linear Regression')\n",
        "plt.xlabel('X')\n",
        "plt.ylabel('Y')\n",
        "plt.show()"
      ],
      "metadata": {
        "colab": {
          "base_uri": "https://localhost:8080/",
          "height": 472
        },
        "id": "CTj-aqA6DwYW",
        "outputId": "3b6cff93-641e-4b7c-c34f-1c86944c8a67"
      },
      "execution_count": 385,
      "outputs": [
        {
          "output_type": "display_data",
          "data": {
            "text/plain": [
              "<Figure size 640x480 with 1 Axes>"
            ],
            "image/png": "[encoded data removed]"
          },
          "metadata": {}
        }
      ]
    },
    {
      "cell_type": "code",
      "source": [],
      "metadata": {
        "id": "AbMORRHVDyf1"
      },
      "execution_count": null,
      "outputs": []
    },
    {
      "cell_type": "markdown",
      "source": [
        "###20.  Create a synthetic dataset with 3 features and perform multiple linear regression. Print the model's Rsquared score and coefficients.\n",
        "\n",
        "\n"
      ],
      "metadata": {
        "id": "lMqVRSc7EB-r"
      }
    },
    {
      "cell_type": "code",
      "source": [
        "x = np.random.randn(100,3)\n",
        "y = 3*x[:,0] + 4*x[:,1] -6*x[:,2] + np.random.rand(100)\n",
        "\n",
        "x_train, x_test, y_train, y_test = train_test_split(x, y, test_size=0.2, random_state=42)\n",
        "\n",
        "model = LinearRegression()\n",
        "model.fit(x_train, y_train)\n",
        "y_pred = model.predict(x_test)\n",
        "\n",
        "print(\"R-squared score:\", r2_score(y_test, y_pred))\n",
        "print(\"Model coefficients:\", model.coef_)"
      ],
      "metadata": {
        "colab": {
          "base_uri": "https://localhost:8080/"
        },
        "id": "SN3duAkPEDVK",
        "outputId": "476e301f-7937-4659-b4d7-3ea566fb3ccd"
      },
      "execution_count": 387,
      "outputs": [
        {
          "output_type": "stream",
          "name": "stdout",
          "text": [
            "R-squared score: 0.9976077923609568\n",
            "Model coefficients: [ 2.98220472  4.02155634 -5.93974969]\n"
          ]
        }
      ]
    },
    {
      "cell_type": "code",
      "source": [],
      "metadata": {
        "id": "pSPjNR-8EWZ5"
      },
      "execution_count": null,
      "outputs": []
    },
    {
      "cell_type": "markdown",
      "source": [
        "###21.  Write a Python script that demonstrates how to serialize and deserialize machine learning models using joblib instead of pickling."
      ],
      "metadata": {
        "id": "jSDIzIXUEd7l"
      }
    },
    {
      "cell_type": "code",
      "source": [
        "import joblib\n",
        "\n",
        "joblib.dump(model,'linear_regression_model.joblib')\n",
        "\n"
      ],
      "metadata": {
        "colab": {
          "base_uri": "https://localhost:8080/"
        },
        "id": "NpHysdjpEfs6",
        "outputId": "e439c93c-0cbe-4c71-af2b-90a083d07691"
      },
      "execution_count": 388,
      "outputs": [
        {
          "output_type": "execute_result",
          "data": {
            "text/plain": [
              "['linear_regression_model.joblib']"
            ]
          },
          "metadata": {},
          "execution_count": 388
        }
      ]
    },
    {
      "cell_type": "code",
      "source": [
        "lr_model = joblib.load('linear_regression_model.joblib')\n",
        "type(lr_model)"
      ],
      "metadata": {
        "colab": {
          "base_uri": "https://localhost:8080/",
          "height": 186
        },
        "id": "OfJfznydFIcv",
        "outputId": "a1699961-4572-4d51-806e-00eb37c9b2a5"
      },
      "execution_count": 390,
      "outputs": [
        {
          "output_type": "execute_result",
          "data": {
            "text/plain": [
              "sklearn.linear_model._base.LinearRegression"
            ],
            "text/html": [
              "<div style=\"max-width:800px; border: 1px solid var(--colab-border-color);\"><style>\n",
              "      pre.function-repr-contents {\n",
              "        overflow-x: auto;\n",
              "        padding: 8px 12px;\n",
              "        max-height: 500px;\n",
              "      }\n",
              "\n",
              "      pre.function-repr-contents.function-repr-contents-collapsed {\n",
              "        cursor: pointer;\n",
              "        max-height: 100px;\n",
              "      }\n",
              "    </style>\n",
              "    <pre style=\"white-space: initial; background:\n",
              "         var(--colab-secondary-surface-color); padding: 8px 12px;\n",
              "         border-bottom: 1px solid var(--colab-border-color);\"><b>sklearn.linear_model._base.LinearRegression</b><br/>def __init__(*, fit_intercept=True, copy_X=True, n_jobs=None, positive=False)</pre><pre class=\"function-repr-contents function-repr-contents-collapsed\" style=\"\"><a class=\"filepath\" style=\"display:none\" href=\"#\">/usr/local/lib/python3.11/dist-packages/sklearn/linear_model/_base.py</a>Ordinary least squares Linear Regression.\n",
              "\n",
              "LinearRegression fits a linear model with coefficients w = (w1, ..., wp)\n",
              "to minimize the residual sum of squares between the observed targets in\n",
              "the dataset, and the targets predicted by the linear approximation.\n",
              "\n",
              "Parameters\n",
              "----------\n",
              "fit_intercept : bool, default=True\n",
              "    Whether to calculate the intercept for this model. If set\n",
              "    to False, no intercept will be used in calculations\n",
              "    (i.e. data is expected to be centered).\n",
              "\n",
              "copy_X : bool, default=True\n",
              "    If True, X will be copied; else, it may be overwritten.\n",
              "\n",
              "n_jobs : int, default=None\n",
              "    The number of jobs to use for the computation. This will only provide\n",
              "    speedup in case of sufficiently large problems, that is if firstly\n",
              "    `n_targets &gt; 1` and secondly `X` is sparse or if `positive` is set\n",
              "    to `True`. ``None`` means 1 unless in a\n",
              "    :obj:`joblib.parallel_backend` context. ``-1`` means using all\n",
              "    processors. See :term:`Glossary &lt;n_jobs&gt;` for more details.\n",
              "\n",
              "positive : bool, default=False\n",
              "    When set to ``True``, forces the coefficients to be positive. This\n",
              "    option is only supported for dense arrays.\n",
              "\n",
              "    .. versionadded:: 0.24\n",
              "\n",
              "Attributes\n",
              "----------\n",
              "coef_ : array of shape (n_features, ) or (n_targets, n_features)\n",
              "    Estimated coefficients for the linear regression problem.\n",
              "    If multiple targets are passed during the fit (y 2D), this\n",
              "    is a 2D array of shape (n_targets, n_features), while if only\n",
              "    one target is passed, this is a 1D array of length n_features.\n",
              "\n",
              "rank_ : int\n",
              "    Rank of matrix `X`. Only available when `X` is dense.\n",
              "\n",
              "singular_ : array of shape (min(X, y),)\n",
              "    Singular values of `X`. Only available when `X` is dense.\n",
              "\n",
              "intercept_ : float or array of shape (n_targets,)\n",
              "    Independent term in the linear model. Set to 0.0 if\n",
              "    `fit_intercept = False`.\n",
              "\n",
              "n_features_in_ : int\n",
              "    Number of features seen during :term:`fit`.\n",
              "\n",
              "    .. versionadded:: 0.24\n",
              "\n",
              "feature_names_in_ : ndarray of shape (`n_features_in_`,)\n",
              "    Names of features seen during :term:`fit`. Defined only when `X`\n",
              "    has feature names that are all strings.\n",
              "\n",
              "    .. versionadded:: 1.0\n",
              "\n",
              "See Also\n",
              "--------\n",
              "Ridge : Ridge regression addresses some of the\n",
              "    problems of Ordinary Least Squares by imposing a penalty on the\n",
              "    size of the coefficients with l2 regularization.\n",
              "Lasso : The Lasso is a linear model that estimates\n",
              "    sparse coefficients with l1 regularization.\n",
              "ElasticNet : Elastic-Net is a linear regression\n",
              "    model trained with both l1 and l2 -norm regularization of the\n",
              "    coefficients.\n",
              "\n",
              "Notes\n",
              "-----\n",
              "From the implementation point of view, this is just plain Ordinary\n",
              "Least Squares (scipy.linalg.lstsq) or Non Negative Least Squares\n",
              "(scipy.optimize.nnls) wrapped as a predictor object.\n",
              "\n",
              "Examples\n",
              "--------\n",
              "&gt;&gt;&gt; import numpy as np\n",
              "&gt;&gt;&gt; from sklearn.linear_model import LinearRegression\n",
              "&gt;&gt;&gt; X = np.array([[1, 1], [1, 2], [2, 2], [2, 3]])\n",
              "&gt;&gt;&gt; # y = 1 * x_0 + 2 * x_1 + 3\n",
              "&gt;&gt;&gt; y = np.dot(X, np.array([1, 2])) + 3\n",
              "&gt;&gt;&gt; reg = LinearRegression().fit(X, y)\n",
              "&gt;&gt;&gt; reg.score(X, y)\n",
              "1.0\n",
              "&gt;&gt;&gt; reg.coef_\n",
              "array([1., 2.])\n",
              "&gt;&gt;&gt; reg.intercept_\n",
              "np.float64(3.0...)\n",
              "&gt;&gt;&gt; reg.predict(np.array([[3, 5]]))\n",
              "array([16.])</pre>\n",
              "      <script>\n",
              "      if (google.colab.kernel.accessAllowed && google.colab.files && google.colab.files.view) {\n",
              "        for (const element of document.querySelectorAll('.filepath')) {\n",
              "          element.style.display = 'block'\n",
              "          element.onclick = (event) => {\n",
              "            event.preventDefault();\n",
              "            event.stopPropagation();\n",
              "            google.colab.files.view(element.textContent, 457);\n",
              "          };\n",
              "        }\n",
              "      }\n",
              "      for (const element of document.querySelectorAll('.function-repr-contents')) {\n",
              "        element.onclick = (event) => {\n",
              "          event.preventDefault();\n",
              "          event.stopPropagation();\n",
              "          element.classList.toggle('function-repr-contents-collapsed');\n",
              "        };\n",
              "      }\n",
              "      </script>\n",
              "      </div>"
            ]
          },
          "metadata": {},
          "execution_count": 390
        }
      ]
    },
    {
      "cell_type": "code",
      "source": [],
      "metadata": {
        "id": "IIelbmOBFFs2"
      },
      "execution_count": null,
      "outputs": []
    },
    {
      "cell_type": "markdown",
      "source": [
        "###22. Write a Python script to perform linear regression with categorical features using one-hot encoding. Use the Seaborn 'tips' dataset."
      ],
      "metadata": {
        "id": "aoviWS80FVg9"
      }
    },
    {
      "cell_type": "code",
      "source": [
        "tips = sns.load_dataset('tips')\n"
      ],
      "metadata": {
        "id": "6z3rY7LcFZyD"
      },
      "execution_count": 391,
      "outputs": []
    },
    {
      "cell_type": "code",
      "source": [
        "tips = sns.load_dataset('tips')\n",
        "tips.head()"
      ],
      "metadata": {
        "colab": {
          "base_uri": "https://localhost:8080/",
          "height": 206
        },
        "id": "Bt3t8PJ-GAF8",
        "outputId": "9d4e5d69-d016-42ed-87c7-94e7f74f2915"
      },
      "execution_count": 464,
      "outputs": [
        {
          "output_type": "execute_result",
          "data": {
            "text/plain": [
              "   total_bill   tip     sex smoker  day    time  size\n",
              "0       16.99  1.01  Female     No  Sun  Dinner     2\n",
              "1       10.34  1.66    Male     No  Sun  Dinner     3\n",
              "2       21.01  3.50    Male     No  Sun  Dinner     3\n",
              "3       23.68  3.31    Male     No  Sun  Dinner     2\n",
              "4       24.59  3.61  Female     No  Sun  Dinner     4"
            ],
            "text/html": [
              "\n",
              "  <div id=\"df-4b7105c4-2cae-4648-9dca-adf2abb77032\" class=\"colab-df-container\">\n",
              "    <div>\n",
              "<style scoped>\n",
              "    .dataframe tbody tr th:only-of-type {\n",
              "        vertical-align: middle;\n",
              "    }\n",
              "\n",
              "    .dataframe tbody tr th {\n",
              "        vertical-align: top;\n",
              "    }\n",
              "\n",
              "    .dataframe thead th {\n",
              "        text-align: right;\n",
              "    }\n",
              "</style>\n",
              "<table border=\"1\" class=\"dataframe\">\n",
              "  <thead>\n",
              "    <tr style=\"text-align: right;\">\n",
              "      <th></th>\n",
              "      <th>total_bill</th>\n",
              "      <th>tip</th>\n",
              "      <th>sex</th>\n",
              "      <th>smoker</th>\n",
              "      <th>day</th>\n",
              "      <th>time</th>\n",
              "      <th>size</th>\n",
              "    </tr>\n",
              "  </thead>\n",
              "  <tbody>\n",
              "    <tr>\n",
              "      <th>0</th>\n",
              "      <td>16.99</td>\n",
              "      <td>1.01</td>\n",
              "      <td>Female</td>\n",
              "      <td>No</td>\n",
              "      <td>Sun</td>\n",
              "      <td>Dinner</td>\n",
              "      <td>2</td>\n",
              "    </tr>\n",
              "    <tr>\n",
              "      <th>1</th>\n",
              "      <td>10.34</td>\n",
              "      <td>1.66</td>\n",
              "      <td>Male</td>\n",
              "      <td>No</td>\n",
              "      <td>Sun</td>\n",
              "      <td>Dinner</td>\n",
              "      <td>3</td>\n",
              "    </tr>\n",
              "    <tr>\n",
              "      <th>2</th>\n",
              "      <td>21.01</td>\n",
              "      <td>3.50</td>\n",
              "      <td>Male</td>\n",
              "      <td>No</td>\n",
              "      <td>Sun</td>\n",
              "      <td>Dinner</td>\n",
              "      <td>3</td>\n",
              "    </tr>\n",
              "    <tr>\n",
              "      <th>3</th>\n",
              "      <td>23.68</td>\n",
              "      <td>3.31</td>\n",
              "      <td>Male</td>\n",
              "      <td>No</td>\n",
              "      <td>Sun</td>\n",
              "      <td>Dinner</td>\n",
              "      <td>2</td>\n",
              "    </tr>\n",
              "    <tr>\n",
              "      <th>4</th>\n",
              "      <td>24.59</td>\n",
              "      <td>3.61</td>\n",
              "      <td>Female</td>\n",
              "      <td>No</td>\n",
              "      <td>Sun</td>\n",
              "      <td>Dinner</td>\n",
              "      <td>4</td>\n",
              "    </tr>\n",
              "  </tbody>\n",
              "</table>\n",
              "</div>\n",
              "    <div class=\"colab-df-buttons\">\n",
              "\n",
              "  <div class=\"colab-df-container\">\n",
              "    <button class=\"colab-df-convert\" onclick=\"convertToInteractive('df-4b7105c4-2cae-4648-9dca-adf2abb77032')\"\n",
              "            title=\"Convert this dataframe to an interactive table.\"\n",
              "            style=\"display:none;\">\n",
              "\n",
              "  <svg xmlns=\"http://www.w3.org/2000/svg\" height=\"24px\" viewBox=\"0 -960 960 960\">\n",
              "    <path d=\"M120-120v-720h720v720H120Zm60-500h600v-160H180v160Zm220 220h160v-160H400v160Zm0 220h160v-160H400v160ZM180-400h160v-160H180v160Zm440 0h160v-160H620v160ZM180-180h160v-160H180v160Zm440 0h160v-160H620v160Z\"/>\n",
              "  </svg>\n",
              "    </button>\n",
              "\n",
              "  <style>\n",
              "    .colab-df-container {\n",
              "      display:flex;\n",
              "      gap: 12px;\n",
              "    }\n",
              "\n",
              "    .colab-df-convert {\n",
              "      background-color: #E8F0FE;\n",
              "      border: none;\n",
              "      border-radius: 50%;\n",
              "      cursor: pointer;\n",
              "      display: none;\n",
              "      fill: #1967D2;\n",
              "      height: 32px;\n",
              "      padding: 0 0 0 0;\n",
              "      width: 32px;\n",
              "    }\n",
              "\n",
              "    .colab-df-convert:hover {\n",
              "      background-color: #E2EBFA;\n",
              "      box-shadow: 0px 1px 2px rgba(60, 64, 67, 0.3), 0px 1px 3px 1px rgba(60, 64, 67, 0.15);\n",
              "      fill: #174EA6;\n",
              "    }\n",
              "\n",
              "    .colab-df-buttons div {\n",
              "      margin-bottom: 4px;\n",
              "    }\n",
              "\n",
              "    [theme=dark] .colab-df-convert {\n",
              "      background-color: #3B4455;\n",
              "      fill: #D2E3FC;\n",
              "    }\n",
              "\n",
              "    [theme=dark] .colab-df-convert:hover {\n",
              "      background-color: #434B5C;\n",
              "      box-shadow: 0px 1px 3px 1px rgba(0, 0, 0, 0.15);\n",
              "      filter: drop-shadow(0px 1px 2px rgba(0, 0, 0, 0.3));\n",
              "      fill: #FFFFFF;\n",
              "    }\n",
              "  </style>\n",
              "\n",
              "    <script>\n",
              "      const buttonEl =\n",
              "        document.querySelector('#df-4b7105c4-2cae-4648-9dca-adf2abb77032 button.colab-df-convert');\n",
              "      buttonEl.style.display =\n",
              "        google.colab.kernel.accessAllowed ? 'block' : 'none';\n",
              "\n",
              "      async function convertToInteractive(key) {\n",
              "        const element = document.querySelector('#df-4b7105c4-2cae-4648-9dca-adf2abb77032');\n",
              "        const dataTable =\n",
              "          await google.colab.kernel.invokeFunction('convertToInteractive',\n",
              "                                                    [key], {});\n",
              "        if (!dataTable) return;\n",
              "\n",
              "        const docLinkHtml = 'Like what you see? Visit the ' +\n",
              "          '<a target=\"_blank\" href=https://colab.research.google.com/notebooks/data_table.ipynb>data table notebook</a>'\n",
              "          + ' to learn more about interactive tables.';\n",
              "        element.innerHTML = '';\n",
              "        dataTable['output_type'] = 'display_data';\n",
              "        await google.colab.output.renderOutput(dataTable, element);\n",
              "        const docLink = document.createElement('div');\n",
              "        docLink.innerHTML = docLinkHtml;\n",
              "        element.appendChild(docLink);\n",
              "      }\n",
              "    </script>\n",
              "  </div>\n",
              "\n",
              "\n",
              "<div id=\"df-7882ec2d-705e-49ab-843e-14c00a795f2b\">\n",
              "  <button class=\"colab-df-quickchart\" onclick=\"quickchart('df-7882ec2d-705e-49ab-843e-14c00a795f2b')\"\n",
              "            title=\"Suggest charts\"\n",
              "            style=\"display:none;\">\n",
              "\n",
              "<svg xmlns=\"http://www.w3.org/2000/svg\" height=\"24px\"viewBox=\"0 0 24 24\"\n",
              "     width=\"24px\">\n",
              "    <g>\n",
              "        <path d=\"M19 3H5c-1.1 0-2 .9-2 2v14c0 1.1.9 2 2 2h14c1.1 0 2-.9 2-2V5c0-1.1-.9-2-2-2zM9 17H7v-7h2v7zm4 0h-2V7h2v10zm4 0h-2v-4h2v4z\"/>\n",
              "    </g>\n",
              "</svg>\n",
              "  </button>\n",
              "\n",
              "<style>\n",
              "  .colab-df-quickchart {\n",
              "      --bg-color: #E8F0FE;\n",
              "      --fill-color: #1967D2;\n",
              "      --hover-bg-color: #E2EBFA;\n",
              "      --hover-fill-color: #174EA6;\n",
              "      --disabled-fill-color: #AAA;\n",
              "      --disabled-bg-color: #DDD;\n",
              "  }\n",
              "\n",
              "  [theme=dark] .colab-df-quickchart {\n",
              "      --bg-color: #3B4455;\n",
              "      --fill-color: #D2E3FC;\n",
              "      --hover-bg-color: #434B5C;\n",
              "      --hover-fill-color: #FFFFFF;\n",
              "      --disabled-bg-color: #3B4455;\n",
              "      --disabled-fill-color: #666;\n",
              "  }\n",
              "\n",
              "  .colab-df-quickchart {\n",
              "    background-color: var(--bg-color);\n",
              "    border: none;\n",
              "    border-radius: 50%;\n",
              "    cursor: pointer;\n",
              "    display: none;\n",
              "    fill: var(--fill-color);\n",
              "    height: 32px;\n",
              "    padding: 0;\n",
              "    width: 32px;\n",
              "  }\n",
              "\n",
              "  .colab-df-quickchart:hover {\n",
              "    background-color: var(--hover-bg-color);\n",
              "    box-shadow: 0 1px 2px rgba(60, 64, 67, 0.3), 0 1px 3px 1px rgba(60, 64, 67, 0.15);\n",
              "    fill: var(--button-hover-fill-color);\n",
              "  }\n",
              "\n",
              "  .colab-df-quickchart-complete:disabled,\n",
              "  .colab-df-quickchart-complete:disabled:hover {\n",
              "    background-color: var(--disabled-bg-color);\n",
              "    fill: var(--disabled-fill-color);\n",
              "    box-shadow: none;\n",
              "  }\n",
              "\n",
              "  .colab-df-spinner {\n",
              "    border: 2px solid var(--fill-color);\n",
              "    border-color: transparent;\n",
              "    border-bottom-color: var(--fill-color);\n",
              "    animation:\n",
              "      spin 1s steps(1) infinite;\n",
              "  }\n",
              "\n",
              "  @keyframes spin {\n",
              "    0% {\n",
              "      border-color: transparent;\n",
              "      border-bottom-color: var(--fill-color);\n",
              "      border-left-color: var(--fill-color);\n",
              "    }\n",
              "    20% {\n",
              "      border-color: transparent;\n",
              "      border-left-color: var(--fill-color);\n",
              "      border-top-color: var(--fill-color);\n",
              "    }\n",
              "    30% {\n",
              "      border-color: transparent;\n",
              "      border-left-color: var(--fill-color);\n",
              "      border-top-color: var(--fill-color);\n",
              "      border-right-color: var(--fill-color);\n",
              "    }\n",
              "    40% {\n",
              "      border-color: transparent;\n",
              "      border-right-color: var(--fill-color);\n",
              "      border-top-color: var(--fill-color);\n",
              "    }\n",
              "    60% {\n",
              "      border-color: transparent;\n",
              "      border-right-color: var(--fill-color);\n",
              "    }\n",
              "    80% {\n",
              "      border-color: transparent;\n",
              "      border-right-color: var(--fill-color);\n",
              "      border-bottom-color: var(--fill-color);\n",
              "    }\n",
              "    90% {\n",
              "      border-color: transparent;\n",
              "      border-bottom-color: var(--fill-color);\n",
              "    }\n",
              "  }\n",
              "</style>\n",
              "\n",
              "  <script>\n",
              "    async function quickchart(key) {\n",
              "      const quickchartButtonEl =\n",
              "        document.querySelector('#' + key + ' button');\n",
              "      quickchartButtonEl.disabled = true;  // To prevent multiple clicks.\n",
              "      quickchartButtonEl.classList.add('colab-df-spinner');\n",
              "      try {\n",
              "        const charts = await google.colab.kernel.invokeFunction(\n",
              "            'suggestCharts', [key], {});\n",
              "      } catch (error) {\n",
              "        console.error('Error during call to suggestCharts:', error);\n",
              "      }\n",
              "      quickchartButtonEl.classList.remove('colab-df-spinner');\n",
              "      quickchartButtonEl.classList.add('colab-df-quickchart-complete');\n",
              "    }\n",
              "    (() => {\n",
              "      let quickchartButtonEl =\n",
              "        document.querySelector('#df-7882ec2d-705e-49ab-843e-14c00a795f2b button');\n",
              "      quickchartButtonEl.style.display =\n",
              "        google.colab.kernel.accessAllowed ? 'block' : 'none';\n",
              "    })();\n",
              "  </script>\n",
              "</div>\n",
              "\n",
              "    </div>\n",
              "  </div>\n"
            ],
            "application/vnd.google.colaboratory.intrinsic+json": {
              "type": "dataframe",
              "variable_name": "tips",
              "summary": "{\n  \"name\": \"tips\",\n  \"rows\": 244,\n  \"fields\": [\n    {\n      \"column\": \"total_bill\",\n      \"properties\": {\n        \"dtype\": \"number\",\n        \"std\": 8.902411954856856,\n        \"min\": 3.07,\n        \"max\": 50.81,\n        \"num_unique_values\": 229,\n        \"samples\": [\n          22.12,\n          20.23,\n          14.78\n        ],\n        \"semantic_type\": \"\",\n        \"description\": \"\"\n      }\n    },\n    {\n      \"column\": \"tip\",\n      \"properties\": {\n        \"dtype\": \"number\",\n        \"std\": 1.3836381890011826,\n        \"min\": 1.0,\n        \"max\": 10.0,\n        \"num_unique_values\": 123,\n        \"samples\": [\n          3.35,\n          1.5,\n          6.73\n        ],\n        \"semantic_type\": \"\",\n        \"description\": \"\"\n      }\n    },\n    {\n      \"column\": \"sex\",\n      \"properties\": {\n        \"dtype\": \"category\",\n        \"num_unique_values\": 2,\n        \"samples\": [\n          \"Male\",\n          \"Female\"\n        ],\n        \"semantic_type\": \"\",\n        \"description\": \"\"\n      }\n    },\n    {\n      \"column\": \"smoker\",\n      \"properties\": {\n        \"dtype\": \"category\",\n        \"num_unique_values\": 2,\n        \"samples\": [\n          \"Yes\",\n          \"No\"\n        ],\n        \"semantic_type\": \"\",\n        \"description\": \"\"\n      }\n    },\n    {\n      \"column\": \"day\",\n      \"properties\": {\n        \"dtype\": \"category\",\n        \"num_unique_values\": 4,\n        \"samples\": [\n          \"Sat\",\n          \"Fri\"\n        ],\n        \"semantic_type\": \"\",\n        \"description\": \"\"\n      }\n    },\n    {\n      \"column\": \"time\",\n      \"properties\": {\n        \"dtype\": \"category\",\n        \"num_unique_values\": 2,\n        \"samples\": [\n          \"Lunch\",\n          \"Dinner\"\n        ],\n        \"semantic_type\": \"\",\n        \"description\": \"\"\n      }\n    },\n    {\n      \"column\": \"size\",\n      \"properties\": {\n        \"dtype\": \"number\",\n        \"std\": 0,\n        \"min\": 1,\n        \"max\": 6,\n        \"num_unique_values\": 6,\n        \"samples\": [\n          2,\n          3\n        ],\n        \"semantic_type\": \"\",\n        \"description\": \"\"\n      }\n    }\n  ]\n}"
            }
          },
          "metadata": {},
          "execution_count": 464
        }
      ]
    },
    {
      "cell_type": "code",
      "source": [
        "tips['sex'] = tips['sex'].map({'Male':1,'Female':0})\n",
        "tips['smoker'] = tips['smoker'].map({'Yes':1,'No':0})\n",
        "#OneHotEncoding\n",
        "tips = pd.get_dummies(data = tips , columns=['day'],dtype = bool)\n",
        "tips[['day_Thur'\t,'day_Fri'\t,'day_Sat','day_Sun']] = tips.select_dtypes(include=bool).astype(int)\n",
        "tips = pd.get_dummies(data = tips , columns=['time'],dtype = bool)\n",
        "tips[['time_Lunch',\t'time_Dinner']] = tips.select_dtypes(include=bool).astype(int)\n"
      ],
      "metadata": {
        "id": "Zm3iJJQvGOoB"
      },
      "execution_count": 465,
      "outputs": []
    },
    {
      "cell_type": "code",
      "source": [
        "tips.columns"
      ],
      "metadata": {
        "colab": {
          "base_uri": "https://localhost:8080/"
        },
        "id": "S96ekNCyHMi-",
        "outputId": "ea9a2f41-b62e-4f1a-d78c-46f7d21b5d15"
      },
      "execution_count": 469,
      "outputs": [
        {
          "output_type": "execute_result",
          "data": {
            "text/plain": [
              "Index(['total_bill', 'tip', 'sex', 'smoker', 'size', 'day_Thur', 'day_Fri',\n",
              "       'day_Sat', 'day_Sun', 'time_Lunch', 'time_Dinner'],\n",
              "      dtype='object')"
            ]
          },
          "metadata": {},
          "execution_count": 469
        }
      ]
    },
    {
      "cell_type": "code",
      "source": [
        "x = tips.drop(columns = ['total_bill'])\n",
        "y = tips['total_bill']"
      ],
      "metadata": {
        "id": "KK--HBJ2GaZ8"
      },
      "execution_count": 471,
      "outputs": []
    },
    {
      "cell_type": "code",
      "source": [
        "x_train, x_test, y_train, y_test = train_test_split(x, y, test_size=0.2, random_state=42)\n",
        "model = LinearRegression()\n",
        "model.fit(x_train, y_train)\n",
        "y_pred = model.predict(x_test)\n",
        "mse = mean_squared_error(y_test,y_pred)\n",
        "print('Mean square erroe is :', mse)"
      ],
      "metadata": {
        "colab": {
          "base_uri": "https://localhost:8080/"
        },
        "id": "AJSIzmm3KHJO",
        "outputId": "5d7a4f47-b9f8-405e-d5a3-b72596a3b900"
      },
      "execution_count": 475,
      "outputs": [
        {
          "output_type": "stream",
          "name": "stdout",
          "text": [
            "Mean square erroe is : 31.873635550729947\n"
          ]
        }
      ]
    },
    {
      "cell_type": "code",
      "source": [
        "rgr = Ridge()\n",
        "lr = LinearRegression()\n",
        "\n",
        "x = np.random.randn(100,3)\n",
        "y = 3*x[:,0] + 4*x[:,1] -6*x[:,2] + np.random.rand(100)\n",
        "x_train, x_test, y_train, y_test = train_test_split(x, y, test_size=0.2, random_state=42)\n",
        "##Using the same data from above\n",
        "\n",
        "model = LinearRegression()\n",
        "model.fit(x_train, y_train)\n",
        "y_pred = model.predict(x_test)\n",
        "mse = mean_squared_error(y_test,y_pred)\n",
        "print('Mean square erroe is :', mse)\n",
        "\n",
        "rgr.fit(x_train, y_train)\n",
        "y_pred = rgr.predict(x_test)\n",
        "mse_1 = mean_squared_error(y_test,y_pred)\n",
        "print('Mean square erroe is :', mse_1)\n",
        "\n"
      ],
      "metadata": {
        "colab": {
          "base_uri": "https://localhost:8080/"
        },
        "id": "kqW6uqIMHjB-",
        "outputId": "36d57d7a-88cb-4d1e-a048-b90a59c8c69b"
      },
      "execution_count": 478,
      "outputs": [
        {
          "output_type": "stream",
          "name": "stdout",
          "text": [
            "Mean square erroe is : 0.06288046970752315\n",
            "Mean square erroe is : 0.041988381560808946\n"
          ]
        }
      ]
    },
    {
      "cell_type": "markdown",
      "source": [
        "The mean square error is lower for the ridge regression."
      ],
      "metadata": {
        "id": "HAt_NL2yRWyq"
      }
    },
    {
      "cell_type": "code",
      "source": [],
      "metadata": {
        "id": "sq6X4SHNGdgL"
      },
      "execution_count": 472,
      "outputs": []
    },
    {
      "cell_type": "markdown",
      "source": [
        "###24. Write a Python script that uses cross-validation to evaluate a Linear Regression model on a synthetic dataset."
      ],
      "metadata": {
        "id": "S4s1Mt6_hAl7"
      }
    },
    {
      "cell_type": "code",
      "source": [
        "np.random.seed(11)\n",
        "x = np.random.randn(100,3)\n",
        "y = 3*x[:,0] + 4*x[:,1] -6*x[:,2] + np.random.rand(100)"
      ],
      "metadata": {
        "id": "zjUlbpF4HavY"
      },
      "execution_count": 13,
      "outputs": []
    },
    {
      "cell_type": "code",
      "source": [
        "x_train, x_test, y_train, y_test = train_test_split(x, y, test_size=0.2, random_state=42)"
      ],
      "metadata": {
        "id": "UxRnNKj0iJew"
      },
      "execution_count": 14,
      "outputs": []
    },
    {
      "cell_type": "code",
      "source": [
        "lr = LinearRegression()\n",
        "k_folds = KFold(n_splits = 5)\n",
        "scores = cross_val_score(lr,x_train,y_train,cv = k_folds)\n",
        "\n",
        "print('Cross Validation score',scores)\n",
        "print('Mean Cross Validation score',np.mean(scores))"
      ],
      "metadata": {
        "colab": {
          "base_uri": "https://localhost:8080/"
        },
        "id": "5l8ZpCJSii4o",
        "outputId": "f09fc201-53a5-40c4-fc68-66bd39a5639d"
      },
      "execution_count": 18,
      "outputs": [
        {
          "output_type": "stream",
          "name": "stdout",
          "text": [
            "Cross Validation score [0.99760914 0.99834999 0.99804758 0.99800783 0.99873492]\n",
            "Mean Cross Validation score 0.9981498925974991\n"
          ]
        }
      ]
    },
    {
      "cell_type": "code",
      "source": [],
      "metadata": {
        "id": "MSHhrH-ujO65"
      },
      "execution_count": null,
      "outputs": []
    },
    {
      "cell_type": "markdown",
      "source": [
        "###25.  Write a Python script that compares polynomial regression models of different degrees and prints the Rsquared score for each."
      ],
      "metadata": {
        "id": "lIhnA6dOjwdT"
      }
    },
    {
      "cell_type": "code",
      "source": [
        "\n",
        "x = np.random.randn(100,3)\n",
        "y = 3 * x[:, 0] + 2 * x[:, 0] - 4 * x[:, 0] + 10*np.random.randn(100)\n",
        "x_train, x_test, y_train, y_test = train_test_split(x, y, test_size=0.2, random_state=42)\n",
        "\n",
        "degree = np.arange(2,7)\n",
        "metrics = {}\n",
        "for i in degree:\n",
        "  poly = PolynomialFeatures(i)\n",
        "  x_train_scaled = poly.fit_transform(x_train)\n",
        "  x_test_scaled = poly.transform(x_test)\n",
        "\n",
        "  lr = LinearRegression()\n",
        "  lr.fit(x_train_scaled,y_train)\n",
        "  y_pred = lr.predict(x_test_scaled)\n",
        "\n",
        "  mse = mean_squared_error(y_test,y_pred)\n",
        "  metrics[f'degree {i}'] = round(mse,2)\n"
      ],
      "metadata": {
        "id": "oFB7qgADjxjF"
      },
      "execution_count": 48,
      "outputs": []
    },
    {
      "cell_type": "code",
      "source": [
        "df = pd.DataFrame({'degree':metrics.keys(),'mse':metrics.values()})\n",
        "df = df.sort_values(by = 'mse')\n",
        "df.head()"
      ],
      "metadata": {
        "colab": {
          "base_uri": "https://localhost:8080/",
          "height": 206
        },
        "id": "orMOLjz9lI0r",
        "outputId": "1563962f-5842-4507-b3b1-0ba3c21b0dcb"
      },
      "execution_count": 49,
      "outputs": [
        {
          "output_type": "execute_result",
          "data": {
            "text/plain": [
              "     degree        mse\n",
              "0  degree 2      83.92\n",
              "1  degree 3     128.29\n",
              "2  degree 4     135.53\n",
              "3  degree 5   10997.32\n",
              "4  degree 6  635766.82"
            ],
            "text/html": [
              "\n",
              "  <div id=\"df-ff708c4a-389a-48c2-80a8-2c6550785df7\" class=\"colab-df-container\">\n",
              "    <div>\n",
              "<style scoped>\n",
              "    .dataframe tbody tr th:only-of-type {\n",
              "        vertical-align: middle;\n",
              "    }\n",
              "\n",
              "    .dataframe tbody tr th {\n",
              "        vertical-align: top;\n",
              "    }\n",
              "\n",
              "    .dataframe thead th {\n",
              "        text-align: right;\n",
              "    }\n",
              "</style>\n",
              "<table border=\"1\" class=\"dataframe\">\n",
              "  <thead>\n",
              "    <tr style=\"text-align: right;\">\n",
              "      <th></th>\n",
              "      <th>degree</th>\n",
              "      <th>mse</th>\n",
              "    </tr>\n",
              "  </thead>\n",
              "  <tbody>\n",
              "    <tr>\n",
              "      <th>0</th>\n",
              "      <td>degree 2</td>\n",
              "      <td>83.92</td>\n",
              "    </tr>\n",
              "    <tr>\n",
              "      <th>1</th>\n",
              "      <td>degree 3</td>\n",
              "      <td>128.29</td>\n",
              "    </tr>\n",
              "    <tr>\n",
              "      <th>2</th>\n",
              "      <td>degree 4</td>\n",
              "      <td>135.53</td>\n",
              "    </tr>\n",
              "    <tr>\n",
              "      <th>3</th>\n",
              "      <td>degree 5</td>\n",
              "      <td>10997.32</td>\n",
              "    </tr>\n",
              "    <tr>\n",
              "      <th>4</th>\n",
              "      <td>degree 6</td>\n",
              "      <td>635766.82</td>\n",
              "    </tr>\n",
              "  </tbody>\n",
              "</table>\n",
              "</div>\n",
              "    <div class=\"colab-df-buttons\">\n",
              "\n",
              "  <div class=\"colab-df-container\">\n",
              "    <button class=\"colab-df-convert\" onclick=\"convertToInteractive('df-ff708c4a-389a-48c2-80a8-2c6550785df7')\"\n",
              "            title=\"Convert this dataframe to an interactive table.\"\n",
              "            style=\"display:none;\">\n",
              "\n",
              "  <svg xmlns=\"http://www.w3.org/2000/svg\" height=\"24px\" viewBox=\"0 -960 960 960\">\n",
              "    <path d=\"M120-120v-720h720v720H120Zm60-500h600v-160H180v160Zm220 220h160v-160H400v160Zm0 220h160v-160H400v160ZM180-400h160v-160H180v160Zm440 0h160v-160H620v160ZM180-180h160v-160H180v160Zm440 0h160v-160H620v160Z\"/>\n",
              "  </svg>\n",
              "    </button>\n",
              "\n",
              "  <style>\n",
              "    .colab-df-container {\n",
              "      display:flex;\n",
              "      gap: 12px;\n",
              "    }\n",
              "\n",
              "    .colab-df-convert {\n",
              "      background-color: #E8F0FE;\n",
              "      border: none;\n",
              "      border-radius: 50%;\n",
              "      cursor: pointer;\n",
              "      display: none;\n",
              "      fill: #1967D2;\n",
              "      height: 32px;\n",
              "      padding: 0 0 0 0;\n",
              "      width: 32px;\n",
              "    }\n",
              "\n",
              "    .colab-df-convert:hover {\n",
              "      background-color: #E2EBFA;\n",
              "      box-shadow: 0px 1px 2px rgba(60, 64, 67, 0.3), 0px 1px 3px 1px rgba(60, 64, 67, 0.15);\n",
              "      fill: #174EA6;\n",
              "    }\n",
              "\n",
              "    .colab-df-buttons div {\n",
              "      margin-bottom: 4px;\n",
              "    }\n",
              "\n",
              "    [theme=dark] .colab-df-convert {\n",
              "      background-color: #3B4455;\n",
              "      fill: #D2E3FC;\n",
              "    }\n",
              "\n",
              "    [theme=dark] .colab-df-convert:hover {\n",
              "      background-color: #434B5C;\n",
              "      box-shadow: 0px 1px 3px 1px rgba(0, 0, 0, 0.15);\n",
              "      filter: drop-shadow(0px 1px 2px rgba(0, 0, 0, 0.3));\n",
              "      fill: #FFFFFF;\n",
              "    }\n",
              "  </style>\n",
              "\n",
              "    <script>\n",
              "      const buttonEl =\n",
              "        document.querySelector('#df-ff708c4a-389a-48c2-80a8-2c6550785df7 button.colab-df-convert');\n",
              "      buttonEl.style.display =\n",
              "        google.colab.kernel.accessAllowed ? 'block' : 'none';\n",
              "\n",
              "      async function convertToInteractive(key) {\n",
              "        const element = document.querySelector('#df-ff708c4a-389a-48c2-80a8-2c6550785df7');\n",
              "        const dataTable =\n",
              "          await google.colab.kernel.invokeFunction('convertToInteractive',\n",
              "                                                    [key], {});\n",
              "        if (!dataTable) return;\n",
              "\n",
              "        const docLinkHtml = 'Like what you see? Visit the ' +\n",
              "          '<a target=\"_blank\" href=https://colab.research.google.com/notebooks/data_table.ipynb>data table notebook</a>'\n",
              "          + ' to learn more about interactive tables.';\n",
              "        element.innerHTML = '';\n",
              "        dataTable['output_type'] = 'display_data';\n",
              "        await google.colab.output.renderOutput(dataTable, element);\n",
              "        const docLink = document.createElement('div');\n",
              "        docLink.innerHTML = docLinkHtml;\n",
              "        element.appendChild(docLink);\n",
              "      }\n",
              "    </script>\n",
              "  </div>\n",
              "\n",
              "\n",
              "<div id=\"df-694e619d-81f4-4c45-b749-1cafd8eda27d\">\n",
              "  <button class=\"colab-df-quickchart\" onclick=\"quickchart('df-694e619d-81f4-4c45-b749-1cafd8eda27d')\"\n",
              "            title=\"Suggest charts\"\n",
              "            style=\"display:none;\">\n",
              "\n",
              "<svg xmlns=\"http://www.w3.org/2000/svg\" height=\"24px\"viewBox=\"0 0 24 24\"\n",
              "     width=\"24px\">\n",
              "    <g>\n",
              "        <path d=\"M19 3H5c-1.1 0-2 .9-2 2v14c0 1.1.9 2 2 2h14c1.1 0 2-.9 2-2V5c0-1.1-.9-2-2-2zM9 17H7v-7h2v7zm4 0h-2V7h2v10zm4 0h-2v-4h2v4z\"/>\n",
              "    </g>\n",
              "</svg>\n",
              "  </button>\n",
              "\n",
              "<style>\n",
              "  .colab-df-quickchart {\n",
              "      --bg-color: #E8F0FE;\n",
              "      --fill-color: #1967D2;\n",
              "      --hover-bg-color: #E2EBFA;\n",
              "      --hover-fill-color: #174EA6;\n",
              "      --disabled-fill-color: #AAA;\n",
              "      --disabled-bg-color: #DDD;\n",
              "  }\n",
              "\n",
              "  [theme=dark] .colab-df-quickchart {\n",
              "      --bg-color: #3B4455;\n",
              "      --fill-color: #D2E3FC;\n",
              "      --hover-bg-color: #434B5C;\n",
              "      --hover-fill-color: #FFFFFF;\n",
              "      --disabled-bg-color: #3B4455;\n",
              "      --disabled-fill-color: #666;\n",
              "  }\n",
              "\n",
              "  .colab-df-quickchart {\n",
              "    background-color: var(--bg-color);\n",
              "    border: none;\n",
              "    border-radius: 50%;\n",
              "    cursor: pointer;\n",
              "    display: none;\n",
              "    fill: var(--fill-color);\n",
              "    height: 32px;\n",
              "    padding: 0;\n",
              "    width: 32px;\n",
              "  }\n",
              "\n",
              "  .colab-df-quickchart:hover {\n",
              "    background-color: var(--hover-bg-color);\n",
              "    box-shadow: 0 1px 2px rgba(60, 64, 67, 0.3), 0 1px 3px 1px rgba(60, 64, 67, 0.15);\n",
              "    fill: var(--button-hover-fill-color);\n",
              "  }\n",
              "\n",
              "  .colab-df-quickchart-complete:disabled,\n",
              "  .colab-df-quickchart-complete:disabled:hover {\n",
              "    background-color: var(--disabled-bg-color);\n",
              "    fill: var(--disabled-fill-color);\n",
              "    box-shadow: none;\n",
              "  }\n",
              "\n",
              "  .colab-df-spinner {\n",
              "    border: 2px solid var(--fill-color);\n",
              "    border-color: transparent;\n",
              "    border-bottom-color: var(--fill-color);\n",
              "    animation:\n",
              "      spin 1s steps(1) infinite;\n",
              "  }\n",
              "\n",
              "  @keyframes spin {\n",
              "    0% {\n",
              "      border-color: transparent;\n",
              "      border-bottom-color: var(--fill-color);\n",
              "      border-left-color: var(--fill-color);\n",
              "    }\n",
              "    20% {\n",
              "      border-color: transparent;\n",
              "      border-left-color: var(--fill-color);\n",
              "      border-top-color: var(--fill-color);\n",
              "    }\n",
              "    30% {\n",
              "      border-color: transparent;\n",
              "      border-left-color: var(--fill-color);\n",
              "      border-top-color: var(--fill-color);\n",
              "      border-right-color: var(--fill-color);\n",
              "    }\n",
              "    40% {\n",
              "      border-color: transparent;\n",
              "      border-right-color: var(--fill-color);\n",
              "      border-top-color: var(--fill-color);\n",
              "    }\n",
              "    60% {\n",
              "      border-color: transparent;\n",
              "      border-right-color: var(--fill-color);\n",
              "    }\n",
              "    80% {\n",
              "      border-color: transparent;\n",
              "      border-right-color: var(--fill-color);\n",
              "      border-bottom-color: var(--fill-color);\n",
              "    }\n",
              "    90% {\n",
              "      border-color: transparent;\n",
              "      border-bottom-color: var(--fill-color);\n",
              "    }\n",
              "  }\n",
              "</style>\n",
              "\n",
              "  <script>\n",
              "    async function quickchart(key) {\n",
              "      const quickchartButtonEl =\n",
              "        document.querySelector('#' + key + ' button');\n",
              "      quickchartButtonEl.disabled = true;  // To prevent multiple clicks.\n",
              "      quickchartButtonEl.classList.add('colab-df-spinner');\n",
              "      try {\n",
              "        const charts = await google.colab.kernel.invokeFunction(\n",
              "            'suggestCharts', [key], {});\n",
              "      } catch (error) {\n",
              "        console.error('Error during call to suggestCharts:', error);\n",
              "      }\n",
              "      quickchartButtonEl.classList.remove('colab-df-spinner');\n",
              "      quickchartButtonEl.classList.add('colab-df-quickchart-complete');\n",
              "    }\n",
              "    (() => {\n",
              "      let quickchartButtonEl =\n",
              "        document.querySelector('#df-694e619d-81f4-4c45-b749-1cafd8eda27d button');\n",
              "      quickchartButtonEl.style.display =\n",
              "        google.colab.kernel.accessAllowed ? 'block' : 'none';\n",
              "    })();\n",
              "  </script>\n",
              "</div>\n",
              "\n",
              "    </div>\n",
              "  </div>\n"
            ],
            "application/vnd.google.colaboratory.intrinsic+json": {
              "type": "dataframe",
              "variable_name": "df",
              "summary": "{\n  \"name\": \"df\",\n  \"rows\": 5,\n  \"fields\": [\n    {\n      \"column\": \"degree\",\n      \"properties\": {\n        \"dtype\": \"string\",\n        \"num_unique_values\": 5,\n        \"samples\": [\n          \"degree 3\",\n          \"degree 6\",\n          \"degree 4\"\n        ],\n        \"semantic_type\": \"\",\n        \"description\": \"\"\n      }\n    },\n    {\n      \"column\": \"mse\",\n      \"properties\": {\n        \"dtype\": \"number\",\n        \"std\": 283094.36380911013,\n        \"min\": 83.92,\n        \"max\": 635766.82,\n        \"num_unique_values\": 5,\n        \"samples\": [\n          128.29,\n          635766.82,\n          135.53\n        ],\n        \"semantic_type\": \"\",\n        \"description\": \"\"\n      }\n    }\n  ]\n}"
            }
          },
          "metadata": {},
          "execution_count": 49
        }
      ]
    },
    {
      "cell_type": "code",
      "source": [],
      "metadata": {
        "id": "SDbmBT50lYUG"
      },
      "execution_count": null,
      "outputs": []
    }
  ]
}