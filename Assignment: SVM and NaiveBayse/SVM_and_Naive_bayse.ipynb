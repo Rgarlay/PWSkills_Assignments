{
  "nbformat": 4,
  "nbformat_minor": 0,
  "metadata": {
    "colab": {
      "provenance": [],
      "authorship_tag": "ABX9TyNRJhCjGSWjLwnNnkm5Hor8",
      "include_colab_link": true
    },
    "kernelspec": {
      "name": "python3",
      "display_name": "Python 3"
    },
    "language_info": {
      "name": "python"
    }
  },
  "cells": [
    {
      "cell_type": "markdown",
      "metadata": {
        "id": "view-in-github",
        "colab_type": "text"
      },
      "source": [
        "<a href=\"https://colab.research.google.com/github/Rgarlay/PWSkills_Assignments/blob/main/Assignment%3A%20SVM%20and%20NaiveBayse/SVM_and_Naive_bayse.ipynb\" target=\"_parent\"><img src=\"https://colab.research.google.com/assets/colab-badge.svg\" alt=\"Open In Colab\"/></a>"
      ]
    },
    {
      "cell_type": "markdown",
      "source": [
        "#Theory Questions"
      ],
      "metadata": {
        "id": "Bv9Qx14-cqzZ"
      }
    },
    {
      "cell_type": "markdown",
      "source": [
        "####1.  What is a Support Vector Machine (SVM)?"
      ],
      "metadata": {
        "id": "cmwtUbYPcvDS"
      }
    },
    {
      "cell_type": "markdown",
      "source": [
        "A Support Vector Machine (SVM) is a supervised machine learning algorithm used for classification or regression. It works by finding the optimal hyperplane that best separates data points of different classes with the maximum margin.\n",
        "\n",
        "The data points that lie closest to this boundary are called support vectors, and they are critical in defining the hyperplane. SVM can handle both linear and non-linear classification by using kernel functions, making it versatile for complex datasets."
      ],
      "metadata": {
        "id": "jjhL-oAqdBCP"
      }
    },
    {
      "cell_type": "code",
      "execution_count": null,
      "metadata": {
        "id": "UkwsZtoycmep"
      },
      "outputs": [],
      "source": []
    },
    {
      "cell_type": "markdown",
      "source": [
        "####2.  What is the difference between Hard Margin and Soft Margin SVM."
      ],
      "metadata": {
        "id": "7xOlwk2hdP65"
      }
    },
    {
      "cell_type": "markdown",
      "source": [
        "* Hard Margin seperate the data with maximum margin.\n",
        "Soft Margin might allow some misclassification in order to preserve broader model performance.\n",
        "\n",
        "* Misclassification is not allowd in Hard margin.\n",
        "Misclassification is allowed in soft margin.\n",
        "\n",
        "* outlier handling of hard margin is poor.\n",
        "Since Soft margin allows some flexibility, it is better in handling outliers.\n",
        "\n",
        "* Hard margin is most appropriate in ideal strictly seperable data.\n",
        "Soft margin is for real world overlapping data.\n",
        "\n"
      ],
      "metadata": {
        "id": "DMeNZ8JCdsXu"
      }
    },
    {
      "cell_type": "code",
      "source": [],
      "metadata": {
        "id": "5wr-1aoJdRT8"
      },
      "execution_count": null,
      "outputs": []
    },
    {
      "cell_type": "markdown",
      "source": [
        "####3. What is the mathematical intuition behind SVM."
      ],
      "metadata": {
        "id": "aHmQ0ZgQeyaO"
      }
    },
    {
      "cell_type": "markdown",
      "source": [
        "Mathematically, the idea is to find the best seperating hyperplane between two classes, such that the distance of both classes fro the margin is maximum.\n",
        "\n",
        "Hyperplane equation:\n",
        "\n",
        "$w.x + b = 0$\n",
        "\n",
        "$w = $ wight of class\n",
        "$b = $ bias\n",
        "$x = $ input feature\n",
        "\n",
        "This equation for the seperating/margin line, which seperate both classes. Larger the margin, better the generatlization.\n",
        "\n",
        "Optimization equation:\n",
        "\n",
        "$\\underset{w, b}{\\min} \\ \\frac{1}{2} \\|w\\|^2$\n",
        "\n",
        "Mimimizing this equation help us correctly classify all the training datapoints.\n",
        "For soft margin, a bit flexibility is given by regilarizing parameter $C$."
      ],
      "metadata": {
        "id": "61MpyMO1fGvw"
      }
    },
    {
      "cell_type": "code",
      "source": [],
      "metadata": {
        "id": "j7LUmbwUez-c"
      },
      "execution_count": null,
      "outputs": []
    },
    {
      "cell_type": "markdown",
      "source": [
        "####4. What is the role of Lagrange Multipliers in SVM?"
      ],
      "metadata": {
        "id": "Nl0yHUE5hvP-"
      }
    },
    {
      "cell_type": "markdown",
      "source": [
        "In Support Vector Machines (SVMs), Lagrange multipliers (denoted as α) are crucial for optimizing the margin and finding the optimal hyperplane that separates data into different classes. They act as weights assigned to each data point, particularly the support vectors, and balance the optimization of the margin with the constraints imposed by those support vectors."
      ],
      "metadata": {
        "id": "ECA7lo_OiEFc"
      }
    },
    {
      "cell_type": "code",
      "source": [],
      "metadata": {
        "id": "ZJLt6oC1hwHt"
      },
      "execution_count": null,
      "outputs": []
    },
    {
      "cell_type": "markdown",
      "source": [
        "####5. What are Support Vectors in SVM?"
      ],
      "metadata": {
        "id": "rmQoCAtzif_-"
      }
    },
    {
      "cell_type": "markdown",
      "source": [
        "In classification problem, datapoints are on the closer end of the classes. To build a boundary that seperates the classes, we have to take assistance from data points from both of the classes.\n",
        "\n",
        "The datapoints, on either side of classes, that we reference to decide the location of the hyperplane/decision boundary are called support vectors.\n",
        "There are minimum of 2 support vector from each classes.\n",
        "\n"
      ],
      "metadata": {
        "id": "oXq_Ia-CiqE6"
      }
    },
    {
      "cell_type": "code",
      "source": [],
      "metadata": {
        "id": "oGydWzHoiiUC"
      },
      "execution_count": null,
      "outputs": []
    },
    {
      "cell_type": "markdown",
      "source": [
        "####6.  What is a Support Vector Classifier (SVC)?"
      ],
      "metadata": {
        "id": "ThUZYbaYj04d"
      }
    },
    {
      "cell_type": "markdown",
      "source": [
        "A Support Vector Classifier (SVC) is the implementation of Support Vector Machines (SVM) for classification tasks. It works by finding the optimal hyperplane that best separates data points of different classes with the maximum margin. SVC can handle non-linearly separable data by introducing a soft margin that allows some misclassifications, balancing margin maximization and classification error through a regularization parameter. SVC can also use kernel functions to implicitly map data into higher-dimensional spaces, enabling it to classify data that is not linearly separable in the original space."
      ],
      "metadata": {
        "id": "kgx8eU-Uj5M8"
      }
    },
    {
      "cell_type": "code",
      "source": [],
      "metadata": {
        "id": "nD1xa8-2j2rJ"
      },
      "execution_count": null,
      "outputs": []
    },
    {
      "cell_type": "markdown",
      "source": [
        "####7. What is a Support Vector Regressor (SVR)?"
      ],
      "metadata": {
        "id": "Kjn_Df4dkaOt"
      }
    },
    {
      "cell_type": "markdown",
      "source": [
        "A Support Vector Regressor (SVR) is an extension of the SVM to regression, where the goal is to predict continuous output values instead of class labels. SVR tries to find a function (usually a hyperplane) that approximates the relationship between input features and continuous target values while keeping prediction errors within a certain margin of tolerance, called the epsilon-insensitive zone. It balances model complexity and prediction accuracy by minimizing the norm of the weights (to keep the model simple) and penalizing predictions that fall outside this epsilon margin using slack variables."
      ],
      "metadata": {
        "id": "GYIC4W-jkdlx"
      }
    },
    {
      "cell_type": "code",
      "source": [],
      "metadata": {
        "id": "NxYJf1QekbYO"
      },
      "execution_count": null,
      "outputs": []
    },
    {
      "cell_type": "markdown",
      "source": [
        "####8. What is the Kernel Trick in SVM?"
      ],
      "metadata": {
        "id": "pfoj7EqWkrdW"
      }
    },
    {
      "cell_type": "markdown",
      "source": [
        "The Kernel Trick in SVM is a clever technique that allows the algorithm to efficiently handle non-linearly separable data by implicitly mapping the input features into a higher-dimensional space without explicitly computing the coordinates in that space.\n",
        "\n",
        "Instead of transforming the data directly, the kernel trick uses a kernel function to compute the inner product between pairs of data points in this high-dimensional space. This enables the SVM to find a linear separating hyperplane in the transformed space, which corresponds to a nonlinear boundary in the original space. Common kernels include the linear kernel, polynomial kernel, and radial basis function (RBF) kernel."
      ],
      "metadata": {
        "id": "SLuSjbWWkwQk"
      }
    },
    {
      "cell_type": "code",
      "source": [],
      "metadata": {
        "id": "A65-XbTCkszJ"
      },
      "execution_count": null,
      "outputs": []
    },
    {
      "cell_type": "markdown",
      "source": [
        "####9. Compare Linear Kernel, Polynomial Kernel, and RBF Kernel."
      ],
      "metadata": {
        "id": "Ulrm8e9hlCex"
      }
    },
    {
      "cell_type": "markdown",
      "source": [
        "* Equations:\n",
        "\n",
        "Linear Kernal:\n",
        "$K(\\mathbf{x}, \\mathbf{y}) = \\mathbf{x} \\cdot \\mathbf{y}$\n",
        "\n",
        "Polynomial Kernel:\n",
        "$K(\\mathbf{x}, \\mathbf{y}) = (\\gamma \\, \\mathbf{x} \\cdot \\mathbf{y} + r)^d$\n",
        "\n",
        "\n",
        "RBF kernel:\n",
        "$K(\\mathbf{x}, \\mathbf{y}) = \\exp\\big(-\\gamma \\|\\mathbf{x} - \\mathbf{y}\\|^2\\big)$\n",
        "\n",
        "* Linear kernel ddoes not require any more parameters. Whereas RBF and Polynomial require 1 and 3 parameters respectivly.\n",
        "\n",
        "* Linear seperable is not complex and hence keeps computation fast despite using it.\n",
        "Polynomial significantly introduces complexity and hence affects the scaling.\n",
        "RBF is flexible and works well in practical problems."
      ],
      "metadata": {
        "id": "R1jbKBW5lTQX"
      }
    },
    {
      "cell_type": "code",
      "source": [],
      "metadata": {
        "id": "RYiuznc9lEAt"
      },
      "execution_count": null,
      "outputs": []
    },
    {
      "cell_type": "markdown",
      "source": [
        "####10. What is the effect of the C parameter in SVM?"
      ],
      "metadata": {
        "id": "vZuqMnpDmQzq"
      }
    },
    {
      "cell_type": "markdown",
      "source": [
        "The C parameter in SVM controls the balance between margin size and classification errors. A smaller C allows more errors but creates a wider margin, helping the model generalize better. A larger C tries to classify all points correctly by making the margin narrower, which can lead to overfitting. In short, C determines how much the model tolerates misclassification to improve generalization.\n",
        "\n",
        "\n",
        "\n",
        "\n",
        "\n",
        "\n",
        "\n",
        "\n"
      ],
      "metadata": {
        "id": "MhasSJl5mf76"
      }
    },
    {
      "cell_type": "code",
      "source": [],
      "metadata": {
        "id": "2cZKAugDmSHh"
      },
      "execution_count": null,
      "outputs": []
    },
    {
      "cell_type": "markdown",
      "source": [
        "####11. What is the role of the Gamma parameter in RBF Kernel SVM?"
      ],
      "metadata": {
        "id": "TA27RfxKmn0K"
      }
    },
    {
      "cell_type": "markdown",
      "source": [
        "The Gamma parameter in an RBF kernel SVM controls the influence range of a single training example. A small gamma means each point’s influence reaches far, creating a smoother decision boundary that captures general trends but may underfit. A large gamma means the influence is limited to nearby points, allowing the model to capture fine details and complex patterns but risking overfitting by fitting noise."
      ],
      "metadata": {
        "id": "gKCVN6qbm5lI"
      }
    },
    {
      "cell_type": "code",
      "source": [],
      "metadata": {
        "id": "XKLdxvImmo_Z"
      },
      "execution_count": null,
      "outputs": []
    },
    {
      "cell_type": "markdown",
      "source": [
        "####12. What is the Naïve Bayes classifier, and why is it called \"Naïve\"?"
      ],
      "metadata": {
        "id": "ZgnS2XS_nB1D"
      }
    },
    {
      "cell_type": "markdown",
      "source": [
        "The Naïve Bayes classifier is a probabilistic model that uses Baye's theorem to classify data points by calculating the likelihood of each class based on the input features. It is called \"naïve\" because it assumes that all features are independent of each other, meaning the presence or value of one feature does not affect another within the same class. This assumption is often unrealistic in practice, but it simplifies the computations significantly, making the algorithm fast and efficient."
      ],
      "metadata": {
        "id": "skTNg5xgnMoa"
      }
    },
    {
      "cell_type": "code",
      "source": [],
      "metadata": {
        "id": "Ar-KZ7DsnDGE"
      },
      "execution_count": null,
      "outputs": []
    },
    {
      "cell_type": "markdown",
      "source": [
        "####13. What is Bayes’ Theorem?"
      ],
      "metadata": {
        "id": "T6rpzZ_9nfH5"
      }
    },
    {
      "cell_type": "markdown",
      "source": [
        "Bayes’ Theorem is a fundamental rule in probability theory that describes how to update the probability of a hypothesis based on new evidence.\n",
        "\n",
        "$P(A|B) = \\frac{P(B|A) .  P(A)}{P(B)}$\n",
        "\n",
        "$P(A|B)$ = Probability of A given B.\n",
        "$P(A|B)$ = Probability of B given A.\n",
        "$P(A)$ = Probability of A\n",
        "$P(B)$ = Probability of B\n"
      ],
      "metadata": {
        "id": "cGm5Iy19nj26"
      }
    },
    {
      "cell_type": "code",
      "source": [],
      "metadata": {
        "id": "2mTvh1KMngCh"
      },
      "execution_count": null,
      "outputs": []
    },
    {
      "cell_type": "markdown",
      "source": [
        "####14. Explain the differences between Gaussian Naïve Bayes, Multinomial Naïve Bayes, and Bernoulli Naïve Bayes?"
      ],
      "metadata": {
        "id": "HykyRxMAoC-G"
      }
    },
    {
      "cell_type": "markdown",
      "source": [
        "* Gaussian Naive Bayse for continuous features.\n",
        "Multinomial Naive Bayse is for discrete features.\n",
        "Bernoulli is for the binary features.\n",
        "\n",
        "* Gaussian naive bayse assumes normal distribution of the data.\n",
        "Multinomial naive bayse assumes multinomial distribution.\n",
        "And Bernoulli bays assumes bernoulli distribution."
      ],
      "metadata": {
        "id": "xCGkdVEpoEkH"
      }
    },
    {
      "cell_type": "code",
      "source": [],
      "metadata": {
        "id": "DhrXEyE-oEFM"
      },
      "execution_count": null,
      "outputs": []
    },
    {
      "cell_type": "markdown",
      "source": [
        "####15. When should you use Gaussian Naïve Bayes over other variants.\n"
      ],
      "metadata": {
        "id": "n9wARsR8o6ct"
      }
    },
    {
      "cell_type": "markdown",
      "source": [
        "We should preder Gaussian Naïve Bayes when your dataset contains continuous numerical features that are roughly normally distributed within each class.\n",
        "input variables like height, weight, temperature, or sensor readings etc. fall into this category. If your features are continuous and don’t naturally fit into discrete counts or binary presence/absence, Gaussian Naïve Bayes is usually the best choice compared to Multinomial or Bernoulli variants, which are better suited for categorical or text data."
      ],
      "metadata": {
        "id": "Ia2JJi3gpFBx"
      }
    },
    {
      "cell_type": "code",
      "source": [],
      "metadata": {
        "id": "9d4tIhYgo8k1"
      },
      "execution_count": null,
      "outputs": []
    },
    {
      "cell_type": "markdown",
      "source": [
        "####16.  What are the key assumptions made by Naïve Bayes?"
      ],
      "metadata": {
        "id": "yP4qsA4opXqb"
      }
    },
    {
      "cell_type": "markdown",
      "source": [
        "1. All features are assumed to be independent.\n",
        "2. Features are not weakely correlated with target variable.\n",
        "3. Features follow the sub-naive bayse (Gaussian, Bernoulli, Multinomial) distribution."
      ],
      "metadata": {
        "id": "w3ugg4qspcd0"
      }
    },
    {
      "cell_type": "code",
      "source": [],
      "metadata": {
        "id": "yMddUTb8pY5K"
      },
      "execution_count": null,
      "outputs": []
    },
    {
      "cell_type": "markdown",
      "source": [
        "####17. What are the advantages and disadvantages of Naïve Bayes?"
      ],
      "metadata": {
        "id": "ahjloFa1pvRK"
      }
    },
    {
      "cell_type": "markdown",
      "source": [
        "Advantages:\n",
        "\n",
        "1. Its simple and fast in use.\n",
        "2. It can perform well with discrete and continuous data.\n",
        "3. It is effective in cases with a large number of features.\n",
        "4. It can perform even when training data is small.\n",
        "\n",
        "Disadvantages:\n",
        "1. The distribution assumptions may not be always met in real life data.\n",
        "2. It can perform badly in poorly correlated data.\n",
        "3. It may assign zero probability to unseen events, leading to poor generalization."
      ],
      "metadata": {
        "id": "XWbzlYMApzNN"
      }
    },
    {
      "cell_type": "code",
      "source": [],
      "metadata": {
        "id": "BuupUODApwh9"
      },
      "execution_count": null,
      "outputs": []
    },
    {
      "cell_type": "markdown",
      "source": [
        "####18. Why is Naïve Bayes a good choice for text classification?"
      ],
      "metadata": {
        "id": "ukQ5zXWIqjkn"
      }
    },
    {
      "cell_type": "markdown",
      "source": [
        "Naïve Bayes is a strong choice for text classification due to its simplicity and efficiency, allowing for fast training and prediction even with high-dimensional data that usually comes with text data. Despite its \"naïve\" assumption of feature independence, it often performs well, especially with limited training data, making it an excellent baseline model for tasks like spam detection and sentiment analysis."
      ],
      "metadata": {
        "id": "eF987DECqm61"
      }
    },
    {
      "cell_type": "code",
      "source": [],
      "metadata": {
        "id": "w3CiWJgpqkme"
      },
      "execution_count": null,
      "outputs": []
    },
    {
      "cell_type": "markdown",
      "source": [
        "####19. Compare SVM and Naïve Bayes for classification tasks."
      ],
      "metadata": {
        "id": "Eoqdd-EirbAR"
      }
    },
    {
      "cell_type": "markdown",
      "source": [
        "1. Native Bayse is simpler in its mathematics.\n",
        "SVM has complex mathmatical struture.\n",
        "\n",
        "2. Naive Bayse makes feature independence assumtions.\n",
        "SVM can handle correated features well.\n",
        "\n",
        "3. Naive Bayse is fast to work with.\n",
        "SVM can take computation power and can be time consuming.\n",
        "\n",
        "4. Naive Bayse need small amount of data, however SVM requires large amount of data to generalize.\n"
      ],
      "metadata": {
        "id": "07yvrCoysjYT"
      }
    },
    {
      "cell_type": "code",
      "source": [],
      "metadata": {
        "id": "lN4YM3JbrctM"
      },
      "execution_count": null,
      "outputs": []
    },
    {
      "cell_type": "markdown",
      "source": [
        "####20. How does Laplace Smoothing help in Naïve Bayes?"
      ],
      "metadata": {
        "id": "Ip2pDEQGtI17"
      }
    },
    {
      "cell_type": "markdown",
      "source": [
        "Laplace Smoothing helps in Naïve Bayes in a way that it addresses the problem of zero probabilities. In a Naïve Bayes classifier, if certain feature value does not appear in the training data for a given class, the probability of that value given the class becomes zero. This zero can dominate the overall product of probabilities, leading to incorrect predictions.\n",
        "\n",
        "Laplace Smoothing solves this by adding some small number/quantity to all feature counts, ensuring that no probability becomes zero, even if the feature was unseen in the training set. This makes the model more robust, especially when working with small datasets or rare features, and improves generalization to unseen data."
      ],
      "metadata": {
        "id": "mr_D_wspBpeL"
      }
    },
    {
      "cell_type": "code",
      "source": [],
      "metadata": {
        "id": "3FvELbbAtJ6J"
      },
      "execution_count": null,
      "outputs": []
    },
    {
      "cell_type": "markdown",
      "source": [
        "#Practical Questions"
      ],
      "metadata": {
        "id": "KfVEbQNj5zHw"
      }
    },
    {
      "cell_type": "markdown",
      "source": [
        "####21. Write a Python program to train an SVM Classifier on the Iris dataset and evaluate accuracy."
      ],
      "metadata": {
        "id": "BqHuCUZ257dK"
      }
    },
    {
      "cell_type": "code",
      "source": [
        "from sklearn import datasets\n",
        "from sklearn.model_selection import train_test_split\n",
        "from sklearn.preprocessing import StandardScaler\n",
        "from sklearn.svm import SVC\n",
        "from sklearn.metrics import accuracy_score\n",
        "\n",
        "# Load the Iris dataset\n",
        "iris = datasets.load_iris()\n",
        "X = iris.data\n",
        "y = iris.target\n",
        "\n",
        "# Split the dataset into training and test sets\n",
        "X_train, X_test, y_train, y_test = train_test_split(\n",
        "    X, y, test_size=0.3, random_state=42, stratify=y\n",
        ")\n",
        "\n",
        "# Feature scaling for better performance of SVM\n",
        "scaler = StandardScaler()\n",
        "X_train = scaler.fit_transform(X_train)\n",
        "X_test = scaler.transform(X_test)\n",
        "\n",
        "# Create and train the SVM classifier\n",
        "svm_clf = SVC()\n",
        "svm_clf.fit(X_train, y_train)\n",
        "\n",
        "# Predict the test set results\n",
        "y_pred = svm_clf.predict(X_test)\n",
        "\n",
        "# Evaluate and print the accuracy\n",
        "accuracy = accuracy_score(y_test, y_pred)\n",
        "print(f\"Accuracy of SVM classifier on the Iris dataset: {accuracy:.2f}\")\n"
      ],
      "metadata": {
        "colab": {
          "base_uri": "https://localhost:8080/"
        },
        "id": "7GfrTb_5505L",
        "outputId": "1fc809bf-a4e2-4968-c1ef-b17a17a338fb"
      },
      "execution_count": 1,
      "outputs": [
        {
          "output_type": "stream",
          "name": "stdout",
          "text": [
            "Accuracy of SVM classifier on the Iris dataset: 0.93\n"
          ]
        }
      ]
    },
    {
      "cell_type": "markdown",
      "source": [
        "####22. Write a Python program to train two SVM classifiers with Linear and RBF kernels on the Wine dataset, then compare their accuracies."
      ],
      "metadata": {
        "id": "EExFmsRF6ScQ"
      }
    },
    {
      "cell_type": "code",
      "source": [
        "wine = datasets.load_wine()\n",
        "X = wine.data\n",
        "y = wine.target\n",
        "\n",
        "X_train, X_test, y_train, y_test = train_test_split(\n",
        "    X, y, test_size=0.3, random_state=42, stratify=y\n",
        ")\n",
        "\n",
        "X_train = scaler.fit_transform(X_train)\n",
        "X_test = scaler.transform(X_test)\n",
        "\n",
        "svm_linear = SVC(kernel='linear')\n",
        "svm_rbf = SVC(kernel='rbf')\n",
        "\n",
        "svm_linear.fit(X_train, y_train)\n",
        "svm_rbf.fit(X_train, y_train)\n",
        "\n",
        "y_pred_linear = svm_linear.predict(X_test)\n",
        "y_pred_rbf = svm_rbf.predict(X_test)\n",
        "\n",
        "acc_linear = accuracy_score(y_test, y_pred_linear)\n",
        "acc_rbf = accuracy_score(y_test, y_pred_rbf)\n",
        "\n",
        "print(f\"Linear Kernel Accuracy: {acc_linear:.2f}\")\n",
        "print(f\"RBF Kernel Accuracy: {acc_rbf:.2f}\")\n"
      ],
      "metadata": {
        "colab": {
          "base_uri": "https://localhost:8080/"
        },
        "id": "QN0Yuiuw6NPi",
        "outputId": "5945a9a7-7c2b-4ad5-ac8c-30eba3ba86d8"
      },
      "execution_count": 2,
      "outputs": [
        {
          "output_type": "stream",
          "name": "stdout",
          "text": [
            "Linear Kernel Accuracy: 0.96\n",
            "RBF Kernel Accuracy: 0.98\n"
          ]
        }
      ]
    },
    {
      "cell_type": "markdown",
      "source": [
        "####23. Write a Python program to train an SVM Regressor (SVR) on a housing dataset and evaluate it using Mean Squared Error (MSE)."
      ],
      "metadata": {
        "id": "o7lrYLOu6cXB"
      }
    },
    {
      "cell_type": "code",
      "source": [
        "from sklearn.datasets import fetch_california_housing\n",
        "from sklearn.svm import SVR\n",
        "from sklearn.metrics import mean_squared_error\n",
        "\n",
        "housing = fetch_california_housing()\n",
        "X = housing.data\n",
        "y = housing.target\n",
        "\n",
        "X_train, X_test, y_train, y_test = train_test_split(\n",
        "    X, y, test_size=0.3, random_state=42\n",
        ")\n",
        "\n",
        "X_train = scaler.fit_transform(X_train)\n",
        "X_test = scaler.transform(X_test)\n",
        "\n",
        "svr = SVR(kernel='rbf')\n",
        "svr.fit(X_train, y_train)\n",
        "y_pred = svr.predict(X_test)\n",
        "\n",
        "mse = mean_squared_error(y_test, y_pred)\n",
        "print(f\"Mean Squared Error of SVR: {mse:.2f}\")\n"
      ],
      "metadata": {
        "colab": {
          "base_uri": "https://localhost:8080/"
        },
        "id": "oka28YWP6YgZ",
        "outputId": "59a46ff7-34eb-48d6-bc71-29b0c63ff116"
      },
      "execution_count": 3,
      "outputs": [
        {
          "output_type": "stream",
          "name": "stdout",
          "text": [
            "Mean Squared Error of SVR: 0.35\n"
          ]
        }
      ]
    },
    {
      "cell_type": "markdown",
      "source": [
        "####24. Write a Python program to train an SVM Classifier with a Polynomial Kernel and visualize the decision boundary."
      ],
      "metadata": {
        "id": "YP81GVVr6i32"
      }
    },
    {
      "cell_type": "code",
      "source": [
        "import matplotlib.pyplot as plt\n",
        "import numpy as np\n",
        "\n",
        "X, y = datasets.make_classification(\n",
        "    n_samples=100, n_features=2, n_redundant=0, n_informative=2,\n",
        "    n_clusters_per_class=1, random_state=42\n",
        ")\n",
        "\n",
        "X_train, X_test, y_train, y_test = train_test_split(X, y, test_size=0.3, random_state=42)\n",
        "\n",
        "X_train = scaler.fit_transform(X_train)\n",
        "X_test = scaler.transform(X_test)\n",
        "\n",
        "svm_poly = SVC(kernel='poly', degree=3)\n",
        "svm_poly.fit(X_train, y_train)\n",
        "\n",
        "x_min, x_max = X_train[:, 0].min() - 1, X_train[:, 0].max() + 1\n",
        "y_min, y_max = X_train[:, 1].min() - 1, X_train[:, 1].max() + 1\n",
        "xx, yy = np.meshgrid(np.linspace(x_min, x_max, 500), np.linspace(y_min, y_max, 500))\n",
        "Z = svm_poly.predict(np.c_[xx.ravel(), yy.ravel()])\n",
        "Z = Z.reshape(xx.shape)\n",
        "\n",
        "plt.contourf(xx, yy, Z, alpha=0.3)\n",
        "plt.scatter(X_train[:, 0], X_train[:, 1], c=y_train)\n",
        "plt.title(\"SVM with Polynomial Kernel\")\n",
        "plt.xlabel(\"Feature 1\")\n",
        "plt.ylabel(\"Feature 2\")\n",
        "plt.show()\n"
      ],
      "metadata": {
        "colab": {
          "base_uri": "https://localhost:8080/",
          "height": 472
        },
        "id": "_PQisatR6gAk",
        "outputId": "5eb101ba-6e62-4e30-a760-70c053dc7836"
      },
      "execution_count": 4,
      "outputs": [
        {
          "output_type": "display_data",
          "data": {
            "text/plain": [
              "<Figure size 640x480 with 1 Axes>"
            ],
            "image/png": "[encoded data removed]"
          },
          "metadata": {}
        }
      ]
    },
    {
      "cell_type": "markdown",
      "source": [
        "####25. Write a Python program to train a Gaussian Naïve Bayes classifier on the Breast Cancer dataset and evaluate accuracy."
      ],
      "metadata": {
        "id": "2gpU-nNr6pus"
      }
    },
    {
      "cell_type": "code",
      "source": [
        "from sklearn.naive_bayes import GaussianNB\n",
        "\n",
        "cancer = datasets.load_breast_cancer()\n",
        "X = cancer.data\n",
        "y = cancer.target\n",
        "\n",
        "X_train, X_test, y_train, y_test = train_test_split(\n",
        "    X, y, test_size=0.3, random_state=42, stratify=y\n",
        ")\n",
        "\n",
        "X_train = scaler.fit_transform(X_train)\n",
        "X_test = scaler.transform(X_test)\n",
        "\n",
        "gnb = GaussianNB()\n",
        "gnb.fit(X_train, y_train)\n",
        "y_pred = gnb.predict(X_test)\n",
        "\n",
        "accuracy = accuracy_score(y_test, y_pred)\n",
        "print(f\"Accuracy of Gaussian Naïve Bayes: {accuracy:.2f}\")\n"
      ],
      "metadata": {
        "colab": {
          "base_uri": "https://localhost:8080/"
        },
        "id": "J1gHzMg46muh",
        "outputId": "cafb0e53-d142-4cce-a101-282054a0375d"
      },
      "execution_count": 5,
      "outputs": [
        {
          "output_type": "stream",
          "name": "stdout",
          "text": [
            "Accuracy of Gaussian Naïve Bayes: 0.94\n"
          ]
        }
      ]
    },
    {
      "cell_type": "markdown",
      "source": [
        "####26. Write a Python program to train a Multinomial Naïve Bayes classifier for text classification using the 20 Newsgroups dataset."
      ],
      "metadata": {
        "id": "Tw0Ghyb36zfj"
      }
    },
    {
      "cell_type": "code",
      "source": [
        "from sklearn.datasets import fetch_20newsgroups\n",
        "from sklearn.feature_extraction.text import CountVectorizer\n",
        "from sklearn.naive_bayes import MultinomialNB\n",
        "\n",
        "newsgroups = fetch_20newsgroups(subset='all')\n",
        "X = newsgroups.data\n",
        "y = newsgroups.target\n",
        "\n",
        "vectorizer = CountVectorizer()\n",
        "X_vec = vectorizer.fit_transform(X)\n",
        "\n",
        "X_train, X_test, y_train, y_test = train_test_split(\n",
        "    X_vec, y, test_size=0.3, random_state=42, stratify=y\n",
        ")\n",
        "\n",
        "mnb = MultinomialNB()\n",
        "mnb.fit(X_train, y_train)\n",
        "y_pred = mnb.predict(X_test)\n",
        "\n",
        "accuracy = accuracy_score(y_test, y_pred)\n",
        "print(f\"Accuracy of Multinomial Naïve Bayes: {accuracy:.2f}\")\n"
      ],
      "metadata": {
        "colab": {
          "base_uri": "https://localhost:8080/"
        },
        "id": "poXjgviC6t9b",
        "outputId": "f81cd462-836a-40bc-a69c-c4d7463833ab"
      },
      "execution_count": 6,
      "outputs": [
        {
          "output_type": "stream",
          "name": "stdout",
          "text": [
            "Accuracy of Multinomial Naïve Bayes: 0.84\n"
          ]
        }
      ]
    },
    {
      "cell_type": "markdown",
      "source": [
        "####27. Write a Python program to train an SVM Classifier with different C values and compare the decision boundaries visually."
      ],
      "metadata": {
        "id": "12LBewxA64n8"
      }
    },
    {
      "cell_type": "code",
      "source": [
        "X, y = datasets.make_classification(\n",
        "    n_samples=100, n_features=2, n_redundant=0, n_informative=2,\n",
        "    n_clusters_per_class=1, random_state=42\n",
        ")\n",
        "\n",
        "X = scaler.fit_transform(X)\n",
        "\n",
        "C_values = [0.01, 0.1, 1, 10, 100]\n",
        "fig, axes = plt.subplots(1, len(C_values), figsize=(20, 4))\n",
        "\n",
        "x_min = X[:, 0].min() - 1\n",
        "x_max =  X[:, 0].max() + 1\n",
        "y_min = X[:, 1].min() - 1\n",
        "y_max = X[:, 1].max() + 1\n",
        "\n",
        "xx, yy = np.meshgrid(np.linspace(x_min, x_max, 500), np.linspace(y_min, y_max, 500))\n",
        "\n",
        "for i, C in enumerate(C_values):\n",
        "    clf = SVC(kernel='linear', C=C)\n",
        "    clf.fit(X, y)\n",
        "    Z = clf.predict(np.c_[xx.ravel(), yy.ravel()])\n",
        "    Z = Z.reshape(xx.shape)\n",
        "\n",
        "    axes[i].contourf(xx, yy, Z, alpha=0.3)\n",
        "    axes[i].scatter(X[:, 0], X[:, 1], c=y)\n",
        "    axes[i].set_title(f\"C = {C}\")\n",
        "\n",
        "plt.tight_layout()\n",
        "plt.show()\n"
      ],
      "metadata": {
        "colab": {
          "base_uri": "https://localhost:8080/",
          "height": 294
        },
        "id": "BfxjyH-R62N4",
        "outputId": "a1e718bc-c208-4e86-dcfe-339ba175fba5"
      },
      "execution_count": 7,
      "outputs": [
        {
          "output_type": "display_data",
          "data": {
            "text/plain": [
              "<Figure size 2000x400 with 5 Axes>"
            ],
            "image/png": "[encoded data removed]"
          },
          "metadata": {}
        }
      ]
    },
    {
      "cell_type": "markdown",
      "source": [
        "####28.Write a Python program to train a Bernoulli Naïve Bayes classifier for binary classification on a dataset with binary features."
      ],
      "metadata": {
        "id": "aAhvMODp7Uaz"
      }
    },
    {
      "cell_type": "code",
      "source": [
        "from sklearn.naive_bayes import BernoulliNB\n",
        "from sklearn.datasets import make_classification\n",
        "\n",
        "X, y = make_classification(\n",
        "    n_samples=1000, n_features=20, n_informative=15, n_redundant=0,\n",
        "    n_classes=2, random_state=42\n",
        ")\n",
        "\n",
        "X = (X > 0).astype(int)\n",
        "\n",
        "X_train, X_test, y_train, y_test = train_test_split(\n",
        "    X, y, test_size=0.3, random_state=42, stratify=y\n",
        ")\n",
        "\n",
        "bnb = BernoulliNB()\n",
        "bnb.fit(X_train, y_train)\n",
        "y_pred = bnb.predict(X_test)\n",
        "\n",
        "accuracy = accuracy_score(y_test, y_pred)\n",
        "print(f\"Accuracy of Bernoulli Naïve Bayes: {accuracy:.2f}\")\n"
      ],
      "metadata": {
        "colab": {
          "base_uri": "https://localhost:8080/"
        },
        "id": "yqwIEsjg7KKq",
        "outputId": "40471dc6-e2ac-488e-923b-f85e51094128"
      },
      "execution_count": 8,
      "outputs": [
        {
          "output_type": "stream",
          "name": "stdout",
          "text": [
            "Accuracy of Bernoulli Naïve Bayes: 0.75\n"
          ]
        }
      ]
    },
    {
      "cell_type": "markdown",
      "source": [
        "####29. Write a Python program to apply feature scaling before training an SVM model and compare results with unscaled data."
      ],
      "metadata": {
        "id": "Twhe0-nj7iZM"
      }
    },
    {
      "cell_type": "code",
      "source": [
        "X, y = datasets.make_classification(n_samples=200, n_features=5, random_state=42)\n",
        "\n",
        "X_train, X_test, y_train, y_test = train_test_split(X, y, test_size=0.3, random_state=42)\n",
        "\n",
        "svm_unscaled = SVC()\n",
        "svm_unscaled.fit(X_train, y_train)\n",
        "y_pred_unscaled = svm_unscaled.predict(X_test)\n",
        "acc_unscaled = accuracy_score(y_test, y_pred_unscaled)\n",
        "\n",
        "scaler_new = StandardScaler()\n",
        "X_train_scaled = scaler_new.fit_transform(X_train)\n",
        "X_test_scaled = scaler_new.transform(X_test)\n",
        "\n",
        "svm_scaled = SVC()\n",
        "svm_scaled.fit(X_train_scaled, y_train)\n",
        "y_pred_scaled = svm_scaled.predict(X_test_scaled)\n",
        "acc_scaled = accuracy_score(y_test, y_pred_scaled)\n",
        "\n",
        "print(f\"Accuracy without scaling: {acc_unscaled:.2f}\")\n",
        "print(f\"Accuracy with scaling: {acc_scaled:.2f}\")\n"
      ],
      "metadata": {
        "colab": {
          "base_uri": "https://localhost:8080/"
        },
        "id": "ptToYhIN7a5B",
        "outputId": "2eb1b6ad-49e3-4ad2-fa04-2c1af282a34d"
      },
      "execution_count": 9,
      "outputs": [
        {
          "output_type": "stream",
          "name": "stdout",
          "text": [
            "Accuracy without scaling: 0.85\n",
            "Accuracy with scaling: 0.85\n"
          ]
        }
      ]
    },
    {
      "cell_type": "markdown",
      "source": [
        "####30. Write a Python program to train a Gaussian Naïve Bayes model and compare the predictions before and after Laplace Smoothing."
      ],
      "metadata": {
        "id": "wafRG8Tt7oyR"
      }
    },
    {
      "cell_type": "code",
      "source": [
        "import numpy as np\n",
        "from sklearn.naive_bayes import GaussianNB\n",
        "from sklearn.datasets import load_iris\n",
        "\n",
        "iris = load_iris()\n",
        "X_train, X_test, y_train, y_test = train_test_split(\n",
        "    iris.data, iris.target, test_size=0.3, random_state=42, stratify=iris.target\n",
        ")\n",
        "\n",
        "gnb = GaussianNB()\n",
        "gnb.fit(X_train, y_train)\n",
        "pred_no_smooth = gnb.predict(X_test)\n",
        "\n",
        "# GaussianNB does not have explicit Laplace smoothing for continuous data,\n",
        "# but we can simulate smoothing by adding a small value to var_ in the model:\n",
        "\n",
        "class GaussianNBWithSmoothing(GaussianNB):\n",
        "    def fit(self, X, y, sample_weight=None):\n",
        "        super().fit(X, y, sample_weight)\n",
        "        self.var_ += 1e-9\n",
        "        return self\n",
        "\n",
        "gnb_smooth = GaussianNBWithSmoothing()\n",
        "gnb_smooth.fit(X_train, y_train)\n",
        "pred_smooth = gnb_smooth.predict(X_test)\n",
        "\n",
        "print(\"Predictions without smoothing:\", pred_no_smooth[:10])\n",
        "print(\"Predictions with smoothing:\", pred_smooth[:10])\n"
      ],
      "metadata": {
        "colab": {
          "base_uri": "https://localhost:8080/"
        },
        "id": "FdfXEN9N7lr9",
        "outputId": "6da488dc-e6c1-492d-d201-f05e255bbd56"
      },
      "execution_count": 10,
      "outputs": [
        {
          "output_type": "stream",
          "name": "stdout",
          "text": [
            "Predictions without smoothing: [2 1 1 1 2 2 1 1 0 2]\n",
            "Predictions with smoothing: [2 1 1 1 2 2 1 1 0 2]\n"
          ]
        }
      ]
    },
    {
      "cell_type": "markdown",
      "source": [
        "####31. Write a Python program to train an SVM Classifier and use GridSearchCV to tune the hyperparameters (C, gamma, kernel)."
      ],
      "metadata": {
        "id": "Nb6jW-3q74rF"
      }
    },
    {
      "cell_type": "code",
      "source": [
        "from sklearn.model_selection import GridSearchCV\n",
        "\n",
        "X, y = datasets.load_iris(return_X_y=True)\n",
        "X_train, X_test, y_train, y_test = train_test_split(X, y, test_size=0.3, random_state=42, stratify=y)\n",
        "\n",
        "scaler_new = StandardScaler()\n",
        "X_train = scaler_new.fit_transform(X_train)\n",
        "X_test = scaler_new.transform(X_test)\n",
        "\n",
        "param_grid = {\n",
        "    'C': [0.1, 1, 10],\n",
        "    'gamma': ['scale', 'auto'],\n",
        "    'kernel': ['linear', 'rbf', 'poly']\n",
        "}\n",
        "\n",
        "svm = SVC()\n",
        "grid = GridSearchCV(svm, param_grid, cv=5)\n",
        "grid.fit(X_train, y_train)\n",
        "\n",
        "print(f\"Best parameters: {grid.best_params_}\")\n",
        "print(f\"Best cross-validation score: {grid.best_score_:.2f}\")\n",
        "\n",
        "y_pred = grid.predict(X_test)\n",
        "print(f\"Test accuracy: {accuracy_score(y_test, y_pred):.2f}\")\n"
      ],
      "metadata": {
        "colab": {
          "base_uri": "https://localhost:8080/"
        },
        "id": "sHU0WAgl72Ug",
        "outputId": "bc142a40-5855-4725-a835-e1561917a822"
      },
      "execution_count": 11,
      "outputs": [
        {
          "output_type": "stream",
          "name": "stdout",
          "text": [
            "Best parameters: {'C': 0.1, 'gamma': 'scale', 'kernel': 'linear'}\n",
            "Best cross-validation score: 0.97\n",
            "Test accuracy: 0.91\n"
          ]
        }
      ]
    },
    {
      "cell_type": "markdown",
      "source": [
        "####32. Write a Python program to train an SVM Classifier on an imbalanced dataset and apply class weighting and check it improve accuracy."
      ],
      "metadata": {
        "id": "ekOIzFBG8Duy"
      }
    },
    {
      "cell_type": "code",
      "source": [
        "X, y = make_classification(\n",
        "    n_samples=1000, n_features=10, n_classes=2,\n",
        "    weights=[0.9, 0.1], flip_y=0, random_state=42\n",
        ")\n",
        "\n",
        "X_train, X_test, y_train, y_test = train_test_split(\n",
        "    X, y, test_size=0.3, random_state=42, stratify=y\n",
        ")\n",
        "\n",
        "scaler_new = StandardScaler()\n",
        "X_train = scaler_new.fit_transform(X_train)\n",
        "X_test = scaler_new.transform(X_test)\n",
        "\n",
        "svm_no_weight = SVC()\n",
        "svm_no_weight.fit(X_train, y_train)\n",
        "y_pred_no_weight = svm_no_weight.predict(X_test)\n",
        "acc_no_weight = accuracy_score(y_test, y_pred_no_weight)\n",
        "\n",
        "svm_weighted = SVC(class_weight='balanced')\n",
        "svm_weighted.fit(X_train, y_train)\n",
        "y_pred_weighted = svm_weighted.predict(X_test)\n",
        "acc_weighted = accuracy_score(y_test, y_pred_weighted)\n",
        "\n",
        "print(f\"Accuracy without class weighting: {acc_no_weight:.2f}\")\n",
        "print(f\"Accuracy with class weighting: {acc_weighted:.2f}\")\n"
      ],
      "metadata": {
        "colab": {
          "base_uri": "https://localhost:8080/"
        },
        "id": "pG0_LoV07_Wm",
        "outputId": "9541ae18-ef51-4c7d-8d6f-e2a8bb89b6a4"
      },
      "execution_count": 12,
      "outputs": [
        {
          "output_type": "stream",
          "name": "stdout",
          "text": [
            "Accuracy without class weighting: 0.94\n",
            "Accuracy with class weighting: 0.92\n"
          ]
        }
      ]
    },
    {
      "cell_type": "markdown",
      "source": [
        "####33.Write a Python program to implement a Naïve Bayes classifier for spam detection using email data."
      ],
      "metadata": {
        "id": "Sha2co0E8VqU"
      }
    },
    {
      "cell_type": "code",
      "source": [
        "import pandas as pd\n",
        "\n",
        "df = pd.read_csv(r'/content/sample_data/emails.csv')\n",
        "\n",
        "y = df[['Prediction']]\n",
        "x = df.drop(columns = ['Email No.','Prediction'])\n",
        "\n",
        "X_train, X_test, y_train, y_test = train_test_split(x, y, test_size=0.3, random_state=42)\n",
        "\n",
        "\n",
        "nb = MultinomialNB()\n",
        "nb.fit(X_train, y_train)\n",
        "y_pred = nb.predict(X_test)\n",
        "\n",
        "print(f\"Spam detection accuracy: {accuracy_score(y_test, y_pred):.2f}\")"
      ],
      "metadata": {
        "colab": {
          "base_uri": "https://localhost:8080/"
        },
        "id": "acQGmPQI9QYE",
        "outputId": "2f3937c8-5807-4b6f-b151-37731357fe9c"
      },
      "execution_count": 29,
      "outputs": [
        {
          "output_type": "stream",
          "name": "stdout",
          "text": [
            "Spam detection accuracy: 0.95\n"
          ]
        },
        {
          "output_type": "stream",
          "name": "stderr",
          "text": [
            "/usr/local/lib/python3.11/dist-packages/sklearn/utils/validation.py:1408: DataConversionWarning: A column-vector y was passed when a 1d array was expected. Please change the shape of y to (n_samples, ), for example using ravel().\n",
            "  y = column_or_1d(y, warn=True)\n"
          ]
        }
      ]
    },
    {
      "cell_type": "markdown",
      "source": [
        "####34. Write a Python program to train an SVM Classifier and a Naïve Bayes Classifier on the same dataset and compare their accuracy."
      ],
      "metadata": {
        "id": "ewYRnZR6_PMP"
      }
    },
    {
      "cell_type": "code",
      "source": [
        "X, y = datasets.load_iris(return_X_y=True)\n",
        "X_train, X_test, y_train, y_test = train_test_split(\n",
        "    X, y, test_size=0.3, random_state=42, stratify=y\n",
        ")\n",
        "\n",
        "scaler_new = StandardScaler()\n",
        "X_train = scaler_new.fit_transform(X_train)\n",
        "X_test = scaler_new.transform(X_test)\n",
        "\n",
        "svm = SVC()\n",
        "svm.fit(X_train, y_train)\n",
        "y_pred_svm = svm.predict(X_test)\n",
        "acc_svm = accuracy_score(y_test, y_pred_svm)\n",
        "\n",
        "gnb = GaussianNB()\n",
        "gnb.fit(X_train, y_train)\n",
        "y_pred_gnb = gnb.predict(X_test)\n",
        "acc_gnb = accuracy_score(y_test, y_pred_gnb)\n",
        "\n",
        "print(f\"SVM Accuracy: {acc_svm:.2f}\")\n",
        "print(f\"Naïve Bayes Accuracy: {acc_gnb:.2f}\")\n"
      ],
      "metadata": {
        "colab": {
          "base_uri": "https://localhost:8080/"
        },
        "id": "iSREBoU1_Q5h",
        "outputId": "7ef672af-da38-4e22-b928-493bb733c30c"
      },
      "execution_count": 30,
      "outputs": [
        {
          "output_type": "stream",
          "name": "stdout",
          "text": [
            "SVM Accuracy: 0.93\n",
            "Naïve Bayes Accuracy: 0.91\n"
          ]
        }
      ]
    },
    {
      "cell_type": "markdown",
      "source": [
        "####35. Write a Python program to perform feature selection before training a Naïve Bayes classifier and compare results."
      ],
      "metadata": {
        "id": "3IYyjC1v_Z2C"
      }
    },
    {
      "cell_type": "code",
      "source": [
        "from sklearn.feature_selection import SelectKBest, chi2\n",
        "\n",
        "X, y = datasets.load_iris(return_X_y=True)\n",
        "X_train, X_test, y_train, y_test = train_test_split(\n",
        "    X, y, test_size=0.3, random_state=42, stratify=y\n",
        ")\n",
        "\n",
        "gnb = GaussianNB()\n",
        "gnb.fit(X_train, y_train)\n",
        "y_pred = gnb.predict(X_test)\n",
        "acc_full = accuracy_score(y_test, y_pred)\n",
        "\n",
        "selector = SelectKBest(chi2, k=2)\n",
        "X_train_sel = selector.fit_transform(X_train, y_train)\n",
        "X_test_sel = selector.transform(X_test)\n",
        "\n",
        "gnb_sel = GaussianNB()\n",
        "gnb_sel.fit(X_train_sel, y_train)\n",
        "y_pred_sel = gnb_sel.predict(X_test_sel)\n",
        "acc_sel = accuracy_score(y_test, y_pred_sel)\n",
        "\n",
        "print(f\"Accuracy with all features: {acc_full:.2f}\")\n",
        "print(f\"Accuracy after feature selection: {acc_sel:.2f}\")\n"
      ],
      "metadata": {
        "colab": {
          "base_uri": "https://localhost:8080/"
        },
        "id": "EmZ2KuhX_Uvw",
        "outputId": "1e599bf8-295c-4427-d0be-1000f1dc4cc4"
      },
      "execution_count": 31,
      "outputs": [
        {
          "output_type": "stream",
          "name": "stdout",
          "text": [
            "Accuracy with all features: 0.91\n",
            "Accuracy after feature selection: 0.93\n"
          ]
        }
      ]
    },
    {
      "cell_type": "markdown",
      "source": [
        "####36. Write a Python program to train an SVM Classifier using One-vs-Rest (OvR) and One-vs-One (OvO) strategies on the Wine dataset and compare their accuracy."
      ],
      "metadata": {
        "id": "7g04JuC9_i6k"
      }
    },
    {
      "cell_type": "code",
      "source": [
        "from sklearn.multiclass import OneVsRestClassifier, OneVsOneClassifier\n",
        "\n",
        "X, y = datasets.load_wine(return_X_y=True)\n",
        "X_train, X_test, y_train, y_test = train_test_split(\n",
        "    X, y, test_size=0.3, random_state=42, stratify=y\n",
        ")\n",
        "\n",
        "scaler_new = StandardScaler()\n",
        "X_train = scaler_new.fit_transform(X_train)\n",
        "X_test = scaler_new.transform(X_test)\n",
        "\n",
        "svm = SVC(kernel='linear')\n",
        "\n",
        "ovr = OneVsRestClassifier(svm)\n",
        "ovr.fit(X_train, y_train)\n",
        "y_pred_ovr = ovr.predict(X_test)\n",
        "acc_ovr = accuracy_score(y_test, y_pred_ovr)\n",
        "\n",
        "ovo = OneVsOneClassifier(svm)\n",
        "ovo.fit(X_train, y_train)\n",
        "y_pred_ovo = ovo.predict(X_test)\n",
        "acc_ovo = accuracy_score(y_test, y_pred_ovo)\n",
        "\n",
        "print(f\"OvR Accuracy: {acc_ovr:.2f}\")\n",
        "print(f\"OvO Accuracy: {acc_ovo:.2f}\")\n"
      ],
      "metadata": {
        "colab": {
          "base_uri": "https://localhost:8080/"
        },
        "id": "3l_a80wS_d5Q",
        "outputId": "21f8a72d-0149-491b-a27f-6fe93a079900"
      },
      "execution_count": 32,
      "outputs": [
        {
          "output_type": "stream",
          "name": "stdout",
          "text": [
            "OvR Accuracy: 0.98\n",
            "OvO Accuracy: 0.96\n"
          ]
        }
      ]
    },
    {
      "cell_type": "markdown",
      "source": [
        "####37. Write a Python program to train an SVM Classifier using Linear, Polynomial, and RBF kernels on the Breast Cancer dataset and compare their accuracy."
      ],
      "metadata": {
        "id": "OeDCF1AB_sQP"
      }
    },
    {
      "cell_type": "code",
      "source": [
        "X, y = datasets.load_breast_cancer(return_X_y=True)\n",
        "X_train, X_test, y_train, y_test = train_test_split(\n",
        "    X, y, test_size=0.3, random_state=42, stratify=y\n",
        ")\n",
        "\n",
        "scaler_new = StandardScaler()\n",
        "X_train = scaler_new.fit_transform(X_train)\n",
        "X_test = scaler_new.transform(X_test)\n",
        "\n",
        "kernels = ['linear', 'poly', 'rbf']\n",
        "for kernel in kernels:\n",
        "    svm = SVC(kernel=kernel)\n",
        "    svm.fit(X_train, y_train)\n",
        "    y_pred = svm.predict(X_test)\n",
        "    acc = accuracy_score(y_test, y_pred)\n",
        "    print(f\"{kernel.capitalize()} kernel accuracy: {acc:.2f}\")\n"
      ],
      "metadata": {
        "colab": {
          "base_uri": "https://localhost:8080/"
        },
        "id": "P1ehwc3D_o94",
        "outputId": "7d61ccbe-d89b-4ed8-ae82-4614558014b0"
      },
      "execution_count": 33,
      "outputs": [
        {
          "output_type": "stream",
          "name": "stdout",
          "text": [
            "Linear kernel accuracy: 0.98\n",
            "Poly kernel accuracy: 0.89\n",
            "Rbf kernel accuracy: 0.98\n"
          ]
        }
      ]
    },
    {
      "cell_type": "markdown",
      "source": [
        "####38. Write a Python program to train an SVM Classifier using Stratified K-Fold Cross-Validation and compute the  average accuracy."
      ],
      "metadata": {
        "id": "P00beCHZ_4M9"
      }
    },
    {
      "cell_type": "code",
      "source": [
        "from sklearn.model_selection import StratifiedKFold, cross_val_score\n",
        "\n",
        "X, y = datasets.load_iris(return_X_y=True)\n",
        "\n",
        "scaler_new = StandardScaler()\n",
        "X = scaler_new.fit_transform(X)\n",
        "\n",
        "svm = SVC()\n",
        "\n",
        "skf = StratifiedKFold(n_splits=5, shuffle=True, random_state=42)\n",
        "scores = cross_val_score(svm, X, y, cv=skf)\n",
        "\n",
        "print(f\"Average accuracy: {scores.mean():.2f}\")\n"
      ],
      "metadata": {
        "colab": {
          "base_uri": "https://localhost:8080/"
        },
        "id": "j-_OK6zO_0K7",
        "outputId": "11f2cbb6-655c-4209-b754-a37625e10503"
      },
      "execution_count": 35,
      "outputs": [
        {
          "output_type": "stream",
          "name": "stdout",
          "text": [
            "Average accuracy: 0.95\n"
          ]
        }
      ]
    },
    {
      "cell_type": "markdown",
      "source": [
        "####39. Write a Python program to train a Naïve Bayes classifier using different prior probabilities and compare performance."
      ],
      "metadata": {
        "id": "wYRszzh-AIf9"
      }
    },
    {
      "cell_type": "code",
      "source": [
        "X, y = datasets.load_iris(return_X_y=True)\n",
        "X_train, X_test, y_train, y_test = train_test_split(\n",
        "    X, y, test_size=0.3, random_state=42, stratify=y\n",
        ")\n",
        "\n",
        "gnb_default = GaussianNB()\n",
        "gnb_default.fit(X_train, y_train)\n",
        "y_pred_default = gnb_default.predict(X_test)\n",
        "acc_default = accuracy_score(y_test, y_pred_default)\n",
        "\n",
        "# Manually setting priors (example: equal priors)\n",
        "unique_classes = np.unique(y_train)\n",
        "priors_equal = [1/len(unique_classes)] * len(unique_classes)\n",
        "\n",
        "gnb_priors = GaussianNB(priors=priors_equal)\n",
        "gnb_priors.fit(X_train, y_train)\n",
        "y_pred_priors = gnb_priors.predict(X_test)\n",
        "acc_priors = accuracy_score(y_test, y_pred_priors)\n",
        "\n",
        "print(f\"Accuracy with default priors: {acc_default:.2f}\")\n",
        "print(f\"Accuracy with equal priors: {acc_priors:.2f}\")"
      ],
      "metadata": {
        "colab": {
          "base_uri": "https://localhost:8080/"
        },
        "id": "OVTMbo3J__CC",
        "outputId": "7295a1c9-42b2-4aeb-e48e-1efdbd18ed92"
      },
      "execution_count": 36,
      "outputs": [
        {
          "output_type": "stream",
          "name": "stdout",
          "text": [
            "Accuracy with default priors: 0.91\n",
            "Accuracy with equal priors: 0.91\n"
          ]
        }
      ]
    },
    {
      "cell_type": "markdown",
      "source": [
        "####40. Write a Python program to perform Recursive Feature Elimination (RFE) before training an SVM Classifier and compare accuracy."
      ],
      "metadata": {
        "id": "K6MPTyaUAVLp"
      }
    },
    {
      "cell_type": "code",
      "source": [
        "from sklearn.feature_selection import RFE\n",
        "\n",
        "X, y = datasets.load_wine(return_X_y=True)\n",
        "X_train, X_test, y_train, y_test = train_test_split(\n",
        "    X, y, test_size=0.3, random_state=42, stratify=y\n",
        ")\n",
        "\n",
        "scaler_new = StandardScaler()\n",
        "X_train = scaler_new.fit_transform(X_train)\n",
        "X_test = scaler_new.transform(X_test)\n",
        "\n",
        "svm = SVC(kernel='linear')\n",
        "\n",
        "# Without RFE\n",
        "svm.fit(X_train, y_train)\n",
        "y_pred_full = svm.predict(X_test)\n",
        "acc_full = accuracy_score(y_test, y_pred_full)\n",
        "\n",
        "# With RFE\n",
        "rfe = RFE(estimator=svm, n_features_to_select=5)\n",
        "X_train_rfe = rfe.fit_transform(X_train, y_train)\n",
        "X_test_rfe = rfe.transform(X_test)\n",
        "\n",
        "svm_rfe = SVC(kernel='linear')\n",
        "svm_rfe.fit(X_train_rfe, y_train)\n",
        "y_pred_rfe = svm_rfe.predict(X_test_rfe)\n",
        "acc_rfe = accuracy_score(y_test, y_pred_rfe)\n",
        "\n",
        "print(f\"Accuracy with all features: {acc_full:.2f}\")\n",
        "print(f\"Accuracy with RFE-selected features: {acc_rfe:.2f}\")\n"
      ],
      "metadata": {
        "colab": {
          "base_uri": "https://localhost:8080/"
        },
        "id": "-tCQNNkiAPoG",
        "outputId": "2f33f66c-cc39-4f47-e05e-97de96bf4c61"
      },
      "execution_count": 37,
      "outputs": [
        {
          "output_type": "stream",
          "name": "stdout",
          "text": [
            "Accuracy with all features: 0.96\n",
            "Accuracy with RFE-selected features: 0.96\n"
          ]
        }
      ]
    },
    {
      "cell_type": "markdown",
      "source": [
        "####42. Write a Python program to train an SVM Classifier and evaluate its performance using Precision, Recall, and F1-Score instead of accuracy."
      ],
      "metadata": {
        "id": "AZaZM-vRAkll"
      }
    },
    {
      "cell_type": "code",
      "source": [
        "from sklearn.metrics import precision_score, recall_score, f1_score\n",
        "\n",
        "X, y = datasets.load_breast_cancer(return_X_y=True)\n",
        "X_train, X_test, y_train, y_test = train_test_split(\n",
        "    X, y, test_size=0.3, random_state=42, stratify=y\n",
        ")\n",
        "\n",
        "scaler_new = StandardScaler()\n",
        "X_train = scaler_new.fit_transform(X_train)\n",
        "X_test = scaler_new.transform(X_test)\n",
        "\n",
        "svm = SVC()\n",
        "svm.fit(X_train, y_train)\n",
        "y_pred = svm.predict(X_test)\n",
        "\n",
        "precision = precision_score(y_test, y_pred)\n",
        "recall = recall_score(y_test, y_pred)\n",
        "f1 = f1_score(y_test, y_pred)\n",
        "\n",
        "print(f\"Precision: {precision:.2f}\")\n",
        "print(f\"Recall: {recall:.2f}\")\n",
        "print(f\"F1-Score: {f1:.2f}\")\n"
      ],
      "metadata": {
        "colab": {
          "base_uri": "https://localhost:8080/"
        },
        "id": "z99cLuD2AhbI",
        "outputId": "6573f076-289f-4908-ddbc-fbf62c5e1358"
      },
      "execution_count": 38,
      "outputs": [
        {
          "output_type": "stream",
          "name": "stdout",
          "text": [
            "Precision: 0.98\n",
            "Recall: 0.98\n",
            "F1-Score: 0.98\n"
          ]
        }
      ]
    },
    {
      "cell_type": "markdown",
      "source": [
        "####43. Write a Python program to train a Naïve Bayes Classifier and evaluate its performance using Log Loss (Cross-Entropy Loss)."
      ],
      "metadata": {
        "id": "ypIMaxgOAt3J"
      }
    },
    {
      "cell_type": "code",
      "source": [
        "from sklearn.metrics import log_loss\n",
        "\n",
        "X, y = datasets.load_breast_cancer(return_X_y=True)\n",
        "X_train, X_test, y_train, y_test = train_test_split(\n",
        "    X, y, test_size=0.3, random_state=42, stratify=y\n",
        ")\n",
        "\n",
        "scaler_new = StandardScaler()\n",
        "X_train = scaler_new.fit_transform(X_train)\n",
        "X_test = scaler_new.transform(X_test)\n",
        "\n",
        "gnb = GaussianNB()\n",
        "gnb.fit(X_train, y_train)\n",
        "y_prob = gnb.predict_proba(X_test)\n",
        "\n",
        "loss = log_loss(y_test, y_prob)\n",
        "print(f\"Log Loss: {loss:.2f}\")\n"
      ],
      "metadata": {
        "colab": {
          "base_uri": "https://localhost:8080/"
        },
        "id": "OTka-RLAAp7e",
        "outputId": "184e1b56-1539-46a8-a196-cafe4c3d99ed"
      },
      "execution_count": 39,
      "outputs": [
        {
          "output_type": "stream",
          "name": "stdout",
          "text": [
            "Log Loss: 0.36\n"
          ]
        }
      ]
    },
    {
      "cell_type": "markdown",
      "source": [
        "####44. Write a Python program to train an SVM Classifier and visualize the Confusion Matrix using seaborn."
      ],
      "metadata": {
        "id": "pwNLv5MYA0fp"
      }
    },
    {
      "cell_type": "code",
      "source": [
        "from sklearn.metrics import confusion_matrix\n",
        "import seaborn as sns\n",
        "X, y = datasets.load_breast_cancer(return_X_y=True)\n",
        "X_train, X_test, y_train, y_test = train_test_split(\n",
        "    X, y, test_size=0.3, random_state=42, stratify=y\n",
        ")\n",
        "\n",
        "scaler_new = StandardScaler()\n",
        "X_train = scaler_new.fit_transform(X_train)\n",
        "X_test = scaler_new.transform(X_test)\n",
        "\n",
        "svm = SVC()\n",
        "svm.fit(X_train, y_train)\n",
        "y_pred = svm.predict(X_test)\n",
        "\n",
        "cm = confusion_matrix(y_test, y_pred)\n",
        "\n",
        "sns.heatmap(cm, annot=True, fmt='d', cmap='Blues')\n",
        "plt.xlabel(\"Predicted\")\n",
        "plt.ylabel(\"Actual\")\n",
        "plt.title(\"Confusion Matrix\")\n",
        "plt.show()\n"
      ],
      "metadata": {
        "colab": {
          "base_uri": "https://localhost:8080/",
          "height": 472
        },
        "id": "18zJHiYAAwvX",
        "outputId": "dfcd9d87-d4f9-41b7-f201-c2cf83032d85"
      },
      "execution_count": 41,
      "outputs": [
        {
          "output_type": "display_data",
          "data": {
            "text/plain": [
              "<Figure size 640x480 with 2 Axes>"
            ],
            "image/png": "[encoded data removed]"
          },
          "metadata": {}
        }
      ]
    },
    {
      "cell_type": "markdown",
      "source": [
        "####45. Write a Python program to train an SVM Regressor (SVR) and evaluate its performance using Mean Absolute Error (MAE) instead of MSE."
      ],
      "metadata": {
        "id": "Gm-7GqFzA9mS"
      }
    },
    {
      "cell_type": "code",
      "source": [
        "from sklearn.metrics import mean_absolute_error\n",
        "\n",
        "X, y = datasets.fetch_california_housing(return_X_y=True)\n",
        "X_train, X_test, y_train, y_test = train_test_split(\n",
        "    X, y, test_size=0.3, random_state=42\n",
        ")\n",
        "\n",
        "scaler_new = StandardScaler()\n",
        "X_train = scaler_new.fit_transform(X_train)\n",
        "X_test = scaler_new.transform(X_test)\n",
        "\n",
        "svr = SVR()\n",
        "svr.fit(X_train, y_train)\n",
        "y_pred = svr.predict(X_test)\n",
        "\n",
        "mae = mean_absolute_error(y_test, y_pred)\n",
        "print(f\"Mean Absolute Error: {mae:.2f}\")\n"
      ],
      "metadata": {
        "colab": {
          "base_uri": "https://localhost:8080/"
        },
        "id": "CYv68FdWA4WJ",
        "outputId": "d437783d-990a-447b-f0df-0ef4ea1680bd"
      },
      "execution_count": 42,
      "outputs": [
        {
          "output_type": "stream",
          "name": "stdout",
          "text": [
            "Mean Absolute Error: 0.40\n"
          ]
        }
      ]
    },
    {
      "cell_type": "markdown",
      "source": [
        "####46. Write a Python program to train a Naïve Bayes classifier and evaluate its performance using the ROC-AUC score."
      ],
      "metadata": {
        "id": "rzOU-269BHqC"
      }
    },
    {
      "cell_type": "code",
      "source": [
        "from sklearn.metrics import roc_auc_score\n",
        "\n",
        "X, y = datasets.load_breast_cancer(return_X_y=True)\n",
        "X_train, X_test, y_train, y_test = train_test_split(\n",
        "    X, y, test_size=0.3, random_state=42, stratify=y\n",
        ")\n",
        "\n",
        "scaler_new = StandardScaler()\n",
        "X_train = scaler_new.fit_transform(X_train)\n",
        "X_test = scaler_new.transform(X_test)\n",
        "\n",
        "gnb = GaussianNB()\n",
        "gnb.fit(X_train, y_train)\n",
        "y_prob = gnb.predict_proba(X_test)[:, 1]\n",
        "\n",
        "roc_auc = roc_auc_score(y_test, y_prob)\n",
        "print(f\"ROC-AUC Score: {roc_auc:.2f}\")"
      ],
      "metadata": {
        "colab": {
          "base_uri": "https://localhost:8080/"
        },
        "id": "2TXODQw_BC5k",
        "outputId": "31a9cba1-6b43-4bc3-8dbf-7fb8d434700e"
      },
      "execution_count": 43,
      "outputs": [
        {
          "output_type": "stream",
          "name": "stdout",
          "text": [
            "ROC-AUC Score: 0.99\n"
          ]
        }
      ]
    },
    {
      "cell_type": "markdown",
      "source": [
        "####47. Write a Python program to train an SVM Classifier and visualize the Precision-Recall Curve."
      ],
      "metadata": {
        "id": "H_-vXsY1BPP8"
      }
    },
    {
      "cell_type": "code",
      "source": [
        "from sklearn.metrics import precision_recall_curve\n",
        "\n",
        "X, y = datasets.load_breast_cancer(return_X_y=True)\n",
        "X_train, X_test, y_train, y_test = train_test_split(\n",
        "    X, y, test_size=0.3, random_state=42, stratify=y\n",
        ")\n",
        "\n",
        "scaler_new = StandardScaler()\n",
        "X_train = scaler_new.fit_transform(X_train)\n",
        "X_test = scaler_new.transform(X_test)\n",
        "\n",
        "svm = SVC(probability=True)\n",
        "svm.fit(X_train, y_train)\n",
        "y_scores = svm.predict_proba(X_test)[:, 1]\n",
        "\n",
        "precision, recall, _ = precision_recall_curve(y_test, y_scores)\n",
        "\n",
        "plt.plot(recall, precision, marker='.')\n",
        "plt.xlabel('Recall')\n",
        "plt.ylabel('Precision')\n",
        "plt.title('Precision-Recall Curve')\n",
        "plt.grid(True)\n",
        "plt.show()\n"
      ],
      "metadata": {
        "colab": {
          "base_uri": "https://localhost:8080/",
          "height": 472
        },
        "id": "aj28CbGABLl6",
        "outputId": "da331d43-9817-4303-e9ac-d963643a2f04"
      },
      "execution_count": 44,
      "outputs": [
        {
          "output_type": "display_data",
          "data": {
            "text/plain": [
              "<Figure size 640x480 with 1 Axes>"
            ],
            "image/png": "[encoded data removed]"
          },
          "metadata": {}
        }
      ]
    },
    {
      "cell_type": "code",
      "source": [],
      "metadata": {
        "id": "bmZZvqkeBTc9"
      },
      "execution_count": null,
      "outputs": []
    }
  ]
}